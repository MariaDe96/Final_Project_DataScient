{
 "cells": [
  {
   "cell_type": "markdown",
   "id": "3181ee6b",
   "metadata": {},
   "source": [
    "# Exploración de modelos."
   ]
  },
  {
   "cell_type": "markdown",
   "id": "a9d9e4a0",
   "metadata": {},
   "source": [
    "### Escalado"
   ]
  },
  {
   "cell_type": "code",
   "execution_count": null,
   "id": "d6dda3bb",
   "metadata": {
    "vscode": {
     "languageId": "plaintext"
    }
   },
   "outputs": [],
   "source": []
  }
 ],
 "metadata": {
  "language_info": {
   "name": "python"
  }
 },
 "nbformat": 4,
 "nbformat_minor": 5
}
