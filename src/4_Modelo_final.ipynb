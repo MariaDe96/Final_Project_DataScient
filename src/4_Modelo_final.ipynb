{
 "cells": [
  {
   "cell_type": "code",
   "execution_count": 1,
   "id": "f01d41e4",
   "metadata": {},
   "outputs": [],
   "source": [
    "import pandas as pd\n",
    "import numpy as np\n",
    "\n",
    "import matplotlib.pyplot as plt\n",
    "import seaborn as sns\n",
    "\n",
    "from sklearn.model_selection import train_test_split\n",
    "\n",
    "from sklearn.metrics import accuracy_score\n",
    "from sklearn.metrics import f1_score\n",
    "from sklearn.metrics import precision_score\n",
    "from sklearn.metrics import recall_score\n",
    "from sklearn.metrics import confusion_matrix\n",
    "\n",
    "import joblib\n",
    "\n",
    "from catboost import CatBoostClassifier\n",
    "from sklearn.model_selection import GridSearchCV\n",
    "\n",
    "from sklearn.utils.class_weight import compute_class_weight\n"
   ]
  },
  {
   "cell_type": "code",
   "execution_count": 2,
   "id": "b801c69e",
   "metadata": {},
   "outputs": [
    {
     "data": {
      "text/html": [
       "<div>\n",
       "<style scoped>\n",
       "    .dataframe tbody tr th:only-of-type {\n",
       "        vertical-align: middle;\n",
       "    }\n",
       "\n",
       "    .dataframe tbody tr th {\n",
       "        vertical-align: top;\n",
       "    }\n",
       "\n",
       "    .dataframe thead th {\n",
       "        text-align: right;\n",
       "    }\n",
       "</style>\n",
       "<table border=\"1\" class=\"dataframe\">\n",
       "  <thead>\n",
       "    <tr style=\"text-align: right;\">\n",
       "      <th></th>\n",
       "      <th>_MENT14D</th>\n",
       "      <th>DECIDE</th>\n",
       "      <th>SEXVAR</th>\n",
       "      <th>SDHISOLT</th>\n",
       "      <th>_AGEG5YR</th>\n",
       "      <th>_DRDXAR2</th>\n",
       "      <th>LSATISFY</th>\n",
       "      <th>_EDUCAG</th>\n",
       "      <th>SLEPTIM1</th>\n",
       "      <th>EMPLOY1</th>\n",
       "      <th>_PHYS14D</th>\n",
       "      <th>_BMI5CAT</th>\n",
       "      <th>MARITAL</th>\n",
       "      <th>_AIDTST4</th>\n",
       "      <th>_ASTHMS1</th>\n",
       "      <th>_INCOMG1</th>\n",
       "      <th>ADDEPEV3</th>\n",
       "    </tr>\n",
       "  </thead>\n",
       "  <tbody>\n",
       "    <tr>\n",
       "      <th>0</th>\n",
       "      <td>0.0</td>\n",
       "      <td>0.0</td>\n",
       "      <td>1.0</td>\n",
       "      <td>0.0</td>\n",
       "      <td>13.0</td>\n",
       "      <td>0.0</td>\n",
       "      <td>0.0</td>\n",
       "      <td>2.0</td>\n",
       "      <td>6.0</td>\n",
       "      <td>2.0</td>\n",
       "      <td>1.0</td>\n",
       "      <td>2.0</td>\n",
       "      <td>2.0</td>\n",
       "      <td>0.0</td>\n",
       "      <td>3.0</td>\n",
       "      <td>3.0</td>\n",
       "      <td>0.0</td>\n",
       "    </tr>\n",
       "    <tr>\n",
       "      <th>1</th>\n",
       "      <td>1.0</td>\n",
       "      <td>0.0</td>\n",
       "      <td>1.0</td>\n",
       "      <td>1.0</td>\n",
       "      <td>8.0</td>\n",
       "      <td>0.0</td>\n",
       "      <td>1.0</td>\n",
       "      <td>4.0</td>\n",
       "      <td>5.0</td>\n",
       "      <td>7.0</td>\n",
       "      <td>2.0</td>\n",
       "      <td>2.0</td>\n",
       "      <td>0.0</td>\n",
       "      <td>0.0</td>\n",
       "      <td>3.0</td>\n",
       "      <td>6.0</td>\n",
       "      <td>0.0</td>\n",
       "    </tr>\n",
       "    <tr>\n",
       "      <th>2</th>\n",
       "      <td>0.0</td>\n",
       "      <td>0.0</td>\n",
       "      <td>1.0</td>\n",
       "      <td>1.0</td>\n",
       "      <td>14.0</td>\n",
       "      <td>1.0</td>\n",
       "      <td>0.0</td>\n",
       "      <td>2.0</td>\n",
       "      <td>7.0</td>\n",
       "      <td>7.0</td>\n",
       "      <td>1.0</td>\n",
       "      <td>1.0</td>\n",
       "      <td>0.0</td>\n",
       "      <td>0.0</td>\n",
       "      <td>1.0</td>\n",
       "      <td>9.0</td>\n",
       "      <td>0.0</td>\n",
       "    </tr>\n",
       "    <tr>\n",
       "      <th>3</th>\n",
       "      <td>0.0</td>\n",
       "      <td>0.0</td>\n",
       "      <td>1.0</td>\n",
       "      <td>0.0</td>\n",
       "      <td>5.0</td>\n",
       "      <td>0.0</td>\n",
       "      <td>0.0</td>\n",
       "      <td>3.0</td>\n",
       "      <td>9.0</td>\n",
       "      <td>5.0</td>\n",
       "      <td>2.0</td>\n",
       "      <td>1.0</td>\n",
       "      <td>0.0</td>\n",
       "      <td>0.0</td>\n",
       "      <td>3.0</td>\n",
       "      <td>3.0</td>\n",
       "      <td>0.0</td>\n",
       "    </tr>\n",
       "    <tr>\n",
       "      <th>4</th>\n",
       "      <td>0.0</td>\n",
       "      <td>0.0</td>\n",
       "      <td>0.0</td>\n",
       "      <td>0.0</td>\n",
       "      <td>13.0</td>\n",
       "      <td>0.0</td>\n",
       "      <td>1.0</td>\n",
       "      <td>2.0</td>\n",
       "      <td>7.0</td>\n",
       "      <td>7.0</td>\n",
       "      <td>2.0</td>\n",
       "      <td>2.0</td>\n",
       "      <td>0.0</td>\n",
       "      <td>0.0</td>\n",
       "      <td>3.0</td>\n",
       "      <td>9.0</td>\n",
       "      <td>0.0</td>\n",
       "    </tr>\n",
       "    <tr>\n",
       "      <th>...</th>\n",
       "      <td>...</td>\n",
       "      <td>...</td>\n",
       "      <td>...</td>\n",
       "      <td>...</td>\n",
       "      <td>...</td>\n",
       "      <td>...</td>\n",
       "      <td>...</td>\n",
       "      <td>...</td>\n",
       "      <td>...</td>\n",
       "      <td>...</td>\n",
       "      <td>...</td>\n",
       "      <td>...</td>\n",
       "      <td>...</td>\n",
       "      <td>...</td>\n",
       "      <td>...</td>\n",
       "      <td>...</td>\n",
       "      <td>...</td>\n",
       "    </tr>\n",
       "    <tr>\n",
       "      <th>211840</th>\n",
       "      <td>1.0</td>\n",
       "      <td>0.0</td>\n",
       "      <td>1.0</td>\n",
       "      <td>1.0</td>\n",
       "      <td>2.0</td>\n",
       "      <td>0.0</td>\n",
       "      <td>2.0</td>\n",
       "      <td>4.0</td>\n",
       "      <td>7.0</td>\n",
       "      <td>1.0</td>\n",
       "      <td>1.0</td>\n",
       "      <td>1.0</td>\n",
       "      <td>4.0</td>\n",
       "      <td>0.0</td>\n",
       "      <td>3.0</td>\n",
       "      <td>2.0</td>\n",
       "      <td>1.0</td>\n",
       "    </tr>\n",
       "    <tr>\n",
       "      <th>211841</th>\n",
       "      <td>2.0</td>\n",
       "      <td>0.0</td>\n",
       "      <td>0.0</td>\n",
       "      <td>0.0</td>\n",
       "      <td>10.0</td>\n",
       "      <td>1.0</td>\n",
       "      <td>1.0</td>\n",
       "      <td>4.0</td>\n",
       "      <td>7.0</td>\n",
       "      <td>1.0</td>\n",
       "      <td>1.0</td>\n",
       "      <td>2.0</td>\n",
       "      <td>0.0</td>\n",
       "      <td>1.0</td>\n",
       "      <td>3.0</td>\n",
       "      <td>6.0</td>\n",
       "      <td>0.0</td>\n",
       "    </tr>\n",
       "    <tr>\n",
       "      <th>211842</th>\n",
       "      <td>1.0</td>\n",
       "      <td>0.0</td>\n",
       "      <td>1.0</td>\n",
       "      <td>0.0</td>\n",
       "      <td>7.0</td>\n",
       "      <td>0.0</td>\n",
       "      <td>0.0</td>\n",
       "      <td>4.0</td>\n",
       "      <td>7.0</td>\n",
       "      <td>1.0</td>\n",
       "      <td>2.0</td>\n",
       "      <td>2.0</td>\n",
       "      <td>0.0</td>\n",
       "      <td>1.0</td>\n",
       "      <td>3.0</td>\n",
       "      <td>5.0</td>\n",
       "      <td>0.0</td>\n",
       "    </tr>\n",
       "    <tr>\n",
       "      <th>211843</th>\n",
       "      <td>0.0</td>\n",
       "      <td>0.0</td>\n",
       "      <td>0.0</td>\n",
       "      <td>0.0</td>\n",
       "      <td>11.0</td>\n",
       "      <td>0.0</td>\n",
       "      <td>0.0</td>\n",
       "      <td>3.0</td>\n",
       "      <td>5.0</td>\n",
       "      <td>7.0</td>\n",
       "      <td>1.0</td>\n",
       "      <td>3.0</td>\n",
       "      <td>0.0</td>\n",
       "      <td>1.0</td>\n",
       "      <td>2.0</td>\n",
       "      <td>5.0</td>\n",
       "      <td>0.0</td>\n",
       "    </tr>\n",
       "    <tr>\n",
       "      <th>211844</th>\n",
       "      <td>1.0</td>\n",
       "      <td>1.0</td>\n",
       "      <td>0.0</td>\n",
       "      <td>1.0</td>\n",
       "      <td>5.0</td>\n",
       "      <td>0.0</td>\n",
       "      <td>1.0</td>\n",
       "      <td>1.0</td>\n",
       "      <td>5.0</td>\n",
       "      <td>1.0</td>\n",
       "      <td>1.0</td>\n",
       "      <td>1.0</td>\n",
       "      <td>2.0</td>\n",
       "      <td>0.0</td>\n",
       "      <td>3.0</td>\n",
       "      <td>2.0</td>\n",
       "      <td>0.0</td>\n",
       "    </tr>\n",
       "  </tbody>\n",
       "</table>\n",
       "<p>211845 rows × 17 columns</p>\n",
       "</div>"
      ],
      "text/plain": [
       "        _MENT14D  DECIDE  SEXVAR  SDHISOLT  _AGEG5YR  _DRDXAR2  LSATISFY  \\\n",
       "0            0.0     0.0     1.0       0.0      13.0       0.0       0.0   \n",
       "1            1.0     0.0     1.0       1.0       8.0       0.0       1.0   \n",
       "2            0.0     0.0     1.0       1.0      14.0       1.0       0.0   \n",
       "3            0.0     0.0     1.0       0.0       5.0       0.0       0.0   \n",
       "4            0.0     0.0     0.0       0.0      13.0       0.0       1.0   \n",
       "...          ...     ...     ...       ...       ...       ...       ...   \n",
       "211840       1.0     0.0     1.0       1.0       2.0       0.0       2.0   \n",
       "211841       2.0     0.0     0.0       0.0      10.0       1.0       1.0   \n",
       "211842       1.0     0.0     1.0       0.0       7.0       0.0       0.0   \n",
       "211843       0.0     0.0     0.0       0.0      11.0       0.0       0.0   \n",
       "211844       1.0     1.0     0.0       1.0       5.0       0.0       1.0   \n",
       "\n",
       "        _EDUCAG  SLEPTIM1  EMPLOY1  _PHYS14D  _BMI5CAT  MARITAL  _AIDTST4  \\\n",
       "0           2.0       6.0      2.0       1.0       2.0      2.0       0.0   \n",
       "1           4.0       5.0      7.0       2.0       2.0      0.0       0.0   \n",
       "2           2.0       7.0      7.0       1.0       1.0      0.0       0.0   \n",
       "3           3.0       9.0      5.0       2.0       1.0      0.0       0.0   \n",
       "4           2.0       7.0      7.0       2.0       2.0      0.0       0.0   \n",
       "...         ...       ...      ...       ...       ...      ...       ...   \n",
       "211840      4.0       7.0      1.0       1.0       1.0      4.0       0.0   \n",
       "211841      4.0       7.0      1.0       1.0       2.0      0.0       1.0   \n",
       "211842      4.0       7.0      1.0       2.0       2.0      0.0       1.0   \n",
       "211843      3.0       5.0      7.0       1.0       3.0      0.0       1.0   \n",
       "211844      1.0       5.0      1.0       1.0       1.0      2.0       0.0   \n",
       "\n",
       "        _ASTHMS1  _INCOMG1  ADDEPEV3  \n",
       "0            3.0       3.0       0.0  \n",
       "1            3.0       6.0       0.0  \n",
       "2            1.0       9.0       0.0  \n",
       "3            3.0       3.0       0.0  \n",
       "4            3.0       9.0       0.0  \n",
       "...          ...       ...       ...  \n",
       "211840       3.0       2.0       1.0  \n",
       "211841       3.0       6.0       0.0  \n",
       "211842       3.0       5.0       0.0  \n",
       "211843       2.0       5.0       0.0  \n",
       "211844       3.0       2.0       0.0  \n",
       "\n",
       "[211845 rows x 17 columns]"
      ]
     },
     "execution_count": 2,
     "metadata": {},
     "output_type": "execute_result"
    }
   ],
   "source": [
    "df = pd.read_csv(\"/workspaces/Final_Project_DataScient/data/16var_origin.csv\")\n",
    "df"
   ]
  },
  {
   "cell_type": "code",
   "execution_count": 3,
   "id": "daabb298",
   "metadata": {},
   "outputs": [
    {
     "data": {
      "text/plain": [
       "_AGEG5YR\n",
       " 9.0     23511\n",
       " 8.0     21958\n",
       " 10.0    21912\n",
       " 7.0     18084\n",
       " 12.0    17254\n",
       " 11.0    16324\n",
       " 6.0     16212\n",
       " 4.0     14508\n",
       " 5.0     13830\n",
       " 3.0     13415\n",
       " 0.0     11688\n",
       " 2.0     11495\n",
       " 1.0      9729\n",
       "-1.0      1925\n",
       "Name: count, dtype: int64"
      ]
     },
     "execution_count": 3,
     "metadata": {},
     "output_type": "execute_result"
    }
   ],
   "source": [
    "df[\"_AGEG5YR\"] = df[\"_AGEG5YR\"] - 1 \n",
    "df.loc[df[\"_AGEG5YR\"] ==  13, \"_AGEG5YR\"] = -1\n",
    "df['_AGEG5YR'].value_counts()"
   ]
  },
  {
   "cell_type": "code",
   "execution_count": 4,
   "id": "b27172e5",
   "metadata": {},
   "outputs": [],
   "source": [
    "columnas = df.columns\n",
    "columnas\n",
    "for col in columnas:\n",
    "    df = df[df[col] != -1]"
   ]
  },
  {
   "cell_type": "code",
   "execution_count": 5,
   "id": "03e9f012",
   "metadata": {},
   "outputs": [
    {
     "data": {
      "text/plain": [
       "_AGEG5YR\n",
       "9.0     23511\n",
       "8.0     21958\n",
       "10.0    21912\n",
       "7.0     18084\n",
       "12.0    17254\n",
       "11.0    16324\n",
       "6.0     16212\n",
       "4.0     14508\n",
       "5.0     13830\n",
       "3.0     13415\n",
       "0.0     11688\n",
       "2.0     11495\n",
       "1.0      9729\n",
       "Name: count, dtype: int64"
      ]
     },
     "execution_count": 5,
     "metadata": {},
     "output_type": "execute_result"
    }
   ],
   "source": [
    "df['_AGEG5YR'].value_counts()"
   ]
  },
  {
   "cell_type": "code",
   "execution_count": 6,
   "id": "e075135d",
   "metadata": {},
   "outputs": [],
   "source": [
    "X = df.drop(\"ADDEPEV3\", axis=1)\n",
    "y = df[\"ADDEPEV3\"]\n",
    "\n",
    "X_train, X_test, y_train, y_test = train_test_split(X, y, test_size=0.2, stratify=y, random_state=42)"
   ]
  },
  {
   "cell_type": "code",
   "execution_count": 7,
   "id": "c35fde84",
   "metadata": {},
   "outputs": [
    {
     "name": "stdout",
     "output_type": "stream",
     "text": [
      "Pesos de clases : {0.0: 0.6345684423720744, 1.0: 2.3577906944093447}\n"
     ]
    }
   ],
   "source": [
    "# Cálculo de pesos de clases\n",
    "# ------------------------------------------------------------------------------\n",
    "classes = np.unique(y_train)\n",
    "weights = compute_class_weight(class_weight='balanced', classes=classes, y=y_train)\n",
    "class_weights = dict(zip(classes, weights))\n",
    "print(\"Pesos de clases :\", class_weights)\n"
   ]
  },
  {
   "cell_type": "code",
   "execution_count": 8,
   "id": "d61a3466",
   "metadata": {},
   "outputs": [],
   "source": [
    "def show_metrics(y_test, y_pred_test, y_train, y_pred_train):    \n",
    "    accuracy_test = accuracy_score(y_test, y_pred_test)\n",
    "    accuracy_train = accuracy_score(y_train, y_pred_train)\n",
    "    f1_score_test = f1_score(y_test, y_pred_test)\n",
    "    f1_score_train = f1_score(y_train, y_pred_train)\n",
    "    precision_test = precision_score(y_test, y_pred_test)\n",
    "    precision_train = precision_score(y_train, y_pred_train)\n",
    "    recall_test = recall_score(y_test, y_pred_test)\n",
    "    recall_train = recall_score(y_train, y_pred_train)\n",
    "\n",
    "    print(\"\\nRESULTADOS DEL MODELO\")\n",
    "    print(\"=\" * 50)\n",
    "    print(f\"{'Métrica':<15} {'Test':<10} {'Train':<10}\")\n",
    "    print(\"-\" * 50)\n",
    "    print(f\"{'Accuracy':<15} {accuracy_test:<10.2f} {accuracy_train:<10.2f}\")\n",
    "    print(f\"{'F1 Score':<15} {f1_score_test:<10.2f} {f1_score_train:<10.2f}\")\n",
    "    print(f\"{'Precision':<15} {precision_test:<10.2f} {precision_train:<10.2f}\")\n",
    "    print(f\"{'Recall':<15} {recall_test:<10.2f} {recall_train:<10.2f}\")\n",
    "    print(\"=\" * 50)\n",
    "\n",
    "\n",
    "    # Create the confusion matrix\n",
    "    cm = confusion_matrix(y_test, y_pred_test)\n",
    "\n",
    "    # Graph the confusion matrix\n",
    "    plt.figure(figsize=(8, 6))\n",
    "    sns.heatmap(cm, annot=True, fmt='d', cmap='Blues')\n",
    "    plt.xlabel('Predicción')\n",
    "    plt.ylabel('Verdadero')\n",
    "    plt.title('Matriz de Confusión')\n",
    "    plt.show()"
   ]
  },
  {
   "cell_type": "code",
   "execution_count": 9,
   "id": "4d5fb94f",
   "metadata": {},
   "outputs": [],
   "source": [
    "# param_grid = {\n",
    "#     'learning_rate': [0.01, 0.03, 0.04, 0.06, 0.1],\n",
    "#     'depth': [4, 6, 8, 10],\n",
    "#     'l2_leaf_reg': [1, 3, 5, 7, 9],\n",
    "#     'iterations': [100, 300, 500],\n",
    "# }\n",
    "\n",
    "# cat_model = CatBoostClassifier(\n",
    "#     custom_metric=['Precision'], \n",
    "#     early_stopping_rounds=20,\n",
    "#     verbose=0,\n",
    "#     random_state=42,\n",
    "#     class_weights=class_weights\n",
    "# )\n",
    "\n",
    "# grid_search = GridSearchCV(\n",
    "#     estimator=cat_model,\n",
    "#     param_grid=param_grid,\n",
    "#     scoring='f1',\n",
    "#     cv=3,\n",
    "#     n_jobs=-1\n",
    "# )\n",
    "\n",
    "# grid_search.fit(X_train, y_train)\n",
    "\n",
    "# # Resultados\n",
    "# print(f\"Mejores Parámetros: {grid_search.best_params_}\")\n",
    "# print(f\"Mejor F1 alcanzado: {grid_search.best_score_:.3f}\")\n"
   ]
  },
  {
   "cell_type": "code",
   "execution_count": 10,
   "id": "ee47afb9",
   "metadata": {},
   "outputs": [
    {
     "data": {
      "text/plain": [
       "<catboost.core.CatBoostClassifier at 0x7518b062ebd0>"
      ]
     },
     "execution_count": 10,
     "metadata": {},
     "output_type": "execute_result"
    }
   ],
   "source": [
    "initial_catboost = CatBoostClassifier(\n",
    "    learning_rate=0.044,\n",
    "    l2_leaf_reg=3,\n",
    "    iterations=300,\n",
    "    depth=6,\n",
    "    custom_metric=['Precision'],\n",
    "    early_stopping_rounds=20,\n",
    "    verbose=0,\n",
    "    random_state=42,\n",
    "    class_weights=class_weights\n",
    ")\n",
    "\n",
    "initial_catboost.fit(X_train, y_train)"
   ]
  },
  {
   "cell_type": "code",
   "execution_count": 11,
   "id": "75409010",
   "metadata": {},
   "outputs": [
    {
     "name": "stdout",
     "output_type": "stream",
     "text": [
      "\n",
      "RESULTADOS DEL MODELO\n",
      "==================================================\n",
      "Métrica         Test       Train     \n",
      "--------------------------------------------------\n",
      "Accuracy        0.78       0.78      \n",
      "F1 Score        0.58       0.58      \n",
      "Precision       0.49       0.50      \n",
      "Recall          0.70       0.71      \n",
      "==================================================\n"
     ]
    },
    {
     "data": {
      "image/png": "[encoded data removed]",
      "text/plain": [
       "<Figure size 800x600 with 2 Axes>"
      ]
     },
     "metadata": {},
     "output_type": "display_data"
    }
   ],
   "source": [
    "y_pred_test = initial_catboost.predict_proba(X_test)[:, 1]\n",
    "y_pred_train = initial_catboost.predict_proba(X_train)[:, 1]\n",
    "\n",
    "threshold = 0.54\n",
    "y_pred_test_threshold = (y_pred_test >= threshold).astype(int)\n",
    "y_pred_train_threshold = (y_pred_train >= threshold).astype(int)\n",
    "\n",
    "show_metrics(y_test, y_pred_test_threshold, y_train, y_pred_train_threshold)"
   ]
  },
  {
   "cell_type": "code",
   "execution_count": 12,
   "id": "eaae6240",
   "metadata": {},
   "outputs": [
    {
     "name": "stdout",
     "output_type": "stream",
     "text": [
      "     Feature  Importance\n",
      "0   _MENT14D   31.837871\n",
      "1     DECIDE   13.722796\n",
      "2     SEXVAR    8.428352\n",
      "3   SDHISOLT    6.210751\n",
      "4   _AGEG5YR    5.429331\n",
      "5   _DRDXAR2    4.977604\n",
      "6   LSATISFY    4.598129\n",
      "14  _ASTHMS1    3.496781\n",
      "8   SLEPTIM1    3.235664\n",
      "13  _AIDTST4    3.212160\n",
      "9    EMPLOY1    2.959915\n",
      "10  _PHYS14D    2.786083\n",
      "12   MARITAL    2.694697\n",
      "7    _EDUCAG    2.519934\n",
      "11  _BMI5CAT    2.519759\n",
      "15  _INCOMG1    1.370173\n"
     ]
    }
   ],
   "source": [
    "importancia = initial_catboost.get_feature_importance()\n",
    "feature_names = X_train.columns if hasattr(X_train, 'columns') else [f'Feature {i}' for i in range(X_train.shape[1])]\n",
    "\n",
    "# Crear un DataFrame para organizarlo\n",
    "importancia_df = pd.DataFrame({\n",
    "    'Feature': feature_names,\n",
    "    'Importance': importancia\n",
    "}).sort_values(by='Importance', ascending=False)\n",
    "\n",
    "print(importancia_df)"
   ]
  },
  {
   "cell_type": "code",
   "execution_count": 13,
   "id": "21c0e13e",
   "metadata": {},
   "outputs": [],
   "source": [
    "# Tomamos todas las variables con importancia por encima del 2%\n",
    "variables_importantes = [\n",
    "    \"SEXVAR\",\"_AGEG5YR\", \"_EDUCAG\", \"EMPLOY1\", \"MARITAL\", \"_MENT14D\", \"_BMI5CAT\",\n",
    "    \"_INCOMG1\", \"SLEPTIM1\", \"DECIDE\", \"SDHISOLT\", \"_DRDXAR2\", \"LSATISFY\",\n",
    "    \"_PHYS14D\", \"_AIDTST4\", \"_ASTHMS1\"\n",
    "]\n"
   ]
  },
  {
   "cell_type": "code",
   "execution_count": 14,
   "id": "6ad55ca0",
   "metadata": {},
   "outputs": [],
   "source": [
    "X_train_imp = X_train[variables_importantes]\n",
    "X_test_imp = X_test[variables_importantes]"
   ]
  },
  {
   "cell_type": "code",
   "execution_count": 15,
   "id": "06305a53",
   "metadata": {},
   "outputs": [
    {
     "data": {
      "text/plain": [
       "<catboost.core.CatBoostClassifier at 0x75189ef37190>"
      ]
     },
     "execution_count": 15,
     "metadata": {},
     "output_type": "execute_result"
    }
   ],
   "source": [
    "final_catboost = CatBoostClassifier(\n",
    "    learning_rate=0.044,\n",
    "    l2_leaf_reg=3,\n",
    "    iterations=300,\n",
    "    depth=6,\n",
    "    custom_metric=['Precision'],\n",
    "    early_stopping_rounds=20,\n",
    "    verbose=0,\n",
    "    random_state=42,\n",
    "    class_weights=class_weights\n",
    ")\n",
    "\n",
    "final_catboost.fit(X_train_imp, y_train)"
   ]
  },
  {
   "cell_type": "code",
   "execution_count": 16,
   "id": "5f1e0a06",
   "metadata": {},
   "outputs": [
    {
     "name": "stdout",
     "output_type": "stream",
     "text": [
      "\n",
      "RESULTADOS DEL MODELO\n",
      "==================================================\n",
      "Métrica         Test       Train     \n",
      "--------------------------------------------------\n",
      "Accuracy        0.78       0.78      \n",
      "F1 Score        0.58       0.58      \n",
      "Precision       0.49       0.49      \n",
      "Recall          0.70       0.71      \n",
      "==================================================\n"
     ]
    },
    {
     "data": {
      "image/png": "[encoded data removed]",
      "text/plain": [
       "<Figure size 800x600 with 2 Axes>"
      ]
     },
     "metadata": {},
     "output_type": "display_data"
    }
   ],
   "source": [
    "y_pred_test = final_catboost.predict_proba(X_test_imp)[:, 1]\n",
    "y_pred_train = final_catboost.predict_proba(X_train_imp)[:, 1]\n",
    "\n",
    "threshold = 0.54\n",
    "y_pred_test_threshold = (y_pred_test >= threshold).astype(int)\n",
    "y_pred_train_threshold = (y_pred_train >= threshold).astype(int)\n",
    "\n",
    "show_metrics(y_test, y_pred_test_threshold, y_train, y_pred_train_threshold)"
   ]
  },
  {
   "cell_type": "code",
   "execution_count": 17,
   "id": "e944e68c",
   "metadata": {},
   "outputs": [
    {
     "data": {
      "text/plain": [
       "Index(['SEXVAR', '_AGEG5YR', '_EDUCAG', 'EMPLOY1', 'MARITAL', '_MENT14D',\n",
       "       '_BMI5CAT', '_INCOMG1', 'SLEPTIM1', 'DECIDE', 'SDHISOLT', '_DRDXAR2',\n",
       "       'LSATISFY', '_PHYS14D', '_AIDTST4', '_ASTHMS1'],\n",
       "      dtype='object')"
      ]
     },
     "execution_count": 17,
     "metadata": {},
     "output_type": "execute_result"
    }
   ],
   "source": [
    "X_test_imp.columns"
   ]
  },
  {
   "cell_type": "code",
   "execution_count": 18,
   "id": "0e5fa428",
   "metadata": {},
   "outputs": [
    {
     "data": {
      "text/plain": [
       "['../models/modelo_catboost.pkl']"
      ]
     },
     "execution_count": 18,
     "metadata": {},
     "output_type": "execute_result"
    }
   ],
   "source": [
    "# Guardar el modelo entrenado en la carpeta models/\n",
    "joblib.dump(final_catboost, \"../models/modelo_catboost.pkl\")"
   ]
  },
  {
   "cell_type": "code",
   "execution_count": 19,
   "id": "9ca54b71",
   "metadata": {},
   "outputs": [
    {
     "data": {
      "text/plain": [
       "array([0])"
      ]
     },
     "execution_count": 19,
     "metadata": {},
     "output_type": "execute_result"
    }
   ],
   "source": [
    "# Prediccion de dato nuevo\n",
    "new_data = [0, 0, 1, 0, 8, 0, 0, 3, 6, 0, 0, 1, 0, 0, 3, 4]\n",
    "\n",
    "y_pred_new = final_catboost.predict_proba([new_data])[:, 1]\n",
    "\n",
    "threshold = 0.54\n",
    "y_pred_new_threshold = (y_pred_new >= threshold).astype(int)\n",
    "\n",
    "y_pred_new_threshold"
   ]
  },
  {
   "cell_type": "markdown",
   "id": "4234750a",
   "metadata": {},
   "source": [
    "### ✅ Resultado Final del Modelo\n",
    "\n",
    "| Métrica    | Test  | Train |\n",
    "|-------------|------|------|\n",
    "| **Accuracy**  | 0.78 | 0.79 |\n",
    "| **F1 Score**  | 0.57 | 0.59 |\n",
    "| **Precision** | 0.48 | 0.50 |\n",
    "| **Recall**    | 0.70 | 0.72 |\n",
    "\n",
    "### 🎯 Conclusión\n",
    "El modelo final alcanzó métricas similares a otras alternativas analizadas en la fase previa.  \n",
    "Se prefiere este modelo por:\n",
    "\n",
    "- Su **simplicidad** en comparación con otros modelos más complejos.  \n",
    "- El menor número de **features** utilizado, lo que contribuye a una **mejor generalización** y facilita la interpretabilidad en un contexto médico.  \n",
    "- La **casi nula presencia de overfitting**, evidenciada por la pequeña diferencia entre los resultados de train y test.\n"
   ]
  }
 ],
 "metadata": {
  "kernelspec": {
   "display_name": "Python 3",
   "language": "python",
   "name": "python3"
  },
  "language_info": {
   "codemirror_mode": {
    "name": "ipython",
    "version": 3
   },
   "file_extension": ".py",
   "mimetype": "text/x-python",
   "name": "python",
   "nbconvert_exporter": "python",
   "pygments_lexer": "ipython3",
   "version": "3.11.4"
  }
 },
 "nbformat": 4,
 "nbformat_minor": 5
}
