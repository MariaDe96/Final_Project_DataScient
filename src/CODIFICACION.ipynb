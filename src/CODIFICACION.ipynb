{
 "cells": [
  {
   "cell_type": "code",
   "execution_count": 2,
   "id": "e3f74d21",
   "metadata": {},
   "outputs": [],
   "source": [
    "import pandas as pd\n",
    "import numpy as np"
   ]
  },
  {
   "cell_type": "code",
   "execution_count": 3,
   "id": "4e51d88a",
   "metadata": {},
   "outputs": [
    {
     "data": {
      "text/html": [
       "<div>\n",
       "<style scoped>\n",
       "    .dataframe tbody tr th:only-of-type {\n",
       "        vertical-align: middle;\n",
       "    }\n",
       "\n",
       "    .dataframe tbody tr th {\n",
       "        vertical-align: top;\n",
       "    }\n",
       "\n",
       "    .dataframe thead th {\n",
       "        text-align: right;\n",
       "    }\n",
       "</style>\n",
       "<table border=\"1\" class=\"dataframe\">\n",
       "  <thead>\n",
       "    <tr style=\"text-align: right;\">\n",
       "      <th></th>\n",
       "      <th>MARITAL</th>\n",
       "      <th>RENTHOM1</th>\n",
       "      <th>VETERAN3</th>\n",
       "      <th>EMPLOY1</th>\n",
       "      <th>_AGEG5YR</th>\n",
       "      <th>_INCOMG1</th>\n",
       "      <th>_EDUCAG</th>\n",
       "      <th>_CHLDCNT</th>\n",
       "      <th>_EXTETH3</th>\n",
       "      <th>HHADULT</th>\n",
       "      <th>...</th>\n",
       "      <th>ACEPRISN</th>\n",
       "      <th>ACEDIVRC</th>\n",
       "      <th>ACEHURT1</th>\n",
       "      <th>ACESWEAR</th>\n",
       "      <th>ACETOUCH</th>\n",
       "      <th>ACETTHEM</th>\n",
       "      <th>ACEHVSEX</th>\n",
       "      <th>FIREARM5</th>\n",
       "      <th>GUNLOAD</th>\n",
       "      <th>LOADULK2</th>\n",
       "    </tr>\n",
       "  </thead>\n",
       "  <tbody>\n",
       "    <tr>\n",
       "      <th>0</th>\n",
       "      <td>1.0</td>\n",
       "      <td>1.0</td>\n",
       "      <td>2.0</td>\n",
       "      <td>7.0</td>\n",
       "      <td>13.0</td>\n",
       "      <td>9.0</td>\n",
       "      <td>4.0</td>\n",
       "      <td>1.0</td>\n",
       "      <td>9.0</td>\n",
       "      <td>NaN</td>\n",
       "      <td>...</td>\n",
       "      <td>NaN</td>\n",
       "      <td>NaN</td>\n",
       "      <td>NaN</td>\n",
       "      <td>NaN</td>\n",
       "      <td>NaN</td>\n",
       "      <td>NaN</td>\n",
       "      <td>NaN</td>\n",
       "      <td>NaN</td>\n",
       "      <td>NaN</td>\n",
       "      <td>NaN</td>\n",
       "    </tr>\n",
       "    <tr>\n",
       "      <th>1</th>\n",
       "      <td>3.0</td>\n",
       "      <td>1.0</td>\n",
       "      <td>2.0</td>\n",
       "      <td>2.0</td>\n",
       "      <td>13.0</td>\n",
       "      <td>3.0</td>\n",
       "      <td>2.0</td>\n",
       "      <td>1.0</td>\n",
       "      <td>9.0</td>\n",
       "      <td>NaN</td>\n",
       "      <td>...</td>\n",
       "      <td>NaN</td>\n",
       "      <td>NaN</td>\n",
       "      <td>NaN</td>\n",
       "      <td>NaN</td>\n",
       "      <td>NaN</td>\n",
       "      <td>NaN</td>\n",
       "      <td>NaN</td>\n",
       "      <td>NaN</td>\n",
       "      <td>NaN</td>\n",
       "      <td>NaN</td>\n",
       "    </tr>\n",
       "    <tr>\n",
       "      <th>2</th>\n",
       "      <td>1.0</td>\n",
       "      <td>1.0</td>\n",
       "      <td>2.0</td>\n",
       "      <td>7.0</td>\n",
       "      <td>8.0</td>\n",
       "      <td>6.0</td>\n",
       "      <td>4.0</td>\n",
       "      <td>1.0</td>\n",
       "      <td>9.0</td>\n",
       "      <td>NaN</td>\n",
       "      <td>...</td>\n",
       "      <td>NaN</td>\n",
       "      <td>NaN</td>\n",
       "      <td>NaN</td>\n",
       "      <td>NaN</td>\n",
       "      <td>NaN</td>\n",
       "      <td>NaN</td>\n",
       "      <td>NaN</td>\n",
       "      <td>NaN</td>\n",
       "      <td>NaN</td>\n",
       "      <td>NaN</td>\n",
       "    </tr>\n",
       "    <tr>\n",
       "      <th>3</th>\n",
       "      <td>1.0</td>\n",
       "      <td>1.0</td>\n",
       "      <td>2.0</td>\n",
       "      <td>7.0</td>\n",
       "      <td>14.0</td>\n",
       "      <td>9.0</td>\n",
       "      <td>2.0</td>\n",
       "      <td>1.0</td>\n",
       "      <td>9.0</td>\n",
       "      <td>NaN</td>\n",
       "      <td>...</td>\n",
       "      <td>NaN</td>\n",
       "      <td>NaN</td>\n",
       "      <td>NaN</td>\n",
       "      <td>NaN</td>\n",
       "      <td>NaN</td>\n",
       "      <td>NaN</td>\n",
       "      <td>NaN</td>\n",
       "      <td>NaN</td>\n",
       "      <td>NaN</td>\n",
       "      <td>NaN</td>\n",
       "    </tr>\n",
       "    <tr>\n",
       "      <th>4</th>\n",
       "      <td>1.0</td>\n",
       "      <td>1.0</td>\n",
       "      <td>2.0</td>\n",
       "      <td>5.0</td>\n",
       "      <td>5.0</td>\n",
       "      <td>3.0</td>\n",
       "      <td>3.0</td>\n",
       "      <td>1.0</td>\n",
       "      <td>9.0</td>\n",
       "      <td>NaN</td>\n",
       "      <td>...</td>\n",
       "      <td>NaN</td>\n",
       "      <td>NaN</td>\n",
       "      <td>NaN</td>\n",
       "      <td>NaN</td>\n",
       "      <td>NaN</td>\n",
       "      <td>NaN</td>\n",
       "      <td>NaN</td>\n",
       "      <td>NaN</td>\n",
       "      <td>NaN</td>\n",
       "      <td>NaN</td>\n",
       "    </tr>\n",
       "    <tr>\n",
       "      <th>...</th>\n",
       "      <td>...</td>\n",
       "      <td>...</td>\n",
       "      <td>...</td>\n",
       "      <td>...</td>\n",
       "      <td>...</td>\n",
       "      <td>...</td>\n",
       "      <td>...</td>\n",
       "      <td>...</td>\n",
       "      <td>...</td>\n",
       "      <td>...</td>\n",
       "      <td>...</td>\n",
       "      <td>...</td>\n",
       "      <td>...</td>\n",
       "      <td>...</td>\n",
       "      <td>...</td>\n",
       "      <td>...</td>\n",
       "      <td>...</td>\n",
       "      <td>...</td>\n",
       "      <td>...</td>\n",
       "      <td>...</td>\n",
       "      <td>...</td>\n",
       "    </tr>\n",
       "    <tr>\n",
       "      <th>445127</th>\n",
       "      <td>5.0</td>\n",
       "      <td>2.0</td>\n",
       "      <td>2.0</td>\n",
       "      <td>1.0</td>\n",
       "      <td>1.0</td>\n",
       "      <td>1.0</td>\n",
       "      <td>2.0</td>\n",
       "      <td>2.0</td>\n",
       "      <td>1.0</td>\n",
       "      <td>5.0</td>\n",
       "      <td>...</td>\n",
       "      <td>NaN</td>\n",
       "      <td>NaN</td>\n",
       "      <td>NaN</td>\n",
       "      <td>NaN</td>\n",
       "      <td>NaN</td>\n",
       "      <td>NaN</td>\n",
       "      <td>NaN</td>\n",
       "      <td>NaN</td>\n",
       "      <td>NaN</td>\n",
       "      <td>NaN</td>\n",
       "    </tr>\n",
       "    <tr>\n",
       "      <th>445128</th>\n",
       "      <td>1.0</td>\n",
       "      <td>1.0</td>\n",
       "      <td>1.0</td>\n",
       "      <td>1.0</td>\n",
       "      <td>7.0</td>\n",
       "      <td>5.0</td>\n",
       "      <td>4.0</td>\n",
       "      <td>2.0</td>\n",
       "      <td>1.0</td>\n",
       "      <td>2.0</td>\n",
       "      <td>...</td>\n",
       "      <td>NaN</td>\n",
       "      <td>NaN</td>\n",
       "      <td>NaN</td>\n",
       "      <td>NaN</td>\n",
       "      <td>NaN</td>\n",
       "      <td>NaN</td>\n",
       "      <td>NaN</td>\n",
       "      <td>NaN</td>\n",
       "      <td>NaN</td>\n",
       "      <td>NaN</td>\n",
       "    </tr>\n",
       "    <tr>\n",
       "      <th>445129</th>\n",
       "      <td>1.0</td>\n",
       "      <td>3.0</td>\n",
       "      <td>2.0</td>\n",
       "      <td>8.0</td>\n",
       "      <td>10.0</td>\n",
       "      <td>9.0</td>\n",
       "      <td>2.0</td>\n",
       "      <td>1.0</td>\n",
       "      <td>2.0</td>\n",
       "      <td>1.0</td>\n",
       "      <td>...</td>\n",
       "      <td>NaN</td>\n",
       "      <td>NaN</td>\n",
       "      <td>NaN</td>\n",
       "      <td>NaN</td>\n",
       "      <td>NaN</td>\n",
       "      <td>NaN</td>\n",
       "      <td>NaN</td>\n",
       "      <td>NaN</td>\n",
       "      <td>NaN</td>\n",
       "      <td>NaN</td>\n",
       "    </tr>\n",
       "    <tr>\n",
       "      <th>445130</th>\n",
       "      <td>1.0</td>\n",
       "      <td>2.0</td>\n",
       "      <td>2.0</td>\n",
       "      <td>7.0</td>\n",
       "      <td>11.0</td>\n",
       "      <td>5.0</td>\n",
       "      <td>3.0</td>\n",
       "      <td>1.0</td>\n",
       "      <td>1.0</td>\n",
       "      <td>2.0</td>\n",
       "      <td>...</td>\n",
       "      <td>NaN</td>\n",
       "      <td>NaN</td>\n",
       "      <td>NaN</td>\n",
       "      <td>NaN</td>\n",
       "      <td>NaN</td>\n",
       "      <td>NaN</td>\n",
       "      <td>NaN</td>\n",
       "      <td>NaN</td>\n",
       "      <td>NaN</td>\n",
       "      <td>NaN</td>\n",
       "    </tr>\n",
       "    <tr>\n",
       "      <th>445131</th>\n",
       "      <td>3.0</td>\n",
       "      <td>1.0</td>\n",
       "      <td>2.0</td>\n",
       "      <td>1.0</td>\n",
       "      <td>5.0</td>\n",
       "      <td>2.0</td>\n",
       "      <td>1.0</td>\n",
       "      <td>1.0</td>\n",
       "      <td>1.0</td>\n",
       "      <td>1.0</td>\n",
       "      <td>...</td>\n",
       "      <td>NaN</td>\n",
       "      <td>NaN</td>\n",
       "      <td>NaN</td>\n",
       "      <td>NaN</td>\n",
       "      <td>NaN</td>\n",
       "      <td>NaN</td>\n",
       "      <td>NaN</td>\n",
       "      <td>NaN</td>\n",
       "      <td>NaN</td>\n",
       "      <td>NaN</td>\n",
       "    </tr>\n",
       "  </tbody>\n",
       "</table>\n",
       "<p>445132 rows × 82 columns</p>\n",
       "</div>"
      ],
      "text/plain": [
       "        MARITAL  RENTHOM1  VETERAN3  EMPLOY1  _AGEG5YR  _INCOMG1  _EDUCAG  \\\n",
       "0           1.0       1.0       2.0      7.0      13.0       9.0      4.0   \n",
       "1           3.0       1.0       2.0      2.0      13.0       3.0      2.0   \n",
       "2           1.0       1.0       2.0      7.0       8.0       6.0      4.0   \n",
       "3           1.0       1.0       2.0      7.0      14.0       9.0      2.0   \n",
       "4           1.0       1.0       2.0      5.0       5.0       3.0      3.0   \n",
       "...         ...       ...       ...      ...       ...       ...      ...   \n",
       "445127      5.0       2.0       2.0      1.0       1.0       1.0      2.0   \n",
       "445128      1.0       1.0       1.0      1.0       7.0       5.0      4.0   \n",
       "445129      1.0       3.0       2.0      8.0      10.0       9.0      2.0   \n",
       "445130      1.0       2.0       2.0      7.0      11.0       5.0      3.0   \n",
       "445131      3.0       1.0       2.0      1.0       5.0       2.0      1.0   \n",
       "\n",
       "        _CHLDCNT  _EXTETH3  HHADULT  ...  ACEPRISN  ACEDIVRC  ACEHURT1  \\\n",
       "0            1.0       9.0      NaN  ...       NaN       NaN       NaN   \n",
       "1            1.0       9.0      NaN  ...       NaN       NaN       NaN   \n",
       "2            1.0       9.0      NaN  ...       NaN       NaN       NaN   \n",
       "3            1.0       9.0      NaN  ...       NaN       NaN       NaN   \n",
       "4            1.0       9.0      NaN  ...       NaN       NaN       NaN   \n",
       "...          ...       ...      ...  ...       ...       ...       ...   \n",
       "445127       2.0       1.0      5.0  ...       NaN       NaN       NaN   \n",
       "445128       2.0       1.0      2.0  ...       NaN       NaN       NaN   \n",
       "445129       1.0       2.0      1.0  ...       NaN       NaN       NaN   \n",
       "445130       1.0       1.0      2.0  ...       NaN       NaN       NaN   \n",
       "445131       1.0       1.0      1.0  ...       NaN       NaN       NaN   \n",
       "\n",
       "        ACESWEAR  ACETOUCH  ACETTHEM  ACEHVSEX  FIREARM5  GUNLOAD  LOADULK2  \n",
       "0            NaN       NaN       NaN       NaN       NaN      NaN       NaN  \n",
       "1            NaN       NaN       NaN       NaN       NaN      NaN       NaN  \n",
       "2            NaN       NaN       NaN       NaN       NaN      NaN       NaN  \n",
       "3            NaN       NaN       NaN       NaN       NaN      NaN       NaN  \n",
       "4            NaN       NaN       NaN       NaN       NaN      NaN       NaN  \n",
       "...          ...       ...       ...       ...       ...      ...       ...  \n",
       "445127       NaN       NaN       NaN       NaN       NaN      NaN       NaN  \n",
       "445128       NaN       NaN       NaN       NaN       NaN      NaN       NaN  \n",
       "445129       NaN       NaN       NaN       NaN       NaN      NaN       NaN  \n",
       "445130       NaN       NaN       NaN       NaN       NaN      NaN       NaN  \n",
       "445131       NaN       NaN       NaN       NaN       NaN      NaN       NaN  \n",
       "\n",
       "[445132 rows x 82 columns]"
      ]
     },
     "execution_count": 3,
     "metadata": {},
     "output_type": "execute_result"
    }
   ],
   "source": [
    "df = pd.read_csv('/workspaces/Final_Project_DataScient/data/interim/data_limpia.zip')\n",
    "df"
   ]
  },
  {
   "cell_type": "code",
   "execution_count": 4,
   "id": "6bbaa89a",
   "metadata": {},
   "outputs": [],
   "source": [
    "df = df.drop(columns=[\"MARIJAN1\",\"MARJSMOK\",\"HADHYST2\", \"MARJEAT\",\"FLUSHOT7\", \n",
    "                      \"_RFHLTH\",\"CVDINFR4\",\"MARJVAPE\", \"MARJDAB\",\n",
    "                     \"MARJOTHR\",\"ALCDAY4\", \"AVEDRNK3\", \n",
    "                     \"DRNK3GE5\", \"MAXDRNKS\", \"ASBIALCH\",\n",
    "                     \"ASBIDRNK\", \"ASBIBING\", \"DRNKANY6\", \n",
    "                     \"PERSDOC3\", \"EXERANY2\", \"SMOKE100\", \"USENOW3\",\n",
    "                     \"ACEDEPRS\", \"ACEDRINK\", \"ACEDRUGS\", \"ACEPRISN\", \"ACEDIVRC\", \n",
    "                     \"ACEHURT1\", \"ACESWEAR\", \"ACETOUCH\", \"ACETTHEM\", \"ACEHVSEX\",\n",
    "                     \"CDSOCIAL\",\"CDDISCUS\", \"CRGVHRS1\", \"CRGVLNG1\", \"CRGVREL4\", \"_EXTETH3\",\n",
    "                     \"CAREGIV1\", \"FIREARM5\", \"GUNLOAD\", \"LOADULK2\"\n",
    "                       ])"
   ]
  },
  {
   "cell_type": "code",
   "execution_count": 5,
   "id": "46a3a632",
   "metadata": {},
   "outputs": [
    {
     "data": {
      "text/plain": [
       "Index(['MARITAL', 'RENTHOM1', 'VETERAN3', 'EMPLOY1', '_AGEG5YR', '_INCOMG1',\n",
       "       '_EDUCAG', '_CHLDCNT', 'HHADULT', 'SEXVAR', 'MEDCOST1', '_HLTHPLN',\n",
       "       '_AIDTST4', 'SDHEMPLY', 'SDHFOOD1', 'SDHUTILS', 'SDHBILLS', 'SDHTRNSP',\n",
       "       'SLEPTIM1', 'ECIGNOW2', 'HIVRISK5', '_TOTINDA', '_RFSMOK3', '_RFBING6',\n",
       "       'CVDSTRK3', 'ADDEPEV3', 'DIABETE4', 'COVIDPOS', 'COLNCNCR', '_MICHD',\n",
       "       '_ASTHMS1', '_DRDXAR2', '_PHYS14D', '_MENT14D', '_BMI5CAT', 'DECIDE',\n",
       "       'DIFFALON', 'LSATISFY', 'EMTSUPRT', 'SDHISOLT'],\n",
       "      dtype='object')"
      ]
     },
     "execution_count": 5,
     "metadata": {},
     "output_type": "execute_result"
    }
   ],
   "source": [
    "df.columns"
   ]
  },
  {
   "cell_type": "code",
   "execution_count": 6,
   "id": "5f2104bc",
   "metadata": {},
   "outputs": [
    {
     "name": "stdout",
     "output_type": "stream",
     "text": [
      "<class 'pandas.core.frame.DataFrame'>\n",
      "RangeIndex: 445132 entries, 0 to 445131\n",
      "Data columns (total 40 columns):\n",
      " #   Column    Non-Null Count   Dtype  \n",
      "---  ------    --------------   -----  \n",
      " 0   MARITAL   445124 non-null  float64\n",
      " 1   RENTHOM1  445123 non-null  float64\n",
      " 2   VETERAN3  440959 non-null  float64\n",
      " 3   EMPLOY1   438936 non-null  float64\n",
      " 4   _AGEG5YR  445132 non-null  float64\n",
      " 5   _INCOMG1  445132 non-null  float64\n",
      " 6   _EDUCAG   445132 non-null  float64\n",
      " 7   _CHLDCNT  445131 non-null  float64\n",
      " 8   HHADULT   349071 non-null  float64\n",
      " 9   SEXVAR    445132 non-null  float64\n",
      " 10  MEDCOST1  445128 non-null  float64\n",
      " 11  _HLTHPLN  445132 non-null  float64\n",
      " 12  _AIDTST4  398897 non-null  float64\n",
      " 13  SDHEMPLY  253515 non-null  float64\n",
      " 14  SDHFOOD1  252829 non-null  float64\n",
      " 15  SDHUTILS  252279 non-null  float64\n",
      " 16  SDHBILLS  252522 non-null  float64\n",
      " 17  SDHTRNSP  251943 non-null  float64\n",
      " 18  SLEPTIM1  445129 non-null  float64\n",
      " 19  ECIGNOW2  411553 non-null  float64\n",
      " 20  HIVRISK5  396671 non-null  float64\n",
      " 21  _TOTINDA  445132 non-null  float64\n",
      " 22  _RFSMOK3  445132 non-null  float64\n",
      " 23  _RFBING6  445132 non-null  float64\n",
      " 24  CVDSTRK3  445130 non-null  float64\n",
      " 25  ADDEPEV3  445125 non-null  float64\n",
      " 26  DIABETE4  445129 non-null  float64\n",
      " 27  COVIDPOS  395897 non-null  float64\n",
      " 28  COLNCNCR  291086 non-null  float64\n",
      " 29  _MICHD    440111 non-null  float64\n",
      " 30  _ASTHMS1  445132 non-null  float64\n",
      " 31  _DRDXAR2  442499 non-null  float64\n",
      " 32  _PHYS14D  445132 non-null  float64\n",
      " 33  _MENT14D  445132 non-null  float64\n",
      " 34  _BMI5CAT  396326 non-null  float64\n",
      " 35  DECIDE    424146 non-null  float64\n",
      " 36  DIFFALON  421190 non-null  float64\n",
      " 37  LSATISFY  254488 non-null  float64\n",
      " 38  EMTSUPRT  254141 non-null  float64\n",
      " 39  SDHISOLT  253790 non-null  float64\n",
      "dtypes: float64(40)\n",
      "memory usage: 135.8 MB\n"
     ]
    }
   ],
   "source": [
    "df.info()"
   ]
  },
  {
   "cell_type": "code",
   "execution_count": 7,
   "id": "7d013af0",
   "metadata": {},
   "outputs": [
    {
     "data": {
      "text/plain": [
       "tobacco_use\n",
       "0.0    286153\n",
       "1.0     94954\n",
       "2.0     25548\n",
       "Name: count, dtype: int64"
      ]
     },
     "execution_count": 7,
     "metadata": {},
     "output_type": "execute_result"
    }
   ],
   "source": [
    "#tabaco\n",
    "# 1: No, 2: Yes >> Cambiar a 1: Yes, 0: No\n",
    "df = df[df[\"_RFSMOK3\"] < 3]\n",
    "df.loc[df[\"_RFSMOK3\"] == 1, \"_RFSMOK3\"] = 0\n",
    "df.loc[df[\"_RFSMOK3\"] == 2, \"_RFSMOK3\"] = 1\n",
    "df._RFSMOK3.value_counts()\n",
    "# 1: No, 2, 3 o 4: Yes >> Cambiar a 1: Yes, 0: No\n",
    "df = df[df[\"ECIGNOW2\"] < 7]\n",
    "df.loc[df[\"ECIGNOW2\"] == 1, \"ECIGNOW2\"] = 0\n",
    "df.loc[df[\"ECIGNOW2\"] > 1, \"ECIGNOW2\"] = 1\n",
    "df.ECIGNOW2.value_counts()\n",
    "tobacco_columns = [\"_RFSMOK3\", \"ECIGNOW2\"]\n",
    "# Se imputa 0 a los valores vacios que indican no respuesta a la pregunta asumiendo respuesta negativa\n",
    "df = df.dropna(subset=tobacco_columns)\n",
    "df[\"tobacco_use\"] = df[tobacco_columns].sum(axis=1)\n",
    "df = df.drop(tobacco_columns, axis=1)\n",
    "df[\"tobacco_use\"].value_counts()"
   ]
  },
  {
   "cell_type": "code",
   "execution_count": 8,
   "id": "e677c4b6",
   "metadata": {},
   "outputs": [
    {
     "data": {
      "text/plain": [
       "_RFBING6\n",
       " 0.0    333929\n",
       " 1.0     56333\n",
       "-1.0     16393\n",
       "Name: count, dtype: int64"
      ]
     },
     "execution_count": 8,
     "metadata": {},
     "output_type": "execute_result"
    }
   ],
   "source": [
    "#Alcohol\n",
    "# 1: No, 2: Yes >> Cambiar a 1: Yes, 0: No\n",
    "df.loc[df[\"_RFBING6\"] > 2, \"_RFBING6\"] = -1\n",
    "df.loc[df[\"_RFBING6\"] == 1, \"_RFBING6\"] = 0\n",
    "df.loc[df[\"_RFBING6\"] == 2, \"_RFBING6\"] = 1\n",
    "df._RFBING6.value_counts()"
   ]
  },
  {
   "cell_type": "code",
   "execution_count": 9,
   "id": "801b34de",
   "metadata": {},
   "outputs": [
    {
     "data": {
      "text/plain": [
       "SDHISOLT\n",
       " 0.0    175059\n",
       " 1.0     73489\n",
       "-1.0      2334\n",
       "Name: count, dtype: int64"
      ]
     },
     "execution_count": 9,
     "metadata": {},
     "output_type": "execute_result"
    }
   ],
   "source": [
    "#aislamiento social\n",
    "# 1, 2 y 3: Aislado, 4 y 5: No aislado >> Cambiar a 1: Aislado, 0: No aislado\n",
    "df.loc[df[\"SDHISOLT\"] <= 3, \"SDHISOLT\"] = 1\n",
    "df.loc[(df[\"SDHISOLT\"] == 4) | (df[\"SDHISOLT\"] == 5), \"SDHISOLT\"] = 0\n",
    "df.loc[df[\"SDHISOLT\"] > 5, \"SDHISOLT\"] = -1\n",
    "df[\"SDHISOLT\"].value_counts()"
   ]
  },
  {
   "cell_type": "code",
   "execution_count": 10,
   "id": "935e98e6",
   "metadata": {},
   "outputs": [
    {
     "data": {
      "text/plain": [
       "EMTSUPRT\n",
       " 1.0    194073\n",
       " 0.0     53326\n",
       "-1.0      3828\n",
       "Name: count, dtype: int64"
      ]
     },
     "execution_count": 10,
     "metadata": {},
     "output_type": "execute_result"
    }
   ],
   "source": [
    "df.loc[df[\"EMTSUPRT\"] <= 2, \"EMTSUPRT\"] = 1\n",
    "df.loc[(df[\"EMTSUPRT\"] == 3) | (df[\"EMTSUPRT\"] == 4) | (df[\"EMTSUPRT\"] == 5), \"EMTSUPRT\"] = 0\n",
    "df.loc[df[\"EMTSUPRT\"] > 5, \"EMTSUPRT\"] = -1\n",
    "df[\"EMTSUPRT\"].value_counts()"
   ]
  },
  {
   "cell_type": "code",
   "execution_count": 11,
   "id": "da96ad7f",
   "metadata": {},
   "outputs": [
    {
     "data": {
      "text/plain": [
       "(114721, 39)"
      ]
     },
     "execution_count": 11,
     "metadata": {},
     "output_type": "execute_result"
    }
   ],
   "source": [
    "df = df.dropna(subset=[col for col in df.columns if col != \"MARIJAN1\"])\n",
    "df.shape"
   ]
  },
  {
   "cell_type": "code",
   "execution_count": 12,
   "id": "3ded1567",
   "metadata": {},
   "outputs": [
    {
     "name": "stdout",
     "output_type": "stream",
     "text": [
      "ADDEPEV3\n",
      "0.0    90802\n",
      "1.0    23511\n",
      "Name: count, dtype: int64\n",
      "(114313, 39)\n"
     ]
    }
   ],
   "source": [
    "# Lo llevamos a una variable binaria.\n",
    "# Eliminamos NAN y los valores 7 y 9 (Don’t know/Refused/Missing)\n",
    "# Pasamos 2 (no) a 0\n",
    "df['ADDEPEV3'].dropna()\n",
    "df = df[~df[\"ADDEPEV3\"].isin([9,7])]\n",
    "df.loc[df[\"ADDEPEV3\"] == 2, \"ADDEPEV3\"] = 0\n",
    "print(df[\"ADDEPEV3\"].value_counts())\n",
    "print(df.shape)"
   ]
  },
  {
   "cell_type": "code",
   "execution_count": 13,
   "id": "0a4e1fea",
   "metadata": {},
   "outputs": [
    {
     "name": "stdout",
     "output_type": "stream",
     "text": [
      "COLNCNCR\n",
      " 0.0    87534\n",
      " 1.0    24007\n",
      "-1.0     2772\n",
      "Name: count, dtype: int64\n"
     ]
    }
   ],
   "source": [
    "# Examen de colon - ¿Te lo haz hecho?\n",
    "df.loc[df[\"COLNCNCR\"] == 2, \"COLNCNCR\"] = 0 #no\n",
    "df.loc[df[\"COLNCNCR\"] > 5, \"COLNCNCR\"] = -1 #no sabe\n",
    "\n",
    "# Ver distribución de valores\n",
    "print(df[\"COLNCNCR\"].value_counts())"
   ]
  },
  {
   "cell_type": "code",
   "execution_count": 14,
   "id": "4f82d08d",
   "metadata": {},
   "outputs": [
    {
     "name": "stdout",
     "output_type": "stream",
     "text": [
      "_MICHD\n",
      "0.0    101531\n",
      "1.0     12782\n",
      "Name: count, dtype: int64\n"
     ]
    }
   ],
   "source": [
    "# ¿Haz tenido una enfermada del corazon? \n",
    "df.loc[df[\"_MICHD\"] == 2, \"_MICHD\"] = 0 #no\n",
    "\n",
    "# Ver distribución de valores\n",
    "print(df[\"_MICHD\"].value_counts())"
   ]
  },
  {
   "cell_type": "code",
   "execution_count": 15,
   "id": "4880ed31",
   "metadata": {},
   "outputs": [
    {
     "name": "stdout",
     "output_type": "stream",
     "text": [
      "_ASTHMS1\n",
      " 3.0    97394\n",
      " 1.0    11944\n",
      " 2.0     4219\n",
      "-1.0      756\n",
      "Name: count, dtype: int64\n"
     ]
    }
   ],
   "source": [
    "# ¿haz tenido asma?\n",
    "df.loc[df[\"_ASTHMS1\"] == 9, \"_ASTHMS1\"] = -1 #missing\n",
    "\n",
    "# Ver distribución de valores\n",
    "print(df[\"_ASTHMS1\"].value_counts())"
   ]
  },
  {
   "cell_type": "code",
   "execution_count": 16,
   "id": "4301e8d9",
   "metadata": {},
   "outputs": [
    {
     "name": "stdout",
     "output_type": "stream",
     "text": [
      "_DRDXAR2\n",
      "0.0    66286\n",
      "1.0    48027\n",
      "Name: count, dtype: int64\n"
     ]
    }
   ],
   "source": [
    "# enfermedad de artritis\n",
    "df.loc[df[\"_DRDXAR2\"] == 2, \"_DRDXAR2\"] = 0 #no\n",
    "\n",
    "# Ver distribución de valores\n",
    "print(df[\"_DRDXAR2\"].value_counts())"
   ]
  },
  {
   "cell_type": "code",
   "execution_count": 17,
   "id": "52247717",
   "metadata": {},
   "outputs": [
    {
     "name": "stdout",
     "output_type": "stream",
     "text": [
      "_PHYS14D\n",
      " 0.0    68190\n",
      " 1.0    26681\n",
      " 2.0    16986\n",
      "-1.0     2456\n",
      "Name: count, dtype: int64\n"
     ]
    }
   ],
   "source": [
    "# Mala salud fisica de 0 (no), de 1 a 30 dias (si)\n",
    "df.loc[df[\"_PHYS14D\"] == 1, \"_PHYS14D\"] = 0 #no\n",
    "df.loc[df[\"_PHYS14D\"] == 2, \"_PHYS14D\"] = 1 #-13dias\n",
    "df.loc[df[\"_PHYS14D\"] == 3, \"_PHYS14D\"] = 2 #+13 dias\n",
    "df.loc[df[\"_PHYS14D\"] == 9, \"_PHYS14D\"] = -1 #missing\n",
    "\n",
    "# Ver distribución de valores\n",
    "print(df[\"_PHYS14D\"].value_counts())"
   ]
  },
  {
   "cell_type": "code",
   "execution_count": 18,
   "id": "e08ae178",
   "metadata": {},
   "outputs": [
    {
     "name": "stdout",
     "output_type": "stream",
     "text": [
      "_MENT14D\n",
      " 0.0    74545\n",
      " 1.0    24859\n",
      " 2.0    12968\n",
      "-1.0     1941\n",
      "Name: count, dtype: int64\n"
     ]
    }
   ],
   "source": [
    "# Mala salud metal de 0, (no) a 30 dias (si)\n",
    "df.loc[df[\"_MENT14D\"] == 1, \"_MENT14D\"] = 0 #0 dia\n",
    "df.loc[df[\"_MENT14D\"] == 2, \"_MENT14D\"] = 1 #-13 dias\n",
    "df.loc[df[\"_MENT14D\"] == 3, \"_MENT14D\"] = 2 #+13 dias\n",
    "df.loc[df[\"_MENT14D\"] == 9, \"_MENT14D\"] = -1 #missing\n",
    "print(df[\"_MENT14D\"].value_counts())"
   ]
  },
  {
   "cell_type": "code",
   "execution_count": 19,
   "id": "72775286",
   "metadata": {},
   "outputs": [
    {
     "name": "stdout",
     "output_type": "stream",
     "text": [
      "_BMI5CAT\n",
      "2.0    42636\n",
      "3.0    40617\n",
      "1.0    29666\n",
      "0.0     1394\n",
      "Name: count, dtype: int64\n"
     ]
    }
   ],
   "source": [
    "# Indice de peso corporal\n",
    "df.loc[df[\"_BMI5CAT\"] == 1, \"_BMI5CAT\"] = 0 #bajo peso\n",
    "df.loc[df[\"_BMI5CAT\"] == 2, \"_BMI5CAT\"] = 1 #peso normal\n",
    "df.loc[df[\"_BMI5CAT\"] == 3, \"_BMI5CAT\"] = 2 #sobrepeso\n",
    "df.loc[df[\"_BMI5CAT\"] == 4, \"_BMI5CAT\"] = 3 #obeso\n",
    "df.loc[df[\"_BMI5CAT\"] == 9, \"_BMI5CAT\"] = -1 #missing\n",
    "print(df[\"_BMI5CAT\"].value_counts())"
   ]
  },
  {
   "cell_type": "code",
   "execution_count": 20,
   "id": "a6a140f8",
   "metadata": {},
   "outputs": [
    {
     "name": "stdout",
     "output_type": "stream",
     "text": [
      "DECIDE\n",
      " 0.0    101587\n",
      " 1.0     12118\n",
      "-1.0       608\n",
      "Name: count, dtype: int64\n"
     ]
    }
   ],
   "source": [
    "# Dificultad para concentrarse\n",
    "df.loc[df[\"DECIDE\"] == 2, \"DECIDE\"] = 0 #no\n",
    "df.loc[df[\"DECIDE\"] > 5, \"DECIDE\"] = -1 #missing\n",
    "print(df[\"DECIDE\"].value_counts())"
   ]
  },
  {
   "cell_type": "code",
   "execution_count": 21,
   "id": "400563be",
   "metadata": {},
   "outputs": [
    {
     "name": "stdout",
     "output_type": "stream",
     "text": [
      "DIFFALON\n",
      " 0.0    105692\n",
      " 1.0      8366\n",
      "-1.0       255\n",
      "Name: count, dtype: int64\n"
     ]
    }
   ],
   "source": [
    "# Dificultad para hacer alguna activida fisica (lesion)\n",
    "df.loc[df[\"DIFFALON\"] == 2, \"DIFFALON\"] = 0 #no\n",
    "df.loc[df[\"DIFFALON\"] > 5, \"DIFFALON\"] = -1 #missing\n",
    "print(df[\"DIFFALON\"].value_counts())"
   ]
  },
  {
   "cell_type": "code",
   "execution_count": 22,
   "id": "9243446e",
   "metadata": {},
   "outputs": [
    {
     "name": "stdout",
     "output_type": "stream",
     "text": [
      "COVIDPOS\n",
      " 0.0    78840\n",
      " 2.0    31005\n",
      " 1.0     4196\n",
      "-1.0      272\n",
      "Name: count, dtype: int64\n"
     ]
    }
   ],
   "source": [
    "df.loc[df[\"COVIDPOS\"] == 2, \"COVIDPOS\"] = 0 #no\n",
    "df.loc[df[\"COVIDPOS\"] == 1, \"COVIDPOS\"] = 2 #no\n",
    "df.loc[df[\"COVIDPOS\"] == 3, \"COVIDPOS\"] = 1 #no\n",
    "df.loc[df[\"COVIDPOS\"] > 3, \"COVIDPOS\"] = -1 #missing\n",
    "print(df[\"COVIDPOS\"].value_counts())"
   ]
  },
  {
   "cell_type": "code",
   "execution_count": 23,
   "id": "fb838279",
   "metadata": {},
   "outputs": [
    {
     "name": "stdout",
     "output_type": "stream",
     "text": [
      "LSATISFY\n",
      " 0.0    55624\n",
      " 1.0    52141\n",
      " 2.0     4300\n",
      " 3.0     1299\n",
      "-1.0      949\n",
      "Name: count, dtype: int64\n"
     ]
    }
   ],
   "source": [
    "# satisfacion con la vida\n",
    "df.loc[df[\"LSATISFY\"] == 1, \"LSATISFY\"] = 0 #muy satisfecho\n",
    "df.loc[df[\"LSATISFY\"] == 2, \"LSATISFY\"] = 1 #satisfecho\n",
    "df.loc[df[\"LSATISFY\"] == 3, \"LSATISFY\"] = 2 #insatisfecho\n",
    "df.loc[df[\"LSATISFY\"] == 4, \"LSATISFY\"] = 3 #muy insatisfecho\n",
    "df.loc[df[\"LSATISFY\"] > 5, \"LSATISFY\"] = -1 #missing\n",
    "print(df[\"LSATISFY\"].value_counts())"
   ]
  },
  {
   "cell_type": "code",
   "execution_count": 24,
   "id": "068707cf",
   "metadata": {},
   "outputs": [
    {
     "data": {
      "text/plain": [
       "_AIDTST4\n",
       " 0.0    72206\n",
       " 1.0    36457\n",
       "-1.0     5650\n",
       "Name: count, dtype: int64"
      ]
     },
     "execution_count": 24,
     "metadata": {},
     "output_type": "execute_result"
    }
   ],
   "source": [
    "df.loc[df[\"_AIDTST4\"] == 2, \"_AIDTST4\"] = 0\n",
    "df.loc[df[\"_AIDTST4\"] == 9, \"_AIDTST4\"] = -1\n",
    "\n",
    "df['_AIDTST4'].value_counts()"
   ]
  },
  {
   "cell_type": "code",
   "execution_count": 25,
   "id": "753342dc",
   "metadata": {},
   "outputs": [
    {
     "data": {
      "text/plain": [
       "MARITAL\n",
       " 0.0    68300\n",
       " 1.0    19328\n",
       " 2.0    11595\n",
       " 4.0     9037\n",
       " 5.0     3067\n",
       " 3.0     2380\n",
       "-1.0      606\n",
       "Name: count, dtype: int64"
      ]
     },
     "execution_count": 25,
     "metadata": {},
     "output_type": "execute_result"
    }
   ],
   "source": [
    "df[\"MARITAL\"] = df[\"MARITAL\"] - 1 \n",
    "df.loc[df[\"MARITAL\"] == 8, \"MARITAL\"] = -1\n",
    "\n",
    "df['MARITAL'].value_counts()"
   ]
  },
  {
   "cell_type": "code",
   "execution_count": 26,
   "id": "5d470bdf",
   "metadata": {},
   "outputs": [
    {
     "data": {
      "text/plain": [
       "RENTHOM1\n",
       " 0.0    90752\n",
       " 1.0    19708\n",
       " 2.0     3251\n",
       "-1.0      602\n",
       "Name: count, dtype: int64"
      ]
     },
     "execution_count": 26,
     "metadata": {},
     "output_type": "execute_result"
    }
   ],
   "source": [
    "df[\"RENTHOM1\"] = df[\"RENTHOM1\"] - 1 \n",
    "df.loc[df[\"RENTHOM1\"] > 5, \"RENTHOM1\"] = -1\n",
    "df['RENTHOM1'].value_counts()"
   ]
  },
  {
   "cell_type": "code",
   "execution_count": 27,
   "id": "21e99db5",
   "metadata": {},
   "outputs": [
    {
     "data": {
      "text/plain": [
       "VETERAN3\n",
       " 0.0    97650\n",
       " 1.0    16502\n",
       "-1.0      161\n",
       "Name: count, dtype: int64"
      ]
     },
     "execution_count": 27,
     "metadata": {},
     "output_type": "execute_result"
    }
   ],
   "source": [
    "df.loc[df[\"VETERAN3\"] == 2, \"VETERAN3\"] = 0 \n",
    "df.loc[df[\"VETERAN3\"] > 3, \"VETERAN3\"] = -1\n",
    "df['VETERAN3'].value_counts()"
   ]
  },
  {
   "cell_type": "code",
   "execution_count": 28,
   "id": "94b90538",
   "metadata": {},
   "outputs": [
    {
     "data": {
      "text/plain": [
       "EMPLOY1\n",
       " 0.0    44029\n",
       " 6.0    41932\n",
       " 1.0    11629\n",
       " 7.0     8772\n",
       " 4.0     3527\n",
       " 2.0     2083\n",
       " 3.0     1483\n",
       "-1.0      598\n",
       " 5.0      260\n",
       "Name: count, dtype: int64"
      ]
     },
     "execution_count": 28,
     "metadata": {},
     "output_type": "execute_result"
    }
   ],
   "source": [
    "df[\"EMPLOY1\"] = df[\"EMPLOY1\"] - 1 \n",
    "df.loc[df[\"EMPLOY1\"] == 8, \"EMPLOY1\"] = -1\n",
    "\n",
    "df['EMPLOY1'].value_counts()"
   ]
  },
  {
   "cell_type": "code",
   "execution_count": 29,
   "id": "5d0201c0",
   "metadata": {},
   "outputs": [
    {
     "data": {
      "text/plain": [
       "_AGEG5YR\n",
       " 8.0     18587\n",
       " 9.0     17910\n",
       " 7.0     16392\n",
       " 6.0     15536\n",
       " 10.0    14428\n",
       " 5.0     13591\n",
       " 11.0     9208\n",
       " 12.0     6916\n",
       "-1.0      1745\n",
       "Name: count, dtype: int64"
      ]
     },
     "execution_count": 29,
     "metadata": {},
     "output_type": "execute_result"
    }
   ],
   "source": [
    "df[\"_AGEG5YR\"] = df[\"_AGEG5YR\"] - 1 \n",
    "df.loc[df[\"_AGEG5YR\"] ==  13, \"_AGEG5YR\"] = -1\n",
    "\n",
    "df['_AGEG5YR'].value_counts()"
   ]
  },
  {
   "cell_type": "code",
   "execution_count": 30,
   "id": "26ee28b6",
   "metadata": {},
   "outputs": [
    {
     "data": {
      "text/plain": [
       "_INCOMG1\n",
       " 4.0    30156\n",
       " 5.0    22182\n",
       "-1.0    17172\n",
       " 3.0    11721\n",
       " 2.0    10269\n",
       " 1.0     8955\n",
       " 6.0     7610\n",
       " 0.0     6248\n",
       "Name: count, dtype: int64"
      ]
     },
     "execution_count": 30,
     "metadata": {},
     "output_type": "execute_result"
    }
   ],
   "source": [
    "df[\"_INCOMG1\"] = df[\"_INCOMG1\"] - 1 \n",
    "df.loc[df[\"_INCOMG1\"] >= 7, \"_INCOMG1\"] = -1\n",
    "\n",
    "df['_INCOMG1'].value_counts()"
   ]
  },
  {
   "cell_type": "code",
   "execution_count": 31,
   "id": "71824667",
   "metadata": {},
   "outputs": [
    {
     "data": {
      "text/plain": [
       "_EDUCAG\n",
       " 3.0    51364\n",
       " 2.0    31458\n",
       " 1.0    24750\n",
       " 0.0     6437\n",
       "-1.0      304\n",
       "Name: count, dtype: int64"
      ]
     },
     "execution_count": 31,
     "metadata": {},
     "output_type": "execute_result"
    }
   ],
   "source": [
    "df[\"_EDUCAG\"] = df[\"_EDUCAG\"] - 1 \n",
    "df.loc[df[\"_EDUCAG\"] > 5, \"_EDUCAG\"] = -1\n",
    "\n",
    "df['_EDUCAG'].value_counts()"
   ]
  },
  {
   "cell_type": "code",
   "execution_count": 32,
   "id": "8abba311",
   "metadata": {},
   "outputs": [
    {
     "data": {
      "text/plain": [
       "_CHLDCNT\n",
       " 0.0    93929\n",
       " 1.0    10487\n",
       " 2.0     6202\n",
       " 3.0     1988\n",
       "-1.0      784\n",
       " 4.0      592\n",
       " 5.0      331\n",
       "Name: count, dtype: int64"
      ]
     },
     "execution_count": 32,
     "metadata": {},
     "output_type": "execute_result"
    }
   ],
   "source": [
    "df[\"_CHLDCNT\"] = df[\"_CHLDCNT\"] - 1 \n",
    "df.loc[df[\"_CHLDCNT\"] > 6, \"_CHLDCNT\"] = -1\n",
    "\n",
    "df['_CHLDCNT'].value_counts()"
   ]
  },
  {
   "cell_type": "code",
   "execution_count": 33,
   "id": "f6f95211",
   "metadata": {},
   "outputs": [
    {
     "data": {
      "text/plain": [
       "HHADULT\n",
       " 2.000000e+00    57923\n",
       " 1.000000e+00    30376\n",
       " 3.000000e+00    15903\n",
       " 4.000000e+00     6555\n",
       " 5.000000e+00     1850\n",
       "-1.000000e+00      861\n",
       " 6.000000e+00      509\n",
       " 7.000000e+00      147\n",
       " 8.000000e+00       58\n",
       " 1.000000e+01       28\n",
       " 9.000000e+00       26\n",
       " 1.200000e+01       20\n",
       " 1.300000e+01       16\n",
       " 1.100000e+01       10\n",
       " 1.400000e+01        5\n",
       " 1.600000e+01        5\n",
       " 1.800000e+01        5\n",
       " 1.500000e+01        4\n",
       " 1.700000e+01        4\n",
       " 5.397605e-79        1\n",
       "Name: count, dtype: int64"
      ]
     },
     "execution_count": 33,
     "metadata": {},
     "output_type": "execute_result"
    }
   ],
   "source": [
    "#Se decide conservar estos casos por la posible presencia de personas que viven en refugios, \n",
    "# residencias de ancianos u otras situaciones especiales de vivienda.\n",
    "df.loc[df[\"HHADULT\"].isin([77,99]), \"HHADULT\"] = -1\n",
    "df = df[df[\"HHADULT\"] <= 20]\n",
    "\n",
    "df['HHADULT'].value_counts()"
   ]
  },
  {
   "cell_type": "code",
   "execution_count": 34,
   "id": "72e81f0c",
   "metadata": {},
   "outputs": [
    {
     "data": {
      "text/plain": [
       "SEXVAR\n",
       "0.0    57527\n",
       "1.0    56779\n",
       "Name: count, dtype: int64"
      ]
     },
     "execution_count": 34,
     "metadata": {},
     "output_type": "execute_result"
    }
   ],
   "source": [
    "df[\"SEXVAR\"] = df[\"SEXVAR\"] - 1\n",
    "df['SEXVAR'].value_counts()"
   ]
  },
  {
   "cell_type": "code",
   "execution_count": 35,
   "id": "d60c83b0",
   "metadata": {},
   "outputs": [
    {
     "data": {
      "text/plain": [
       "MEDCOST1\n",
       " 0.0    106236\n",
       " 1.0      7778\n",
       "-1.0       292\n",
       "Name: count, dtype: int64"
      ]
     },
     "execution_count": 35,
     "metadata": {},
     "output_type": "execute_result"
    }
   ],
   "source": [
    "# Se pasa el 2 a 0, Ya que no cumple la condición.\n",
    "\n",
    "df.loc[df[\"MEDCOST1\"] > 6, \"MEDCOST1\"] = -1\n",
    "df.loc[df[\"MEDCOST1\"] == 2, \"MEDCOST1\"] = 0\n",
    "\n",
    "df['MEDCOST1'].value_counts()"
   ]
  },
  {
   "cell_type": "code",
   "execution_count": 36,
   "id": "0308a2f7",
   "metadata": {},
   "outputs": [
    {
     "data": {
      "text/plain": [
       "_HLTHPLN\n",
       " 1.0    107302\n",
       " 0.0      4227\n",
       "-1.0      2777\n",
       "Name: count, dtype: int64"
      ]
     },
     "execution_count": 36,
     "metadata": {},
     "output_type": "execute_result"
    }
   ],
   "source": [
    "# Se pasa el 2 a 0, Ya que no cumple la condición.\n",
    "\n",
    "df.loc[df[\"_HLTHPLN\"] > 6, \"_HLTHPLN\"] = -1\n",
    "df.loc[df[\"_HLTHPLN\"] == 2, \"_HLTHPLN\"] = 0\n",
    "\n",
    "df['_HLTHPLN'].value_counts()"
   ]
  },
  {
   "cell_type": "code",
   "execution_count": 37,
   "id": "fc6dbef3",
   "metadata": {},
   "outputs": [
    {
     "name": "stdout",
     "output_type": "stream",
     "text": [
      "SDHEMPLY\n",
      " 0.0    104684\n",
      " 1.0      8722\n",
      "-1.0       900\n",
      "Name: count, dtype: int64\n"
     ]
    }
   ],
   "source": [
    "# Variable: SDHEMPLY\n",
    "# ¿En los últimos 12 meses ha perdido su empleo o le han reducido sus horas de trabajo?\n",
    "# Cambio de codificacion:\n",
    "# 1: si     0: no       -1: no contesta\n",
    "df.loc[df[\"SDHEMPLY\"] > 2, \"SDHEMPLY\"] = -1\n",
    "df.loc[df[\"SDHEMPLY\"] == 2, \"SDHEMPLY\"] = 0\n",
    "print(df[\"SDHEMPLY\"].value_counts())"
   ]
  },
  {
   "cell_type": "code",
   "execution_count": 38,
   "id": "78e05102",
   "metadata": {},
   "outputs": [
    {
     "name": "stdout",
     "output_type": "stream",
     "text": [
      "SDHFOOD1\n",
      " 5.0    94612\n",
      " 4.0     7833\n",
      " 3.0     7206\n",
      " 1.0     2233\n",
      " 2.0     1881\n",
      "-1.0      541\n",
      "Name: count, dtype: int64\n"
     ]
    }
   ],
   "source": [
    "# Variable: SDHFOOD1\n",
    "# Durante los últimos 12 meses, ¿con qué frecuencia no te duró la comida que compraste y no tuviste dinero para comprar más? ¿Fue eso…?\n",
    "# Cambio de codificacion:\n",
    "# -1: no contesta       [El resto se mantiene tal cual]\n",
    "df.loc[df[\"SDHFOOD1\"] > 5, \"SDHFOOD1\"] = -1\n",
    "print(df[\"SDHFOOD1\"].value_counts())"
   ]
  },
  {
   "cell_type": "code",
   "execution_count": 39,
   "id": "ee0959a0",
   "metadata": {},
   "outputs": [
    {
     "name": "stdout",
     "output_type": "stream",
     "text": [
      "SDHUTILS\n",
      " 0.0    107671\n",
      " 1.0      6316\n",
      "-1.0       319\n",
      "Name: count, dtype: int64\n"
     ]
    }
   ],
   "source": [
    "# Variable: SDHUTILS\n",
    "# Durante los últimos 12 meses, ¿hubo alguna ocasión en que una compañía de electricidad, gas, petróleo o agua amenazó \n",
    "# con cortar los servicios?\n",
    "# Cambio de codificacion:\n",
    "# 1: si     0: no       -1: no contesta\n",
    "df.loc[df[\"SDHUTILS\"] > 2, \"SDHUTILS\"] = -1\n",
    "df.loc[df[\"SDHUTILS\"] == 2, \"SDHUTILS\"] = 0\n",
    "print(df[\"SDHUTILS\"].value_counts())"
   ]
  },
  {
   "cell_type": "code",
   "execution_count": 40,
   "id": "bbd6a37a",
   "metadata": {},
   "outputs": [
    {
     "name": "stdout",
     "output_type": "stream",
     "text": [
      "SDHBILLS\n",
      " 0.0    104575\n",
      " 1.0      9319\n",
      "-1.0       412\n",
      "Name: count, dtype: int64\n"
     ]
    }
   ],
   "source": [
    "# Variable: SDHBILLS\n",
    "# Durante los últimos 12 meses, ¿hubo algún momento en el que no pudo pagar su hipoteca, alquiler o facturas de servicios públicos?\n",
    "# Cambio de codificacion:\n",
    "# 1: si     0: no       -1: no contesta\n",
    "df.loc[df[\"SDHBILLS\"] > 2, \"SDHBILLS\"] = -1\n",
    "df.loc[df[\"SDHBILLS\"] == 2, \"SDHBILLS\"] = 0\n",
    "print(df[\"SDHBILLS\"].value_counts())"
   ]
  },
  {
   "cell_type": "code",
   "execution_count": 41,
   "id": "6d928eb3",
   "metadata": {},
   "outputs": [
    {
     "name": "stdout",
     "output_type": "stream",
     "text": [
      "SDHTRNSP\n",
      " 0.0    107598\n",
      " 1.0      6431\n",
      "-1.0       277\n",
      "Name: count, dtype: int64\n"
     ]
    }
   ],
   "source": [
    "# Variable: SDHTRNSP\n",
    "# Durante los últimos 12 meses, ¿la falta de transporte confiable le ha impedido asistir a citas médicas, reuniones, \n",
    "# trabajar o conseguir las cosas que necesita para la vida diaria?\n",
    "# Cambio de codificacion:\n",
    "# 1: si     0: no       -1: no contesta\n",
    "df.loc[df[\"SDHTRNSP\"] > 2, \"SDHTRNSP\"] = -1\n",
    "df.loc[df[\"SDHTRNSP\"] == 2, \"SDHTRNSP\"] = 0\n",
    "print(df[\"SDHTRNSP\"].value_counts())"
   ]
  },
  {
   "cell_type": "code",
   "execution_count": 42,
   "id": "2d4b8f03",
   "metadata": {},
   "outputs": [
    {
     "name": "stdout",
     "output_type": "stream",
     "text": [
      "SLEPTIM1\n",
      " 7.0     35124\n",
      " 8.0     33034\n",
      " 6.0     23772\n",
      " 5.0      7209\n",
      " 9.0      5676\n",
      " 4.0      3129\n",
      " 10.0     2655\n",
      "-1.0      1033\n",
      " 3.0       798\n",
      " 12.0      729\n",
      " 2.0       337\n",
      " 1.0       241\n",
      " 11.0      173\n",
      " 15.0       90\n",
      " 14.0       84\n",
      " 16.0       78\n",
      " 18.0       50\n",
      " 13.0       42\n",
      " 20.0       28\n",
      " 24.0       10\n",
      " 17.0        6\n",
      " 19.0        4\n",
      " 23.0        2\n",
      " 22.0        2\n",
      "Name: count, dtype: int64\n"
     ]
    }
   ],
   "source": [
    "# Variable: SLEPTIM1\n",
    "# En promedio, ¿cuántas horas duermes en un período de 24 horas?\n",
    "# Cambio de codificacion:\n",
    "# -1: no contesta       [El resto se mantiene tal cual]\n",
    "df.loc[df[\"SLEPTIM1\"] > 24, \"SLEPTIM1\"] = -1\n",
    "print(df[\"SLEPTIM1\"].value_counts())"
   ]
  },
  {
   "cell_type": "code",
   "execution_count": 43,
   "id": "bb943009",
   "metadata": {},
   "outputs": [
    {
     "name": "stdout",
     "output_type": "stream",
     "text": [
      "HIVRISK5\n",
      " 0.0    111264\n",
      " 1.0      2634\n",
      "-1.0       408\n",
      "Name: count, dtype: int64\n"
     ]
    }
   ],
   "source": [
    "# Variable: HIVRISK5\n",
    "# Voy a leerte una lista. Cuando termine, por favor, dime si alguna de estas situaciones te aplica. No es necesario \n",
    "# que me digas cuál. Te has inyectado alguna droga distinta a la recetada en el último año. Has recibido tratamiento \n",
    "# por una enfermedad de transmisión sexual o ETS en el último año. Has dado o recibido dinero o drogas a cambio de sexo en el último año.\n",
    "# Cambio de codificacion:\n",
    "# 1: si     0: no       -1: no contesta\n",
    "df.loc[df[\"HIVRISK5\"] > 2, \"HIVRISK5\"] = -1\n",
    "df.loc[df[\"HIVRISK5\"] == 2, \"HIVRISK5\"] = 0\n",
    "print(df[\"HIVRISK5\"].value_counts())"
   ]
  },
  {
   "cell_type": "code",
   "execution_count": 44,
   "id": "5d7c4cda",
   "metadata": {},
   "outputs": [
    {
     "name": "stdout",
     "output_type": "stream",
     "text": [
      "_TOTINDA\n",
      " 1.0    86713\n",
      " 0.0    27390\n",
      "-1.0      203\n",
      "Name: count, dtype: int64\n"
     ]
    }
   ],
   "source": [
    "# Variable: _TOTINDA\n",
    "# Adultos que informaron haber realizado actividad física o ejercicio durante los últimos 30 días aparte de su trabajo habitual\n",
    "# Cambio de codificacion:\n",
    "# 1: si     0: no       -1: no contesta\n",
    "df.loc[df[\"_TOTINDA\"] > 2, \"_TOTINDA\"] = -1\n",
    "df.loc[df[\"_TOTINDA\"] == 2, \"_TOTINDA\"] = 0\n",
    "print(df[\"_TOTINDA\"].value_counts())"
   ]
  },
  {
   "cell_type": "code",
   "execution_count": 45,
   "id": "7dc515b5",
   "metadata": {},
   "outputs": [
    {
     "name": "stdout",
     "output_type": "stream",
     "text": [
      "CVDSTRK3\n",
      " 0.0    108260\n",
      " 1.0      5787\n",
      "-1.0       259\n",
      "Name: count, dtype: int64\n"
     ]
    }
   ],
   "source": [
    "# Variable: CVDSTRK3\n",
    "# ¿Alguna vez te han dicho que tuviste un derrame cerebral?\n",
    "# Cambio de codificacion:\n",
    "# 1: si     0: no       -1: no contesta\n",
    "df.loc[df[\"CVDSTRK3\"] > 2, \"CVDSTRK3\"] = -1\n",
    "df.loc[df[\"CVDSTRK3\"] == 2, \"CVDSTRK3\"] = 0\n",
    "print(df[\"CVDSTRK3\"].value_counts())"
   ]
  },
  {
   "cell_type": "code",
   "execution_count": 46,
   "id": "30109aec",
   "metadata": {},
   "outputs": [
    {
     "name": "stdout",
     "output_type": "stream",
     "text": [
      "DIABETE4\n",
      " 0.0    90615\n",
      " 3.0    19646\n",
      " 1.0     3178\n",
      " 2.0      723\n",
      "-1.0      144\n",
      "Name: count, dtype: int64\n"
     ]
    }
   ],
   "source": [
    "# Variable: DIABETE4\n",
    "# ¿Alguna vez le dijeron que tenía diabetes? (Si la respuesta es «Sí» y la encuestada es mujer, pregunte \n",
    "# «¿Fue solo cuando estaba embarazada?». Si la encuestada dice prediabetes o diabetes limítrofe, use el código de respuesta 4).\n",
    "# Cambio de codificacion:\n",
    "# 0: No     1: Prediabetes      2: En embarazo      3: No diabetes      -1: No contesta\n",
    "df.loc[df[\"DIABETE4\"] == 3, \"DIABETE4\"] = 0\n",
    "df.loc[df[\"DIABETE4\"] == 1, \"DIABETE4\"] = 3\n",
    "df.loc[df[\"DIABETE4\"] == 4, \"DIABETE4\"] = 1\n",
    "df.loc[df[\"DIABETE4\"] > 4, \"DIABETE4\"] = -1\n",
    "print(df[\"DIABETE4\"].value_counts())"
   ]
  },
  {
   "cell_type": "code",
   "execution_count": 48,
   "id": "ccfcf239",
   "metadata": {},
   "outputs": [],
   "source": [
    "columnas = df.columns\n",
    "columnas\n",
    "for col in columnas:\n",
    "    df = df[df[col] != -1]"
   ]
  },
  {
   "cell_type": "code",
   "execution_count": 49,
   "id": "6c2f7177",
   "metadata": {},
   "outputs": [],
   "source": [
    "df.to_csv(\"../data/processed/data_prefinal.csv\", index=False)"
   ]
  }
 ],
 "metadata": {
  "kernelspec": {
   "display_name": ".venv",
   "language": "python",
   "name": "python3"
  },
  "language_info": {
   "codemirror_mode": {
    "name": "ipython",
    "version": 3
   },
   "file_extension": ".py",
   "mimetype": "text/x-python",
   "name": "python",
   "nbconvert_exporter": "python",
   "pygments_lexer": "ipython3",
   "version": "3.11.4"
  }
 },
 "nbformat": 4,
 "nbformat_minor": 5
}
