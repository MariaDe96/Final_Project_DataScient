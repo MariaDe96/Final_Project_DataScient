{
 "cells": [
  {
   "cell_type": "code",
   "execution_count": 2,
   "id": "e3f74d21",
   "metadata": {},
   "outputs": [],
   "source": [
    "import pandas as pd\n",
    "import numpy as np"
   ]
  },
  {
   "cell_type": "code",
   "execution_count": 3,
   "id": "4e51d88a",
   "metadata": {},
   "outputs": [
    {
     "data": {
      "text/html": [
       "<div>\n",
       "<style scoped>\n",
       "    .dataframe tbody tr th:only-of-type {\n",
       "        vertical-align: middle;\n",
       "    }\n",
       "\n",
       "    .dataframe tbody tr th {\n",
       "        vertical-align: top;\n",
       "    }\n",
       "\n",
       "    .dataframe thead th {\n",
       "        text-align: right;\n",
       "    }\n",
       "</style>\n",
       "<table border=\"1\" class=\"dataframe\">\n",
       "  <thead>\n",
       "    <tr style=\"text-align: right;\">\n",
       "      <th></th>\n",
       "      <th>HHADULT</th>\n",
       "      <th>SEXVAR</th>\n",
       "      <th>MEDCOST1</th>\n",
       "      <th>SLEPTIM1</th>\n",
       "      <th>CVDSTRK3</th>\n",
       "      <th>ADDEPEV3</th>\n",
       "      <th>DIABETE4</th>\n",
       "      <th>MARITAL</th>\n",
       "      <th>RENTHOM1</th>\n",
       "      <th>VETERAN3</th>\n",
       "      <th>...</th>\n",
       "      <th>_ASTHMS1</th>\n",
       "      <th>_DRDXAR2</th>\n",
       "      <th>_AGEG5YR</th>\n",
       "      <th>_BMI5CAT</th>\n",
       "      <th>_CHLDCNT</th>\n",
       "      <th>_EDUCAG</th>\n",
       "      <th>_INCOMG1</th>\n",
       "      <th>_RFBING6</th>\n",
       "      <th>_AIDTST4</th>\n",
       "      <th>tobacco_use</th>\n",
       "    </tr>\n",
       "  </thead>\n",
       "  <tbody>\n",
       "    <tr>\n",
       "      <th>0</th>\n",
       "      <td>2.0</td>\n",
       "      <td>2.0</td>\n",
       "      <td>2.0</td>\n",
       "      <td>6.0</td>\n",
       "      <td>2.0</td>\n",
       "      <td>1.0</td>\n",
       "      <td>3.0</td>\n",
       "      <td>1.0</td>\n",
       "      <td>1.0</td>\n",
       "      <td>2.0</td>\n",
       "      <td>...</td>\n",
       "      <td>3.0</td>\n",
       "      <td>2.0</td>\n",
       "      <td>9.0</td>\n",
       "      <td>2.0</td>\n",
       "      <td>1.0</td>\n",
       "      <td>4.0</td>\n",
       "      <td>5.0</td>\n",
       "      <td>1.0</td>\n",
       "      <td>2.0</td>\n",
       "      <td>0.0</td>\n",
       "    </tr>\n",
       "    <tr>\n",
       "      <th>1</th>\n",
       "      <td>4.0</td>\n",
       "      <td>2.0</td>\n",
       "      <td>2.0</td>\n",
       "      <td>7.0</td>\n",
       "      <td>2.0</td>\n",
       "      <td>2.0</td>\n",
       "      <td>3.0</td>\n",
       "      <td>1.0</td>\n",
       "      <td>1.0</td>\n",
       "      <td>2.0</td>\n",
       "      <td>...</td>\n",
       "      <td>3.0</td>\n",
       "      <td>2.0</td>\n",
       "      <td>9.0</td>\n",
       "      <td>3.0</td>\n",
       "      <td>1.0</td>\n",
       "      <td>4.0</td>\n",
       "      <td>9.0</td>\n",
       "      <td>1.0</td>\n",
       "      <td>2.0</td>\n",
       "      <td>0.0</td>\n",
       "    </tr>\n",
       "    <tr>\n",
       "      <th>2</th>\n",
       "      <td>2.0</td>\n",
       "      <td>2.0</td>\n",
       "      <td>2.0</td>\n",
       "      <td>7.0</td>\n",
       "      <td>2.0</td>\n",
       "      <td>2.0</td>\n",
       "      <td>3.0</td>\n",
       "      <td>1.0</td>\n",
       "      <td>2.0</td>\n",
       "      <td>2.0</td>\n",
       "      <td>...</td>\n",
       "      <td>3.0</td>\n",
       "      <td>1.0</td>\n",
       "      <td>7.0</td>\n",
       "      <td>4.0</td>\n",
       "      <td>1.0</td>\n",
       "      <td>2.0</td>\n",
       "      <td>3.0</td>\n",
       "      <td>1.0</td>\n",
       "      <td>2.0</td>\n",
       "      <td>0.0</td>\n",
       "    </tr>\n",
       "    <tr>\n",
       "      <th>3</th>\n",
       "      <td>2.0</td>\n",
       "      <td>1.0</td>\n",
       "      <td>2.0</td>\n",
       "      <td>6.0</td>\n",
       "      <td>2.0</td>\n",
       "      <td>2.0</td>\n",
       "      <td>1.0</td>\n",
       "      <td>1.0</td>\n",
       "      <td>1.0</td>\n",
       "      <td>2.0</td>\n",
       "      <td>...</td>\n",
       "      <td>3.0</td>\n",
       "      <td>2.0</td>\n",
       "      <td>7.0</td>\n",
       "      <td>4.0</td>\n",
       "      <td>1.0</td>\n",
       "      <td>3.0</td>\n",
       "      <td>6.0</td>\n",
       "      <td>1.0</td>\n",
       "      <td>2.0</td>\n",
       "      <td>0.0</td>\n",
       "    </tr>\n",
       "    <tr>\n",
       "      <th>4</th>\n",
       "      <td>2.0</td>\n",
       "      <td>1.0</td>\n",
       "      <td>2.0</td>\n",
       "      <td>5.0</td>\n",
       "      <td>2.0</td>\n",
       "      <td>2.0</td>\n",
       "      <td>3.0</td>\n",
       "      <td>1.0</td>\n",
       "      <td>1.0</td>\n",
       "      <td>1.0</td>\n",
       "      <td>...</td>\n",
       "      <td>3.0</td>\n",
       "      <td>2.0</td>\n",
       "      <td>9.0</td>\n",
       "      <td>4.0</td>\n",
       "      <td>1.0</td>\n",
       "      <td>3.0</td>\n",
       "      <td>4.0</td>\n",
       "      <td>1.0</td>\n",
       "      <td>1.0</td>\n",
       "      <td>0.0</td>\n",
       "    </tr>\n",
       "    <tr>\n",
       "      <th>...</th>\n",
       "      <td>...</td>\n",
       "      <td>...</td>\n",
       "      <td>...</td>\n",
       "      <td>...</td>\n",
       "      <td>...</td>\n",
       "      <td>...</td>\n",
       "      <td>...</td>\n",
       "      <td>...</td>\n",
       "      <td>...</td>\n",
       "      <td>...</td>\n",
       "      <td>...</td>\n",
       "      <td>...</td>\n",
       "      <td>...</td>\n",
       "      <td>...</td>\n",
       "      <td>...</td>\n",
       "      <td>...</td>\n",
       "      <td>...</td>\n",
       "      <td>...</td>\n",
       "      <td>...</td>\n",
       "      <td>...</td>\n",
       "      <td>...</td>\n",
       "    </tr>\n",
       "    <tr>\n",
       "      <th>110375</th>\n",
       "      <td>1.0</td>\n",
       "      <td>1.0</td>\n",
       "      <td>2.0</td>\n",
       "      <td>6.0</td>\n",
       "      <td>2.0</td>\n",
       "      <td>2.0</td>\n",
       "      <td>3.0</td>\n",
       "      <td>2.0</td>\n",
       "      <td>1.0</td>\n",
       "      <td>2.0</td>\n",
       "      <td>...</td>\n",
       "      <td>3.0</td>\n",
       "      <td>1.0</td>\n",
       "      <td>9.0</td>\n",
       "      <td>3.0</td>\n",
       "      <td>1.0</td>\n",
       "      <td>3.0</td>\n",
       "      <td>6.0</td>\n",
       "      <td>2.0</td>\n",
       "      <td>2.0</td>\n",
       "      <td>1.0</td>\n",
       "    </tr>\n",
       "    <tr>\n",
       "      <th>110376</th>\n",
       "      <td>4.0</td>\n",
       "      <td>1.0</td>\n",
       "      <td>2.0</td>\n",
       "      <td>7.0</td>\n",
       "      <td>1.0</td>\n",
       "      <td>2.0</td>\n",
       "      <td>1.0</td>\n",
       "      <td>1.0</td>\n",
       "      <td>2.0</td>\n",
       "      <td>2.0</td>\n",
       "      <td>...</td>\n",
       "      <td>3.0</td>\n",
       "      <td>1.0</td>\n",
       "      <td>10.0</td>\n",
       "      <td>3.0</td>\n",
       "      <td>1.0</td>\n",
       "      <td>4.0</td>\n",
       "      <td>6.0</td>\n",
       "      <td>1.0</td>\n",
       "      <td>1.0</td>\n",
       "      <td>0.0</td>\n",
       "    </tr>\n",
       "    <tr>\n",
       "      <th>110377</th>\n",
       "      <td>2.0</td>\n",
       "      <td>2.0</td>\n",
       "      <td>2.0</td>\n",
       "      <td>7.0</td>\n",
       "      <td>2.0</td>\n",
       "      <td>2.0</td>\n",
       "      <td>3.0</td>\n",
       "      <td>1.0</td>\n",
       "      <td>1.0</td>\n",
       "      <td>1.0</td>\n",
       "      <td>...</td>\n",
       "      <td>3.0</td>\n",
       "      <td>2.0</td>\n",
       "      <td>7.0</td>\n",
       "      <td>3.0</td>\n",
       "      <td>2.0</td>\n",
       "      <td>4.0</td>\n",
       "      <td>5.0</td>\n",
       "      <td>1.0</td>\n",
       "      <td>1.0</td>\n",
       "      <td>0.0</td>\n",
       "    </tr>\n",
       "    <tr>\n",
       "      <th>110378</th>\n",
       "      <td>1.0</td>\n",
       "      <td>2.0</td>\n",
       "      <td>1.0</td>\n",
       "      <td>5.0</td>\n",
       "      <td>2.0</td>\n",
       "      <td>2.0</td>\n",
       "      <td>3.0</td>\n",
       "      <td>1.0</td>\n",
       "      <td>3.0</td>\n",
       "      <td>2.0</td>\n",
       "      <td>...</td>\n",
       "      <td>3.0</td>\n",
       "      <td>2.0</td>\n",
       "      <td>10.0</td>\n",
       "      <td>1.0</td>\n",
       "      <td>1.0</td>\n",
       "      <td>2.0</td>\n",
       "      <td>9.0</td>\n",
       "      <td>9.0</td>\n",
       "      <td>2.0</td>\n",
       "      <td>2.0</td>\n",
       "    </tr>\n",
       "    <tr>\n",
       "      <th>110379</th>\n",
       "      <td>2.0</td>\n",
       "      <td>1.0</td>\n",
       "      <td>2.0</td>\n",
       "      <td>5.0</td>\n",
       "      <td>2.0</td>\n",
       "      <td>2.0</td>\n",
       "      <td>3.0</td>\n",
       "      <td>1.0</td>\n",
       "      <td>2.0</td>\n",
       "      <td>2.0</td>\n",
       "      <td>...</td>\n",
       "      <td>2.0</td>\n",
       "      <td>2.0</td>\n",
       "      <td>11.0</td>\n",
       "      <td>4.0</td>\n",
       "      <td>1.0</td>\n",
       "      <td>3.0</td>\n",
       "      <td>5.0</td>\n",
       "      <td>1.0</td>\n",
       "      <td>1.0</td>\n",
       "      <td>0.0</td>\n",
       "    </tr>\n",
       "  </tbody>\n",
       "</table>\n",
       "<p>110380 rows × 39 columns</p>\n",
       "</div>"
      ],
      "text/plain": [
       "        HHADULT  SEXVAR  MEDCOST1  SLEPTIM1  CVDSTRK3  ADDEPEV3  DIABETE4  \\\n",
       "0           2.0     2.0       2.0       6.0       2.0       1.0       3.0   \n",
       "1           4.0     2.0       2.0       7.0       2.0       2.0       3.0   \n",
       "2           2.0     2.0       2.0       7.0       2.0       2.0       3.0   \n",
       "3           2.0     1.0       2.0       6.0       2.0       2.0       1.0   \n",
       "4           2.0     1.0       2.0       5.0       2.0       2.0       3.0   \n",
       "...         ...     ...       ...       ...       ...       ...       ...   \n",
       "110375      1.0     1.0       2.0       6.0       2.0       2.0       3.0   \n",
       "110376      4.0     1.0       2.0       7.0       1.0       2.0       1.0   \n",
       "110377      2.0     2.0       2.0       7.0       2.0       2.0       3.0   \n",
       "110378      1.0     2.0       1.0       5.0       2.0       2.0       3.0   \n",
       "110379      2.0     1.0       2.0       5.0       2.0       2.0       3.0   \n",
       "\n",
       "        MARITAL  RENTHOM1  VETERAN3  ...  _ASTHMS1  _DRDXAR2  _AGEG5YR  \\\n",
       "0           1.0       1.0       2.0  ...       3.0       2.0       9.0   \n",
       "1           1.0       1.0       2.0  ...       3.0       2.0       9.0   \n",
       "2           1.0       2.0       2.0  ...       3.0       1.0       7.0   \n",
       "3           1.0       1.0       2.0  ...       3.0       2.0       7.0   \n",
       "4           1.0       1.0       1.0  ...       3.0       2.0       9.0   \n",
       "...         ...       ...       ...  ...       ...       ...       ...   \n",
       "110375      2.0       1.0       2.0  ...       3.0       1.0       9.0   \n",
       "110376      1.0       2.0       2.0  ...       3.0       1.0      10.0   \n",
       "110377      1.0       1.0       1.0  ...       3.0       2.0       7.0   \n",
       "110378      1.0       3.0       2.0  ...       3.0       2.0      10.0   \n",
       "110379      1.0       2.0       2.0  ...       2.0       2.0      11.0   \n",
       "\n",
       "        _BMI5CAT  _CHLDCNT  _EDUCAG  _INCOMG1  _RFBING6  _AIDTST4  tobacco_use  \n",
       "0            2.0       1.0      4.0       5.0       1.0       2.0          0.0  \n",
       "1            3.0       1.0      4.0       9.0       1.0       2.0          0.0  \n",
       "2            4.0       1.0      2.0       3.0       1.0       2.0          0.0  \n",
       "3            4.0       1.0      3.0       6.0       1.0       2.0          0.0  \n",
       "4            4.0       1.0      3.0       4.0       1.0       1.0          0.0  \n",
       "...          ...       ...      ...       ...       ...       ...          ...  \n",
       "110375       3.0       1.0      3.0       6.0       2.0       2.0          1.0  \n",
       "110376       3.0       1.0      4.0       6.0       1.0       1.0          0.0  \n",
       "110377       3.0       2.0      4.0       5.0       1.0       1.0          0.0  \n",
       "110378       1.0       1.0      2.0       9.0       9.0       2.0          2.0  \n",
       "110379       4.0       1.0      3.0       5.0       1.0       1.0          0.0  \n",
       "\n",
       "[110380 rows x 39 columns]"
      ]
     },
     "execution_count": 3,
     "metadata": {},
     "output_type": "execute_result"
    }
   ],
   "source": [
    "df = pd.read_csv('/workspaces/Final_Project_DataScient/data/processed/data_1_selected_39.csv')\n",
    "df"
   ]
  },
  {
   "cell_type": "code",
   "execution_count": 4,
   "id": "5f2104bc",
   "metadata": {},
   "outputs": [
    {
     "data": {
      "text/plain": [
       "Index(['HHADULT', 'SEXVAR', 'MEDCOST1', 'SLEPTIM1', 'CVDSTRK3', 'ADDEPEV3',\n",
       "       'DIABETE4', 'MARITAL', 'RENTHOM1', 'VETERAN3', 'EMPLOY1', 'DECIDE',\n",
       "       'DIFFALON', 'COLNCNCR', 'HIVRISK5', 'COVIDPOS', 'LSATISFY', 'EMTSUPRT',\n",
       "       'SDHISOLT', 'SDHEMPLY', 'SDHFOOD1', 'SDHBILLS', 'SDHUTILS', 'SDHTRNSP',\n",
       "       '_PHYS14D', '_MENT14D', '_HLTHPLN', '_TOTINDA', '_MICHD', '_ASTHMS1',\n",
       "       '_DRDXAR2', '_AGEG5YR', '_BMI5CAT', '_CHLDCNT', '_EDUCAG', '_INCOMG1',\n",
       "       '_RFBING6', '_AIDTST4', 'tobacco_use'],\n",
       "      dtype='object')"
      ]
     },
     "execution_count": 4,
     "metadata": {},
     "output_type": "execute_result"
    }
   ],
   "source": [
    "df.columns"
   ]
  },
  {
   "cell_type": "markdown",
   "id": "4c1b5fa4",
   "metadata": {},
   "source": [
    "ALCOHOL"
   ]
  },
  {
   "cell_type": "code",
   "execution_count": 5,
   "id": "e677c4b6",
   "metadata": {},
   "outputs": [
    {
     "data": {
      "text/plain": [
       "_RFBING6\n",
       " 0.0    95518\n",
       " 1.0    12883\n",
       "-1.0     1979\n",
       "Name: count, dtype: int64"
      ]
     },
     "execution_count": 5,
     "metadata": {},
     "output_type": "execute_result"
    }
   ],
   "source": [
    "# 1: No, 2: Yes >> Cambiar a 1: Yes, 0: No\n",
    "df.loc[df[\"_RFBING6\"] > 2, \"_RFBING6\"] = -1\n",
    "df.loc[df[\"_RFBING6\"] == 1, \"_RFBING6\"] = 0\n",
    "df.loc[df[\"_RFBING6\"] == 2, \"_RFBING6\"] = 1\n",
    "df._RFBING6.value_counts()"
   ]
  },
  {
   "cell_type": "markdown",
   "id": "8a0afc2f",
   "metadata": {},
   "source": [
    "0.0 → No bebedor compulsivo : 95,518 personas.\n",
    "\n",
    "1.0 → Bebedor compulsivo: 12,883 personas. \n",
    "\n",
    "-1.0 → Falta de respuesta / dato perdido / desconocido: 1,979 personas."
   ]
  },
  {
   "cell_type": "markdown",
   "id": "6e1b6ea8",
   "metadata": {},
   "source": [
    "AISLAMIENTO SOCIAL"
   ]
  },
  {
   "cell_type": "code",
   "execution_count": 6,
   "id": "801b34de",
   "metadata": {},
   "outputs": [
    {
     "data": {
      "text/plain": [
       "SDHISOLT\n",
       " 0.0    80904\n",
       " 1.0    28607\n",
       "-1.0      869\n",
       "Name: count, dtype: int64"
      ]
     },
     "execution_count": 6,
     "metadata": {},
     "output_type": "execute_result"
    }
   ],
   "source": [
    "# 1, 2 y 3: Aislado, 4 y 5: No aislado >> Cambiar a 1: Aislado, 0: No aislado\n",
    "df.loc[df[\"SDHISOLT\"] <= 3, \"SDHISOLT\"] = 1\n",
    "df.loc[(df[\"SDHISOLT\"] == 4) | (df[\"SDHISOLT\"] == 5), \"SDHISOLT\"] = 0\n",
    "df.loc[df[\"SDHISOLT\"] > 5, \"SDHISOLT\"] = -1\n",
    "df[\"SDHISOLT\"].value_counts()"
   ]
  },
  {
   "cell_type": "markdown",
   "id": "26922752",
   "metadata": {},
   "source": [
    "0.0 : 72.2%  → No presenta aislamiento social.\n",
    "\n",
    "1.0 : 25.5% → Sí presenta aislamiento social.\n",
    "\n",
    "-1.0 : 0.8% → Dato no disponible / no respondió / desconocido.\n",
    "\n",
    "Hay una proporción considerable de personas con aislamiento social una de cada cuatro, es una variable predictora muy a tener en cuenta.\n"
   ]
  },
  {
   "cell_type": "markdown",
   "id": "e8acc0f8",
   "metadata": {},
   "source": [
    "APOYO SOCIAL Y EMOCIONAL"
   ]
  },
  {
   "cell_type": "code",
   "execution_count": 27,
   "id": "935e98e6",
   "metadata": {},
   "outputs": [
    {
     "data": {
      "text/plain": [
       "EMTSUPRT\n",
       " 1.0    87214\n",
       " 0.0    21615\n",
       "-1.0     1551\n",
       "Name: count, dtype: int64"
      ]
     },
     "execution_count": 27,
     "metadata": {},
     "output_type": "execute_result"
    }
   ],
   "source": [
    "df.loc[df[\"EMTSUPRT\"] <= 2, \"EMTSUPRT\"] = 1\n",
    "df.loc[(df[\"EMTSUPRT\"] == 3) | (df[\"EMTSUPRT\"] == 4) | (df[\"EMTSUPRT\"] == 5), \"EMTSUPRT\"] = 0\n",
    "df.loc[df[\"EMTSUPRT\"] > 5, \"EMTSUPRT\"] = -1\n",
    "df[\"EMTSUPRT\"].value_counts()"
   ]
  },
  {
   "cell_type": "markdown",
   "id": "222053ee",
   "metadata": {},
   "source": [
    "1.0 → Sí recibe apoyo social/emocional: 87,214 personas.\n",
    "\n",
    "0.0 → No recibe ese tipo de apoyo: 21,615 personas.\n",
    "\n",
    "-1.0 → Dato faltante / sin respuesta / desconocido: 1,551 personas.\n",
    "\n",
    "Más de tres cuartas partes reportan tener apoyo emocional. Esto puede ser un factor protector, el 20% sin apoyo emocional puede ser crítico, este grupo minoritario puede tener mayor riesgo de aislamiento, ansiedad, depresión o conductas nocivas.\n",
    "\n"
   ]
  },
  {
   "cell_type": "markdown",
   "id": "fb1f0a7b",
   "metadata": {},
   "source": [
    "DEPRESION"
   ]
  },
  {
   "cell_type": "code",
   "execution_count": 28,
   "id": "3ded1567",
   "metadata": {},
   "outputs": [
    {
     "name": "stdout",
     "output_type": "stream",
     "text": [
      "ADDEPEV3\n",
      "0.0    87246\n",
      "1.0    22740\n",
      "Name: count, dtype: int64\n",
      "(109986, 39)\n"
     ]
    },
    {
     "name": "stderr",
     "output_type": "stream",
     "text": [
      "/tmp/ipykernel_5781/1116977196.py:6: SettingWithCopyWarning: \n",
      "A value is trying to be set on a copy of a slice from a DataFrame\n",
      "\n",
      "See the caveats in the documentation: https://pandas.pydata.org/pandas-docs/stable/user_guide/indexing.html#returning-a-view-versus-a-copy\n",
      "  df.loc[df[\"ADDEPEV3\"] == 2, \"ADDEPEV3\"] = 0\n"
     ]
    }
   ],
   "source": [
    "# Lo llevamos a una variable binaria.\n",
    "# Eliminamos NAN y los valores 7 y 9 (Don’t know/Refused/Missing)\n",
    "# Pasamos 2 (no) a 0\n",
    "df['ADDEPEV3'].dropna()\n",
    "df = df[~df[\"ADDEPEV3\"].isin([9,7])]\n",
    "df.loc[df[\"ADDEPEV3\"] == 2, \"ADDEPEV3\"] = 0\n",
    "print(df[\"ADDEPEV3\"].value_counts())\n",
    "print(df.shape)"
   ]
  },
  {
   "cell_type": "markdown",
   "id": "c8cf46eb",
   "metadata": {},
   "source": [
    "EXAMEN DE COLON"
   ]
  },
  {
   "cell_type": "code",
   "execution_count": 29,
   "id": "0a4e1fea",
   "metadata": {},
   "outputs": [
    {
     "name": "stdout",
     "output_type": "stream",
     "text": [
      "COLNCNCR\n",
      " 0.0    84062\n",
      " 1.0    23275\n",
      "-1.0     2649\n",
      "Name: count, dtype: int64\n"
     ]
    },
    {
     "name": "stderr",
     "output_type": "stream",
     "text": [
      "/tmp/ipykernel_5781/568849800.py:2: SettingWithCopyWarning: \n",
      "A value is trying to be set on a copy of a slice from a DataFrame\n",
      "\n",
      "See the caveats in the documentation: https://pandas.pydata.org/pandas-docs/stable/user_guide/indexing.html#returning-a-view-versus-a-copy\n",
      "  df.loc[df[\"COLNCNCR\"] == 2, \"COLNCNCR\"] = 0 #no\n",
      "/tmp/ipykernel_5781/568849800.py:3: SettingWithCopyWarning: \n",
      "A value is trying to be set on a copy of a slice from a DataFrame\n",
      "\n",
      "See the caveats in the documentation: https://pandas.pydata.org/pandas-docs/stable/user_guide/indexing.html#returning-a-view-versus-a-copy\n",
      "  df.loc[df[\"COLNCNCR\"] > 5, \"COLNCNCR\"] = -1 #no sabe\n"
     ]
    }
   ],
   "source": [
    "# Examen de colon - ¿Te lo haz hecho?\n",
    "df.loc[df[\"COLNCNCR\"] == 2, \"COLNCNCR\"] = 0 #no\n",
    "df.loc[df[\"COLNCNCR\"] > 5, \"COLNCNCR\"] = -1 #no sabe\n",
    "# Ver distribución de valores\n",
    "print(df[\"COLNCNCR\"].value_counts())"
   ]
  },
  {
   "cell_type": "markdown",
   "id": "f67e8d66",
   "metadata": {},
   "source": [
    "1.0 → Sí se ha hecho el examen.\n",
    "\n",
    "0.0 → No se lo ha hecho.\n",
    "\n",
    "-1.0 → No sabe / sin respuesta. \n",
    "\n"
   ]
  },
  {
   "cell_type": "markdown",
   "id": "7d7663e0",
   "metadata": {},
   "source": [
    "ENFERMEDAD CARDIACA"
   ]
  },
  {
   "cell_type": "code",
   "execution_count": 30,
   "id": "4f82d08d",
   "metadata": {},
   "outputs": [
    {
     "name": "stdout",
     "output_type": "stream",
     "text": [
      "_MICHD\n",
      "0.0    97657\n",
      "1.0    12329\n",
      "Name: count, dtype: int64\n"
     ]
    },
    {
     "name": "stderr",
     "output_type": "stream",
     "text": [
      "/tmp/ipykernel_5781/3541356943.py:2: SettingWithCopyWarning: \n",
      "A value is trying to be set on a copy of a slice from a DataFrame\n",
      "\n",
      "See the caveats in the documentation: https://pandas.pydata.org/pandas-docs/stable/user_guide/indexing.html#returning-a-view-versus-a-copy\n",
      "  df.loc[df[\"_MICHD\"] == 2, \"_MICHD\"] = 0 #no\n"
     ]
    }
   ],
   "source": [
    "# ¿Haz tenido una enfermada del corazon? \n",
    "df.loc[df[\"_MICHD\"] == 2, \"_MICHD\"] = 0 #no\n",
    "\n",
    "# Ver distribución de valores\n",
    "print(df[\"_MICHD\"].value_counts())"
   ]
  },
  {
   "cell_type": "markdown",
   "id": "6ede2659",
   "metadata": {},
   "source": [
    "0.0 → No ha tenido enfermedad cardíaca: 97,657 personas\n",
    "\n",
    "1.0 → Sí ha tenido enfermedad cardíaca: 12,329 personas\n",
    "\n",
    "Esto nos indica que alrededor del 11% de la población ha reportado enfermedad cardíaca. Esto es coherente con cifras reales de muchas poblaciones donde los problemas cardiovasculares son una de las principales causas de enfermedad crónica, especialmente en personas mayores.\n"
   ]
  },
  {
   "cell_type": "markdown",
   "id": "a0e49d50",
   "metadata": {},
   "source": [
    "ESTADO DE ASMA "
   ]
  },
  {
   "cell_type": "code",
   "execution_count": 31,
   "id": "4880ed31",
   "metadata": {},
   "outputs": [
    {
     "name": "stdout",
     "output_type": "stream",
     "text": [
      "_ASTHMS1\n",
      " 3.0    93717\n",
      " 1.0    11473\n",
      " 2.0     4069\n",
      "-1.0      727\n",
      "Name: count, dtype: int64\n"
     ]
    },
    {
     "name": "stderr",
     "output_type": "stream",
     "text": [
      "/tmp/ipykernel_5781/2159376363.py:2: SettingWithCopyWarning: \n",
      "A value is trying to be set on a copy of a slice from a DataFrame\n",
      "\n",
      "See the caveats in the documentation: https://pandas.pydata.org/pandas-docs/stable/user_guide/indexing.html#returning-a-view-versus-a-copy\n",
      "  df.loc[df[\"_ASTHMS1\"] == 9, \"_ASTHMS1\"] = -1 #missing\n"
     ]
    }
   ],
   "source": [
    "# ¿haz tenido asma?\n",
    "df.loc[df[\"_ASTHMS1\"] == 9, \"_ASTHMS1\"] = -1 #missing\n",
    "\n",
    "# Ver distribución de valores\n",
    "print(df[\"_ASTHMS1\"].value_counts())"
   ]
  },
  {
   "cell_type": "markdown",
   "id": "ad88788e",
   "metadata": {},
   "source": [
    "1.0 → Actualmente tiene asma.\n",
    "\n",
    "2.0 → Tuvo asma en algún momento, pero no actualmente.\n",
    "\n",
    "3.0 → Nunca ha tenido asma\n",
    "\n",
    "-1.0 → Sin respuesta / no sabe / dato faltante\n",
    "\n",
    "Alrededor del 13% de la población ha tenido asma en algún momento. El 9.6% aún la padece, lo que puede representar un grupo con necesidades especiales de atención o prevención. El 78.7% nunca ha tenido asma, lo que podría servir como grupo de referencia o comparación."
   ]
  },
  {
   "cell_type": "markdown",
   "id": "747aac85",
   "metadata": {},
   "source": [
    "ENFERMEDAD ARTRITIS"
   ]
  },
  {
   "cell_type": "code",
   "execution_count": 32,
   "id": "4301e8d9",
   "metadata": {},
   "outputs": [
    {
     "name": "stdout",
     "output_type": "stream",
     "text": [
      "_DRDXAR2\n",
      "0.0    63609\n",
      "1.0    46377\n",
      "Name: count, dtype: int64\n"
     ]
    },
    {
     "name": "stderr",
     "output_type": "stream",
     "text": [
      "/tmp/ipykernel_5781/3334935505.py:1: SettingWithCopyWarning: \n",
      "A value is trying to be set on a copy of a slice from a DataFrame\n",
      "\n",
      "See the caveats in the documentation: https://pandas.pydata.org/pandas-docs/stable/user_guide/indexing.html#returning-a-view-versus-a-copy\n",
      "  df.loc[df[\"_DRDXAR2\"] == 2, \"_DRDXAR2\"] = 0 #no\n"
     ]
    }
   ],
   "source": [
    "df.loc[df[\"_DRDXAR2\"] == 2, \"_DRDXAR2\"] = 0 #no\n",
    "# Ver distribución de valores\n",
    "print(df[\"_DRDXAR2\"].value_counts())"
   ]
  },
  {
   "cell_type": "markdown",
   "id": "7e332128",
   "metadata": {},
   "source": [
    "0.0 → No ha sido diagnosticada con artritis. 57.8%\n",
    "\n",
    "1.0 → Sí ha recibido diagnóstico de artritis. 42.2%\n",
    "\n",
    "Estos datos nos dice que 4 de cada 10 personas declaran tener diagnóstico de artritis, lo cual es altísimo y refleja la carga de enfermedades musculoesqueléticas, sobre todo en poblaciones adultas y mayores. **Perspectiva poblacional:** En estudios reales, prevalencias entre 15% y 30% son comunes — si aquí es 42%, eso puede indicar una muestra envejecida o con más factores de riesgo acumulados."
   ]
  },
  {
   "cell_type": "markdown",
   "id": "8d7d2e56",
   "metadata": {},
   "source": [
    "MALA SALUD FISICA"
   ]
  },
  {
   "cell_type": "code",
   "execution_count": 33,
   "id": "52247717",
   "metadata": {},
   "outputs": [
    {
     "name": "stdout",
     "output_type": "stream",
     "text": [
      "_PHYS14D\n",
      " 0.0    65609\n",
      " 1.0    25744\n",
      " 2.0    16354\n",
      "-1.0     2279\n",
      "Name: count, dtype: int64\n"
     ]
    },
    {
     "name": "stderr",
     "output_type": "stream",
     "text": [
      "/tmp/ipykernel_5781/3638456170.py:2: SettingWithCopyWarning: \n",
      "A value is trying to be set on a copy of a slice from a DataFrame\n",
      "\n",
      "See the caveats in the documentation: https://pandas.pydata.org/pandas-docs/stable/user_guide/indexing.html#returning-a-view-versus-a-copy\n",
      "  df.loc[df[\"_PHYS14D\"] == 1, \"_PHYS14D\"] = 0 #no\n",
      "/tmp/ipykernel_5781/3638456170.py:3: SettingWithCopyWarning: \n",
      "A value is trying to be set on a copy of a slice from a DataFrame\n",
      "\n",
      "See the caveats in the documentation: https://pandas.pydata.org/pandas-docs/stable/user_guide/indexing.html#returning-a-view-versus-a-copy\n",
      "  df.loc[df[\"_PHYS14D\"] == 2, \"_PHYS14D\"] = 1 #-13dias\n",
      "/tmp/ipykernel_5781/3638456170.py:4: SettingWithCopyWarning: \n",
      "A value is trying to be set on a copy of a slice from a DataFrame\n",
      "\n",
      "See the caveats in the documentation: https://pandas.pydata.org/pandas-docs/stable/user_guide/indexing.html#returning-a-view-versus-a-copy\n",
      "  df.loc[df[\"_PHYS14D\"] == 3, \"_PHYS14D\"] = 2 #+13 dias\n",
      "/tmp/ipykernel_5781/3638456170.py:5: SettingWithCopyWarning: \n",
      "A value is trying to be set on a copy of a slice from a DataFrame\n",
      "\n",
      "See the caveats in the documentation: https://pandas.pydata.org/pandas-docs/stable/user_guide/indexing.html#returning-a-view-versus-a-copy\n",
      "  df.loc[df[\"_PHYS14D\"] == 9, \"_PHYS14D\"] = -1 #missing\n"
     ]
    }
   ],
   "source": [
    "# Mala salud fisica de 0 (no), de 1 a 30 dias (si)\n",
    "df.loc[df[\"_PHYS14D\"] == 1, \"_PHYS14D\"] = 0 #no\n",
    "df.loc[df[\"_PHYS14D\"] == 2, \"_PHYS14D\"] = 1 #-13dias\n",
    "df.loc[df[\"_PHYS14D\"] == 3, \"_PHYS14D\"] = 2 #+13 dias\n",
    "df.loc[df[\"_PHYS14D\"] == 9, \"_PHYS14D\"] = -1 #missing\n",
    "\n",
    "# Ver distribución de valores\n",
    "print(df[\"_PHYS14D\"].value_counts())"
   ]
  },
  {
   "cell_type": "markdown",
   "id": "80300c9f",
   "metadata": {},
   "source": [
    "0.0 → No experimentó mala salud física\n",
    "\n",
    "1.0 → 1 a 13 días de mala salud física\n",
    "\n",
    "2.0 → Los 14 días completos de mala salud física\n",
    "\n",
    "-1.0 → Sin datos / no responde\n",
    "\n",
    "Casi un tercio de la muestra (35%) experimentó mala salud física en los últimos 14 días, ya sea de forma intermitente (21.6%) o diaria (13.7%).\n",
    "\n",
    "Más de la mitad (55%) reporta estar sin problemas físicos recientes."
   ]
  },
  {
   "cell_type": "markdown",
   "id": "c9bbceb8",
   "metadata": {},
   "source": [
    "MALA SALUD MENTAL"
   ]
  },
  {
   "cell_type": "code",
   "execution_count": 34,
   "id": "e08ae178",
   "metadata": {},
   "outputs": [
    {
     "name": "stdout",
     "output_type": "stream",
     "text": [
      "_MENT14D\n",
      " 0.0    71693\n",
      " 1.0    23982\n",
      " 2.0    12488\n",
      "-1.0     1823\n",
      "Name: count, dtype: int64\n"
     ]
    },
    {
     "name": "stderr",
     "output_type": "stream",
     "text": [
      "/tmp/ipykernel_5781/2202803867.py:2: SettingWithCopyWarning: \n",
      "A value is trying to be set on a copy of a slice from a DataFrame\n",
      "\n",
      "See the caveats in the documentation: https://pandas.pydata.org/pandas-docs/stable/user_guide/indexing.html#returning-a-view-versus-a-copy\n",
      "  df.loc[df[\"_MENT14D\"] == 1, \"_MENT14D\"] = 0 #0 dia\n",
      "/tmp/ipykernel_5781/2202803867.py:3: SettingWithCopyWarning: \n",
      "A value is trying to be set on a copy of a slice from a DataFrame\n",
      "\n",
      "See the caveats in the documentation: https://pandas.pydata.org/pandas-docs/stable/user_guide/indexing.html#returning-a-view-versus-a-copy\n",
      "  df.loc[df[\"_MENT14D\"] == 2, \"_MENT14D\"] = 1 #-13 dias\n",
      "/tmp/ipykernel_5781/2202803867.py:4: SettingWithCopyWarning: \n",
      "A value is trying to be set on a copy of a slice from a DataFrame\n",
      "\n",
      "See the caveats in the documentation: https://pandas.pydata.org/pandas-docs/stable/user_guide/indexing.html#returning-a-view-versus-a-copy\n",
      "  df.loc[df[\"_MENT14D\"] == 3, \"_MENT14D\"] = 2 #+13 dias\n",
      "/tmp/ipykernel_5781/2202803867.py:5: SettingWithCopyWarning: \n",
      "A value is trying to be set on a copy of a slice from a DataFrame\n",
      "\n",
      "See the caveats in the documentation: https://pandas.pydata.org/pandas-docs/stable/user_guide/indexing.html#returning-a-view-versus-a-copy\n",
      "  df.loc[df[\"_MENT14D\"] == 9, \"_MENT14D\"] = -1 #missing\n"
     ]
    }
   ],
   "source": [
    "# Mala salud metal de 0, (no) a 30 dias (si)\n",
    "df.loc[df[\"_MENT14D\"] == 1, \"_MENT14D\"] = 0 #0 dia\n",
    "df.loc[df[\"_MENT14D\"] == 2, \"_MENT14D\"] = 1 #-13 dias\n",
    "df.loc[df[\"_MENT14D\"] == 3, \"_MENT14D\"] = 2 #+13 dias\n",
    "df.loc[df[\"_MENT14D\"] == 9, \"_MENT14D\"] = -1 #missing\n",
    "print(df[\"_MENT14D\"].value_counts())"
   ]
  },
  {
   "cell_type": "markdown",
   "id": "cf2df979",
   "metadata": {},
   "source": [
    "0.0 → Sin días de malestar mental\n",
    "\n",
    "1.0 → Entre 1 y 13 días de mala salud mental\n",
    "\n",
    "2.0 → Todos los 14 días con mal estado mental\n",
    "\n",
    "-1.0 → Sin respuesta / dato faltante\n",
    "\n",
    "Alrededor del 30% de la muestra ha experimentado algún nivel de malestar mental reciente.\n",
    "\n",
    "El 10.4% reporta un nivel grave y sostenido (14 días continuos), lo cual puede indicar síntomas compatibles con depresión o ansiedad severa."
   ]
  },
  {
   "cell_type": "markdown",
   "id": "e666b131",
   "metadata": {},
   "source": [
    "PESO CORPORAL "
   ]
  },
  {
   "cell_type": "code",
   "execution_count": 35,
   "id": "72775286",
   "metadata": {},
   "outputs": [
    {
     "name": "stdout",
     "output_type": "stream",
     "text": [
      "_BMI5CAT\n",
      "2.0    40997\n",
      "3.0    39131\n",
      "1.0    28532\n",
      "0.0     1326\n",
      "Name: count, dtype: int64\n"
     ]
    },
    {
     "name": "stderr",
     "output_type": "stream",
     "text": [
      "/tmp/ipykernel_5781/3315613289.py:2: SettingWithCopyWarning: \n",
      "A value is trying to be set on a copy of a slice from a DataFrame\n",
      "\n",
      "See the caveats in the documentation: https://pandas.pydata.org/pandas-docs/stable/user_guide/indexing.html#returning-a-view-versus-a-copy\n",
      "  df.loc[df[\"_BMI5CAT\"] == 1, \"_BMI5CAT\"] = 0 #bajo peso\n",
      "/tmp/ipykernel_5781/3315613289.py:3: SettingWithCopyWarning: \n",
      "A value is trying to be set on a copy of a slice from a DataFrame\n",
      "\n",
      "See the caveats in the documentation: https://pandas.pydata.org/pandas-docs/stable/user_guide/indexing.html#returning-a-view-versus-a-copy\n",
      "  df.loc[df[\"_BMI5CAT\"] == 2, \"_BMI5CAT\"] = 1 #peso normal\n",
      "/tmp/ipykernel_5781/3315613289.py:4: SettingWithCopyWarning: \n",
      "A value is trying to be set on a copy of a slice from a DataFrame\n",
      "\n",
      "See the caveats in the documentation: https://pandas.pydata.org/pandas-docs/stable/user_guide/indexing.html#returning-a-view-versus-a-copy\n",
      "  df.loc[df[\"_BMI5CAT\"] == 3, \"_BMI5CAT\"] = 2 #sobrepeso\n",
      "/tmp/ipykernel_5781/3315613289.py:5: SettingWithCopyWarning: \n",
      "A value is trying to be set on a copy of a slice from a DataFrame\n",
      "\n",
      "See the caveats in the documentation: https://pandas.pydata.org/pandas-docs/stable/user_guide/indexing.html#returning-a-view-versus-a-copy\n",
      "  df.loc[df[\"_BMI5CAT\"] == 4, \"_BMI5CAT\"] = 3 #obeso\n",
      "/tmp/ipykernel_5781/3315613289.py:6: SettingWithCopyWarning: \n",
      "A value is trying to be set on a copy of a slice from a DataFrame\n",
      "\n",
      "See the caveats in the documentation: https://pandas.pydata.org/pandas-docs/stable/user_guide/indexing.html#returning-a-view-versus-a-copy\n",
      "  df.loc[df[\"_BMI5CAT\"] == 9, \"_BMI5CAT\"] = -1 #missing\n"
     ]
    }
   ],
   "source": [
    "# Indice de peso corporal\n",
    "df.loc[df[\"_BMI5CAT\"] == 1, \"_BMI5CAT\"] = 0 #bajo peso\n",
    "df.loc[df[\"_BMI5CAT\"] == 2, \"_BMI5CAT\"] = 1 #peso normal\n",
    "df.loc[df[\"_BMI5CAT\"] == 3, \"_BMI5CAT\"] = 2 #sobrepeso\n",
    "df.loc[df[\"_BMI5CAT\"] == 4, \"_BMI5CAT\"] = 3 #obeso\n",
    "df.loc[df[\"_BMI5CAT\"] == 9, \"_BMI5CAT\"] = -1 #missing\n",
    "print(df[\"_BMI5CAT\"].value_counts())"
   ]
  },
  {
   "cell_type": "markdown",
   "id": "ac54a0af",
   "metadata": {},
   "source": [
    "0.0 → Peso bajo o bajo peso (IMC < 18.5)\n",
    "\n",
    "1.0 → Peso normal (IMC 18.5–24.9)\n",
    "\n",
    "2.0 → Sobrepeso (IMC 25.0–29.9)\n",
    "\n",
    "3.0 → Obesidad (IMC ≥ 30)\n",
    "\n",
    "Más de 2 de cada 3 personas tienen sobrepeso u obesidad (~67.2%), lo cual es un hallazgo clínico y poblacional muy importante."
   ]
  },
  {
   "cell_type": "markdown",
   "id": "e5b7f4d9",
   "metadata": {},
   "source": [
    "DIFICULTAD PARA CONCENTRARSE"
   ]
  },
  {
   "cell_type": "code",
   "execution_count": 36,
   "id": "a6a140f8",
   "metadata": {},
   "outputs": [
    {
     "name": "stdout",
     "output_type": "stream",
     "text": [
      "DECIDE\n",
      " 0.0    97716\n",
      " 1.0    11692\n",
      "-1.0      578\n",
      "Name: count, dtype: int64\n"
     ]
    },
    {
     "name": "stderr",
     "output_type": "stream",
     "text": [
      "/tmp/ipykernel_5781/1148006535.py:2: SettingWithCopyWarning: \n",
      "A value is trying to be set on a copy of a slice from a DataFrame\n",
      "\n",
      "See the caveats in the documentation: https://pandas.pydata.org/pandas-docs/stable/user_guide/indexing.html#returning-a-view-versus-a-copy\n",
      "  df.loc[df[\"DECIDE\"] == 2, \"DECIDE\"] = 0 #no\n",
      "/tmp/ipykernel_5781/1148006535.py:3: SettingWithCopyWarning: \n",
      "A value is trying to be set on a copy of a slice from a DataFrame\n",
      "\n",
      "See the caveats in the documentation: https://pandas.pydata.org/pandas-docs/stable/user_guide/indexing.html#returning-a-view-versus-a-copy\n",
      "  df.loc[df[\"DECIDE\"] > 5, \"DECIDE\"] = -1 #missing\n"
     ]
    }
   ],
   "source": [
    "# Dificultad para concentrarse\n",
    "df.loc[df[\"DECIDE\"] == 2, \"DECIDE\"] = 0 #no\n",
    "df.loc[df[\"DECIDE\"] > 5, \"DECIDE\"] = -1 #missing\n",
    "print(df[\"DECIDE\"].value_counts())"
   ]
  },
  {
   "cell_type": "markdown",
   "id": "ee32c654",
   "metadata": {},
   "source": [
    "0.0 → No reporta dificultad para concentrarse o decidir\n",
    "\n",
    "1.0 → Sí reporta dificultad cognitiva\n",
    "\n",
    "-1.0 → No sabe / No responde / Dato faltante\n",
    "\n",
    "Un 10.4% de las personas presenta dificultad cognitiva, lo cual es relevante desde una perspectiva de salud pública."
   ]
  },
  {
   "cell_type": "markdown",
   "id": "850b05af",
   "metadata": {},
   "source": [
    "DIFICULTAD PARA HACER ACTIVIDAD FISICA "
   ]
  },
  {
   "cell_type": "code",
   "execution_count": 37,
   "id": "400563be",
   "metadata": {},
   "outputs": [
    {
     "name": "stdout",
     "output_type": "stream",
     "text": [
      "DIFFALON\n",
      " 0.0    101687\n",
      " 1.0      8057\n",
      "-1.0       242\n",
      "Name: count, dtype: int64\n"
     ]
    },
    {
     "name": "stderr",
     "output_type": "stream",
     "text": [
      "/tmp/ipykernel_5781/2484800539.py:2: SettingWithCopyWarning: \n",
      "A value is trying to be set on a copy of a slice from a DataFrame\n",
      "\n",
      "See the caveats in the documentation: https://pandas.pydata.org/pandas-docs/stable/user_guide/indexing.html#returning-a-view-versus-a-copy\n",
      "  df.loc[df[\"DIFFALON\"] == 2, \"DIFFALON\"] = 0 #no\n",
      "/tmp/ipykernel_5781/2484800539.py:3: SettingWithCopyWarning: \n",
      "A value is trying to be set on a copy of a slice from a DataFrame\n",
      "\n",
      "See the caveats in the documentation: https://pandas.pydata.org/pandas-docs/stable/user_guide/indexing.html#returning-a-view-versus-a-copy\n",
      "  df.loc[df[\"DIFFALON\"] > 5, \"DIFFALON\"] = -1 #missing\n"
     ]
    }
   ],
   "source": [
    "# Dificultad para hacer alguna activida fisica (lesion)\n",
    "df.loc[df[\"DIFFALON\"] == 2, \"DIFFALON\"] = 0 #no\n",
    "df.loc[df[\"DIFFALON\"] > 5, \"DIFFALON\"] = -1 #missing\n",
    "print(df[\"DIFFALON\"].value_counts())"
   ]
  },
  {
   "cell_type": "markdown",
   "id": "a272f4c8",
   "metadata": {},
   "source": [
    "0.0 → No tiene dificultad para hacer actividad física\n",
    "\n",
    "1.0 → Sí tiene dificultad para hacer actividad física\n",
    "\n",
    "-1.0 → No sabe / No responde / Dato faltante"
   ]
  },
  {
   "cell_type": "markdown",
   "id": "41fe1e0e",
   "metadata": {},
   "source": [
    "TEST DE COVID POSITIVO"
   ]
  },
  {
   "cell_type": "code",
   "execution_count": 38,
   "id": "9243446e",
   "metadata": {},
   "outputs": [
    {
     "name": "stderr",
     "output_type": "stream",
     "text": [
      "/tmp/ipykernel_5781/2426322530.py:1: SettingWithCopyWarning: \n",
      "A value is trying to be set on a copy of a slice from a DataFrame\n",
      "\n",
      "See the caveats in the documentation: https://pandas.pydata.org/pandas-docs/stable/user_guide/indexing.html#returning-a-view-versus-a-copy\n",
      "  df.loc[df[\"COVIDPOS\"] == 2, \"COVIDPOS\"] = 0 #no\n",
      "/tmp/ipykernel_5781/2426322530.py:2: SettingWithCopyWarning: \n",
      "A value is trying to be set on a copy of a slice from a DataFrame\n",
      "\n",
      "See the caveats in the documentation: https://pandas.pydata.org/pandas-docs/stable/user_guide/indexing.html#returning-a-view-versus-a-copy\n",
      "  df.loc[df[\"COVIDPOS\"] == 1, \"COVIDPOS\"] = 2 #no\n"
     ]
    },
    {
     "name": "stdout",
     "output_type": "stream",
     "text": [
      "COVIDPOS\n",
      " 0.0    75906\n",
      " 2.0    29761\n",
      " 1.0     4063\n",
      "-1.0      256\n",
      "Name: count, dtype: int64\n"
     ]
    },
    {
     "name": "stderr",
     "output_type": "stream",
     "text": [
      "/tmp/ipykernel_5781/2426322530.py:3: SettingWithCopyWarning: \n",
      "A value is trying to be set on a copy of a slice from a DataFrame\n",
      "\n",
      "See the caveats in the documentation: https://pandas.pydata.org/pandas-docs/stable/user_guide/indexing.html#returning-a-view-versus-a-copy\n",
      "  df.loc[df[\"COVIDPOS\"] == 3, \"COVIDPOS\"] = 1 #no\n",
      "/tmp/ipykernel_5781/2426322530.py:4: SettingWithCopyWarning: \n",
      "A value is trying to be set on a copy of a slice from a DataFrame\n",
      "\n",
      "See the caveats in the documentation: https://pandas.pydata.org/pandas-docs/stable/user_guide/indexing.html#returning-a-view-versus-a-copy\n",
      "  df.loc[df[\"COVIDPOS\"] > 3, \"COVIDPOS\"] = -1 #missing\n"
     ]
    }
   ],
   "source": [
    "df.loc[df[\"COVIDPOS\"] == 2, \"COVIDPOS\"] = 0 #no\n",
    "df.loc[df[\"COVIDPOS\"] == 1, \"COVIDPOS\"] = 2 #no\n",
    "df.loc[df[\"COVIDPOS\"] == 3, \"COVIDPOS\"] = 1 #no\n",
    "df.loc[df[\"COVIDPOS\"] > 3, \"COVIDPOS\"] = -1 #missing\n",
    "print(df[\"COVIDPOS\"].value_counts())"
   ]
  },
  {
   "cell_type": "markdown",
   "id": "0272f90f",
   "metadata": {},
   "source": [
    "0.0 → Nunca se ha hecho una prueba de COVID-19\n",
    "\n",
    "1.0 → Se hizo la prueba y dio positivo\n",
    "\n",
    "2.0 → Se hizo la prueba y dio negativo\n",
    "\n",
    "-1.0 → No sabe / no responde / dato faltante\n",
    "\n",
    "Casi 2 de cada 3 personas nunca se hicieron una prueba, lo cual puede reflejar:\n",
    "Falta de acceso a testeo, asintomáticos o baja percepción de riesgo.\n",
    "\n",
    "Solo el 3.4% reporta haber dado positivo, lo cual puede estar subestimado si muchas personas no se testearon.\n",
    "\n",
    "El 24.8% dio negativo, lo que indica que al menos una cuarta parte de la muestra sí accedió a testeo preventivo o por sospecha."
   ]
  },
  {
   "cell_type": "markdown",
   "id": "1f45d525",
   "metadata": {},
   "source": [
    "SATISFACION DE LA VIDA "
   ]
  },
  {
   "cell_type": "code",
   "execution_count": 39,
   "id": "fb838279",
   "metadata": {},
   "outputs": [
    {
     "name": "stderr",
     "output_type": "stream",
     "text": [
      "/tmp/ipykernel_5781/2712223949.py:2: SettingWithCopyWarning: \n",
      "A value is trying to be set on a copy of a slice from a DataFrame\n",
      "\n",
      "See the caveats in the documentation: https://pandas.pydata.org/pandas-docs/stable/user_guide/indexing.html#returning-a-view-versus-a-copy\n",
      "  df.loc[df[\"LSATISFY\"] == 1, \"LSATISFY\"] = 0 #muy satisfecho\n",
      "/tmp/ipykernel_5781/2712223949.py:3: SettingWithCopyWarning: \n",
      "A value is trying to be set on a copy of a slice from a DataFrame\n",
      "\n",
      "See the caveats in the documentation: https://pandas.pydata.org/pandas-docs/stable/user_guide/indexing.html#returning-a-view-versus-a-copy\n",
      "  df.loc[df[\"LSATISFY\"] == 2, \"LSATISFY\"] = 1 #satisfecho\n",
      "/tmp/ipykernel_5781/2712223949.py:4: SettingWithCopyWarning: \n",
      "A value is trying to be set on a copy of a slice from a DataFrame\n",
      "\n",
      "See the caveats in the documentation: https://pandas.pydata.org/pandas-docs/stable/user_guide/indexing.html#returning-a-view-versus-a-copy\n",
      "  df.loc[df[\"LSATISFY\"] == 3, \"LSATISFY\"] = 2 #insatisfecho\n",
      "/tmp/ipykernel_5781/2712223949.py:5: SettingWithCopyWarning: \n",
      "A value is trying to be set on a copy of a slice from a DataFrame\n",
      "\n",
      "See the caveats in the documentation: https://pandas.pydata.org/pandas-docs/stable/user_guide/indexing.html#returning-a-view-versus-a-copy\n",
      "  df.loc[df[\"LSATISFY\"] == 4, \"LSATISFY\"] = 3 #muy insatisfecho\n",
      "/tmp/ipykernel_5781/2712223949.py:6: SettingWithCopyWarning: \n",
      "A value is trying to be set on a copy of a slice from a DataFrame\n",
      "\n",
      "See the caveats in the documentation: https://pandas.pydata.org/pandas-docs/stable/user_guide/indexing.html#returning-a-view-versus-a-copy\n",
      "  df.loc[df[\"LSATISFY\"] > 5, \"LSATISFY\"] = -1 #missing\n"
     ]
    },
    {
     "name": "stdout",
     "output_type": "stream",
     "text": [
      "LSATISFY\n",
      " 0.0    53554\n",
      " 1.0    50143\n",
      " 2.0     4140\n",
      " 3.0     1244\n",
      "-1.0      905\n",
      "Name: count, dtype: int64\n"
     ]
    }
   ],
   "source": [
    "# satisfacion con la vida\n",
    "df.loc[df[\"LSATISFY\"] == 1, \"LSATISFY\"] = 0 #muy satisfecho\n",
    "df.loc[df[\"LSATISFY\"] == 2, \"LSATISFY\"] = 1 #satisfecho\n",
    "df.loc[df[\"LSATISFY\"] == 3, \"LSATISFY\"] = 2 #insatisfecho\n",
    "df.loc[df[\"LSATISFY\"] == 4, \"LSATISFY\"] = 3 #muy insatisfecho\n",
    "df.loc[df[\"LSATISFY\"] > 5, \"LSATISFY\"] = -1 #missing\n",
    "print(df[\"LSATISFY\"].value_counts())"
   ]
  },
  {
   "cell_type": "markdown",
   "id": "0449ab0c",
   "metadata": {},
   "source": [
    "0.0 → Muy satisfecho/a\n",
    "\n",
    "1.0 → Satisfecho/a\n",
    "\n",
    "2.0 → Insatisfecho/a\n",
    "\n",
    "3.0 → Muy insatisfecho/a\n",
    "\n",
    "-1.0 → No sabe / No responde\n",
    "\n",
    "En total, más del 86% de la muestra se declara satisfecha o muy satisfecha con su vida, lo cual es un indicador muy positivo de bienestar general."
   ]
  },
  {
   "cell_type": "markdown",
   "id": "302a8436",
   "metadata": {},
   "source": [
    "PRUEBA VIH"
   ]
  },
  {
   "cell_type": "code",
   "execution_count": 40,
   "id": "068707cf",
   "metadata": {},
   "outputs": [
    {
     "name": "stderr",
     "output_type": "stream",
     "text": [
      "/tmp/ipykernel_5781/1639649441.py:1: SettingWithCopyWarning: \n",
      "A value is trying to be set on a copy of a slice from a DataFrame\n",
      "\n",
      "See the caveats in the documentation: https://pandas.pydata.org/pandas-docs/stable/user_guide/indexing.html#returning-a-view-versus-a-copy\n",
      "  df.loc[df[\"_AIDTST4\"] == 2, \"_AIDTST4\"] = 0\n",
      "/tmp/ipykernel_5781/1639649441.py:2: SettingWithCopyWarning: \n",
      "A value is trying to be set on a copy of a slice from a DataFrame\n",
      "\n",
      "See the caveats in the documentation: https://pandas.pydata.org/pandas-docs/stable/user_guide/indexing.html#returning-a-view-versus-a-copy\n",
      "  df.loc[df[\"_AIDTST4\"] == 9, \"_AIDTST4\"] = -1\n"
     ]
    },
    {
     "data": {
      "text/plain": [
       "_AIDTST4\n",
       " 0.0    69486\n",
       " 1.0    35087\n",
       "-1.0     5413\n",
       "Name: count, dtype: int64"
      ]
     },
     "execution_count": 40,
     "metadata": {},
     "output_type": "execute_result"
    }
   ],
   "source": [
    "df.loc[df[\"_AIDTST4\"] == 2, \"_AIDTST4\"] = 0\n",
    "df.loc[df[\"_AIDTST4\"] == 9, \"_AIDTST4\"] = -1\n",
    "\n",
    "df['_AIDTST4'].value_counts()"
   ]
  },
  {
   "cell_type": "markdown",
   "id": "ce4814f2",
   "metadata": {},
   "source": [
    "1.0 → Sí se ha hecho una prueba de VIH\n",
    "\n",
    "0.0 → No se ha hecho la prueba\n",
    "\n",
    "-1.0 → No sabe / no responde / dato faltante\n",
    "\n",
    "Solo 3 de cada 10 personas reportan haberse hecho una prueba de VIH, lo cual puede reflejar:\n",
    "\n",
    "Falta de acceso a servicios de salud preventiva, estigma o desconocimiento sobre la importancia del testeo o baja percepción de riesgo.\n",
    "\n",
    "El grupo que nunca se ha testeado (61%) es amplio."
   ]
  },
  {
   "cell_type": "markdown",
   "id": "d19caa2d",
   "metadata": {},
   "source": [
    "SITUACION MARITAL"
   ]
  },
  {
   "cell_type": "code",
   "execution_count": 41,
   "id": "753342dc",
   "metadata": {},
   "outputs": [
    {
     "name": "stderr",
     "output_type": "stream",
     "text": [
      "/tmp/ipykernel_5781/1867271873.py:1: SettingWithCopyWarning: \n",
      "A value is trying to be set on a copy of a slice from a DataFrame.\n",
      "Try using .loc[row_indexer,col_indexer] = value instead\n",
      "\n",
      "See the caveats in the documentation: https://pandas.pydata.org/pandas-docs/stable/user_guide/indexing.html#returning-a-view-versus-a-copy\n",
      "  df[\"MARITAL\"] = df[\"MARITAL\"] - 1\n"
     ]
    },
    {
     "data": {
      "text/plain": [
       "MARITAL\n",
       " 0.0    65631\n",
       " 1.0    18644\n",
       " 2.0    11224\n",
       " 4.0     8686\n",
       " 5.0     2954\n",
       " 3.0     2270\n",
       "-1.0      577\n",
       "Name: count, dtype: int64"
      ]
     },
     "execution_count": 41,
     "metadata": {},
     "output_type": "execute_result"
    }
   ],
   "source": [
    "df[\"MARITAL\"] = df[\"MARITAL\"] - 1 \n",
    "df.loc[df[\"MARITAL\"] == 8, \"MARITAL\"] = -1\n",
    "df['MARITAL'].value_counts()"
   ]
  },
  {
   "cell_type": "markdown",
   "id": "0cd57843",
   "metadata": {},
   "source": [
    "-  **Casado/a** (0)\t65,631 - 55.5%.\n",
    "-  **Divorciado/a** (1)\t18,644 - 15.8%.\n",
    "-  **Viudo/a** (2)\t11,224\t- 9.5%.\n",
    "-  **Nunca se casó** (4)\t8,686\t- 7.3%.\n",
    "-  **En pareja no legal** (5)\t2,954\t- 2.5%.\n",
    "-  **Separado/a** (3)\t2,270 - 1.9%.\n",
    "-  **Sin respuesta** (-1)\t577\t- 0.5%.\n",
    "\n",
    "Más de la mitad de la muestra está casada, lo cual podría correlacionarse con mayor estabilidad emocional, apoyo social y mejor salud física o mental.\n",
    "\n",
    "Grupo de riesgo emocional: El 25% del total entre divorciados y viudos podría presentar mayor prevalencia de soledad, aislamiento o dificultades psicosociales.\n",
    "\n",
    "Personas sin pareja: “Nunca casado” y “pareja no legal” suman casi un 10%. Quizás grupos más jóvenes o con estilos de vida distintos.\n",
    "\n",
    "Separados (3): Aunque representan un grupo pequeño, podrían comportarse de forma distinta respecto al bienestar subjetivo y hábitos de salud."
   ]
  },
  {
   "cell_type": "markdown",
   "id": "2a1f150d",
   "metadata": {},
   "source": [
    "SITUACION DE VIVIENDA"
   ]
  },
  {
   "cell_type": "code",
   "execution_count": 42,
   "id": "5d470bdf",
   "metadata": {},
   "outputs": [
    {
     "name": "stderr",
     "output_type": "stream",
     "text": [
      "/tmp/ipykernel_5781/3779948866.py:1: SettingWithCopyWarning: \n",
      "A value is trying to be set on a copy of a slice from a DataFrame.\n",
      "Try using .loc[row_indexer,col_indexer] = value instead\n",
      "\n",
      "See the caveats in the documentation: https://pandas.pydata.org/pandas-docs/stable/user_guide/indexing.html#returning-a-view-versus-a-copy\n",
      "  df[\"RENTHOM1\"] = df[\"RENTHOM1\"] - 1\n"
     ]
    },
    {
     "data": {
      "text/plain": [
       "RENTHOM1\n",
       " 0.0    87423\n",
       " 1.0    18868\n",
       " 2.0     3121\n",
       "-1.0      574\n",
       "Name: count, dtype: int64"
      ]
     },
     "execution_count": 42,
     "metadata": {},
     "output_type": "execute_result"
    }
   ],
   "source": [
    "df[\"RENTHOM1\"] = df[\"RENTHOM1\"] - 1 \n",
    "df.loc[df[\"RENTHOM1\"] > 5, \"RENTHOM1\"] = -1\n",
    "df['RENTHOM1'].value_counts()"
   ]
  },
  {
   "cell_type": "markdown",
   "id": "3e5ebc5e",
   "metadata": {},
   "source": [
    "*Propietarios 0* (76.5%): suelen tener mayor estabilidad residencial, lo que puede correlacionarse con mejor salud mental, menor estrés financiero y mayor satisfacción vital.\n",
    "\n",
    "*Inquilinos 1* (16.5%): podrían estar más expuestos a inseguridad habitacional, especialmente si se cruzan con bajos ingresos, aislamiento o falta de apoyo emocional.\n",
    "\n",
    "*Otros arreglos 2*  (2.7%): este grupo puede incluir personas en situación de dependencia, vulnerabilidad o informalidad habitacional.\n",
    "\n",
    "*No sabe / negado -1* (0.5%): representa una fracción muy pequeña."
   ]
  },
  {
   "cell_type": "markdown",
   "id": "15f600e3",
   "metadata": {},
   "source": [
    "SERVICIO MILITAR "
   ]
  },
  {
   "cell_type": "code",
   "execution_count": 43,
   "id": "21e99db5",
   "metadata": {},
   "outputs": [
    {
     "data": {
      "text/plain": [
       "VETERAN3\n",
       " 0.0    93952\n",
       " 1.0    15884\n",
       "-1.0      150\n",
       "Name: count, dtype: int64"
      ]
     },
     "execution_count": 43,
     "metadata": {},
     "output_type": "execute_result"
    }
   ],
   "source": [
    "df.loc[df[\"VETERAN3\"] == 2, \"VETERAN3\"] = 0 \n",
    "df.loc[df[\"VETERAN3\"] > 3, \"VETERAN3\"] = -1\n",
    "df['VETERAN3'].value_counts()"
   ]
  },
  {
   "cell_type": "markdown",
   "id": "36e3ec55",
   "metadata": {},
   "source": [
    "1.0 → Sí ha servido en el ejército.\n",
    "\n",
    "0.0 → No ha servido.\n",
    "\n",
    "-1.0 → No sabe / no responde / dato faltante.\n",
    "\n",
    "Casi 1 de cada 7 personas ha servido en el ejército, lo cual es una proporción significativa. Este grupo puede tener características particulares en salud física, mental o acceso a servicios.\n",
    "\n",
    "Ser veterano puede estar asociado a:\n",
    "Mayor prevalencia de enfermedades crónicas o dolor musculares, ser mayor de edad o tener diferencias en acceso a atención médica o beneficios sociales"
   ]
  },
  {
   "cell_type": "markdown",
   "id": "03931b4d",
   "metadata": {},
   "source": [
    "SITUACION LABORAL "
   ]
  },
  {
   "cell_type": "code",
   "execution_count": 44,
   "id": "94b90538",
   "metadata": {},
   "outputs": [
    {
     "name": "stderr",
     "output_type": "stream",
     "text": [
      "/tmp/ipykernel_5781/953924729.py:1: SettingWithCopyWarning: \n",
      "A value is trying to be set on a copy of a slice from a DataFrame.\n",
      "Try using .loc[row_indexer,col_indexer] = value instead\n",
      "\n",
      "See the caveats in the documentation: https://pandas.pydata.org/pandas-docs/stable/user_guide/indexing.html#returning-a-view-versus-a-copy\n",
      "  df[\"EMPLOY1\"] = df[\"EMPLOY1\"] - 1\n"
     ]
    },
    {
     "data": {
      "text/plain": [
       "EMPLOY1\n",
       " 0.0    42203\n",
       " 6.0    40510\n",
       " 1.0    11165\n",
       " 7.0     8450\n",
       " 4.0     3425\n",
       " 2.0     1999\n",
       " 3.0     1422\n",
       "-1.0      558\n",
       " 5.0      254\n",
       "Name: count, dtype: int64"
      ]
     },
     "execution_count": 44,
     "metadata": {},
     "output_type": "execute_result"
    }
   ],
   "source": [
    "df[\"EMPLOY1\"] = df[\"EMPLOY1\"] - 1 \n",
    "df.loc[df[\"EMPLOY1\"] == 8, \"EMPLOY1\"] = -1\n",
    "\n",
    "df['EMPLOY1'].value_counts()"
   ]
  },
  {
   "cell_type": "markdown",
   "id": "a830e6a1",
   "metadata": {},
   "source": [
    "- *Empleado por salario (0)*\t42,203\t37.9%.\n",
    "- *Estudiante (6)*\t40,510\t36.4%.\n",
    "- *Autónomo (1)*\t11,165\t10.0%.\n",
    "- *Jubilado/a (7)*\t8,450\t7.6%.\n",
    "- *Desempleado <1 año (4)*\t3,425\t3.1%.\n",
    "- *Desempleado ≥1 año (2)*\t1,999\t1.8%.\n",
    "- *Ama de casa (3)*\t1,422\t1.3%.\n",
    "- *No responde (-1)*\t558\t0.5%.\n",
    "- *Incapaz de trabajar (5)*\t254\t0.2%.\n",
    "   \n",
    "Alta proporción de estudiantes (36%): Esto sugiere que tu muestra puede estar sesgada hacia población joven o universitaria. \n",
    "\n",
    "Casi 4 de cada 10 personas están empleadas por salario, lo cual es típico en muestras generales.\n",
    "\n",
    "El grupo de jubilados y personas incapaces de trabajar suma un 8%.\n",
    "\n",
    "El desempleo (≥1 año o <1 año) representa un 5%, lo cual puede estar asociado a mayor estrés, aislamiento o menor acceso a salud."
   ]
  },
  {
   "cell_type": "markdown",
   "id": "dfae705c",
   "metadata": {},
   "source": [
    "EDAD "
   ]
  },
  {
   "cell_type": "code",
   "execution_count": 45,
   "id": "5d0201c0",
   "metadata": {},
   "outputs": [
    {
     "name": "stderr",
     "output_type": "stream",
     "text": [
      "/tmp/ipykernel_5781/2724553984.py:1: SettingWithCopyWarning: \n",
      "A value is trying to be set on a copy of a slice from a DataFrame.\n",
      "Try using .loc[row_indexer,col_indexer] = value instead\n",
      "\n",
      "See the caveats in the documentation: https://pandas.pydata.org/pandas-docs/stable/user_guide/indexing.html#returning-a-view-versus-a-copy\n",
      "  df[\"_AGEG5YR\"] = df[\"_AGEG5YR\"] - 1\n"
     ]
    },
    {
     "data": {
      "text/plain": [
       "_AGEG5YR\n",
       " 8.0     17934\n",
       " 9.0     17348\n",
       " 7.0     15774\n",
       " 6.0     14913\n",
       " 10.0    13966\n",
       " 5.0     12871\n",
       " 11.0     8895\n",
       " 12.0     6634\n",
       "-1.0      1651\n",
       "Name: count, dtype: int64"
      ]
     },
     "execution_count": 45,
     "metadata": {},
     "output_type": "execute_result"
    }
   ],
   "source": [
    "df[\"_AGEG5YR\"] = df[\"_AGEG5YR\"] - 1 \n",
    "df.loc[df[\"_AGEG5YR\"] ==  13, \"_AGEG5YR\"] = -1\n",
    "df['_AGEG5YR'].value_counts()"
   ]
  },
  {
   "cell_type": "markdown",
   "id": "aa811103",
   "metadata": {},
   "source": [
    "- 18–24\t0.0\t\n",
    "- 25–29\t1.0\t\n",
    "- 30–34\t2.0\t\n",
    "- 35–39\t3.0\t\n",
    "- 40–44\t4.0\n",
    "- 45–49\t5.0\n",
    "- 50–54\t6.0\t\n",
    "- 55–59\t7.0\n",
    "- 60–64\t8.0\n",
    "- 65–69\t9.0\t\n",
    "- 70–74\t10.0\t\n",
    "- 75–79\t11.0\n",
    "- 80 o más\t12.0\n",
    "- No responde\t-1.0.\n",
    "\n",
    "Mayoría adulta mayor: la muestra tiene una gran concentración de personas de 50 años o más, en especial los grupos de 55 a 74 años, lo cual puede explicar la alta prevalencia de enfermedades crónicas, artritis o dificultades funcionales que observamos antes. El grupo de 55–64 años que tiene 33,000 personas, y el de 65–79 años suma más de 29,000 personas ideal para analizar dependencia funcional o cobertura de salud.\n",
    "Poca representación juvenil entre 18–34 años. "
   ]
  },
  {
   "cell_type": "markdown",
   "id": "fc72e3d5",
   "metadata": {},
   "source": [
    "NIVEL DE INGRESOS"
   ]
  },
  {
   "cell_type": "code",
   "execution_count": 46,
   "id": "26ee28b6",
   "metadata": {},
   "outputs": [
    {
     "name": "stderr",
     "output_type": "stream",
     "text": [
      "/tmp/ipykernel_5781/2176923739.py:1: SettingWithCopyWarning: \n",
      "A value is trying to be set on a copy of a slice from a DataFrame.\n",
      "Try using .loc[row_indexer,col_indexer] = value instead\n",
      "\n",
      "See the caveats in the documentation: https://pandas.pydata.org/pandas-docs/stable/user_guide/indexing.html#returning-a-view-versus-a-copy\n",
      "  df[\"_INCOMG1\"] = df[\"_INCOMG1\"] - 1\n"
     ]
    },
    {
     "data": {
      "text/plain": [
       "_INCOMG1\n",
       " 4.0    29155\n",
       " 5.0    21371\n",
       "-1.0    16302\n",
       " 3.0    11280\n",
       " 2.0     9878\n",
       " 1.0     8662\n",
       " 6.0     7314\n",
       " 0.0     6024\n",
       "Name: count, dtype: int64"
      ]
     },
     "execution_count": 46,
     "metadata": {},
     "output_type": "execute_result"
    }
   ],
   "source": [
    "df[\"_INCOMG1\"] = df[\"_INCOMG1\"] - 1 \n",
    "df.loc[df[\"_INCOMG1\"] >= 7, \"_INCOMG1\"] = -1\n",
    "df['_INCOMG1'].value_counts()"
   ]
  },
  {
   "cell_type": "markdown",
   "id": "c7bd3224",
   "metadata": {},
   "source": [
    "- Menos de $15k (0.0)\n",
    "- $15k–$25k (1.0)\n",
    "- $25k–$35k (2.0)\n",
    "- $35k–$50k (3.0)\n",
    "- $50k–$100k (4.0)\n",
    "- $100k–$200k (5.0)\n",
    "- $200k o más (6.0)\n",
    "- No responde (-1.0)\n",
    "\n",
    "Más del 44% de la muestra tiene ingresos superiores a $50,000 anuales, lo cual sugiere un perfil socioeconómico medio-alto. Sin embargo, también hay un grupo vulnerable (13%) con ingresos menores a $25,000. **Desigualdad interna:** Aunque hay una mayoría con ingresos medios-altos, el grupo de bajos ingresos es relevante y puede presentar mayor prevalencia de, mala salud física o mental, falta de acceso a servicios médicos, aislamiento o falta de apoyo emocional."
   ]
  },
  {
   "cell_type": "markdown",
   "id": "6906801b",
   "metadata": {},
   "source": [
    "NIVEL EDUCATIVO"
   ]
  },
  {
   "cell_type": "code",
   "execution_count": 47,
   "id": "71824667",
   "metadata": {},
   "outputs": [
    {
     "name": "stderr",
     "output_type": "stream",
     "text": [
      "/tmp/ipykernel_5781/4019845351.py:1: SettingWithCopyWarning: \n",
      "A value is trying to be set on a copy of a slice from a DataFrame.\n",
      "Try using .loc[row_indexer,col_indexer] = value instead\n",
      "\n",
      "See the caveats in the documentation: https://pandas.pydata.org/pandas-docs/stable/user_guide/indexing.html#returning-a-view-versus-a-copy\n",
      "  df[\"_EDUCAG\"] = df[\"_EDUCAG\"] - 1\n"
     ]
    },
    {
     "data": {
      "text/plain": [
       "_EDUCAG\n",
       " 3.0    49552\n",
       " 2.0    30316\n",
       " 1.0    23713\n",
       " 0.0     6120\n",
       "-1.0      285\n",
       "Name: count, dtype: int64"
      ]
     },
     "execution_count": 47,
     "metadata": {},
     "output_type": "execute_result"
    }
   ],
   "source": [
    "df[\"_EDUCAG\"] = df[\"_EDUCAG\"] - 1 \n",
    "df.loc[df[\"_EDUCAG\"] > 5, \"_EDUCAG\"] = -1\n",
    "\n",
    "df['_EDUCAG'].value_counts()"
   ]
  },
  {
   "cell_type": "markdown",
   "id": "ed9c0de0",
   "metadata": {},
   "source": [
    "- Graduado de universidad (3)\n",
    "- Asistencia universitaria (2)\n",
    "- Secundaria completa (1)\n",
    "- No terminó secundaria (0)\t\n",
    "- No responde / inválido (-1)\n",
    "\n",
    "Más del 70% de la muestra tiene al menos educación postsecundaria, lo cual sugiere un nivel socioeducativo medio-alto.\n",
    "\n",
    "Sólo el 5% no terminó la escuela secundaria, lo que sugiere buena cobertura educativa en la población que estás estudiando. Esta variable es clave para entender diferencias en:\n",
    "\n",
    "Acceso y uso de servicios de salud, bienestar subjetivo y salud mental, condiciones crónicas como artritis o enfermedad cardíaca."
   ]
  },
  {
   "cell_type": "markdown",
   "id": "68edbcc5",
   "metadata": {},
   "source": [
    "NUMEROS DE NIÑOS EN EL HOGAR"
   ]
  },
  {
   "cell_type": "code",
   "execution_count": 48,
   "id": "8abba311",
   "metadata": {},
   "outputs": [
    {
     "name": "stderr",
     "output_type": "stream",
     "text": [
      "/tmp/ipykernel_5781/2468622656.py:1: SettingWithCopyWarning: \n",
      "A value is trying to be set on a copy of a slice from a DataFrame.\n",
      "Try using .loc[row_indexer,col_indexer] = value instead\n",
      "\n",
      "See the caveats in the documentation: https://pandas.pydata.org/pandas-docs/stable/user_guide/indexing.html#returning-a-view-versus-a-copy\n",
      "  df[\"_CHLDCNT\"] = df[\"_CHLDCNT\"] - 1\n"
     ]
    },
    {
     "data": {
      "text/plain": [
       "_CHLDCNT\n",
       " 0.0    90787\n",
       " 1.0     9982\n",
       " 2.0     5784\n",
       " 3.0     1868\n",
       "-1.0      710\n",
       " 4.0      550\n",
       " 5.0      305\n",
       "Name: count, dtype: int64"
      ]
     },
     "execution_count": 48,
     "metadata": {},
     "output_type": "execute_result"
    }
   ],
   "source": [
    "df[\"_CHLDCNT\"] = df[\"_CHLDCNT\"] - 1 \n",
    "df.loc[df[\"_CHLDCNT\"] > 6, \"_CHLDCNT\"] = -1\n",
    "df['_CHLDCNT'].value_counts()"
   ]
  },
  {
   "cell_type": "markdown",
   "id": "a9a0c43b",
   "metadata": {},
   "source": [
    "- 0.0 → Ningún niño\n",
    "- 1.0\t1 niño\n",
    "- 2.0\t2 niños\n",
    "- 3.0\t3 niños\n",
    "- 4.0\t4 niños\n",
    "- 5.0\t5 niños\n",
    "- -1.0 → No sabe / ausente.\n",
    "\n",
    "Casi 4 de cada 5 hogares no tienen niños. Los hogares con más de 2 niños son relativamente pocos.\n",
    "Este patrón sugiere una población adulta sin menores a cargo, lo cual puede estar influido por, \n",
    "Edad promedio elevada en la muestra.\n",
    "Estado civil muchos viudos y divorciados.\n",
    "Nivel educativo alto y acceso económico."
   ]
  },
  {
   "cell_type": "markdown",
   "id": "55a7c37b",
   "metadata": {},
   "source": [
    "PERSONAS DE 18 AÑOS VIVIENDO EN CASA"
   ]
  },
  {
   "cell_type": "code",
   "execution_count": 49,
   "id": "f6f95211",
   "metadata": {},
   "outputs": [
    {
     "name": "stderr",
     "output_type": "stream",
     "text": [
      "/tmp/ipykernel_5781/315867495.py:3: SettingWithCopyWarning: \n",
      "A value is trying to be set on a copy of a slice from a DataFrame.\n",
      "Try using .loc[row_indexer,col_indexer] = value instead\n",
      "\n",
      "See the caveats in the documentation: https://pandas.pydata.org/pandas-docs/stable/user_guide/indexing.html#returning-a-view-versus-a-copy\n",
      "  df['HHADULT'] = df['HHADULT'].astype(int)\n"
     ]
    },
    {
     "data": {
      "text/plain": [
       "HHADULT\n",
       " 2     55799\n",
       " 1     29308\n",
       " 3     15238\n",
       " 4      6258\n",
       " 5      1752\n",
       "-1       832\n",
       " 6       474\n",
       " 7       142\n",
       " 8        56\n",
       " 10       27\n",
       " 9        25\n",
       " 12       20\n",
       " 13       16\n",
       " 11       10\n",
       " 14        5\n",
       " 18        5\n",
       " 15        4\n",
       " 16        4\n",
       " 17        3\n",
       " 0         1\n",
       "Name: count, dtype: int64"
      ]
     },
     "execution_count": 49,
     "metadata": {},
     "output_type": "execute_result"
    }
   ],
   "source": [
    "#Se decide conservar estos casos por la posible presencia de personas que viven en refugios, \n",
    "# residencias de ancianos u otras situaciones especiales de vivienda.\n",
    "df['HHADULT'] = df['HHADULT'].astype(int)\n",
    "df.loc[df[\"HHADULT\"].isin([77,99]), \"HHADULT\"] = -1\n",
    "df = df[df[\"HHADULT\"] <= 20]\n",
    "df['HHADULT'].value_counts()\n"
   ]
  },
  {
   "cell_type": "markdown",
   "id": "320e6865",
   "metadata": {},
   "source": [
    "- Hogares de 1 adulto (~25%): posiblemente personas solas.\n",
    "- Hogares de 2 adultos (~48%): mayoría clásica, probablemente parejas.\n",
    "- Hogares grandes con mas 4+ adultos, aunque son minoría, podrían corresponder a familias extendidas, situaciones de vulnerabilidad, hogares compartidos odependencia económica."
   ]
  },
  {
   "cell_type": "markdown",
   "id": "60004584",
   "metadata": {},
   "source": [
    "SEXO"
   ]
  },
  {
   "cell_type": "code",
   "execution_count": 50,
   "id": "72e81f0c",
   "metadata": {},
   "outputs": [
    {
     "data": {
      "text/plain": [
       "SEXVAR\n",
       "0.0    55123\n",
       "1.0    54856\n",
       "Name: count, dtype: int64"
      ]
     },
     "execution_count": 50,
     "metadata": {},
     "output_type": "execute_result"
    }
   ],
   "source": [
    "df[\"SEXVAR\"] = df[\"SEXVAR\"] - 1\n",
    "df['SEXVAR'].value_counts()"
   ]
  },
  {
   "cell_type": "markdown",
   "id": "7af3bab3",
   "metadata": {},
   "source": [
    "-  *Sexo*\n",
    "-  Hombre: ~50.1%\n",
    "-  Mujer: ~49.9%\n",
    "\n",
    "Prácticamente una distribución equilibrada por sexo, lo cual nos es ideal para el análisis comparativo de salud, bienestar o acceso a servicios. Esto nos permite estudiar desigualdades sin sesgo de representación."
   ]
  },
  {
   "cell_type": "markdown",
   "id": "1f122f15",
   "metadata": {},
   "source": [
    "AYUDA MEDICA"
   ]
  },
  {
   "cell_type": "code",
   "execution_count": 51,
   "id": "d60c83b0",
   "metadata": {},
   "outputs": [
    {
     "data": {
      "text/plain": [
       "MEDCOST1\n",
       " 0.0    102259\n",
       " 1.0      7445\n",
       "-1.0       275\n",
       "Name: count, dtype: int64"
      ]
     },
     "execution_count": 51,
     "metadata": {},
     "output_type": "execute_result"
    }
   ],
   "source": [
    "# Se pasa el 2 a 0, Ya que no cumple la condición.\n",
    "\n",
    "df.loc[df[\"MEDCOST1\"] > 6, \"MEDCOST1\"] = -1\n",
    "df.loc[df[\"MEDCOST1\"] == 2, \"MEDCOST1\"] = 0\n",
    "\n",
    "df['MEDCOST1'].value_counts()"
   ]
  },
  {
   "cell_type": "markdown",
   "id": "813c67ee",
   "metadata": {},
   "source": [
    "- No (0.0) un 92.2%\n",
    "- Sí (1.0) un 6.7%\n",
    "- Sin respuesta (-1.0) un 0.2%.\n",
    "\n",
    "Casi 1 de cada 15 personas reporta haber necesitado atención médica sin poder pagarla, lo que refleja barreras económicas críticas, incluso en contextos con sistemas de salud público/mixto."
   ]
  },
  {
   "cell_type": "markdown",
   "id": "cf4bb384",
   "metadata": {},
   "source": [
    "SEGURO DE SALUD"
   ]
  },
  {
   "cell_type": "code",
   "execution_count": 52,
   "id": "0308a2f7",
   "metadata": {},
   "outputs": [
    {
     "data": {
      "text/plain": [
       "_HLTHPLN\n",
       " 1.0    103323\n",
       " 0.0      4029\n",
       "-1.0      2627\n",
       "Name: count, dtype: int64"
      ]
     },
     "execution_count": 52,
     "metadata": {},
     "output_type": "execute_result"
    }
   ],
   "source": [
    "# Se pasa el 2 a 0, Ya que no cumple la condición.\n",
    "\n",
    "df.loc[df[\"_HLTHPLN\"] > 6, \"_HLTHPLN\"] = -1\n",
    "df.loc[df[\"_HLTHPLN\"] == 2, \"_HLTHPLN\"] = 0\n",
    "\n",
    "df['_HLTHPLN'].value_counts()"
   ]
  },
  {
   "cell_type": "markdown",
   "id": "16c213a1",
   "metadata": {},
   "source": [
    "- Sí (1.0)\tun 90.6%\n",
    "- No (0.0)\tun 3.5%\n",
    "- No responde (-1.0) un 2.3%.\n",
    "\n",
    "Solo un 3.5% de la muestra está sin cobertura médica, lo cual podría parecer bajo, pero esas personas pueden tener un alto riesgo de exclusión del sistema de salud, especialmente si también enfrentan barreras económicas.\n"
   ]
  },
  {
   "cell_type": "markdown",
   "id": "663ce712",
   "metadata": {},
   "source": [
    "PERDIDA DE EMPLEO O REDUCCION DE HORAS"
   ]
  },
  {
   "cell_type": "code",
   "execution_count": 53,
   "id": "fc6dbef3",
   "metadata": {},
   "outputs": [
    {
     "name": "stdout",
     "output_type": "stream",
     "text": [
      "SDHEMPLY\n",
      " 0.0    100725\n",
      " 1.0      8395\n",
      "-1.0       859\n",
      "Name: count, dtype: int64\n"
     ]
    }
   ],
   "source": [
    "# Variable: SDHEMPLY\n",
    "# ¿En los últimos 12 meses ha perdido su empleo o le han reducido sus horas de trabajo?\n",
    "# Cambio de codificacion:\n",
    "# 1: si     0: no       -1: no contesta\n",
    "df.loc[df[\"SDHEMPLY\"] > 2, \"SDHEMPLY\"] = -1\n",
    "df.loc[df[\"SDHEMPLY\"] == 2, \"SDHEMPLY\"] = 0\n",
    "print(df[\"SDHEMPLY\"].value_counts())"
   ]
  },
  {
   "cell_type": "markdown",
   "id": "c624c32b",
   "metadata": {},
   "source": [
    "- No (0) un 91.2%\n",
    "- Sí (1) un 7.6%\n",
    "- Sin respuesta (-1.0) un 0.8%\n",
    "Casi 1 de cada 13 personas o sus convivientes ha sufrido una reducción de ingresos laborales. Este subgrupo es altamente sensible, puede enfrentar pérdida de ingresos, estrés emocional, problemas de cobertura médica y mayor riesgo de aislamiento."
   ]
  },
  {
   "cell_type": "markdown",
   "id": "f5227600",
   "metadata": {},
   "source": [
    "ESCASES DE ALIMENTOS"
   ]
  },
  {
   "cell_type": "code",
   "execution_count": 54,
   "id": "78e05102",
   "metadata": {},
   "outputs": [
    {
     "name": "stdout",
     "output_type": "stream",
     "text": [
      "SDHFOOD1\n",
      " 5.0    91105\n",
      " 4.0     7551\n",
      " 3.0     6895\n",
      " 1.0     2116\n",
      " 2.0     1820\n",
      "-1.0      492\n",
      "Name: count, dtype: int64\n"
     ]
    }
   ],
   "source": [
    "# Variable: SDHFOOD1\n",
    "# Durante los últimos 12 meses, ¿con qué frecuencia no te duró la comida que compraste y no tuviste dinero para comprar más? ¿Fue eso…?\n",
    "# Cambio de codificacion:\n",
    "# -1: no contesta       [El resto se mantiene tal cual]\n",
    "df.loc[df[\"SDHFOOD1\"] > 5, \"SDHFOOD1\"] = -1\n",
    "print(df[\"SDHFOOD1\"].value_counts())"
   ]
  },
  {
   "cell_type": "markdown",
   "id": "1cdbd812",
   "metadata": {},
   "source": [
    "- Nunca (5.0) ~77.7%\n",
    "- Raramente (4.0) ~6.4%\n",
    "- A veces (3.0)\t~5.9%\n",
    "- Siempre (1.0)\t~1.8%\n",
    "- Usualmente (2.0)\t~1.6%\n",
    "- No responde (-1.0) ~0.4%\n",
    "\n",
    "En total, un 9.3% de la muestra presenta inseguridad alimentaria moderada o severa, lo cual es socialmente relevante. 1 de cada 11 hogares vive algún grado de inseguridad alimentaria real, con un 3.4% en niveles altos (1 o 2).\n",
    "\n",
    "Este dato puede deberse a factores como: Pobreza o desempleo, incapacidad de trabajar, hogares monoparentales o grandes, falta de apoyo institucional o problemas para pagar."
   ]
  },
  {
   "cell_type": "markdown",
   "id": "0c12d080",
   "metadata": {},
   "source": [
    "CORTO DE SERVICIOS"
   ]
  },
  {
   "cell_type": "code",
   "execution_count": 55,
   "id": "ee0959a0",
   "metadata": {},
   "outputs": [
    {
     "name": "stdout",
     "output_type": "stream",
     "text": [
      "SDHUTILS\n",
      " 0.0    103605\n",
      " 1.0      6089\n",
      "-1.0       285\n",
      "Name: count, dtype: int64\n"
     ]
    }
   ],
   "source": [
    "# Variable: SDHUTILS\n",
    "# Durante los últimos 12 meses, ¿hubo alguna ocasión en que una compañía de electricidad, gas, petróleo o agua amenazó \n",
    "# con cortar los servicios?\n",
    "# Cambio de codificacion:\n",
    "# 1: si     0: no       -1: no contesta\n",
    "df.loc[df[\"SDHUTILS\"] > 2, \"SDHUTILS\"] = -1\n",
    "df.loc[df[\"SDHUTILS\"] == 2, \"SDHUTILS\"] = 0\n",
    "print(df[\"SDHUTILS\"].value_counts())"
   ]
  },
  {
   "cell_type": "markdown",
   "id": "ada60a77",
   "metadata": {},
   "source": [
    "- No (0.0) ~93.4%\n",
    "- Sí (1.0) ~5.5%\n",
    "- Sin respuesta (-1.0) 0.3%\n",
    "\n",
    "Un 5.5% de la muestra fue amenazada con corte de servicios. Este grupo puede estar en una situación de alta fragilidad financiera. Son personas que seguro no pudieron pagar atención médica, ingresos bajos, desempleo o incapacidad de trabajar, inseguridad alimentaria, hogares con muchas personas a cargo y pocos ingresos o familias monoparentales o sin red de apoyo emocional.\n"
   ]
  },
  {
   "cell_type": "markdown",
   "id": "9e981010",
   "metadata": {},
   "source": [
    "FALTA DE PAGOS"
   ]
  },
  {
   "cell_type": "code",
   "execution_count": 56,
   "id": "bbd6a37a",
   "metadata": {},
   "outputs": [
    {
     "name": "stdout",
     "output_type": "stream",
     "text": [
      "SDHBILLS\n",
      " 0.0    100651\n",
      " 1.0      8953\n",
      "-1.0       375\n",
      "Name: count, dtype: int64\n"
     ]
    }
   ],
   "source": [
    "# Variable: SDHBILLS\n",
    "# Durante los últimos 12 meses, ¿hubo algún momento en el que no pudo pagar su hipoteca, alquiler o facturas de servicios públicos?\n",
    "# Cambio de codificacion:\n",
    "# 1: si     0: no       -1: no contesta\n",
    "df.loc[df[\"SDHBILLS\"] > 2, \"SDHBILLS\"] = -1\n",
    "df.loc[df[\"SDHBILLS\"] == 2, \"SDHBILLS\"] = 0\n",
    "print(df[\"SDHBILLS\"].value_counts())"
   ]
  },
  {
   "cell_type": "markdown",
   "id": "6e974e71",
   "metadata": {},
   "source": [
    "- No tuvo problemas (0.0)\tun 91.4%\n",
    "- Sí tuvo dificultades de pago (1.0)\tun 8.1%\n",
    "- No responde / dato faltante (-1.0)\tun 0.3%\n",
    "\n",
    "Casi 1 de cada 12 personas reportó no poder cubrir su vivienda o servicios básicos en algún momento del último año, una señal de fragilidad económica seria.\n",
    "\n"
   ]
  },
  {
   "cell_type": "markdown",
   "id": "da58356a",
   "metadata": {},
   "source": [
    "FALTA DE TRANSPORTE "
   ]
  },
  {
   "cell_type": "code",
   "execution_count": 57,
   "id": "6d928eb3",
   "metadata": {},
   "outputs": [
    {
     "name": "stdout",
     "output_type": "stream",
     "text": [
      "SDHTRNSP\n",
      " 0.0    103560\n",
      " 1.0      6176\n",
      "-1.0       243\n",
      "Name: count, dtype: int64\n"
     ]
    }
   ],
   "source": [
    "# Variable: SDHTRNSP\n",
    "# Durante los últimos 12 meses, ¿la falta de transporte confiable le ha impedido asistir a citas médicas, reuniones, \n",
    "# trabajar o conseguir las cosas que necesita para la vida diaria?\n",
    "# Cambio de codificacion:\n",
    "# 1: si     0: no       -1: no contesta\n",
    "df.loc[df[\"SDHTRNSP\"] > 2, \"SDHTRNSP\"] = -1\n",
    "df.loc[df[\"SDHTRNSP\"] == 2, \"SDHTRNSP\"] = 0\n",
    "print(df[\"SDHTRNSP\"].value_counts())"
   ]
  },
  {
   "cell_type": "markdown",
   "id": "fa8c908f",
   "metadata": {},
   "source": [
    "- No tuvo dificultades (0.0) un 93.5%\n",
    "- Sí tuvo dificultades (1.0)\tun 5.6%\n",
    "- Sin respuesta / desconocido (-1.0) un 0.2%\n",
    "\n",
    "Casi 1 de cada 18 personas o hogares ha tenido problemas para llegar a tiempo por falta de transporte una señal importante de inequidad territorial, movilidad o infraestructura.\n",
    "En zonas rurales, puede representar distancias excesivas o falta de transporte público.\n",
    "En grandes ciudades, puede reflejar tiempos de espera, inseguridad, exclusión digital o logística.\n"
   ]
  },
  {
   "cell_type": "markdown",
   "id": "d65b7807",
   "metadata": {},
   "source": [
    "HORAS DE SUEÑO"
   ]
  },
  {
   "cell_type": "code",
   "execution_count": 58,
   "id": "2d4b8f03",
   "metadata": {},
   "outputs": [
    {
     "name": "stdout",
     "output_type": "stream",
     "text": [
      "SLEPTIM1\n",
      " 7.0     33811\n",
      " 8.0     31788\n",
      " 6.0     22853\n",
      " 5.0      6936\n",
      " 9.0      5487\n",
      " 4.0      3003\n",
      " 10.0     2551\n",
      "-1.0       979\n",
      " 3.0       775\n",
      " 12.0      705\n",
      " 2.0       321\n",
      " 1.0       229\n",
      " 11.0      166\n",
      " 15.0       86\n",
      " 14.0       76\n",
      " 16.0       75\n",
      " 18.0       48\n",
      " 13.0       39\n",
      " 20.0       27\n",
      " 24.0       10\n",
      " 17.0        6\n",
      " 19.0        4\n",
      " 23.0        2\n",
      " 22.0        2\n",
      "Name: count, dtype: int64\n"
     ]
    }
   ],
   "source": [
    "# Variable: SLEPTIM1\n",
    "# En promedio, ¿cuántas horas duermes en un período de 24 horas?\n",
    "# Cambio de codificacion:\n",
    "# -1: no contesta       [El resto se mantiene tal cual]\n",
    "df.loc[df[\"SLEPTIM1\"] > 24, \"SLEPTIM1\"] = -1\n",
    "print(df[\"SLEPTIM1\"].value_counts())"
   ]
  },
  {
   "cell_type": "markdown",
   "id": "b5b4e534",
   "metadata": {},
   "source": [
    "- 7 h\t33,811\t~29.2%\n",
    "- 8 h\t31,788\t~27.4%\n",
    "- 6 h\t22,853\t~19.7%\n",
    "- 5 h o menos\t~10,500\t~9.1%\n",
    "- 9–10 h\t~8,000\t~6.8%\n",
    "- Más de 10 h\t~470\t~0.4%\n",
    "- Sin respuesta (-1)\t979\t~0.8%\n",
    "\n",
    "Más del 56% duerme entre 7 y 8 horas, que es el rango recomendado por la Organización Mundial de la Salud (OMS). \n",
    "\n",
    "- Sueño insuficiente menos de 6h, afecta memoria, estado de ánimo, inmunidad y riesgo de enfermedades crónicas.\n",
    "\n",
    "- Sueño excesivo mas de 9h, puede estar vinculado a depresión, enfermedad crónica, sedentarismo o desempleo."
   ]
  },
  {
   "cell_type": "markdown",
   "id": "bb30dc5f",
   "metadata": {},
   "source": [
    "PRUEBA DE VIH "
   ]
  },
  {
   "cell_type": "code",
   "execution_count": 59,
   "id": "bb943009",
   "metadata": {},
   "outputs": [
    {
     "name": "stdout",
     "output_type": "stream",
     "text": [
      "HIVRISK5\n",
      " 0.0    107051\n",
      " 1.0      2542\n",
      "-1.0       386\n",
      "Name: count, dtype: int64\n"
     ]
    }
   ],
   "source": [
    "# Variable: HIVRISK5\n",
    "# Voy a leerte una lista. Cuando termine, por favor, dime si alguna de estas situaciones te aplica. No es necesario \n",
    "# que me digas cuál. Te has inyectado alguna droga distinta a la recetada en el último año. Has recibido tratamiento \n",
    "# por una enfermedad de transmisión sexual o ETS en el último año. Has dado o recibido dinero o drogas a cambio de sexo en el último año.\n",
    "# Cambio de codificacion:\n",
    "# 1: si     0: no       -1: no contesta\n",
    "df.loc[df[\"HIVRISK5\"] > 2, \"HIVRISK5\"] = -1\n",
    "df.loc[df[\"HIVRISK5\"] == 2, \"HIVRISK5\"] = 0\n",
    "print(df[\"HIVRISK5\"].value_counts())"
   ]
  },
  {
   "cell_type": "markdown",
   "id": "5498a08e",
   "metadata": {},
   "source": [
    "- No (0.0) un 96.5%\n",
    "- Sí (1.0)\tun 2.3%\n",
    "- Sin respuesta (-1.0) un 0.3%\n",
    "\n",
    "Solo un 2.3% de la muestra reporta haber estado en situación de riesgo de VIH, lo cual puede estar subestimado por estigma social o miedo a declarar conductas sensibles, falta de conciencia sobre qué se considera “riesgo” o falta de seguro."
   ]
  },
  {
   "cell_type": "markdown",
   "id": "3cbe121c",
   "metadata": {},
   "source": [
    "ACTIVIDAD FISICA DURANTE LOS ULTIMOS 30 DIAS "
   ]
  },
  {
   "cell_type": "code",
   "execution_count": 60,
   "id": "5d7c4cda",
   "metadata": {},
   "outputs": [
    {
     "name": "stdout",
     "output_type": "stream",
     "text": [
      "_TOTINDA\n",
      " 1.0    83417\n",
      " 0.0    26368\n",
      "-1.0      194\n",
      "Name: count, dtype: int64\n"
     ]
    }
   ],
   "source": [
    "# Variable: _TOTINDA\n",
    "# Adultos que informaron haber realizado actividad física o ejercicio durante los últimos 30 días aparte de su trabajo habitual\n",
    "# Cambio de codificacion:\n",
    "# 1: si     0: no       -1: no contesta\n",
    "df.loc[df[\"_TOTINDA\"] > 2, \"_TOTINDA\"] = -1\n",
    "df.loc[df[\"_TOTINDA\"] == 2, \"_TOTINDA\"] = 0\n",
    "print(df[\"_TOTINDA\"].value_counts())"
   ]
  },
  {
   "cell_type": "markdown",
   "id": "5d933243",
   "metadata": {},
   "source": [
    "- Sí (1.0)\tun 75.5%\n",
    "- No (0.0) un 23.9%\n",
    "- Sin respuesta\tun 0.2%\n",
    "\n",
    "Más de 3 de cada 4 personas reportan haber realizado algún tipo de ejercicio, lo cual es una buena señal en términos generales de promoción de salud. El 23.9% que no realizó actividad física puede ser un grupo de riesgo para múltiples condiciones como enfermedad cardíaca, obesidad, salud mental deteriorada, dolor articular o dificultad funcional."
   ]
  },
  {
   "cell_type": "markdown",
   "id": "a1489491",
   "metadata": {},
   "source": [
    "DERRAME CEREBRAL "
   ]
  },
  {
   "cell_type": "code",
   "execution_count": 61,
   "id": "7dc515b5",
   "metadata": {},
   "outputs": [
    {
     "name": "stdout",
     "output_type": "stream",
     "text": [
      "CVDSTRK3\n",
      " 0.0    104167\n",
      " 1.0      5563\n",
      "-1.0       249\n",
      "Name: count, dtype: int64\n"
     ]
    }
   ],
   "source": [
    "# Variable: CVDSTRK3\n",
    "# ¿Alguna vez te han dicho que tuviste un derrame cerebral?\n",
    "# Cambio de codificacion:\n",
    "# 1: si     0: no       -1: no contesta\n",
    "df.loc[df[\"CVDSTRK3\"] > 2, \"CVDSTRK3\"] = -1\n",
    "df.loc[df[\"CVDSTRK3\"] == 2, \"CVDSTRK3\"] = 0\n",
    "print(df[\"CVDSTRK3\"].value_counts())"
   ]
  },
  {
   "cell_type": "markdown",
   "id": "f91a680a",
   "metadata": {},
   "source": [
    "- No un 94.8%\n",
    "- Sí un 5.1%\n",
    "- No sabe -1 un 0.2%\n",
    "\n",
    "1 de cada 20 personas ha tenido un derrame cerebral, lo cual es una prevalencia significativa, especialmente porque la muestra incluye muchos adultos mayores."
   ]
  },
  {
   "cell_type": "markdown",
   "id": "5a65f6ec",
   "metadata": {},
   "source": [
    "DIABETES "
   ]
  },
  {
   "cell_type": "code",
   "execution_count": 62,
   "id": "30109aec",
   "metadata": {},
   "outputs": [
    {
     "name": "stdout",
     "output_type": "stream",
     "text": [
      "DIABETE4\n",
      " 0.0    87157\n",
      " 3.0    18927\n",
      " 1.0     3072\n",
      " 2.0      689\n",
      "-1.0      134\n",
      "Name: count, dtype: int64\n"
     ]
    }
   ],
   "source": [
    "# Variable: DIABETE4\n",
    "# ¿Alguna vez le dijeron que tenía diabetes? (Si la respuesta es «Sí» y la encuestada es mujer, pregunte \n",
    "# «¿Fue solo cuando estaba embarazada?». Si la encuestada dice prediabetes o diabetes limítrofe, use el código de respuesta 4).\n",
    "# Cambio de codificacion:\n",
    "# 0: No     1: Prediabetes      2: En embarazo      3: No diabetes      -1: No contesta\n",
    "df.loc[df[\"DIABETE4\"] == 3, \"DIABETE4\"] = 0\n",
    "df.loc[df[\"DIABETE4\"] == 1, \"DIABETE4\"] = 3\n",
    "df.loc[df[\"DIABETE4\"] == 4, \"DIABETE4\"] = 1\n",
    "df.loc[df[\"DIABETE4\"] > 4, \"DIABETE4\"] = -1\n",
    "print(df[\"DIABETE4\"].value_counts())"
   ]
  },
  {
   "cell_type": "markdown",
   "id": "c7c019bf",
   "metadata": {},
   "source": [
    "- No tiene diabetes (3.0) un 76.3%\n",
    "- Prediabetes (4.0) un 16.6%\n",
    "- Sí, diabetes diagnosticada (1.0) un 2.7%\n",
    "- Diabetes gestacional (2.0) un 0.6%\n",
    "- Sin respuesta / inválido (-1.0) un 0.1%\n",
    "\n",
    "Casi 1 de cada 5 personas tiene prediabetes, y un 3.3% ha tenido diabetes diagnosticada (incluyendo gestacional). Diabetes diagnosticada (3.3%) puede estar asociada a personas de mayor edad, obesidad, enfermedades cardíacas o dificultades funcionales."
   ]
  },
  {
   "cell_type": "code",
   "execution_count": 63,
   "id": "ccfcf239",
   "metadata": {},
   "outputs": [],
   "source": [
    "columnas = df.columns\n",
    "columnas\n",
    "for col in columnas:\n",
    "    df = df[df[col] != -1]"
   ]
  },
  {
   "cell_type": "code",
   "execution_count": 64,
   "id": "6c2f7177",
   "metadata": {},
   "outputs": [],
   "source": [
    "df.to_csv(\"../data/processed/datafinal.csv\", index=False)"
   ]
  }
 ],
 "metadata": {
  "kernelspec": {
   "display_name": ".venv",
   "language": "python",
   "name": "python3"
  },
  "language_info": {
   "codemirror_mode": {
    "name": "ipython",
    "version": 3
   },
   "file_extension": ".py",
   "mimetype": "text/x-python",
   "name": "python",
   "nbconvert_exporter": "python",
   "pygments_lexer": "ipython3",
   "version": "3.11.4"
  }
 },
 "nbformat": 4,
 "nbformat_minor": 5
}
