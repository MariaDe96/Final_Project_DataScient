{
 "cells": [
  {
   "cell_type": "code",
   "execution_count": 2,
   "id": "e3f74d21",
   "metadata": {},
   "outputs": [],
   "source": [
    "import pandas as pd\n",
    "import numpy as np"
   ]
  },
  {
   "cell_type": "code",
   "execution_count": 3,
   "id": "4e51d88a",
   "metadata": {},
   "outputs": [
    {
     "data": {
      "text/html": [
       "<div>\n",
       "<style scoped>\n",
       "    .dataframe tbody tr th:only-of-type {\n",
       "        vertical-align: middle;\n",
       "    }\n",
       "\n",
       "    .dataframe tbody tr th {\n",
       "        vertical-align: top;\n",
       "    }\n",
       "\n",
       "    .dataframe thead th {\n",
       "        text-align: right;\n",
       "    }\n",
       "</style>\n",
       "<table border=\"1\" class=\"dataframe\">\n",
       "  <thead>\n",
       "    <tr style=\"text-align: right;\">\n",
       "      <th></th>\n",
       "      <th>HHADULT</th>\n",
       "      <th>SEXVAR</th>\n",
       "      <th>MEDCOST1</th>\n",
       "      <th>SLEPTIM1</th>\n",
       "      <th>CVDSTRK3</th>\n",
       "      <th>ADDEPEV3</th>\n",
       "      <th>DIABETE4</th>\n",
       "      <th>MARITAL</th>\n",
       "      <th>RENTHOM1</th>\n",
       "      <th>VETERAN3</th>\n",
       "      <th>...</th>\n",
       "      <th>_ASTHMS1</th>\n",
       "      <th>_DRDXAR2</th>\n",
       "      <th>_AGEG5YR</th>\n",
       "      <th>_BMI5CAT</th>\n",
       "      <th>_CHLDCNT</th>\n",
       "      <th>_EDUCAG</th>\n",
       "      <th>_INCOMG1</th>\n",
       "      <th>_RFBING6</th>\n",
       "      <th>_AIDTST4</th>\n",
       "      <th>tobacco_use</th>\n",
       "    </tr>\n",
       "  </thead>\n",
       "  <tbody>\n",
       "    <tr>\n",
       "      <th>0</th>\n",
       "      <td>2.0</td>\n",
       "      <td>2.0</td>\n",
       "      <td>2.0</td>\n",
       "      <td>6.0</td>\n",
       "      <td>2.0</td>\n",
       "      <td>1.0</td>\n",
       "      <td>3.0</td>\n",
       "      <td>1.0</td>\n",
       "      <td>1.0</td>\n",
       "      <td>2.0</td>\n",
       "      <td>...</td>\n",
       "      <td>3.0</td>\n",
       "      <td>2.0</td>\n",
       "      <td>9.0</td>\n",
       "      <td>2.0</td>\n",
       "      <td>1.0</td>\n",
       "      <td>4.0</td>\n",
       "      <td>5.0</td>\n",
       "      <td>1.0</td>\n",
       "      <td>2.0</td>\n",
       "      <td>0.0</td>\n",
       "    </tr>\n",
       "    <tr>\n",
       "      <th>1</th>\n",
       "      <td>4.0</td>\n",
       "      <td>2.0</td>\n",
       "      <td>2.0</td>\n",
       "      <td>7.0</td>\n",
       "      <td>2.0</td>\n",
       "      <td>2.0</td>\n",
       "      <td>3.0</td>\n",
       "      <td>1.0</td>\n",
       "      <td>1.0</td>\n",
       "      <td>2.0</td>\n",
       "      <td>...</td>\n",
       "      <td>3.0</td>\n",
       "      <td>2.0</td>\n",
       "      <td>9.0</td>\n",
       "      <td>3.0</td>\n",
       "      <td>1.0</td>\n",
       "      <td>4.0</td>\n",
       "      <td>9.0</td>\n",
       "      <td>1.0</td>\n",
       "      <td>2.0</td>\n",
       "      <td>0.0</td>\n",
       "    </tr>\n",
       "    <tr>\n",
       "      <th>2</th>\n",
       "      <td>2.0</td>\n",
       "      <td>2.0</td>\n",
       "      <td>2.0</td>\n",
       "      <td>7.0</td>\n",
       "      <td>2.0</td>\n",
       "      <td>2.0</td>\n",
       "      <td>3.0</td>\n",
       "      <td>1.0</td>\n",
       "      <td>2.0</td>\n",
       "      <td>2.0</td>\n",
       "      <td>...</td>\n",
       "      <td>3.0</td>\n",
       "      <td>1.0</td>\n",
       "      <td>7.0</td>\n",
       "      <td>4.0</td>\n",
       "      <td>1.0</td>\n",
       "      <td>2.0</td>\n",
       "      <td>3.0</td>\n",
       "      <td>1.0</td>\n",
       "      <td>2.0</td>\n",
       "      <td>0.0</td>\n",
       "    </tr>\n",
       "    <tr>\n",
       "      <th>3</th>\n",
       "      <td>2.0</td>\n",
       "      <td>1.0</td>\n",
       "      <td>2.0</td>\n",
       "      <td>6.0</td>\n",
       "      <td>2.0</td>\n",
       "      <td>2.0</td>\n",
       "      <td>1.0</td>\n",
       "      <td>1.0</td>\n",
       "      <td>1.0</td>\n",
       "      <td>2.0</td>\n",
       "      <td>...</td>\n",
       "      <td>3.0</td>\n",
       "      <td>2.0</td>\n",
       "      <td>7.0</td>\n",
       "      <td>4.0</td>\n",
       "      <td>1.0</td>\n",
       "      <td>3.0</td>\n",
       "      <td>6.0</td>\n",
       "      <td>1.0</td>\n",
       "      <td>2.0</td>\n",
       "      <td>0.0</td>\n",
       "    </tr>\n",
       "    <tr>\n",
       "      <th>4</th>\n",
       "      <td>2.0</td>\n",
       "      <td>1.0</td>\n",
       "      <td>2.0</td>\n",
       "      <td>5.0</td>\n",
       "      <td>2.0</td>\n",
       "      <td>2.0</td>\n",
       "      <td>3.0</td>\n",
       "      <td>1.0</td>\n",
       "      <td>1.0</td>\n",
       "      <td>1.0</td>\n",
       "      <td>...</td>\n",
       "      <td>3.0</td>\n",
       "      <td>2.0</td>\n",
       "      <td>9.0</td>\n",
       "      <td>4.0</td>\n",
       "      <td>1.0</td>\n",
       "      <td>3.0</td>\n",
       "      <td>4.0</td>\n",
       "      <td>1.0</td>\n",
       "      <td>1.0</td>\n",
       "      <td>0.0</td>\n",
       "    </tr>\n",
       "    <tr>\n",
       "      <th>...</th>\n",
       "      <td>...</td>\n",
       "      <td>...</td>\n",
       "      <td>...</td>\n",
       "      <td>...</td>\n",
       "      <td>...</td>\n",
       "      <td>...</td>\n",
       "      <td>...</td>\n",
       "      <td>...</td>\n",
       "      <td>...</td>\n",
       "      <td>...</td>\n",
       "      <td>...</td>\n",
       "      <td>...</td>\n",
       "      <td>...</td>\n",
       "      <td>...</td>\n",
       "      <td>...</td>\n",
       "      <td>...</td>\n",
       "      <td>...</td>\n",
       "      <td>...</td>\n",
       "      <td>...</td>\n",
       "      <td>...</td>\n",
       "      <td>...</td>\n",
       "    </tr>\n",
       "    <tr>\n",
       "      <th>110375</th>\n",
       "      <td>1.0</td>\n",
       "      <td>1.0</td>\n",
       "      <td>2.0</td>\n",
       "      <td>6.0</td>\n",
       "      <td>2.0</td>\n",
       "      <td>2.0</td>\n",
       "      <td>3.0</td>\n",
       "      <td>2.0</td>\n",
       "      <td>1.0</td>\n",
       "      <td>2.0</td>\n",
       "      <td>...</td>\n",
       "      <td>3.0</td>\n",
       "      <td>1.0</td>\n",
       "      <td>9.0</td>\n",
       "      <td>3.0</td>\n",
       "      <td>1.0</td>\n",
       "      <td>3.0</td>\n",
       "      <td>6.0</td>\n",
       "      <td>2.0</td>\n",
       "      <td>2.0</td>\n",
       "      <td>1.0</td>\n",
       "    </tr>\n",
       "    <tr>\n",
       "      <th>110376</th>\n",
       "      <td>4.0</td>\n",
       "      <td>1.0</td>\n",
       "      <td>2.0</td>\n",
       "      <td>7.0</td>\n",
       "      <td>1.0</td>\n",
       "      <td>2.0</td>\n",
       "      <td>1.0</td>\n",
       "      <td>1.0</td>\n",
       "      <td>2.0</td>\n",
       "      <td>2.0</td>\n",
       "      <td>...</td>\n",
       "      <td>3.0</td>\n",
       "      <td>1.0</td>\n",
       "      <td>10.0</td>\n",
       "      <td>3.0</td>\n",
       "      <td>1.0</td>\n",
       "      <td>4.0</td>\n",
       "      <td>6.0</td>\n",
       "      <td>1.0</td>\n",
       "      <td>1.0</td>\n",
       "      <td>0.0</td>\n",
       "    </tr>\n",
       "    <tr>\n",
       "      <th>110377</th>\n",
       "      <td>2.0</td>\n",
       "      <td>2.0</td>\n",
       "      <td>2.0</td>\n",
       "      <td>7.0</td>\n",
       "      <td>2.0</td>\n",
       "      <td>2.0</td>\n",
       "      <td>3.0</td>\n",
       "      <td>1.0</td>\n",
       "      <td>1.0</td>\n",
       "      <td>1.0</td>\n",
       "      <td>...</td>\n",
       "      <td>3.0</td>\n",
       "      <td>2.0</td>\n",
       "      <td>7.0</td>\n",
       "      <td>3.0</td>\n",
       "      <td>2.0</td>\n",
       "      <td>4.0</td>\n",
       "      <td>5.0</td>\n",
       "      <td>1.0</td>\n",
       "      <td>1.0</td>\n",
       "      <td>0.0</td>\n",
       "    </tr>\n",
       "    <tr>\n",
       "      <th>110378</th>\n",
       "      <td>1.0</td>\n",
       "      <td>2.0</td>\n",
       "      <td>1.0</td>\n",
       "      <td>5.0</td>\n",
       "      <td>2.0</td>\n",
       "      <td>2.0</td>\n",
       "      <td>3.0</td>\n",
       "      <td>1.0</td>\n",
       "      <td>3.0</td>\n",
       "      <td>2.0</td>\n",
       "      <td>...</td>\n",
       "      <td>3.0</td>\n",
       "      <td>2.0</td>\n",
       "      <td>10.0</td>\n",
       "      <td>1.0</td>\n",
       "      <td>1.0</td>\n",
       "      <td>2.0</td>\n",
       "      <td>9.0</td>\n",
       "      <td>9.0</td>\n",
       "      <td>2.0</td>\n",
       "      <td>2.0</td>\n",
       "    </tr>\n",
       "    <tr>\n",
       "      <th>110379</th>\n",
       "      <td>2.0</td>\n",
       "      <td>1.0</td>\n",
       "      <td>2.0</td>\n",
       "      <td>5.0</td>\n",
       "      <td>2.0</td>\n",
       "      <td>2.0</td>\n",
       "      <td>3.0</td>\n",
       "      <td>1.0</td>\n",
       "      <td>2.0</td>\n",
       "      <td>2.0</td>\n",
       "      <td>...</td>\n",
       "      <td>2.0</td>\n",
       "      <td>2.0</td>\n",
       "      <td>11.0</td>\n",
       "      <td>4.0</td>\n",
       "      <td>1.0</td>\n",
       "      <td>3.0</td>\n",
       "      <td>5.0</td>\n",
       "      <td>1.0</td>\n",
       "      <td>1.0</td>\n",
       "      <td>0.0</td>\n",
       "    </tr>\n",
       "  </tbody>\n",
       "</table>\n",
       "<p>110380 rows × 39 columns</p>\n",
       "</div>"
      ],
      "text/plain": [
       "        HHADULT  SEXVAR  MEDCOST1  SLEPTIM1  CVDSTRK3  ADDEPEV3  DIABETE4  \\\n",
       "0           2.0     2.0       2.0       6.0       2.0       1.0       3.0   \n",
       "1           4.0     2.0       2.0       7.0       2.0       2.0       3.0   \n",
       "2           2.0     2.0       2.0       7.0       2.0       2.0       3.0   \n",
       "3           2.0     1.0       2.0       6.0       2.0       2.0       1.0   \n",
       "4           2.0     1.0       2.0       5.0       2.0       2.0       3.0   \n",
       "...         ...     ...       ...       ...       ...       ...       ...   \n",
       "110375      1.0     1.0       2.0       6.0       2.0       2.0       3.0   \n",
       "110376      4.0     1.0       2.0       7.0       1.0       2.0       1.0   \n",
       "110377      2.0     2.0       2.0       7.0       2.0       2.0       3.0   \n",
       "110378      1.0     2.0       1.0       5.0       2.0       2.0       3.0   \n",
       "110379      2.0     1.0       2.0       5.0       2.0       2.0       3.0   \n",
       "\n",
       "        MARITAL  RENTHOM1  VETERAN3  ...  _ASTHMS1  _DRDXAR2  _AGEG5YR  \\\n",
       "0           1.0       1.0       2.0  ...       3.0       2.0       9.0   \n",
       "1           1.0       1.0       2.0  ...       3.0       2.0       9.0   \n",
       "2           1.0       2.0       2.0  ...       3.0       1.0       7.0   \n",
       "3           1.0       1.0       2.0  ...       3.0       2.0       7.0   \n",
       "4           1.0       1.0       1.0  ...       3.0       2.0       9.0   \n",
       "...         ...       ...       ...  ...       ...       ...       ...   \n",
       "110375      2.0       1.0       2.0  ...       3.0       1.0       9.0   \n",
       "110376      1.0       2.0       2.0  ...       3.0       1.0      10.0   \n",
       "110377      1.0       1.0       1.0  ...       3.0       2.0       7.0   \n",
       "110378      1.0       3.0       2.0  ...       3.0       2.0      10.0   \n",
       "110379      1.0       2.0       2.0  ...       2.0       2.0      11.0   \n",
       "\n",
       "        _BMI5CAT  _CHLDCNT  _EDUCAG  _INCOMG1  _RFBING6  _AIDTST4  tobacco_use  \n",
       "0            2.0       1.0      4.0       5.0       1.0       2.0          0.0  \n",
       "1            3.0       1.0      4.0       9.0       1.0       2.0          0.0  \n",
       "2            4.0       1.0      2.0       3.0       1.0       2.0          0.0  \n",
       "3            4.0       1.0      3.0       6.0       1.0       2.0          0.0  \n",
       "4            4.0       1.0      3.0       4.0       1.0       1.0          0.0  \n",
       "...          ...       ...      ...       ...       ...       ...          ...  \n",
       "110375       3.0       1.0      3.0       6.0       2.0       2.0          1.0  \n",
       "110376       3.0       1.0      4.0       6.0       1.0       1.0          0.0  \n",
       "110377       3.0       2.0      4.0       5.0       1.0       1.0          0.0  \n",
       "110378       1.0       1.0      2.0       9.0       9.0       2.0          2.0  \n",
       "110379       4.0       1.0      3.0       5.0       1.0       1.0          0.0  \n",
       "\n",
       "[110380 rows x 39 columns]"
      ]
     },
     "execution_count": 3,
     "metadata": {},
     "output_type": "execute_result"
    }
   ],
   "source": [
    "df = pd.read_csv('/workspaces/Final_Project_DataScient/data/processed/data_1_selected_39.csv')\n",
    "df"
   ]
  },
  {
   "cell_type": "code",
   "execution_count": 5,
   "id": "5f2104bc",
   "metadata": {},
   "outputs": [
    {
     "data": {
      "text/plain": [
       "Index(['HHADULT', 'SEXVAR', 'MEDCOST1', 'SLEPTIM1', 'CVDSTRK3', 'ADDEPEV3',\n",
       "       'DIABETE4', 'MARITAL', 'RENTHOM1', 'VETERAN3', 'EMPLOY1', 'DECIDE',\n",
       "       'DIFFALON', 'COLNCNCR', 'HIVRISK5', 'COVIDPOS', 'LSATISFY', 'EMTSUPRT',\n",
       "       'SDHISOLT', 'SDHEMPLY', 'SDHFOOD1', 'SDHBILLS', 'SDHUTILS', 'SDHTRNSP',\n",
       "       '_PHYS14D', '_MENT14D', '_HLTHPLN', '_TOTINDA', '_MICHD', '_ASTHMS1',\n",
       "       '_DRDXAR2', '_AGEG5YR', '_BMI5CAT', '_CHLDCNT', '_EDUCAG', '_INCOMG1',\n",
       "       '_RFBING6', '_AIDTST4', 'tobacco_use'],\n",
       "      dtype='object')"
      ]
     },
     "execution_count": 5,
     "metadata": {},
     "output_type": "execute_result"
    }
   ],
   "source": [
    "df.columns"
   ]
  },
  {
   "cell_type": "code",
   "execution_count": 4,
   "id": "e677c4b6",
   "metadata": {},
   "outputs": [
    {
     "data": {
      "text/plain": [
       "_RFBING6\n",
       " 0.0    95518\n",
       " 1.0    12883\n",
       "-1.0     1979\n",
       "Name: count, dtype: int64"
      ]
     },
     "execution_count": 4,
     "metadata": {},
     "output_type": "execute_result"
    }
   ],
   "source": [
    "#Alcohol\n",
    "# 1: No, 2: Yes >> Cambiar a 1: Yes, 0: No\n",
    "df.loc[df[\"_RFBING6\"] > 2, \"_RFBING6\"] = -1\n",
    "df.loc[df[\"_RFBING6\"] == 1, \"_RFBING6\"] = 0\n",
    "df.loc[df[\"_RFBING6\"] == 2, \"_RFBING6\"] = 1\n",
    "df._RFBING6.value_counts()"
   ]
  },
  {
   "cell_type": "markdown",
   "id": "fcd9aead",
   "metadata": {},
   "source": []
  },
  {
   "cell_type": "code",
   "execution_count": 5,
   "id": "801b34de",
   "metadata": {},
   "outputs": [
    {
     "data": {
      "text/plain": [
       "SDHISOLT\n",
       " 0.0    80904\n",
       " 1.0    28607\n",
       "-1.0      869\n",
       "Name: count, dtype: int64"
      ]
     },
     "execution_count": 5,
     "metadata": {},
     "output_type": "execute_result"
    }
   ],
   "source": [
    "#aislamiento social\n",
    "# 1, 2 y 3: Aislado, 4 y 5: No aislado >> Cambiar a 1: Aislado, 0: No aislado\n",
    "df.loc[df[\"SDHISOLT\"] <= 3, \"SDHISOLT\"] = 1\n",
    "df.loc[(df[\"SDHISOLT\"] == 4) | (df[\"SDHISOLT\"] == 5), \"SDHISOLT\"] = 0\n",
    "df.loc[df[\"SDHISOLT\"] > 5, \"SDHISOLT\"] = -1\n",
    "df[\"SDHISOLT\"].value_counts()"
   ]
  },
  {
   "cell_type": "code",
   "execution_count": 6,
   "id": "935e98e6",
   "metadata": {},
   "outputs": [
    {
     "data": {
      "text/plain": [
       "EMTSUPRT\n",
       " 1.0    87214\n",
       " 0.0    21615\n",
       "-1.0     1551\n",
       "Name: count, dtype: int64"
      ]
     },
     "execution_count": 6,
     "metadata": {},
     "output_type": "execute_result"
    }
   ],
   "source": [
    "#\n",
    "df.loc[df[\"EMTSUPRT\"] <= 2, \"EMTSUPRT\"] = 1\n",
    "df.loc[(df[\"EMTSUPRT\"] == 3) | (df[\"EMTSUPRT\"] == 4) | (df[\"EMTSUPRT\"] == 5), \"EMTSUPRT\"] = 0\n",
    "df.loc[df[\"EMTSUPRT\"] > 5, \"EMTSUPRT\"] = -1\n",
    "df[\"EMTSUPRT\"].value_counts()"
   ]
  },
  {
   "cell_type": "code",
   "execution_count": 7,
   "id": "3ded1567",
   "metadata": {},
   "outputs": [
    {
     "name": "stdout",
     "output_type": "stream",
     "text": [
      "ADDEPEV3\n",
      "0.0    87246\n",
      "1.0    22740\n",
      "Name: count, dtype: int64\n",
      "(109986, 39)\n"
     ]
    },
    {
     "name": "stderr",
     "output_type": "stream",
     "text": [
      "/tmp/ipykernel_10232/1116977196.py:6: SettingWithCopyWarning: \n",
      "A value is trying to be set on a copy of a slice from a DataFrame\n",
      "\n",
      "See the caveats in the documentation: https://pandas.pydata.org/pandas-docs/stable/user_guide/indexing.html#returning-a-view-versus-a-copy\n",
      "  df.loc[df[\"ADDEPEV3\"] == 2, \"ADDEPEV3\"] = 0\n"
     ]
    }
   ],
   "source": [
    "# Lo llevamos a una variable binaria.\n",
    "# Eliminamos NAN y los valores 7 y 9 (Don’t know/Refused/Missing)\n",
    "# Pasamos 2 (no) a 0\n",
    "df['ADDEPEV3'].dropna()\n",
    "df = df[~df[\"ADDEPEV3\"].isin([9,7])]\n",
    "df.loc[df[\"ADDEPEV3\"] == 2, \"ADDEPEV3\"] = 0\n",
    "print(df[\"ADDEPEV3\"].value_counts())\n",
    "print(df.shape)"
   ]
  },
  {
   "cell_type": "code",
   "execution_count": 8,
   "id": "0a4e1fea",
   "metadata": {},
   "outputs": [
    {
     "name": "stdout",
     "output_type": "stream",
     "text": [
      "COLNCNCR\n",
      " 0.0    84062\n",
      " 1.0    23275\n",
      "-1.0     2649\n",
      "Name: count, dtype: int64\n"
     ]
    },
    {
     "name": "stderr",
     "output_type": "stream",
     "text": [
      "/tmp/ipykernel_10232/2512380346.py:2: SettingWithCopyWarning: \n",
      "A value is trying to be set on a copy of a slice from a DataFrame\n",
      "\n",
      "See the caveats in the documentation: https://pandas.pydata.org/pandas-docs/stable/user_guide/indexing.html#returning-a-view-versus-a-copy\n",
      "  df.loc[df[\"COLNCNCR\"] == 2, \"COLNCNCR\"] = 0 #no\n",
      "/tmp/ipykernel_10232/2512380346.py:3: SettingWithCopyWarning: \n",
      "A value is trying to be set on a copy of a slice from a DataFrame\n",
      "\n",
      "See the caveats in the documentation: https://pandas.pydata.org/pandas-docs/stable/user_guide/indexing.html#returning-a-view-versus-a-copy\n",
      "  df.loc[df[\"COLNCNCR\"] > 5, \"COLNCNCR\"] = -1 #no sabe\n"
     ]
    }
   ],
   "source": [
    "# Examen de colon - ¿Te lo haz hecho?\n",
    "df.loc[df[\"COLNCNCR\"] == 2, \"COLNCNCR\"] = 0 #no\n",
    "df.loc[df[\"COLNCNCR\"] > 5, \"COLNCNCR\"] = -1 #no sabe\n",
    "\n",
    "# Ver distribución de valores\n",
    "print(df[\"COLNCNCR\"].value_counts())"
   ]
  },
  {
   "cell_type": "code",
   "execution_count": 9,
   "id": "4f82d08d",
   "metadata": {},
   "outputs": [
    {
     "name": "stdout",
     "output_type": "stream",
     "text": [
      "_MICHD\n",
      "0.0    97657\n",
      "1.0    12329\n",
      "Name: count, dtype: int64\n"
     ]
    },
    {
     "name": "stderr",
     "output_type": "stream",
     "text": [
      "/tmp/ipykernel_10232/3541356943.py:2: SettingWithCopyWarning: \n",
      "A value is trying to be set on a copy of a slice from a DataFrame\n",
      "\n",
      "See the caveats in the documentation: https://pandas.pydata.org/pandas-docs/stable/user_guide/indexing.html#returning-a-view-versus-a-copy\n",
      "  df.loc[df[\"_MICHD\"] == 2, \"_MICHD\"] = 0 #no\n"
     ]
    }
   ],
   "source": [
    "# ¿Haz tenido una enfermada del corazon? \n",
    "df.loc[df[\"_MICHD\"] == 2, \"_MICHD\"] = 0 #no\n",
    "\n",
    "# Ver distribución de valores\n",
    "print(df[\"_MICHD\"].value_counts())"
   ]
  },
  {
   "cell_type": "code",
   "execution_count": 10,
   "id": "4880ed31",
   "metadata": {},
   "outputs": [
    {
     "name": "stdout",
     "output_type": "stream",
     "text": [
      "_ASTHMS1\n",
      " 3.0    93717\n",
      " 1.0    11473\n",
      " 2.0     4069\n",
      "-1.0      727\n",
      "Name: count, dtype: int64\n"
     ]
    },
    {
     "name": "stderr",
     "output_type": "stream",
     "text": [
      "/tmp/ipykernel_10232/2159376363.py:2: SettingWithCopyWarning: \n",
      "A value is trying to be set on a copy of a slice from a DataFrame\n",
      "\n",
      "See the caveats in the documentation: https://pandas.pydata.org/pandas-docs/stable/user_guide/indexing.html#returning-a-view-versus-a-copy\n",
      "  df.loc[df[\"_ASTHMS1\"] == 9, \"_ASTHMS1\"] = -1 #missing\n"
     ]
    }
   ],
   "source": [
    "# ¿haz tenido asma?\n",
    "df.loc[df[\"_ASTHMS1\"] == 9, \"_ASTHMS1\"] = -1 #missing\n",
    "\n",
    "# Ver distribución de valores\n",
    "print(df[\"_ASTHMS1\"].value_counts())"
   ]
  },
  {
   "cell_type": "code",
   "execution_count": 11,
   "id": "4301e8d9",
   "metadata": {},
   "outputs": [
    {
     "name": "stdout",
     "output_type": "stream",
     "text": [
      "_DRDXAR2\n",
      "0.0    63609\n",
      "1.0    46377\n",
      "Name: count, dtype: int64\n"
     ]
    },
    {
     "name": "stderr",
     "output_type": "stream",
     "text": [
      "/tmp/ipykernel_10232/3572420397.py:2: SettingWithCopyWarning: \n",
      "A value is trying to be set on a copy of a slice from a DataFrame\n",
      "\n",
      "See the caveats in the documentation: https://pandas.pydata.org/pandas-docs/stable/user_guide/indexing.html#returning-a-view-versus-a-copy\n",
      "  df.loc[df[\"_DRDXAR2\"] == 2, \"_DRDXAR2\"] = 0 #no\n"
     ]
    }
   ],
   "source": [
    "# enfermedad de artritis\n",
    "df.loc[df[\"_DRDXAR2\"] == 2, \"_DRDXAR2\"] = 0 #no\n",
    "\n",
    "# Ver distribución de valores\n",
    "print(df[\"_DRDXAR2\"].value_counts())"
   ]
  },
  {
   "cell_type": "code",
   "execution_count": 12,
   "id": "52247717",
   "metadata": {},
   "outputs": [
    {
     "name": "stdout",
     "output_type": "stream",
     "text": [
      "_PHYS14D\n",
      " 0.0    65609\n",
      " 1.0    25744\n",
      " 2.0    16354\n",
      "-1.0     2279\n",
      "Name: count, dtype: int64\n"
     ]
    },
    {
     "name": "stderr",
     "output_type": "stream",
     "text": [
      "/tmp/ipykernel_10232/3638456170.py:2: SettingWithCopyWarning: \n",
      "A value is trying to be set on a copy of a slice from a DataFrame\n",
      "\n",
      "See the caveats in the documentation: https://pandas.pydata.org/pandas-docs/stable/user_guide/indexing.html#returning-a-view-versus-a-copy\n",
      "  df.loc[df[\"_PHYS14D\"] == 1, \"_PHYS14D\"] = 0 #no\n",
      "/tmp/ipykernel_10232/3638456170.py:3: SettingWithCopyWarning: \n",
      "A value is trying to be set on a copy of a slice from a DataFrame\n",
      "\n",
      "See the caveats in the documentation: https://pandas.pydata.org/pandas-docs/stable/user_guide/indexing.html#returning-a-view-versus-a-copy\n",
      "  df.loc[df[\"_PHYS14D\"] == 2, \"_PHYS14D\"] = 1 #-13dias\n",
      "/tmp/ipykernel_10232/3638456170.py:4: SettingWithCopyWarning: \n",
      "A value is trying to be set on a copy of a slice from a DataFrame\n",
      "\n",
      "See the caveats in the documentation: https://pandas.pydata.org/pandas-docs/stable/user_guide/indexing.html#returning-a-view-versus-a-copy\n",
      "  df.loc[df[\"_PHYS14D\"] == 3, \"_PHYS14D\"] = 2 #+13 dias\n",
      "/tmp/ipykernel_10232/3638456170.py:5: SettingWithCopyWarning: \n",
      "A value is trying to be set on a copy of a slice from a DataFrame\n",
      "\n",
      "See the caveats in the documentation: https://pandas.pydata.org/pandas-docs/stable/user_guide/indexing.html#returning-a-view-versus-a-copy\n",
      "  df.loc[df[\"_PHYS14D\"] == 9, \"_PHYS14D\"] = -1 #missing\n"
     ]
    }
   ],
   "source": [
    "# Mala salud fisica de 0 (no), de 1 a 30 dias (si)\n",
    "df.loc[df[\"_PHYS14D\"] == 1, \"_PHYS14D\"] = 0 #no\n",
    "df.loc[df[\"_PHYS14D\"] == 2, \"_PHYS14D\"] = 1 #-13dias\n",
    "df.loc[df[\"_PHYS14D\"] == 3, \"_PHYS14D\"] = 2 #+13 dias\n",
    "df.loc[df[\"_PHYS14D\"] == 9, \"_PHYS14D\"] = -1 #missing\n",
    "\n",
    "# Ver distribución de valores\n",
    "print(df[\"_PHYS14D\"].value_counts())"
   ]
  },
  {
   "cell_type": "code",
   "execution_count": 13,
   "id": "e08ae178",
   "metadata": {},
   "outputs": [
    {
     "name": "stdout",
     "output_type": "stream",
     "text": [
      "_MENT14D\n",
      " 0.0    71693\n",
      " 1.0    23982\n",
      " 2.0    12488\n",
      "-1.0     1823\n",
      "Name: count, dtype: int64\n"
     ]
    },
    {
     "name": "stderr",
     "output_type": "stream",
     "text": [
      "/tmp/ipykernel_10232/2202803867.py:2: SettingWithCopyWarning: \n",
      "A value is trying to be set on a copy of a slice from a DataFrame\n",
      "\n",
      "See the caveats in the documentation: https://pandas.pydata.org/pandas-docs/stable/user_guide/indexing.html#returning-a-view-versus-a-copy\n",
      "  df.loc[df[\"_MENT14D\"] == 1, \"_MENT14D\"] = 0 #0 dia\n",
      "/tmp/ipykernel_10232/2202803867.py:3: SettingWithCopyWarning: \n",
      "A value is trying to be set on a copy of a slice from a DataFrame\n",
      "\n",
      "See the caveats in the documentation: https://pandas.pydata.org/pandas-docs/stable/user_guide/indexing.html#returning-a-view-versus-a-copy\n",
      "  df.loc[df[\"_MENT14D\"] == 2, \"_MENT14D\"] = 1 #-13 dias\n",
      "/tmp/ipykernel_10232/2202803867.py:4: SettingWithCopyWarning: \n",
      "A value is trying to be set on a copy of a slice from a DataFrame\n",
      "\n",
      "See the caveats in the documentation: https://pandas.pydata.org/pandas-docs/stable/user_guide/indexing.html#returning-a-view-versus-a-copy\n",
      "  df.loc[df[\"_MENT14D\"] == 3, \"_MENT14D\"] = 2 #+13 dias\n",
      "/tmp/ipykernel_10232/2202803867.py:5: SettingWithCopyWarning: \n",
      "A value is trying to be set on a copy of a slice from a DataFrame\n",
      "\n",
      "See the caveats in the documentation: https://pandas.pydata.org/pandas-docs/stable/user_guide/indexing.html#returning-a-view-versus-a-copy\n",
      "  df.loc[df[\"_MENT14D\"] == 9, \"_MENT14D\"] = -1 #missing\n"
     ]
    }
   ],
   "source": [
    "# Mala salud metal de 0, (no) a 30 dias (si)\n",
    "df.loc[df[\"_MENT14D\"] == 1, \"_MENT14D\"] = 0 #0 dia\n",
    "df.loc[df[\"_MENT14D\"] == 2, \"_MENT14D\"] = 1 #-13 dias\n",
    "df.loc[df[\"_MENT14D\"] == 3, \"_MENT14D\"] = 2 #+13 dias\n",
    "df.loc[df[\"_MENT14D\"] == 9, \"_MENT14D\"] = -1 #missing\n",
    "print(df[\"_MENT14D\"].value_counts())"
   ]
  },
  {
   "cell_type": "code",
   "execution_count": 14,
   "id": "72775286",
   "metadata": {},
   "outputs": [
    {
     "name": "stdout",
     "output_type": "stream",
     "text": [
      "_BMI5CAT\n",
      "2.0    40997\n",
      "3.0    39131\n",
      "1.0    28532\n",
      "0.0     1326\n",
      "Name: count, dtype: int64\n"
     ]
    },
    {
     "name": "stderr",
     "output_type": "stream",
     "text": [
      "/tmp/ipykernel_10232/3315613289.py:2: SettingWithCopyWarning: \n",
      "A value is trying to be set on a copy of a slice from a DataFrame\n",
      "\n",
      "See the caveats in the documentation: https://pandas.pydata.org/pandas-docs/stable/user_guide/indexing.html#returning-a-view-versus-a-copy\n",
      "  df.loc[df[\"_BMI5CAT\"] == 1, \"_BMI5CAT\"] = 0 #bajo peso\n",
      "/tmp/ipykernel_10232/3315613289.py:3: SettingWithCopyWarning: \n",
      "A value is trying to be set on a copy of a slice from a DataFrame\n",
      "\n",
      "See the caveats in the documentation: https://pandas.pydata.org/pandas-docs/stable/user_guide/indexing.html#returning-a-view-versus-a-copy\n",
      "  df.loc[df[\"_BMI5CAT\"] == 2, \"_BMI5CAT\"] = 1 #peso normal\n",
      "/tmp/ipykernel_10232/3315613289.py:4: SettingWithCopyWarning: \n",
      "A value is trying to be set on a copy of a slice from a DataFrame\n",
      "\n",
      "See the caveats in the documentation: https://pandas.pydata.org/pandas-docs/stable/user_guide/indexing.html#returning-a-view-versus-a-copy\n",
      "  df.loc[df[\"_BMI5CAT\"] == 3, \"_BMI5CAT\"] = 2 #sobrepeso\n",
      "/tmp/ipykernel_10232/3315613289.py:5: SettingWithCopyWarning: \n",
      "A value is trying to be set on a copy of a slice from a DataFrame\n",
      "\n",
      "See the caveats in the documentation: https://pandas.pydata.org/pandas-docs/stable/user_guide/indexing.html#returning-a-view-versus-a-copy\n",
      "  df.loc[df[\"_BMI5CAT\"] == 4, \"_BMI5CAT\"] = 3 #obeso\n",
      "/tmp/ipykernel_10232/3315613289.py:6: SettingWithCopyWarning: \n",
      "A value is trying to be set on a copy of a slice from a DataFrame\n",
      "\n",
      "See the caveats in the documentation: https://pandas.pydata.org/pandas-docs/stable/user_guide/indexing.html#returning-a-view-versus-a-copy\n",
      "  df.loc[df[\"_BMI5CAT\"] == 9, \"_BMI5CAT\"] = -1 #missing\n"
     ]
    }
   ],
   "source": [
    "# Indice de peso corporal\n",
    "df.loc[df[\"_BMI5CAT\"] == 1, \"_BMI5CAT\"] = 0 #bajo peso\n",
    "df.loc[df[\"_BMI5CAT\"] == 2, \"_BMI5CAT\"] = 1 #peso normal\n",
    "df.loc[df[\"_BMI5CAT\"] == 3, \"_BMI5CAT\"] = 2 #sobrepeso\n",
    "df.loc[df[\"_BMI5CAT\"] == 4, \"_BMI5CAT\"] = 3 #obeso\n",
    "df.loc[df[\"_BMI5CAT\"] == 9, \"_BMI5CAT\"] = -1 #missing\n",
    "print(df[\"_BMI5CAT\"].value_counts())"
   ]
  },
  {
   "cell_type": "code",
   "execution_count": 15,
   "id": "a6a140f8",
   "metadata": {},
   "outputs": [
    {
     "name": "stderr",
     "output_type": "stream",
     "text": [
      "/tmp/ipykernel_10232/1148006535.py:2: SettingWithCopyWarning: \n",
      "A value is trying to be set on a copy of a slice from a DataFrame\n",
      "\n",
      "See the caveats in the documentation: https://pandas.pydata.org/pandas-docs/stable/user_guide/indexing.html#returning-a-view-versus-a-copy\n",
      "  df.loc[df[\"DECIDE\"] == 2, \"DECIDE\"] = 0 #no\n"
     ]
    },
    {
     "name": "stdout",
     "output_type": "stream",
     "text": [
      "DECIDE\n",
      " 0.0    97716\n",
      " 1.0    11692\n",
      "-1.0      578\n",
      "Name: count, dtype: int64\n"
     ]
    },
    {
     "name": "stderr",
     "output_type": "stream",
     "text": [
      "/tmp/ipykernel_10232/1148006535.py:3: SettingWithCopyWarning: \n",
      "A value is trying to be set on a copy of a slice from a DataFrame\n",
      "\n",
      "See the caveats in the documentation: https://pandas.pydata.org/pandas-docs/stable/user_guide/indexing.html#returning-a-view-versus-a-copy\n",
      "  df.loc[df[\"DECIDE\"] > 5, \"DECIDE\"] = -1 #missing\n"
     ]
    }
   ],
   "source": [
    "# Dificultad para concentrarse\n",
    "df.loc[df[\"DECIDE\"] == 2, \"DECIDE\"] = 0 #no\n",
    "df.loc[df[\"DECIDE\"] > 5, \"DECIDE\"] = -1 #missing\n",
    "print(df[\"DECIDE\"].value_counts())"
   ]
  },
  {
   "cell_type": "code",
   "execution_count": 16,
   "id": "400563be",
   "metadata": {},
   "outputs": [
    {
     "name": "stderr",
     "output_type": "stream",
     "text": [
      "/tmp/ipykernel_10232/2484800539.py:2: SettingWithCopyWarning: \n",
      "A value is trying to be set on a copy of a slice from a DataFrame\n",
      "\n",
      "See the caveats in the documentation: https://pandas.pydata.org/pandas-docs/stable/user_guide/indexing.html#returning-a-view-versus-a-copy\n",
      "  df.loc[df[\"DIFFALON\"] == 2, \"DIFFALON\"] = 0 #no\n",
      "/tmp/ipykernel_10232/2484800539.py:3: SettingWithCopyWarning: \n",
      "A value is trying to be set on a copy of a slice from a DataFrame\n",
      "\n",
      "See the caveats in the documentation: https://pandas.pydata.org/pandas-docs/stable/user_guide/indexing.html#returning-a-view-versus-a-copy\n",
      "  df.loc[df[\"DIFFALON\"] > 5, \"DIFFALON\"] = -1 #missing\n"
     ]
    },
    {
     "name": "stdout",
     "output_type": "stream",
     "text": [
      "DIFFALON\n",
      " 0.0    101687\n",
      " 1.0      8057\n",
      "-1.0       242\n",
      "Name: count, dtype: int64\n"
     ]
    }
   ],
   "source": [
    "# Dificultad para hacer alguna activida fisica (lesion)\n",
    "df.loc[df[\"DIFFALON\"] == 2, \"DIFFALON\"] = 0 #no\n",
    "df.loc[df[\"DIFFALON\"] > 5, \"DIFFALON\"] = -1 #missing\n",
    "print(df[\"DIFFALON\"].value_counts())"
   ]
  },
  {
   "cell_type": "code",
   "execution_count": 17,
   "id": "9243446e",
   "metadata": {},
   "outputs": [
    {
     "name": "stderr",
     "output_type": "stream",
     "text": [
      "/tmp/ipykernel_10232/2426322530.py:1: SettingWithCopyWarning: \n",
      "A value is trying to be set on a copy of a slice from a DataFrame\n",
      "\n",
      "See the caveats in the documentation: https://pandas.pydata.org/pandas-docs/stable/user_guide/indexing.html#returning-a-view-versus-a-copy\n",
      "  df.loc[df[\"COVIDPOS\"] == 2, \"COVIDPOS\"] = 0 #no\n",
      "/tmp/ipykernel_10232/2426322530.py:2: SettingWithCopyWarning: \n",
      "A value is trying to be set on a copy of a slice from a DataFrame\n",
      "\n",
      "See the caveats in the documentation: https://pandas.pydata.org/pandas-docs/stable/user_guide/indexing.html#returning-a-view-versus-a-copy\n",
      "  df.loc[df[\"COVIDPOS\"] == 1, \"COVIDPOS\"] = 2 #no\n",
      "/tmp/ipykernel_10232/2426322530.py:3: SettingWithCopyWarning: \n",
      "A value is trying to be set on a copy of a slice from a DataFrame\n",
      "\n",
      "See the caveats in the documentation: https://pandas.pydata.org/pandas-docs/stable/user_guide/indexing.html#returning-a-view-versus-a-copy\n",
      "  df.loc[df[\"COVIDPOS\"] == 3, \"COVIDPOS\"] = 1 #no\n",
      "/tmp/ipykernel_10232/2426322530.py:4: SettingWithCopyWarning: \n",
      "A value is trying to be set on a copy of a slice from a DataFrame\n",
      "\n",
      "See the caveats in the documentation: https://pandas.pydata.org/pandas-docs/stable/user_guide/indexing.html#returning-a-view-versus-a-copy\n",
      "  df.loc[df[\"COVIDPOS\"] > 3, \"COVIDPOS\"] = -1 #missing\n"
     ]
    },
    {
     "name": "stdout",
     "output_type": "stream",
     "text": [
      "COVIDPOS\n",
      " 0.0    75906\n",
      " 2.0    29761\n",
      " 1.0     4063\n",
      "-1.0      256\n",
      "Name: count, dtype: int64\n"
     ]
    }
   ],
   "source": [
    "df.loc[df[\"COVIDPOS\"] == 2, \"COVIDPOS\"] = 0 #no\n",
    "df.loc[df[\"COVIDPOS\"] == 1, \"COVIDPOS\"] = 2 #no\n",
    "df.loc[df[\"COVIDPOS\"] == 3, \"COVIDPOS\"] = 1 #no\n",
    "df.loc[df[\"COVIDPOS\"] > 3, \"COVIDPOS\"] = -1 #missing\n",
    "print(df[\"COVIDPOS\"].value_counts())"
   ]
  },
  {
   "cell_type": "code",
   "execution_count": 18,
   "id": "fb838279",
   "metadata": {},
   "outputs": [
    {
     "name": "stdout",
     "output_type": "stream",
     "text": [
      "LSATISFY\n",
      " 0.0    53554\n",
      " 1.0    50143\n",
      " 2.0     4140\n",
      " 3.0     1244\n",
      "-1.0      905\n",
      "Name: count, dtype: int64\n"
     ]
    },
    {
     "name": "stderr",
     "output_type": "stream",
     "text": [
      "/tmp/ipykernel_10232/2712223949.py:2: SettingWithCopyWarning: \n",
      "A value is trying to be set on a copy of a slice from a DataFrame\n",
      "\n",
      "See the caveats in the documentation: https://pandas.pydata.org/pandas-docs/stable/user_guide/indexing.html#returning-a-view-versus-a-copy\n",
      "  df.loc[df[\"LSATISFY\"] == 1, \"LSATISFY\"] = 0 #muy satisfecho\n",
      "/tmp/ipykernel_10232/2712223949.py:3: SettingWithCopyWarning: \n",
      "A value is trying to be set on a copy of a slice from a DataFrame\n",
      "\n",
      "See the caveats in the documentation: https://pandas.pydata.org/pandas-docs/stable/user_guide/indexing.html#returning-a-view-versus-a-copy\n",
      "  df.loc[df[\"LSATISFY\"] == 2, \"LSATISFY\"] = 1 #satisfecho\n",
      "/tmp/ipykernel_10232/2712223949.py:4: SettingWithCopyWarning: \n",
      "A value is trying to be set on a copy of a slice from a DataFrame\n",
      "\n",
      "See the caveats in the documentation: https://pandas.pydata.org/pandas-docs/stable/user_guide/indexing.html#returning-a-view-versus-a-copy\n",
      "  df.loc[df[\"LSATISFY\"] == 3, \"LSATISFY\"] = 2 #insatisfecho\n",
      "/tmp/ipykernel_10232/2712223949.py:5: SettingWithCopyWarning: \n",
      "A value is trying to be set on a copy of a slice from a DataFrame\n",
      "\n",
      "See the caveats in the documentation: https://pandas.pydata.org/pandas-docs/stable/user_guide/indexing.html#returning-a-view-versus-a-copy\n",
      "  df.loc[df[\"LSATISFY\"] == 4, \"LSATISFY\"] = 3 #muy insatisfecho\n",
      "/tmp/ipykernel_10232/2712223949.py:6: SettingWithCopyWarning: \n",
      "A value is trying to be set on a copy of a slice from a DataFrame\n",
      "\n",
      "See the caveats in the documentation: https://pandas.pydata.org/pandas-docs/stable/user_guide/indexing.html#returning-a-view-versus-a-copy\n",
      "  df.loc[df[\"LSATISFY\"] > 5, \"LSATISFY\"] = -1 #missing\n"
     ]
    }
   ],
   "source": [
    "# satisfacion con la vida\n",
    "df.loc[df[\"LSATISFY\"] == 1, \"LSATISFY\"] = 0 #muy satisfecho\n",
    "df.loc[df[\"LSATISFY\"] == 2, \"LSATISFY\"] = 1 #satisfecho\n",
    "df.loc[df[\"LSATISFY\"] == 3, \"LSATISFY\"] = 2 #insatisfecho\n",
    "df.loc[df[\"LSATISFY\"] == 4, \"LSATISFY\"] = 3 #muy insatisfecho\n",
    "df.loc[df[\"LSATISFY\"] > 5, \"LSATISFY\"] = -1 #missing\n",
    "print(df[\"LSATISFY\"].value_counts())"
   ]
  },
  {
   "cell_type": "code",
   "execution_count": 19,
   "id": "068707cf",
   "metadata": {},
   "outputs": [
    {
     "name": "stderr",
     "output_type": "stream",
     "text": [
      "/tmp/ipykernel_10232/1639649441.py:1: SettingWithCopyWarning: \n",
      "A value is trying to be set on a copy of a slice from a DataFrame\n",
      "\n",
      "See the caveats in the documentation: https://pandas.pydata.org/pandas-docs/stable/user_guide/indexing.html#returning-a-view-versus-a-copy\n",
      "  df.loc[df[\"_AIDTST4\"] == 2, \"_AIDTST4\"] = 0\n",
      "/tmp/ipykernel_10232/1639649441.py:2: SettingWithCopyWarning: \n",
      "A value is trying to be set on a copy of a slice from a DataFrame\n",
      "\n",
      "See the caveats in the documentation: https://pandas.pydata.org/pandas-docs/stable/user_guide/indexing.html#returning-a-view-versus-a-copy\n",
      "  df.loc[df[\"_AIDTST4\"] == 9, \"_AIDTST4\"] = -1\n"
     ]
    },
    {
     "data": {
      "text/plain": [
       "_AIDTST4\n",
       " 0.0    69486\n",
       " 1.0    35087\n",
       "-1.0     5413\n",
       "Name: count, dtype: int64"
      ]
     },
     "execution_count": 19,
     "metadata": {},
     "output_type": "execute_result"
    }
   ],
   "source": [
    "df.loc[df[\"_AIDTST4\"] == 2, \"_AIDTST4\"] = 0\n",
    "df.loc[df[\"_AIDTST4\"] == 9, \"_AIDTST4\"] = -1\n",
    "\n",
    "df['_AIDTST4'].value_counts()"
   ]
  },
  {
   "cell_type": "code",
   "execution_count": 20,
   "id": "753342dc",
   "metadata": {},
   "outputs": [
    {
     "name": "stderr",
     "output_type": "stream",
     "text": [
      "/tmp/ipykernel_10232/1867271873.py:1: SettingWithCopyWarning: \n",
      "A value is trying to be set on a copy of a slice from a DataFrame.\n",
      "Try using .loc[row_indexer,col_indexer] = value instead\n",
      "\n",
      "See the caveats in the documentation: https://pandas.pydata.org/pandas-docs/stable/user_guide/indexing.html#returning-a-view-versus-a-copy\n",
      "  df[\"MARITAL\"] = df[\"MARITAL\"] - 1\n"
     ]
    },
    {
     "data": {
      "text/plain": [
       "MARITAL\n",
       " 0.0    65631\n",
       " 1.0    18644\n",
       " 2.0    11224\n",
       " 4.0     8686\n",
       " 5.0     2954\n",
       " 3.0     2270\n",
       "-1.0      577\n",
       "Name: count, dtype: int64"
      ]
     },
     "execution_count": 20,
     "metadata": {},
     "output_type": "execute_result"
    }
   ],
   "source": [
    "df[\"MARITAL\"] = df[\"MARITAL\"] - 1 \n",
    "df.loc[df[\"MARITAL\"] == 8, \"MARITAL\"] = -1\n",
    "df['MARITAL'].value_counts()"
   ]
  },
  {
   "cell_type": "code",
   "execution_count": 21,
   "id": "5d470bdf",
   "metadata": {},
   "outputs": [
    {
     "name": "stderr",
     "output_type": "stream",
     "text": [
      "/tmp/ipykernel_10232/3779948866.py:1: SettingWithCopyWarning: \n",
      "A value is trying to be set on a copy of a slice from a DataFrame.\n",
      "Try using .loc[row_indexer,col_indexer] = value instead\n",
      "\n",
      "See the caveats in the documentation: https://pandas.pydata.org/pandas-docs/stable/user_guide/indexing.html#returning-a-view-versus-a-copy\n",
      "  df[\"RENTHOM1\"] = df[\"RENTHOM1\"] - 1\n"
     ]
    },
    {
     "data": {
      "text/plain": [
       "RENTHOM1\n",
       " 0.0    87423\n",
       " 1.0    18868\n",
       " 2.0     3121\n",
       "-1.0      574\n",
       "Name: count, dtype: int64"
      ]
     },
     "execution_count": 21,
     "metadata": {},
     "output_type": "execute_result"
    }
   ],
   "source": [
    "df[\"RENTHOM1\"] = df[\"RENTHOM1\"] - 1 \n",
    "df.loc[df[\"RENTHOM1\"] > 5, \"RENTHOM1\"] = -1\n",
    "df['RENTHOM1'].value_counts()"
   ]
  },
  {
   "cell_type": "code",
   "execution_count": 22,
   "id": "21e99db5",
   "metadata": {},
   "outputs": [
    {
     "data": {
      "text/plain": [
       "VETERAN3\n",
       " 0.0    93952\n",
       " 1.0    15884\n",
       "-1.0      150\n",
       "Name: count, dtype: int64"
      ]
     },
     "execution_count": 22,
     "metadata": {},
     "output_type": "execute_result"
    }
   ],
   "source": [
    "df.loc[df[\"VETERAN3\"] == 2, \"VETERAN3\"] = 0 \n",
    "df.loc[df[\"VETERAN3\"] > 3, \"VETERAN3\"] = -1\n",
    "df['VETERAN3'].value_counts()"
   ]
  },
  {
   "cell_type": "code",
   "execution_count": 23,
   "id": "94b90538",
   "metadata": {},
   "outputs": [
    {
     "name": "stderr",
     "output_type": "stream",
     "text": [
      "/tmp/ipykernel_10232/953924729.py:1: SettingWithCopyWarning: \n",
      "A value is trying to be set on a copy of a slice from a DataFrame.\n",
      "Try using .loc[row_indexer,col_indexer] = value instead\n",
      "\n",
      "See the caveats in the documentation: https://pandas.pydata.org/pandas-docs/stable/user_guide/indexing.html#returning-a-view-versus-a-copy\n",
      "  df[\"EMPLOY1\"] = df[\"EMPLOY1\"] - 1\n"
     ]
    },
    {
     "data": {
      "text/plain": [
       "EMPLOY1\n",
       " 0.0    42203\n",
       " 6.0    40510\n",
       " 1.0    11165\n",
       " 7.0     8450\n",
       " 4.0     3425\n",
       " 2.0     1999\n",
       " 3.0     1422\n",
       "-1.0      558\n",
       " 5.0      254\n",
       "Name: count, dtype: int64"
      ]
     },
     "execution_count": 23,
     "metadata": {},
     "output_type": "execute_result"
    }
   ],
   "source": [
    "df[\"EMPLOY1\"] = df[\"EMPLOY1\"] - 1 \n",
    "df.loc[df[\"EMPLOY1\"] == 8, \"EMPLOY1\"] = -1\n",
    "\n",
    "df['EMPLOY1'].value_counts()"
   ]
  },
  {
   "cell_type": "code",
   "execution_count": 24,
   "id": "5d0201c0",
   "metadata": {},
   "outputs": [
    {
     "name": "stderr",
     "output_type": "stream",
     "text": [
      "/tmp/ipykernel_10232/2724553984.py:1: SettingWithCopyWarning: \n",
      "A value is trying to be set on a copy of a slice from a DataFrame.\n",
      "Try using .loc[row_indexer,col_indexer] = value instead\n",
      "\n",
      "See the caveats in the documentation: https://pandas.pydata.org/pandas-docs/stable/user_guide/indexing.html#returning-a-view-versus-a-copy\n",
      "  df[\"_AGEG5YR\"] = df[\"_AGEG5YR\"] - 1\n"
     ]
    },
    {
     "data": {
      "text/plain": [
       "_AGEG5YR\n",
       " 8.0     17934\n",
       " 9.0     17348\n",
       " 7.0     15774\n",
       " 6.0     14913\n",
       " 10.0    13966\n",
       " 5.0     12871\n",
       " 11.0     8895\n",
       " 12.0     6634\n",
       "-1.0      1651\n",
       "Name: count, dtype: int64"
      ]
     },
     "execution_count": 24,
     "metadata": {},
     "output_type": "execute_result"
    }
   ],
   "source": [
    "df[\"_AGEG5YR\"] = df[\"_AGEG5YR\"] - 1 \n",
    "df.loc[df[\"_AGEG5YR\"] ==  13, \"_AGEG5YR\"] = -1\n",
    "df['_AGEG5YR'].value_counts()"
   ]
  },
  {
   "cell_type": "code",
   "execution_count": 25,
   "id": "26ee28b6",
   "metadata": {},
   "outputs": [
    {
     "name": "stderr",
     "output_type": "stream",
     "text": [
      "/tmp/ipykernel_10232/2176923739.py:1: SettingWithCopyWarning: \n",
      "A value is trying to be set on a copy of a slice from a DataFrame.\n",
      "Try using .loc[row_indexer,col_indexer] = value instead\n",
      "\n",
      "See the caveats in the documentation: https://pandas.pydata.org/pandas-docs/stable/user_guide/indexing.html#returning-a-view-versus-a-copy\n",
      "  df[\"_INCOMG1\"] = df[\"_INCOMG1\"] - 1\n"
     ]
    },
    {
     "data": {
      "text/plain": [
       "_INCOMG1\n",
       " 4.0    29155\n",
       " 5.0    21371\n",
       "-1.0    16302\n",
       " 3.0    11280\n",
       " 2.0     9878\n",
       " 1.0     8662\n",
       " 6.0     7314\n",
       " 0.0     6024\n",
       "Name: count, dtype: int64"
      ]
     },
     "execution_count": 25,
     "metadata": {},
     "output_type": "execute_result"
    }
   ],
   "source": [
    "df[\"_INCOMG1\"] = df[\"_INCOMG1\"] - 1 \n",
    "df.loc[df[\"_INCOMG1\"] >= 7, \"_INCOMG1\"] = -1\n",
    "df['_INCOMG1'].value_counts()"
   ]
  },
  {
   "cell_type": "code",
   "execution_count": 26,
   "id": "71824667",
   "metadata": {},
   "outputs": [
    {
     "name": "stderr",
     "output_type": "stream",
     "text": [
      "/tmp/ipykernel_10232/4019845351.py:1: SettingWithCopyWarning: \n",
      "A value is trying to be set on a copy of a slice from a DataFrame.\n",
      "Try using .loc[row_indexer,col_indexer] = value instead\n",
      "\n",
      "See the caveats in the documentation: https://pandas.pydata.org/pandas-docs/stable/user_guide/indexing.html#returning-a-view-versus-a-copy\n",
      "  df[\"_EDUCAG\"] = df[\"_EDUCAG\"] - 1\n"
     ]
    },
    {
     "data": {
      "text/plain": [
       "_EDUCAG\n",
       " 3.0    49552\n",
       " 2.0    30316\n",
       " 1.0    23713\n",
       " 0.0     6120\n",
       "-1.0      285\n",
       "Name: count, dtype: int64"
      ]
     },
     "execution_count": 26,
     "metadata": {},
     "output_type": "execute_result"
    }
   ],
   "source": [
    "df[\"_EDUCAG\"] = df[\"_EDUCAG\"] - 1 \n",
    "df.loc[df[\"_EDUCAG\"] > 5, \"_EDUCAG\"] = -1\n",
    "\n",
    "df['_EDUCAG'].value_counts()"
   ]
  },
  {
   "cell_type": "code",
   "execution_count": 27,
   "id": "8abba311",
   "metadata": {},
   "outputs": [
    {
     "name": "stderr",
     "output_type": "stream",
     "text": [
      "/tmp/ipykernel_10232/547383120.py:1: SettingWithCopyWarning: \n",
      "A value is trying to be set on a copy of a slice from a DataFrame.\n",
      "Try using .loc[row_indexer,col_indexer] = value instead\n",
      "\n",
      "See the caveats in the documentation: https://pandas.pydata.org/pandas-docs/stable/user_guide/indexing.html#returning-a-view-versus-a-copy\n",
      "  df[\"_CHLDCNT\"] = df[\"_CHLDCNT\"] - 1\n"
     ]
    },
    {
     "data": {
      "text/plain": [
       "_CHLDCNT\n",
       " 0.0    90787\n",
       " 1.0     9982\n",
       " 2.0     5784\n",
       " 3.0     1868\n",
       "-1.0      710\n",
       " 4.0      550\n",
       " 5.0      305\n",
       "Name: count, dtype: int64"
      ]
     },
     "execution_count": 27,
     "metadata": {},
     "output_type": "execute_result"
    }
   ],
   "source": [
    "df[\"_CHLDCNT\"] = df[\"_CHLDCNT\"] - 1 \n",
    "df.loc[df[\"_CHLDCNT\"] > 6, \"_CHLDCNT\"] = -1\n",
    "\n",
    "df['_CHLDCNT'].value_counts()"
   ]
  },
  {
   "cell_type": "code",
   "execution_count": 28,
   "id": "f6f95211",
   "metadata": {},
   "outputs": [
    {
     "name": "stderr",
     "output_type": "stream",
     "text": [
      "/tmp/ipykernel_10232/315867495.py:3: SettingWithCopyWarning: \n",
      "A value is trying to be set on a copy of a slice from a DataFrame.\n",
      "Try using .loc[row_indexer,col_indexer] = value instead\n",
      "\n",
      "See the caveats in the documentation: https://pandas.pydata.org/pandas-docs/stable/user_guide/indexing.html#returning-a-view-versus-a-copy\n",
      "  df['HHADULT'] = df['HHADULT'].astype(int)\n"
     ]
    },
    {
     "data": {
      "text/plain": [
       "HHADULT\n",
       " 2     55799\n",
       " 1     29308\n",
       " 3     15238\n",
       " 4      6258\n",
       " 5      1752\n",
       "-1       832\n",
       " 6       474\n",
       " 7       142\n",
       " 8        56\n",
       " 10       27\n",
       " 9        25\n",
       " 12       20\n",
       " 13       16\n",
       " 11       10\n",
       " 14        5\n",
       " 18        5\n",
       " 15        4\n",
       " 16        4\n",
       " 17        3\n",
       " 0         1\n",
       "Name: count, dtype: int64"
      ]
     },
     "execution_count": 28,
     "metadata": {},
     "output_type": "execute_result"
    }
   ],
   "source": [
    "#Se decide conservar estos casos por la posible presencia de personas que viven en refugios, \n",
    "# residencias de ancianos u otras situaciones especiales de vivienda.\n",
    "df['HHADULT'] = df['HHADULT'].astype(int)\n",
    "df.loc[df[\"HHADULT\"].isin([77,99]), \"HHADULT\"] = -1\n",
    "df = df[df[\"HHADULT\"] <= 20]\n",
    "df['HHADULT'].value_counts()\n"
   ]
  },
  {
   "cell_type": "code",
   "execution_count": 29,
   "id": "72e81f0c",
   "metadata": {},
   "outputs": [
    {
     "data": {
      "text/plain": [
       "SEXVAR\n",
       "0.0    55123\n",
       "1.0    54856\n",
       "Name: count, dtype: int64"
      ]
     },
     "execution_count": 29,
     "metadata": {},
     "output_type": "execute_result"
    }
   ],
   "source": [
    "df[\"SEXVAR\"] = df[\"SEXVAR\"] - 1\n",
    "df['SEXVAR'].value_counts()"
   ]
  },
  {
   "cell_type": "code",
   "execution_count": 30,
   "id": "d60c83b0",
   "metadata": {},
   "outputs": [
    {
     "data": {
      "text/plain": [
       "MEDCOST1\n",
       " 0.0    102259\n",
       " 1.0      7445\n",
       "-1.0       275\n",
       "Name: count, dtype: int64"
      ]
     },
     "execution_count": 30,
     "metadata": {},
     "output_type": "execute_result"
    }
   ],
   "source": [
    "# Se pasa el 2 a 0, Ya que no cumple la condición.\n",
    "\n",
    "df.loc[df[\"MEDCOST1\"] > 6, \"MEDCOST1\"] = -1\n",
    "df.loc[df[\"MEDCOST1\"] == 2, \"MEDCOST1\"] = 0\n",
    "\n",
    "df['MEDCOST1'].value_counts()"
   ]
  },
  {
   "cell_type": "code",
   "execution_count": 31,
   "id": "0308a2f7",
   "metadata": {},
   "outputs": [
    {
     "data": {
      "text/plain": [
       "_HLTHPLN\n",
       " 1.0    103323\n",
       " 0.0      4029\n",
       "-1.0      2627\n",
       "Name: count, dtype: int64"
      ]
     },
     "execution_count": 31,
     "metadata": {},
     "output_type": "execute_result"
    }
   ],
   "source": [
    "# Se pasa el 2 a 0, Ya que no cumple la condición.\n",
    "\n",
    "df.loc[df[\"_HLTHPLN\"] > 6, \"_HLTHPLN\"] = -1\n",
    "df.loc[df[\"_HLTHPLN\"] == 2, \"_HLTHPLN\"] = 0\n",
    "\n",
    "df['_HLTHPLN'].value_counts()"
   ]
  },
  {
   "cell_type": "code",
   "execution_count": 32,
   "id": "fc6dbef3",
   "metadata": {},
   "outputs": [
    {
     "name": "stdout",
     "output_type": "stream",
     "text": [
      "SDHEMPLY\n",
      " 0.0    100725\n",
      " 1.0      8395\n",
      "-1.0       859\n",
      "Name: count, dtype: int64\n"
     ]
    }
   ],
   "source": [
    "# Variable: SDHEMPLY\n",
    "# ¿En los últimos 12 meses ha perdido su empleo o le han reducido sus horas de trabajo?\n",
    "# Cambio de codificacion:\n",
    "# 1: si     0: no       -1: no contesta\n",
    "df.loc[df[\"SDHEMPLY\"] > 2, \"SDHEMPLY\"] = -1\n",
    "df.loc[df[\"SDHEMPLY\"] == 2, \"SDHEMPLY\"] = 0\n",
    "print(df[\"SDHEMPLY\"].value_counts())"
   ]
  },
  {
   "cell_type": "code",
   "execution_count": 33,
   "id": "78e05102",
   "metadata": {},
   "outputs": [
    {
     "name": "stdout",
     "output_type": "stream",
     "text": [
      "SDHFOOD1\n",
      " 5.0    91105\n",
      " 4.0     7551\n",
      " 3.0     6895\n",
      " 1.0     2116\n",
      " 2.0     1820\n",
      "-1.0      492\n",
      "Name: count, dtype: int64\n"
     ]
    }
   ],
   "source": [
    "# Variable: SDHFOOD1\n",
    "# Durante los últimos 12 meses, ¿con qué frecuencia no te duró la comida que compraste y no tuviste dinero para comprar más? ¿Fue eso…?\n",
    "# Cambio de codificacion:\n",
    "# -1: no contesta       [El resto se mantiene tal cual]\n",
    "df.loc[df[\"SDHFOOD1\"] > 5, \"SDHFOOD1\"] = -1\n",
    "print(df[\"SDHFOOD1\"].value_counts())"
   ]
  },
  {
   "cell_type": "code",
   "execution_count": 34,
   "id": "ee0959a0",
   "metadata": {},
   "outputs": [
    {
     "name": "stdout",
     "output_type": "stream",
     "text": [
      "SDHUTILS\n",
      " 0.0    103605\n",
      " 1.0      6089\n",
      "-1.0       285\n",
      "Name: count, dtype: int64\n"
     ]
    }
   ],
   "source": [
    "# Variable: SDHUTILS\n",
    "# Durante los últimos 12 meses, ¿hubo alguna ocasión en que una compañía de electricidad, gas, petróleo o agua amenazó \n",
    "# con cortar los servicios?\n",
    "# Cambio de codificacion:\n",
    "# 1: si     0: no       -1: no contesta\n",
    "df.loc[df[\"SDHUTILS\"] > 2, \"SDHUTILS\"] = -1\n",
    "df.loc[df[\"SDHUTILS\"] == 2, \"SDHUTILS\"] = 0\n",
    "print(df[\"SDHUTILS\"].value_counts())"
   ]
  },
  {
   "cell_type": "code",
   "execution_count": 35,
   "id": "bbd6a37a",
   "metadata": {},
   "outputs": [
    {
     "name": "stdout",
     "output_type": "stream",
     "text": [
      "SDHBILLS\n",
      " 0.0    100651\n",
      " 1.0      8953\n",
      "-1.0       375\n",
      "Name: count, dtype: int64\n"
     ]
    }
   ],
   "source": [
    "# Variable: SDHBILLS\n",
    "# Durante los últimos 12 meses, ¿hubo algún momento en el que no pudo pagar su hipoteca, alquiler o facturas de servicios públicos?\n",
    "# Cambio de codificacion:\n",
    "# 1: si     0: no       -1: no contesta\n",
    "df.loc[df[\"SDHBILLS\"] > 2, \"SDHBILLS\"] = -1\n",
    "df.loc[df[\"SDHBILLS\"] == 2, \"SDHBILLS\"] = 0\n",
    "print(df[\"SDHBILLS\"].value_counts())"
   ]
  },
  {
   "cell_type": "code",
   "execution_count": 36,
   "id": "6d928eb3",
   "metadata": {},
   "outputs": [
    {
     "name": "stdout",
     "output_type": "stream",
     "text": [
      "SDHTRNSP\n",
      " 0.0    103560\n",
      " 1.0      6176\n",
      "-1.0       243\n",
      "Name: count, dtype: int64\n"
     ]
    }
   ],
   "source": [
    "# Variable: SDHTRNSP\n",
    "# Durante los últimos 12 meses, ¿la falta de transporte confiable le ha impedido asistir a citas médicas, reuniones, \n",
    "# trabajar o conseguir las cosas que necesita para la vida diaria?\n",
    "# Cambio de codificacion:\n",
    "# 1: si     0: no       -1: no contesta\n",
    "df.loc[df[\"SDHTRNSP\"] > 2, \"SDHTRNSP\"] = -1\n",
    "df.loc[df[\"SDHTRNSP\"] == 2, \"SDHTRNSP\"] = 0\n",
    "print(df[\"SDHTRNSP\"].value_counts())"
   ]
  },
  {
   "cell_type": "code",
   "execution_count": 37,
   "id": "2d4b8f03",
   "metadata": {},
   "outputs": [
    {
     "name": "stdout",
     "output_type": "stream",
     "text": [
      "SLEPTIM1\n",
      " 7.0     33811\n",
      " 8.0     31788\n",
      " 6.0     22853\n",
      " 5.0      6936\n",
      " 9.0      5487\n",
      " 4.0      3003\n",
      " 10.0     2551\n",
      "-1.0       979\n",
      " 3.0       775\n",
      " 12.0      705\n",
      " 2.0       321\n",
      " 1.0       229\n",
      " 11.0      166\n",
      " 15.0       86\n",
      " 14.0       76\n",
      " 16.0       75\n",
      " 18.0       48\n",
      " 13.0       39\n",
      " 20.0       27\n",
      " 24.0       10\n",
      " 17.0        6\n",
      " 19.0        4\n",
      " 23.0        2\n",
      " 22.0        2\n",
      "Name: count, dtype: int64\n"
     ]
    }
   ],
   "source": [
    "# Variable: SLEPTIM1\n",
    "# En promedio, ¿cuántas horas duermes en un período de 24 horas?\n",
    "# Cambio de codificacion:\n",
    "# -1: no contesta       [El resto se mantiene tal cual]\n",
    "df.loc[df[\"SLEPTIM1\"] > 24, \"SLEPTIM1\"] = -1\n",
    "print(df[\"SLEPTIM1\"].value_counts())"
   ]
  },
  {
   "cell_type": "code",
   "execution_count": 38,
   "id": "bb943009",
   "metadata": {},
   "outputs": [
    {
     "name": "stdout",
     "output_type": "stream",
     "text": [
      "HIVRISK5\n",
      " 0.0    107051\n",
      " 1.0      2542\n",
      "-1.0       386\n",
      "Name: count, dtype: int64\n"
     ]
    }
   ],
   "source": [
    "# Variable: HIVRISK5\n",
    "# Voy a leerte una lista. Cuando termine, por favor, dime si alguna de estas situaciones te aplica. No es necesario \n",
    "# que me digas cuál. Te has inyectado alguna droga distinta a la recetada en el último año. Has recibido tratamiento \n",
    "# por una enfermedad de transmisión sexual o ETS en el último año. Has dado o recibido dinero o drogas a cambio de sexo en el último año.\n",
    "# Cambio de codificacion:\n",
    "# 1: si     0: no       -1: no contesta\n",
    "df.loc[df[\"HIVRISK5\"] > 2, \"HIVRISK5\"] = -1\n",
    "df.loc[df[\"HIVRISK5\"] == 2, \"HIVRISK5\"] = 0\n",
    "print(df[\"HIVRISK5\"].value_counts())"
   ]
  },
  {
   "cell_type": "code",
   "execution_count": 39,
   "id": "5d7c4cda",
   "metadata": {},
   "outputs": [
    {
     "name": "stdout",
     "output_type": "stream",
     "text": [
      "_TOTINDA\n",
      " 1.0    83417\n",
      " 0.0    26368\n",
      "-1.0      194\n",
      "Name: count, dtype: int64\n"
     ]
    }
   ],
   "source": [
    "# Variable: _TOTINDA\n",
    "# Adultos que informaron haber realizado actividad física o ejercicio durante los últimos 30 días aparte de su trabajo habitual\n",
    "# Cambio de codificacion:\n",
    "# 1: si     0: no       -1: no contesta\n",
    "df.loc[df[\"_TOTINDA\"] > 2, \"_TOTINDA\"] = -1\n",
    "df.loc[df[\"_TOTINDA\"] == 2, \"_TOTINDA\"] = 0\n",
    "print(df[\"_TOTINDA\"].value_counts())"
   ]
  },
  {
   "cell_type": "code",
   "execution_count": 40,
   "id": "7dc515b5",
   "metadata": {},
   "outputs": [
    {
     "name": "stdout",
     "output_type": "stream",
     "text": [
      "CVDSTRK3\n",
      " 0.0    104167\n",
      " 1.0      5563\n",
      "-1.0       249\n",
      "Name: count, dtype: int64\n"
     ]
    }
   ],
   "source": [
    "# Variable: CVDSTRK3\n",
    "# ¿Alguna vez te han dicho que tuviste un derrame cerebral?\n",
    "# Cambio de codificacion:\n",
    "# 1: si     0: no       -1: no contesta\n",
    "df.loc[df[\"CVDSTRK3\"] > 2, \"CVDSTRK3\"] = -1\n",
    "df.loc[df[\"CVDSTRK3\"] == 2, \"CVDSTRK3\"] = 0\n",
    "print(df[\"CVDSTRK3\"].value_counts())"
   ]
  },
  {
   "cell_type": "code",
   "execution_count": 41,
   "id": "30109aec",
   "metadata": {},
   "outputs": [
    {
     "name": "stdout",
     "output_type": "stream",
     "text": [
      "DIABETE4\n",
      " 0.0    87157\n",
      " 3.0    18927\n",
      " 1.0     3072\n",
      " 2.0      689\n",
      "-1.0      134\n",
      "Name: count, dtype: int64\n"
     ]
    }
   ],
   "source": [
    "# Variable: DIABETE4\n",
    "# ¿Alguna vez le dijeron que tenía diabetes? (Si la respuesta es «Sí» y la encuestada es mujer, pregunte \n",
    "# «¿Fue solo cuando estaba embarazada?». Si la encuestada dice prediabetes o diabetes limítrofe, use el código de respuesta 4).\n",
    "# Cambio de codificacion:\n",
    "# 0: No     1: Prediabetes      2: En embarazo      3: No diabetes      -1: No contesta\n",
    "df.loc[df[\"DIABETE4\"] == 3, \"DIABETE4\"] = 0\n",
    "df.loc[df[\"DIABETE4\"] == 1, \"DIABETE4\"] = 3\n",
    "df.loc[df[\"DIABETE4\"] == 4, \"DIABETE4\"] = 1\n",
    "df.loc[df[\"DIABETE4\"] > 4, \"DIABETE4\"] = -1\n",
    "print(df[\"DIABETE4\"].value_counts())"
   ]
  },
  {
   "cell_type": "code",
   "execution_count": 42,
   "id": "ccfcf239",
   "metadata": {},
   "outputs": [],
   "source": [
    "columnas = df.columns\n",
    "columnas\n",
    "for col in columnas:\n",
    "    df = df[df[col] != -1]"
   ]
  },
  {
   "cell_type": "code",
   "execution_count": 43,
   "id": "6c2f7177",
   "metadata": {},
   "outputs": [],
   "source": [
    "df.to_csv(\"../data/processed/datafinal.csv\", index=False)"
   ]
  }
 ],
 "metadata": {
  "kernelspec": {
   "display_name": ".venv",
   "language": "python",
   "name": "python3"
  },
  "language_info": {
   "codemirror_mode": {
    "name": "ipython",
    "version": 3
   },
   "file_extension": ".py",
   "mimetype": "text/x-python",
   "name": "python",
   "nbconvert_exporter": "python",
   "pygments_lexer": "ipython3",
   "version": "3.11.4"
  }
 },
 "nbformat": 4,
 "nbformat_minor": 5
}
