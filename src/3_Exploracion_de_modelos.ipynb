{
 "cells": [
  {
   "cell_type": "code",
   "execution_count": 72,
   "id": "46e27dd8",
   "metadata": {},
   "outputs": [],
   "source": [
    "import pandas as pd\n",
    "import numpy as np\n",
    "\n",
    "import matplotlib.pyplot as plt\n",
    "\n",
    "from sklearn.metrics import accuracy_score\n",
    "from sklearn.metrics import f1_score\n",
    "from sklearn.metrics import precision_score\n",
    "from sklearn.metrics import recall_score\n",
    "from sklearn.metrics import classification_report\n",
    "\n",
    "from sklearn.model_selection import train_test_split\n",
    "\n",
    "from sklearn.preprocessing import StandardScaler\n",
    "from sklearn.utils import class_weight\n",
    "\n",
    "from sklearn.linear_model import LogisticRegression\n",
    "from sklearn.neighbors import KNeighborsClassifier\n",
    "from sklearn.ensemble import RandomForestClassifier\n",
    "from xgboost import XGBClassifier\n",
    "from sklearn.neural_network import MLPClassifier\n",
    "from catboost import CatBoostClassifier\n",
    "import tensorflow as tf\n",
    "from tensorflow import keras\n",
    "from tensorflow.keras import layers\n",
    "\n",
    "from imblearn.over_sampling import SMOTE\n",
    "from imblearn.combine import SMOTEENN\n",
    "\n",
    "from sklearn.feature_selection import SelectKBest, f_classif"
   ]
  },
  {
   "cell_type": "code",
   "execution_count": 26,
   "id": "f713aa7d",
   "metadata": {},
   "outputs": [
    {
     "data": {
      "text/html": [
       "<div>\n",
       "<style scoped>\n",
       "    .dataframe tbody tr th:only-of-type {\n",
       "        vertical-align: middle;\n",
       "    }\n",
       "\n",
       "    .dataframe tbody tr th {\n",
       "        vertical-align: top;\n",
       "    }\n",
       "\n",
       "    .dataframe thead th {\n",
       "        text-align: right;\n",
       "    }\n",
       "</style>\n",
       "<table border=\"1\" class=\"dataframe\">\n",
       "  <thead>\n",
       "    <tr style=\"text-align: right;\">\n",
       "      <th></th>\n",
       "      <th>HHADULT</th>\n",
       "      <th>SEXVAR</th>\n",
       "      <th>MEDCOST1</th>\n",
       "      <th>SLEPTIM1</th>\n",
       "      <th>CVDSTRK3</th>\n",
       "      <th>ADDEPEV3</th>\n",
       "      <th>DIABETE4</th>\n",
       "      <th>MARITAL</th>\n",
       "      <th>RENTHOM1</th>\n",
       "      <th>VETERAN3</th>\n",
       "      <th>...</th>\n",
       "      <th>_ASTHMS1</th>\n",
       "      <th>_DRDXAR2</th>\n",
       "      <th>_AGEG5YR</th>\n",
       "      <th>_BMI5CAT</th>\n",
       "      <th>_CHLDCNT</th>\n",
       "      <th>_EDUCAG</th>\n",
       "      <th>_INCOMG1</th>\n",
       "      <th>_RFBING6</th>\n",
       "      <th>_AIDTST4</th>\n",
       "      <th>tobacco_use</th>\n",
       "    </tr>\n",
       "  </thead>\n",
       "  <tbody>\n",
       "    <tr>\n",
       "      <th>0</th>\n",
       "      <td>2</td>\n",
       "      <td>1.0</td>\n",
       "      <td>0.0</td>\n",
       "      <td>6.0</td>\n",
       "      <td>0.0</td>\n",
       "      <td>1.0</td>\n",
       "      <td>0.0</td>\n",
       "      <td>0.0</td>\n",
       "      <td>0.0</td>\n",
       "      <td>0.0</td>\n",
       "      <td>...</td>\n",
       "      <td>3.0</td>\n",
       "      <td>0.0</td>\n",
       "      <td>8.0</td>\n",
       "      <td>1.0</td>\n",
       "      <td>0.0</td>\n",
       "      <td>3.0</td>\n",
       "      <td>4.0</td>\n",
       "      <td>0.0</td>\n",
       "      <td>0.0</td>\n",
       "      <td>0.0</td>\n",
       "    </tr>\n",
       "    <tr>\n",
       "      <th>1</th>\n",
       "      <td>4</td>\n",
       "      <td>1.0</td>\n",
       "      <td>0.0</td>\n",
       "      <td>7.0</td>\n",
       "      <td>0.0</td>\n",
       "      <td>0.0</td>\n",
       "      <td>0.0</td>\n",
       "      <td>0.0</td>\n",
       "      <td>0.0</td>\n",
       "      <td>0.0</td>\n",
       "      <td>...</td>\n",
       "      <td>3.0</td>\n",
       "      <td>0.0</td>\n",
       "      <td>8.0</td>\n",
       "      <td>2.0</td>\n",
       "      <td>0.0</td>\n",
       "      <td>3.0</td>\n",
       "      <td>-1.0</td>\n",
       "      <td>0.0</td>\n",
       "      <td>0.0</td>\n",
       "      <td>0.0</td>\n",
       "    </tr>\n",
       "    <tr>\n",
       "      <th>2</th>\n",
       "      <td>2</td>\n",
       "      <td>1.0</td>\n",
       "      <td>0.0</td>\n",
       "      <td>7.0</td>\n",
       "      <td>0.0</td>\n",
       "      <td>0.0</td>\n",
       "      <td>0.0</td>\n",
       "      <td>0.0</td>\n",
       "      <td>1.0</td>\n",
       "      <td>0.0</td>\n",
       "      <td>...</td>\n",
       "      <td>3.0</td>\n",
       "      <td>1.0</td>\n",
       "      <td>6.0</td>\n",
       "      <td>3.0</td>\n",
       "      <td>0.0</td>\n",
       "      <td>1.0</td>\n",
       "      <td>2.0</td>\n",
       "      <td>0.0</td>\n",
       "      <td>0.0</td>\n",
       "      <td>0.0</td>\n",
       "    </tr>\n",
       "    <tr>\n",
       "      <th>3</th>\n",
       "      <td>2</td>\n",
       "      <td>0.0</td>\n",
       "      <td>0.0</td>\n",
       "      <td>6.0</td>\n",
       "      <td>0.0</td>\n",
       "      <td>0.0</td>\n",
       "      <td>3.0</td>\n",
       "      <td>0.0</td>\n",
       "      <td>0.0</td>\n",
       "      <td>0.0</td>\n",
       "      <td>...</td>\n",
       "      <td>3.0</td>\n",
       "      <td>0.0</td>\n",
       "      <td>6.0</td>\n",
       "      <td>3.0</td>\n",
       "      <td>0.0</td>\n",
       "      <td>2.0</td>\n",
       "      <td>5.0</td>\n",
       "      <td>0.0</td>\n",
       "      <td>0.0</td>\n",
       "      <td>0.0</td>\n",
       "    </tr>\n",
       "    <tr>\n",
       "      <th>4</th>\n",
       "      <td>2</td>\n",
       "      <td>0.0</td>\n",
       "      <td>0.0</td>\n",
       "      <td>5.0</td>\n",
       "      <td>0.0</td>\n",
       "      <td>0.0</td>\n",
       "      <td>0.0</td>\n",
       "      <td>0.0</td>\n",
       "      <td>0.0</td>\n",
       "      <td>1.0</td>\n",
       "      <td>...</td>\n",
       "      <td>3.0</td>\n",
       "      <td>0.0</td>\n",
       "      <td>8.0</td>\n",
       "      <td>3.0</td>\n",
       "      <td>0.0</td>\n",
       "      <td>2.0</td>\n",
       "      <td>3.0</td>\n",
       "      <td>0.0</td>\n",
       "      <td>1.0</td>\n",
       "      <td>0.0</td>\n",
       "    </tr>\n",
       "    <tr>\n",
       "      <th>...</th>\n",
       "      <td>...</td>\n",
       "      <td>...</td>\n",
       "      <td>...</td>\n",
       "      <td>...</td>\n",
       "      <td>...</td>\n",
       "      <td>...</td>\n",
       "      <td>...</td>\n",
       "      <td>...</td>\n",
       "      <td>...</td>\n",
       "      <td>...</td>\n",
       "      <td>...</td>\n",
       "      <td>...</td>\n",
       "      <td>...</td>\n",
       "      <td>...</td>\n",
       "      <td>...</td>\n",
       "      <td>...</td>\n",
       "      <td>...</td>\n",
       "      <td>...</td>\n",
       "      <td>...</td>\n",
       "      <td>...</td>\n",
       "      <td>...</td>\n",
       "    </tr>\n",
       "    <tr>\n",
       "      <th>109974</th>\n",
       "      <td>1</td>\n",
       "      <td>0.0</td>\n",
       "      <td>0.0</td>\n",
       "      <td>6.0</td>\n",
       "      <td>0.0</td>\n",
       "      <td>0.0</td>\n",
       "      <td>0.0</td>\n",
       "      <td>1.0</td>\n",
       "      <td>0.0</td>\n",
       "      <td>0.0</td>\n",
       "      <td>...</td>\n",
       "      <td>3.0</td>\n",
       "      <td>1.0</td>\n",
       "      <td>8.0</td>\n",
       "      <td>2.0</td>\n",
       "      <td>0.0</td>\n",
       "      <td>2.0</td>\n",
       "      <td>5.0</td>\n",
       "      <td>1.0</td>\n",
       "      <td>0.0</td>\n",
       "      <td>1.0</td>\n",
       "    </tr>\n",
       "    <tr>\n",
       "      <th>109975</th>\n",
       "      <td>4</td>\n",
       "      <td>0.0</td>\n",
       "      <td>0.0</td>\n",
       "      <td>7.0</td>\n",
       "      <td>1.0</td>\n",
       "      <td>0.0</td>\n",
       "      <td>3.0</td>\n",
       "      <td>0.0</td>\n",
       "      <td>1.0</td>\n",
       "      <td>0.0</td>\n",
       "      <td>...</td>\n",
       "      <td>3.0</td>\n",
       "      <td>1.0</td>\n",
       "      <td>9.0</td>\n",
       "      <td>2.0</td>\n",
       "      <td>0.0</td>\n",
       "      <td>3.0</td>\n",
       "      <td>5.0</td>\n",
       "      <td>0.0</td>\n",
       "      <td>1.0</td>\n",
       "      <td>0.0</td>\n",
       "    </tr>\n",
       "    <tr>\n",
       "      <th>109976</th>\n",
       "      <td>2</td>\n",
       "      <td>1.0</td>\n",
       "      <td>0.0</td>\n",
       "      <td>7.0</td>\n",
       "      <td>0.0</td>\n",
       "      <td>0.0</td>\n",
       "      <td>0.0</td>\n",
       "      <td>0.0</td>\n",
       "      <td>0.0</td>\n",
       "      <td>1.0</td>\n",
       "      <td>...</td>\n",
       "      <td>3.0</td>\n",
       "      <td>0.0</td>\n",
       "      <td>6.0</td>\n",
       "      <td>2.0</td>\n",
       "      <td>1.0</td>\n",
       "      <td>3.0</td>\n",
       "      <td>4.0</td>\n",
       "      <td>0.0</td>\n",
       "      <td>1.0</td>\n",
       "      <td>0.0</td>\n",
       "    </tr>\n",
       "    <tr>\n",
       "      <th>109977</th>\n",
       "      <td>1</td>\n",
       "      <td>1.0</td>\n",
       "      <td>1.0</td>\n",
       "      <td>5.0</td>\n",
       "      <td>0.0</td>\n",
       "      <td>0.0</td>\n",
       "      <td>0.0</td>\n",
       "      <td>0.0</td>\n",
       "      <td>2.0</td>\n",
       "      <td>0.0</td>\n",
       "      <td>...</td>\n",
       "      <td>3.0</td>\n",
       "      <td>0.0</td>\n",
       "      <td>9.0</td>\n",
       "      <td>0.0</td>\n",
       "      <td>0.0</td>\n",
       "      <td>1.0</td>\n",
       "      <td>-1.0</td>\n",
       "      <td>-1.0</td>\n",
       "      <td>0.0</td>\n",
       "      <td>2.0</td>\n",
       "    </tr>\n",
       "    <tr>\n",
       "      <th>109978</th>\n",
       "      <td>2</td>\n",
       "      <td>0.0</td>\n",
       "      <td>0.0</td>\n",
       "      <td>5.0</td>\n",
       "      <td>0.0</td>\n",
       "      <td>0.0</td>\n",
       "      <td>0.0</td>\n",
       "      <td>0.0</td>\n",
       "      <td>1.0</td>\n",
       "      <td>0.0</td>\n",
       "      <td>...</td>\n",
       "      <td>2.0</td>\n",
       "      <td>0.0</td>\n",
       "      <td>10.0</td>\n",
       "      <td>3.0</td>\n",
       "      <td>0.0</td>\n",
       "      <td>2.0</td>\n",
       "      <td>4.0</td>\n",
       "      <td>0.0</td>\n",
       "      <td>1.0</td>\n",
       "      <td>0.0</td>\n",
       "    </tr>\n",
       "  </tbody>\n",
       "</table>\n",
       "<p>109979 rows × 39 columns</p>\n",
       "</div>"
      ],
      "text/plain": [
       "        HHADULT  SEXVAR  MEDCOST1  SLEPTIM1  CVDSTRK3  ADDEPEV3  DIABETE4  \\\n",
       "0             2     1.0       0.0       6.0       0.0       1.0       0.0   \n",
       "1             4     1.0       0.0       7.0       0.0       0.0       0.0   \n",
       "2             2     1.0       0.0       7.0       0.0       0.0       0.0   \n",
       "3             2     0.0       0.0       6.0       0.0       0.0       3.0   \n",
       "4             2     0.0       0.0       5.0       0.0       0.0       0.0   \n",
       "...         ...     ...       ...       ...       ...       ...       ...   \n",
       "109974        1     0.0       0.0       6.0       0.0       0.0       0.0   \n",
       "109975        4     0.0       0.0       7.0       1.0       0.0       3.0   \n",
       "109976        2     1.0       0.0       7.0       0.0       0.0       0.0   \n",
       "109977        1     1.0       1.0       5.0       0.0       0.0       0.0   \n",
       "109978        2     0.0       0.0       5.0       0.0       0.0       0.0   \n",
       "\n",
       "        MARITAL  RENTHOM1  VETERAN3  ...  _ASTHMS1  _DRDXAR2  _AGEG5YR  \\\n",
       "0           0.0       0.0       0.0  ...       3.0       0.0       8.0   \n",
       "1           0.0       0.0       0.0  ...       3.0       0.0       8.0   \n",
       "2           0.0       1.0       0.0  ...       3.0       1.0       6.0   \n",
       "3           0.0       0.0       0.0  ...       3.0       0.0       6.0   \n",
       "4           0.0       0.0       1.0  ...       3.0       0.0       8.0   \n",
       "...         ...       ...       ...  ...       ...       ...       ...   \n",
       "109974      1.0       0.0       0.0  ...       3.0       1.0       8.0   \n",
       "109975      0.0       1.0       0.0  ...       3.0       1.0       9.0   \n",
       "109976      0.0       0.0       1.0  ...       3.0       0.0       6.0   \n",
       "109977      0.0       2.0       0.0  ...       3.0       0.0       9.0   \n",
       "109978      0.0       1.0       0.0  ...       2.0       0.0      10.0   \n",
       "\n",
       "        _BMI5CAT  _CHLDCNT  _EDUCAG  _INCOMG1  _RFBING6  _AIDTST4  tobacco_use  \n",
       "0            1.0       0.0      3.0       4.0       0.0       0.0          0.0  \n",
       "1            2.0       0.0      3.0      -1.0       0.0       0.0          0.0  \n",
       "2            3.0       0.0      1.0       2.0       0.0       0.0          0.0  \n",
       "3            3.0       0.0      2.0       5.0       0.0       0.0          0.0  \n",
       "4            3.0       0.0      2.0       3.0       0.0       1.0          0.0  \n",
       "...          ...       ...      ...       ...       ...       ...          ...  \n",
       "109974       2.0       0.0      2.0       5.0       1.0       0.0          1.0  \n",
       "109975       2.0       0.0      3.0       5.0       0.0       1.0          0.0  \n",
       "109976       2.0       1.0      3.0       4.0       0.0       1.0          0.0  \n",
       "109977       0.0       0.0      1.0      -1.0      -1.0       0.0          2.0  \n",
       "109978       3.0       0.0      2.0       4.0       0.0       1.0          0.0  \n",
       "\n",
       "[109979 rows x 39 columns]"
      ]
     },
     "execution_count": 26,
     "metadata": {},
     "output_type": "execute_result"
    }
   ],
   "source": [
    "df = pd.read_csv(\"/workspaces/Final_Project_DataScient/data/processed/datafinal.csv\")\n",
    "df"
   ]
  },
  {
   "cell_type": "code",
   "execution_count": 27,
   "id": "1b34dde8",
   "metadata": {},
   "outputs": [
    {
     "data": {
      "text/plain": [
       "ADDEPEV3\n",
       "0.0    0.793233\n",
       "1.0    0.206767\n",
       "Name: proportion, dtype: float64"
      ]
     },
     "execution_count": 27,
     "metadata": {},
     "output_type": "execute_result"
    }
   ],
   "source": [
    "df[\"ADDEPEV3\"].value_counts(normalize=True)"
   ]
  },
  {
   "cell_type": "markdown",
   "id": "886ce2eb",
   "metadata": {},
   "source": [
    "# 🏁 Modelado Predictivo\n",
    "\n",
    "## 🎯 Introducción\n",
    "Este notebook tiene como objetivo construir y evaluar un modelo de aprendizaje automático para **predecir la variable objetivo** a partir de un conjunto de datos inicial. El dataset utilizado presenta desafíos típicos en ciencia de datos, como:\n",
    "\n",
    "- **Clases desbalanceadas**, lo que exige evaluar diferentes estrategias de balanceo.\n",
    "- Gran cantidad de **características**, para las que es clave evaluar métodos de selección y reducción de variables.\n",
    "\n",
    "A lo largo del notebook se realizan pruebas para:\n",
    "\n",
    "- Comparar diferentes modelos base (Logistic Regression, Random Forest, XGBoost, entre otros).\n",
    "- Evaluar distintos enfoques para imputación de nulos (`NaN → -1` vs eliminación de registros).\n",
    "- Aplicar diferentes estrategias de balance de clases (undersampling, oversampling, class weighting).\n",
    "- Analizar el impacto de diversos métodos de selección de características (`SelectKBest`, importancia de características en Random Forest/XGBoost).\n",
    "- Identificar y justificar el modelo final seleccionado para la tarea.\n",
    "\n",
    "## 🔍 Resultado Esperado\n",
    "Al finalizar, contar con:\n",
    "\n",
    "✅ Una comparación clara de rendimientos para cada estrategia implementada.  \n",
    "✅ El modelo final seleccionado junto a su justificación.  \n"
   ]
  },
  {
   "cell_type": "code",
   "execution_count": 28,
   "id": "70af3b76",
   "metadata": {},
   "outputs": [],
   "source": [
    "def show_metrics(y_test, y_pred_test, y_train, y_pred_train):    \n",
    "    accuracy_test = accuracy_score(y_test, y_pred_test)\n",
    "    accuracy_train = accuracy_score(y_train, y_pred_train)\n",
    "    f1_score_test = f1_score(y_test, y_pred_test)\n",
    "    f1_score_train = f1_score(y_train, y_pred_train)\n",
    "    precision_test = precision_score(y_test, y_pred_test)\n",
    "    precision_train = precision_score(y_train, y_pred_train)\n",
    "    recall_test = recall_score(y_test, y_pred_test)\n",
    "    recall_train = recall_score(y_train, y_pred_train)\n",
    "\n",
    "    print(\"\\nRESULTADOS DEL MODELO\")\n",
    "    print(\"=\" * 50)\n",
    "    print(f\"{'Métrica':<15} {'Test':<10} {'Train':<10}\")\n",
    "    print(\"-\" * 50)\n",
    "    print(f\"{'Accuracy':<15} {accuracy_test:<10.2f} {accuracy_train:<10.2f}\")\n",
    "    print(f\"{'F1 Score':<15} {f1_score_test:<10.2f} {f1_score_train:<10.2f}\")\n",
    "    print(f\"{'Precision':<15} {precision_test:<10.2f} {precision_train:<10.2f}\")\n",
    "    print(f\"{'Recall':<15} {recall_test:<10.2f} {recall_train:<10.2f}\")\n",
    "    print(\"=\" * 50)"
   ]
  },
  {
   "cell_type": "code",
   "execution_count": 29,
   "id": "fc294531",
   "metadata": {},
   "outputs": [],
   "source": [
    "# DIVISION DE DATOS EN TRAIN Y TEST\n",
    "X = df.drop(\"ADDEPEV3\", axis = 1)\n",
    "y = df[\"ADDEPEV3\"]\n",
    "\n",
    "X_train, X_test, y_train, y_test = train_test_split(X, y, test_size = 0.2, stratify=y, random_state = 42)"
   ]
  },
  {
   "cell_type": "code",
   "execution_count": 30,
   "id": "933f7a04",
   "metadata": {},
   "outputs": [],
   "source": [
    "# ESCALADO DE VARIABLES PARA MODELOS LINEALES O BASADOS EN DISTANCIAS\n",
    "scaler = StandardScaler().fit(X_train)\n",
    "\n",
    "X_train_scaled = pd.DataFrame(scaler.transform(X_train), index=X_train.index, columns=X_train.columns)\n",
    "X_test_scaled = pd.DataFrame(scaler.transform(X_test), index=X_test.index, columns=X_test.columns)"
   ]
  },
  {
   "cell_type": "markdown",
   "id": "ba46ba35",
   "metadata": {},
   "source": [
    "## ⚡️ Fase 1: Pruebas Iniciales con el Dataset Original\n",
    "\n",
    "### 🎯 Descripción\n",
    "En esta primera fase, trabajamos con la **data tal cual está**:\n",
    "- Sin eliminar variables.\n",
    "- Conservando los valores \"faltantes\" representados como `-1`.\n",
    "- Sin aplicar ninguna técnica de imputación o balanceo de clases.\n",
    "\n",
    "### 🔍 Objetivo\n",
    "Obtener una línea base para evaluar:\n",
    "- El rendimiento inicial de diferentes modelos.\n",
    "- La importancia de procesar o no los datos antes de continuar.\n",
    "\n",
    "### 🛠️ Modelos Evaluados\n",
    "- Logistic Regression\n",
    "- Random Forest\n",
    "- XGBoost\n",
    "- Otros modelos base relevantes.\n",
    "\n",
    "### 📊 Resultados\n",
    "*(Se incluirán métricas alcanzadas por cada modelo para establecer una línea base.)*\n"
   ]
  },
  {
   "cell_type": "code",
   "execution_count": 31,
   "id": "97638a63",
   "metadata": {},
   "outputs": [
    {
     "name": "stdout",
     "output_type": "stream",
     "text": [
      "\n",
      "RESULTADOS DEL MODELO\n",
      "==================================================\n",
      "Métrica         Test       Train     \n",
      "--------------------------------------------------\n",
      "Accuracy        0.77       0.78      \n",
      "F1 Score        0.56       0.57      \n",
      "Precision       0.47       0.47      \n",
      "Recall          0.69       0.70      \n",
      "==================================================\n"
     ]
    }
   ],
   "source": [
    "# REGRESION LOGISTICA\n",
    "log_reg = LogisticRegression(random_state=42, max_iter=1000, class_weight='balanced')\n",
    "log_reg.fit(X_train_scaled, y_train)\n",
    "\n",
    "y_pred_test = log_reg.predict(X_test_scaled)\n",
    "y_pred_train = log_reg.predict(X_train_scaled)\n",
    "\n",
    "show_metrics(y_test, y_pred_test, y_train, y_pred_train)"
   ]
  },
  {
   "cell_type": "code",
   "execution_count": 32,
   "id": "a29764fd",
   "metadata": {},
   "outputs": [
    {
     "name": "stdout",
     "output_type": "stream",
     "text": [
      "\n",
      "RESULTADOS DEL MODELO\n",
      "==================================================\n",
      "Métrica         Test       Train     \n",
      "--------------------------------------------------\n",
      "Accuracy        0.81       0.86      \n",
      "F1 Score        0.42       0.58      \n",
      "Precision       0.58       0.78      \n",
      "Recall          0.32       0.46      \n",
      "==================================================\n"
     ]
    }
   ],
   "source": [
    "# KNN\n",
    "knn = KNeighborsClassifier()\n",
    "knn.fit(X_train_scaled, y_train)\n",
    "\n",
    "y_pred_test = knn.predict(X_test_scaled)\n",
    "y_pred_train = knn.predict(X_train_scaled)\n",
    "\n",
    "show_metrics(y_test, y_pred_test, y_train, y_pred_train)"
   ]
  },
  {
   "cell_type": "code",
   "execution_count": 33,
   "id": "1cd85ed9",
   "metadata": {},
   "outputs": [
    {
     "name": "stdout",
     "output_type": "stream",
     "text": [
      "\n",
      "RESULTADOS DEL MODELO\n",
      "==================================================\n",
      "Métrica         Test       Train     \n",
      "--------------------------------------------------\n",
      "Accuracy        0.83       1.00      \n",
      "F1 Score        0.47       1.00      \n",
      "Precision       0.69       1.00      \n",
      "Recall          0.36       1.00      \n",
      "==================================================\n"
     ]
    }
   ],
   "source": [
    "# RANDOM FOREST\n",
    "rf = RandomForestClassifier(random_state=42, class_weight='balanced')\n",
    "rf.fit(X_train, y_train)\n",
    "\n",
    "y_pred_test = rf.predict(X_test)\n",
    "y_pred_train = rf.predict(X_train)\n",
    "\n",
    "show_metrics(y_test, y_pred_test, y_train, y_pred_train)"
   ]
  },
  {
   "cell_type": "code",
   "execution_count": 34,
   "id": "e18045d6",
   "metadata": {},
   "outputs": [
    {
     "name": "stdout",
     "output_type": "stream",
     "text": [
      "\n",
      "RESULTADOS DEL MODELO\n",
      "==================================================\n",
      "Métrica         Test       Train     \n",
      "--------------------------------------------------\n",
      "Accuracy        0.77       0.81      \n",
      "F1 Score        0.56       0.63      \n",
      "Precision       0.46       0.53      \n",
      "Recall          0.70       0.79      \n",
      "==================================================\n"
     ]
    }
   ],
   "source": [
    "# XGBoost\n",
    "xgb = XGBClassifier(random_state=42, scale_pos_weight=(y_train.value_counts()[0] / y_train.value_counts()[1]))\n",
    "xgb.fit(X_train, y_train)\n",
    "\n",
    "y_pred_test = xgb.predict(X_test)\n",
    "y_pred_train = xgb.predict(X_train)\n",
    "\n",
    "show_metrics(y_test, y_pred_test, y_train, y_pred_train)"
   ]
  },
  {
   "cell_type": "code",
   "execution_count": 35,
   "id": "c83d08f9",
   "metadata": {},
   "outputs": [
    {
     "name": "stdout",
     "output_type": "stream",
     "text": [
      "\n",
      "RESULTADOS DEL MODELO\n",
      "==================================================\n",
      "Métrica         Test       Train     \n",
      "--------------------------------------------------\n",
      "Accuracy        0.83       0.86      \n",
      "F1 Score        0.49       0.59      \n",
      "Precision       0.63       0.77      \n",
      "Recall          0.40       0.48      \n",
      "==================================================\n"
     ]
    }
   ],
   "source": [
    "# MLPClassifier\n",
    "mlp = MLPClassifier(random_state=42, max_iter=1000)\n",
    "mlp.fit(X_train_scaled, y_train)\n",
    "\n",
    "y_pred_test = mlp.predict(X_test_scaled)\n",
    "y_pred_train = mlp.predict(X_train_scaled)\n",
    "\n",
    "show_metrics(y_test, y_pred_test, y_train, y_pred_train)\n"
   ]
  },
  {
   "cell_type": "code",
   "execution_count": 36,
   "id": "83349485",
   "metadata": {},
   "outputs": [
    {
     "name": "stdout",
     "output_type": "stream",
     "text": [
      "\n",
      "RESULTADOS DEL MODELO\n",
      "==================================================\n",
      "Métrica         Test       Train     \n",
      "--------------------------------------------------\n",
      "Accuracy        0.77       0.81      \n",
      "F1 Score        0.56       0.63      \n",
      "Precision       0.47       0.52      \n",
      "Recall          0.71       0.79      \n",
      "==================================================\n"
     ]
    }
   ],
   "source": [
    "cat_model = CatBoostClassifier(random_state=42, class_weights={0:1, 1:len(y_train[y_train==0])/len(y_train[y_train==1])},\n",
    "                               verbose=0)\n",
    "\n",
    "cat_model.fit(X_train, y_train)\n",
    "\n",
    "y_pred_test = cat_model.predict(X_test)\n",
    "y_pred_train = cat_model.predict(X_train)\n",
    "\n",
    "show_metrics(y_test, y_pred_test, y_train, y_pred_train)"
   ]
  },
  {
   "cell_type": "markdown",
   "id": "b5ee46c8",
   "metadata": {},
   "source": [
    "## ⚡️ Fase 2: Codificación de Variables Categóricas y Modelos Finalistas\n",
    "\n",
    "### 🎯 Descripción\n",
    "Tras evaluar varios modelos en la Fase 1, vamos a continuar con la segunda fase:\n",
    "- Aplicar **codificación one‑hot** (`pd.get_dummies`) a aquellas variables categóricas relevantes.\n",
    "- Utilizar esta versión transformada del dataset para evaluar nuevamente los modelos que obtuvieron **mejor rendimiento** en la fase inicial.\n",
    "\n",
    "### 🛠️ Pasos a Seguir\n",
    "1. Identificación de variables categóricas clave para codificación.\n",
    "2. Aplicación de `pd.get_dummies` para representar dichas variables de manera adecuada para el modelo.\n",
    "3. Entrenar nuevamente los modelos finalistas sobre la versión codificada del dataset.\n",
    "4. Comparar resultados para evaluar la ganancia en métricas clave (`accuracy`, `recall`, `f1`, etc.).\n",
    "\n",
    "### ✅ Resultado Esperado\n",
    "Obtener una versión del dataset con mayor capacidad explicativa para los modelos finalistas, mejorando su rendimiento y solidez."
   ]
  },
  {
   "cell_type": "code",
   "execution_count": 37,
   "id": "32c7c792",
   "metadata": {},
   "outputs": [],
   "source": [
    "X_train_dummies = pd.get_dummies(X_train, columns=[\"_BMI5CAT\", \"MARITAL\", \"RENTHOM1\", \"EMPLOY1\"])\n",
    "X_test_dummies = pd.get_dummies(X_test, columns=[\"_BMI5CAT\", \"MARITAL\", \"RENTHOM1\", \"EMPLOY1\"])\n",
    "\n",
    "scaler = StandardScaler().fit(X_train_dummies)\n",
    "\n",
    "X_train_dummies_scaled = pd.DataFrame(scaler.transform(X_train_dummies), index=X_train_dummies.index, columns=X_train_dummies.columns)\n",
    "X_test_dummies_scaled = pd.DataFrame(scaler.transform(X_test_dummies), index=X_test_dummies.index, columns=X_test_dummies.columns)"
   ]
  },
  {
   "cell_type": "code",
   "execution_count": null,
   "id": "a5ce152e",
   "metadata": {},
   "outputs": [
    {
     "name": "stdout",
     "output_type": "stream",
     "text": [
      "\n",
      "RESULTADOS DEL MODELO\n",
      "==================================================\n",
      "Métrica         Test       Train     \n",
      "--------------------------------------------------\n",
      "Accuracy        0.77       0.78      \n",
      "F1 Score        0.56       0.57      \n",
      "Precision       0.47       0.47      \n",
      "Recall          0.69       0.71      \n",
      "==================================================\n"
     ]
    }
   ],
   "source": [
    "# REGRESION LOGISTICA\n",
    "log_reg.fit(X_train_dummies_scaled, y_train)\n",
    "\n",
    "y_pred_test = log_reg.predict(X_test_dummies_scaled)\n",
    "y_pred_train = log_reg.predict(X_train_dummies_scaled)\n",
    "\n",
    "show_metrics(y_test, y_pred_test, y_train, y_pred_train)"
   ]
  },
  {
   "cell_type": "code",
   "execution_count": null,
   "id": "d75a0ef5",
   "metadata": {},
   "outputs": [
    {
     "name": "stdout",
     "output_type": "stream",
     "text": [
      "\n",
      "RESULTADOS DEL MODELO\n",
      "==================================================\n",
      "Métrica         Test       Train     \n",
      "--------------------------------------------------\n",
      "Accuracy        0.77       0.81      \n",
      "F1 Score        0.56       0.63      \n",
      "Precision       0.46       0.53      \n",
      "Recall          0.70       0.79      \n",
      "==================================================\n"
     ]
    }
   ],
   "source": [
    "# XGBoost\n",
    "xgb.fit(X_train_dummies, y_train)\n",
    "\n",
    "y_pred_test = xgb.predict(X_test_dummies)\n",
    "y_pred_train = xgb.predict(X_train_dummies)\n",
    "\n",
    "show_metrics(y_test, y_pred_test, y_train, y_pred_train)"
   ]
  },
  {
   "cell_type": "code",
   "execution_count": null,
   "id": "73e1a87b",
   "metadata": {},
   "outputs": [
    {
     "name": "stdout",
     "output_type": "stream",
     "text": [
      "\n",
      "RESULTADOS DEL MODELO\n",
      "==================================================\n",
      "Métrica         Test       Train     \n",
      "--------------------------------------------------\n",
      "Accuracy        0.77       0.81      \n",
      "F1 Score        0.56       0.63      \n",
      "Precision       0.47       0.52      \n",
      "Recall          0.71       0.79      \n",
      "==================================================\n"
     ]
    }
   ],
   "source": [
    "cat_model.fit(X_train_dummies, y_train)\n",
    "\n",
    "y_pred_test = cat_model.predict(X_test_dummies)\n",
    "y_pred_train = cat_model.predict(X_train_dummies)\n",
    "\n",
    "show_metrics(y_test, y_pred_test, y_train, y_pred_train)"
   ]
  },
  {
   "cell_type": "markdown",
   "id": "bc3e7f59",
   "metadata": {},
   "source": [
    "## 🗑️ Fase 3: Eliminación de Registros con Valores `-1` (Sin Respuesta)\n",
    "\n",
    "### 🎯 Descripción\n",
    "Tras evaluar la codificación de variables categóricas mediante `pd.get_dummies` y obtener métricas similares al dataset original, procederemos a:\n",
    "- **Eliminar registros con `-1`**, que corresponden a preguntas sin respuesta en la encuesta.\n",
    "- Limpiar el dataset para evaluar si esta eliminación contribuye a una mejora en la calidad del modelo.\n",
    "\n",
    "### 🛠️ Pasos a Seguir\n",
    "1. Identificación de todas las variables que contienen `-1` como indicador de ausencia de datos.\n",
    "2. Filtrado de registros para excluir aquellas filas que presenten `-1`.\n",
    "3. Entrenar nuevamente los modelos finalistas para evaluar cambios en:\n",
    "    - **Accuracy**\n",
    "    - **Recall**\n",
    "    - **Precision**\n",
    "\n",
    "### ✅ Resultado Esperado\n",
    "Obtener un dataset más coherente para evaluar si la eliminación de registros con datos ausentes aporta una mejora en la capacidad predictiva de los modelos seleccionados.\n"
   ]
  },
  {
   "cell_type": "code",
   "execution_count": 41,
   "id": "cf299979",
   "metadata": {},
   "outputs": [],
   "source": [
    "mask = (df != -1).all(axis=1)\n",
    "df_clean = df[mask]\n",
    "\n",
    "X = df_clean.drop(\"ADDEPEV3\", axis=1)\n",
    "y = df_clean[\"ADDEPEV3\"]\n",
    "\n",
    "X_train, X_test, y_train, y_test = train_test_split(X, y, test_size=0.2, stratify=y, random_state=42)"
   ]
  },
  {
   "cell_type": "code",
   "execution_count": 42,
   "id": "849ccbac",
   "metadata": {},
   "outputs": [],
   "source": [
    "# ESCALADO DE VARIABLES PARA MODELOS LINEALES O BASADOS EN DISTANCIAS\n",
    "scaler = StandardScaler().fit(X_train)\n",
    "\n",
    "X_train_scaled = pd.DataFrame(scaler.transform(X_train), index=X_train.index, columns=X_train.columns)\n",
    "X_test_scaled = pd.DataFrame(scaler.transform(X_test), index=X_test.index, columns=X_test.columns)"
   ]
  },
  {
   "cell_type": "code",
   "execution_count": null,
   "id": "87c65c60",
   "metadata": {},
   "outputs": [
    {
     "name": "stdout",
     "output_type": "stream",
     "text": [
      "\n",
      "RESULTADOS DEL MODELO\n",
      "==================================================\n",
      "Métrica         Test       Train     \n",
      "--------------------------------------------------\n",
      "Accuracy        0.77       0.78      \n",
      "F1 Score        0.56       0.57      \n",
      "Precision       0.47       0.47      \n",
      "Recall          0.71       0.71      \n",
      "==================================================\n"
     ]
    }
   ],
   "source": [
    "# REGRESION LOGISTICA\n",
    "log_reg.fit(X_train_scaled, y_train)\n",
    "\n",
    "y_pred_test = log_reg.predict(X_test_scaled)\n",
    "y_pred_train = log_reg.predict(X_train_scaled)\n",
    "\n",
    "show_metrics(y_test, y_pred_test, y_train, y_pred_train)"
   ]
  },
  {
   "cell_type": "code",
   "execution_count": null,
   "id": "32284390",
   "metadata": {},
   "outputs": [
    {
     "name": "stdout",
     "output_type": "stream",
     "text": [
      "\n",
      "RESULTADOS DEL MODELO\n",
      "==================================================\n",
      "Métrica         Test       Train     \n",
      "--------------------------------------------------\n",
      "Accuracy        0.77       0.82      \n",
      "F1 Score        0.56       0.65      \n",
      "Precision       0.46       0.54      \n",
      "Recall          0.70       0.80      \n",
      "==================================================\n"
     ]
    }
   ],
   "source": [
    "# XGBoost\n",
    "xgb.fit(X_train, y_train)\n",
    "\n",
    "y_pred_test = xgb.predict(X_test)\n",
    "y_pred_train = xgb.predict(X_train)\n",
    "\n",
    "show_metrics(y_test, y_pred_test, y_train, y_pred_train)"
   ]
  },
  {
   "cell_type": "code",
   "execution_count": null,
   "id": "ff777d5b",
   "metadata": {},
   "outputs": [
    {
     "name": "stdout",
     "output_type": "stream",
     "text": [
      "\n",
      "RESULTADOS DEL MODELO\n",
      "==================================================\n",
      "Métrica         Test       Train     \n",
      "--------------------------------------------------\n",
      "Accuracy        0.77       0.81      \n",
      "F1 Score        0.56       0.63      \n",
      "Precision       0.47       0.53      \n",
      "Recall          0.71       0.79      \n",
      "==================================================\n"
     ]
    }
   ],
   "source": [
    "cat_model.fit(X_train, y_train)\n",
    "\n",
    "y_pred_test = cat_model.predict(X_test)\n",
    "y_pred_train = cat_model.predict(X_train)\n",
    "\n",
    "show_metrics(y_test, y_pred_test, y_train, y_pred_train)"
   ]
  },
  {
   "cell_type": "markdown",
   "id": "0cfc2103",
   "metadata": {},
   "source": [
    "## ⚖️ Fase 4: Balanceo de Clases con SMOTE y SMOTEENN\n",
    "\n",
    "### 🎯 Descripción\n",
    "Tras evaluar los modelos ganadores en las fases previas, vamos a continuar con la **fase de balanceo de clases** para mejorar la representación de la clase minoritaria en el dataset.  \n",
    "Se aplicarán dos enfoques:\n",
    "\n",
    "- **SMOTE**: Genera ejemplos sintéticos para aumentar la clase minoritaria.  \n",
    "- **SMOTEENN**: Combina la generación de datos sintéticos con la limpieza de muestras ruidosas para obtener un balance más robusto.\n",
    "\n",
    "### 🛠️ Pasos a Seguir\n",
    "1. Aplicar **SMOTE** para obtener un conjunto de entrenamiento balanceado.\n",
    "2. Aplicar **SMOTEENN** para obtener un conjunto de entrenamiento balanceado y depurado.\n",
    "3. Entrenar nuevamente los modelos ganadores en cada versión del dataset balanceado.\n",
    "4. Evaluar y comparar las métricas para determinar qué técnica aporta la mayor mejora.\n",
    "\n",
    "### ✅ Resultado Esperado\n",
    "Obtener conclusiones claras sobre la efectividad de cada técnica de balanceo para mejorar el rendimiento en la clase minoritaria.\n"
   ]
  },
  {
   "cell_type": "code",
   "execution_count": null,
   "id": "59637929",
   "metadata": {},
   "outputs": [
    {
     "name": "stdout",
     "output_type": "stream",
     "text": [
      "Original: X_train=(61898, 38), y_train=(61898,)\n",
      "SMOTE: X_train=(98304, 38), y_train=(98304,)\n",
      "SMOTEENN: X_train=(71422, 38), y_train=(71422,)\n"
     ]
    }
   ],
   "source": [
    "# Aplicar SMOTE\n",
    "smote = SMOTE(random_state=42)\n",
    "X_train_smote, y_train_smote = smote.fit_resample(X_train, y_train)\n",
    "\n",
    "# Aplicar SMOTEENN\n",
    "smoteenn = SMOTEENN(random_state=42)\n",
    "X_train_smoteenn, y_train_smoteenn = smoteenn.fit_resample(X_train, y_train)\n",
    "\n",
    "# Resultado\n",
    "print(f\"Original: X_train={X_train.shape}, y_train={y_train.shape}\")\n",
    "print(f\"SMOTE: X_train={X_train_smote.shape}, y_train={y_train_smote.shape}\")\n",
    "print(f\"SMOTEENN: X_train={X_train_smoteenn.shape}, y_train={y_train_smoteenn.shape}\")\n"
   ]
  },
  {
   "cell_type": "code",
   "execution_count": 48,
   "id": "92f61614",
   "metadata": {},
   "outputs": [],
   "source": [
    "# ESCALADO DE VARIABLES PARA MODELOS LINEALES O BASADOS EN DISTANCIAS\n",
    "scaler = StandardScaler().fit(X_train_smote)\n",
    "\n",
    "X_train_smote_scaled = pd.DataFrame(scaler.transform(X_train_smote), index=X_train_smote.index, columns=X_train_smote.columns)\n",
    "X_test_smote_scaled = pd.DataFrame(scaler.transform(X_test), index=X_test.index, columns=X_test.columns)\n",
    "\n",
    "scaler = StandardScaler().fit(X_train_smoteenn)\n",
    "\n",
    "X_train_smoteen_scaled = pd.DataFrame(scaler.transform(X_train_smoteenn), index=X_train_smoteenn.index, columns=X_train_smoteenn.columns)\n",
    "X_test_scaled = pd.DataFrame(scaler.transform(X_test), index=X_test.index, columns=X_test.columns)"
   ]
  },
  {
   "cell_type": "code",
   "execution_count": 49,
   "id": "70502f39",
   "metadata": {},
   "outputs": [
    {
     "name": "stdout",
     "output_type": "stream",
     "text": [
      "\n",
      "RESULTADOS DEL MODELO\n",
      "==================================================\n",
      "Métrica         Test       Train     \n",
      "--------------------------------------------------\n",
      "Accuracy        0.79       0.76      \n",
      "F1 Score        0.57       0.75      \n",
      "Precision       0.49       0.78      \n",
      "Recall          0.67       0.72      \n",
      "==================================================\n"
     ]
    }
   ],
   "source": [
    "# REGRESION LOGISTICA\n",
    "log_reg.fit(X_train_smote_scaled, y_train_smote)\n",
    "\n",
    "y_pred_test = log_reg.predict(X_test_scaled)\n",
    "y_pred_train = log_reg.predict(X_train_smote_scaled)\n",
    "\n",
    "show_metrics(y_test, y_pred_test, y_train_smote, y_pred_train)"
   ]
  },
  {
   "cell_type": "code",
   "execution_count": 53,
   "id": "a62f6028",
   "metadata": {},
   "outputs": [
    {
     "name": "stdout",
     "output_type": "stream",
     "text": [
      "\n",
      "RESULTADOS DEL MODELO\n",
      "==================================================\n",
      "Métrica         Test       Train     \n",
      "--------------------------------------------------\n",
      "Accuracy        0.73       0.84      \n",
      "F1 Score        0.54       0.86      \n",
      "Precision       0.41       0.92      \n",
      "Recall          0.78       0.81      \n",
      "==================================================\n"
     ]
    }
   ],
   "source": [
    "# REGRESION LOGISTICA\n",
    "log_reg.fit(X_train_smoteen_scaled, y_train_smoteenn)\n",
    "\n",
    "y_pred_test = log_reg.predict(X_test_scaled)\n",
    "y_pred_train = log_reg.predict(X_train_smoteen_scaled)\n",
    "\n",
    "show_metrics(y_test, y_pred_test, y_train_smoteenn, y_pred_train)"
   ]
  },
  {
   "cell_type": "code",
   "execution_count": 55,
   "id": "f8306b02",
   "metadata": {},
   "outputs": [
    {
     "name": "stdout",
     "output_type": "stream",
     "text": [
      "\n",
      "RESULTADOS DEL MODELO\n",
      "==================================================\n",
      "Métrica         Test       Train     \n",
      "--------------------------------------------------\n",
      "Accuracy        0.77       0.88      \n",
      "F1 Score        0.56       0.89      \n",
      "Precision       0.46       0.83      \n",
      "Recall          0.71       0.95      \n",
      "==================================================\n"
     ]
    }
   ],
   "source": [
    "# XGBoost\n",
    "xgb.fit(X_train_smote, y_train_smote)\n",
    "\n",
    "y_pred_test = xgb.predict(X_test)\n",
    "y_pred_train = xgb.predict(X_train_smote)\n",
    "\n",
    "show_metrics(y_test, y_pred_test, y_train_smote, y_pred_train)"
   ]
  },
  {
   "cell_type": "code",
   "execution_count": 56,
   "id": "36f46f07",
   "metadata": {},
   "outputs": [
    {
     "name": "stdout",
     "output_type": "stream",
     "text": [
      "\n",
      "RESULTADOS DEL MODELO\n",
      "==================================================\n",
      "Métrica         Test       Train     \n",
      "--------------------------------------------------\n",
      "Accuracy        0.69       0.94      \n",
      "F1 Score        0.52       0.95      \n",
      "Precision       0.38       0.93      \n",
      "Recall          0.82       0.98      \n",
      "==================================================\n"
     ]
    }
   ],
   "source": [
    "# XGBoost\n",
    "xgb.fit(X_train_smoteenn, y_train_smoteenn)\n",
    "\n",
    "y_pred_test = xgb.predict(X_test)\n",
    "y_pred_train = xgb.predict(X_train_smoteenn)\n",
    "\n",
    "show_metrics(y_test, y_pred_test, y_train_smoteenn, y_pred_train)"
   ]
  },
  {
   "cell_type": "code",
   "execution_count": 51,
   "id": "03d4a584",
   "metadata": {},
   "outputs": [
    {
     "name": "stdout",
     "output_type": "stream",
     "text": [
      "\n",
      "RESULTADOS DEL MODELO\n",
      "==================================================\n",
      "Métrica         Test       Train     \n",
      "--------------------------------------------------\n",
      "Accuracy        0.77       0.88      \n",
      "F1 Score        0.56       0.89      \n",
      "Precision       0.46       0.83      \n",
      "Recall          0.72       0.95      \n",
      "==================================================\n"
     ]
    }
   ],
   "source": [
    "cat_model.fit(X_train_smote, y_train_smote)\n",
    "\n",
    "y_pred_test = cat_model.predict(X_test)\n",
    "y_pred_train = cat_model.predict(X_train_smote)\n",
    "\n",
    "show_metrics(y_test, y_pred_test, y_train_smote, y_pred_train)"
   ]
  },
  {
   "cell_type": "code",
   "execution_count": 57,
   "id": "96ccf67f",
   "metadata": {},
   "outputs": [
    {
     "name": "stdout",
     "output_type": "stream",
     "text": [
      "\n",
      "RESULTADOS DEL MODELO\n",
      "==================================================\n",
      "Métrica         Test       Train     \n",
      "--------------------------------------------------\n",
      "Accuracy        0.69       0.94      \n",
      "F1 Score        0.52       0.96      \n",
      "Precision       0.38       0.93      \n",
      "Recall          0.82       0.98      \n",
      "==================================================\n"
     ]
    }
   ],
   "source": [
    "cat_model.fit(X_train_smoteenn, y_train_smoteenn)\n",
    "\n",
    "y_pred_test = cat_model.predict(X_test)\n",
    "y_pred_train = cat_model.predict(X_train_smoteenn)\n",
    "\n",
    "show_metrics(y_test, y_pred_test, y_train_smoteenn, y_pred_train)"
   ]
  },
  {
   "cell_type": "markdown",
   "id": "0d37fdb7",
   "metadata": {},
   "source": [
    "### ⚖️ Conclusión sobre el Balanceo de Clases\n",
    "La ligera mejora en el rendimiento de algunos modelos al aplicar **SMOTE** y **SMOTEENN** no justifica su implementación en este contexto.  \n",
    "Dada la naturaleza del problema —de ámbito médico—, es preferible:\n",
    "\n",
    "- Mantener la integridad de los datos reales.  \n",
    "- Abordar el desbalance de clases mediante otros enfoques (cost-sensitive learning, ajuste de pesos de clase, métricas específicas) en lugar de sintetizar registros.\n",
    "\n",
    "Por tanto, **no se aplicará balanceo de clases** en la versión final del modelo.  \n",
    "Se procederá a evaluar otras estrategias, como la **sobre-selección de parámetros** para afinar los modelos ganadores.\n"
   ]
  },
  {
   "cell_type": "markdown",
   "id": "f9c58dd0",
   "metadata": {},
   "source": [
    "## 🎯 Fase 5: Selección de Features\n",
    "\n",
    "### 🕵️ Descripción\n",
    "Una vez finalizada la evaluación de modelos y estrategias de balanceo, abordamos la **selección de características** para:\n",
    "- Identificar las variables más relevantes para la predicción.\n",
    "- Mejorar la interpretabilidad del modelo.\n",
    "- Reducir la dimensionalidad para disminuir el riesgo de sobreajuste.\n",
    "\n",
    "Se aplicarán diferentes métodos de selección de atributos:\n",
    "- **SelectKBest**: Basado en pruebas estadísticas para evaluar la relevancia de cada variable.\n",
    "- **Importancia de Features**: Utilizando modelos basados en árboles (Random Forest, XGBoost) para obtener la importancia de cada variable.\n",
    "\n",
    "### ✅ Resultado Esperado\n",
    "Obtener un conjunto de atributos más relevante para:\n",
    "- Mejorar el rendimiento de los modelos ganadores.\n",
    "- Aumentar la interpretabilidad de los resultados en un contexto médico.\n"
   ]
  },
  {
   "cell_type": "code",
   "execution_count": null,
   "id": "24fbb734",
   "metadata": {},
   "outputs": [
    {
     "name": "stdout",
     "output_type": "stream",
     "text": [
      "✅ Features seleccionadas (15):\n",
      " Index(['SEXVAR', 'DECIDE', 'DIFFALON', 'LSATISFY', 'EMTSUPRT', 'SDHISOLT',\n",
      "       'SDHFOOD1', 'SDHBILLS', 'SDHTRNSP', '_PHYS14D', '_MENT14D', '_ASTHMS1',\n",
      "       '_DRDXAR2', '_INCOMG1', '_AIDTST4'],\n",
      "      dtype='object')\n",
      "X_train_kbest shape: (61898, 15)\n",
      "X_test_kbest shape: (15475, 15)\n"
     ]
    }
   ],
   "source": [
    "# Selección de Features con SelectKBest\n",
    "k = 15\n",
    "selector = SelectKBest(score_func=f_classif, k=k)\n",
    "\n",
    "# Ajuste del selector\n",
    "X_train_kbest = selector.fit_transform(X_train, y_train)\n",
    "\n",
    "# Identificación de las columnas seleccionadas\n",
    "mask = selector.get_support()\n",
    "selected_columns = X_train.columns[mask]\n",
    "print(f\"✅ Features seleccionadas ({k}):\\n\", selected_columns)\n",
    "\n",
    "X_test_kbest = X_test.loc[:, selected_columns]\n",
    "\n",
    "print(f\"X_train_kbest shape: {X_train_kbest.shape}\")\n",
    "print(f\"X_test_kbest shape: {X_test_kbest.shape}\")"
   ]
  },
  {
   "cell_type": "code",
   "execution_count": 63,
   "id": "0ac38b6e",
   "metadata": {},
   "outputs": [
    {
     "name": "stdout",
     "output_type": "stream",
     "text": [
      "\n",
      "RESULTADOS DEL MODELO\n",
      "==================================================\n",
      "Métrica         Test       Train     \n",
      "--------------------------------------------------\n",
      "Accuracy        0.76       0.78      \n",
      "F1 Score        0.55       0.59      \n",
      "Precision       0.45       0.48      \n",
      "Recall          0.71       0.76      \n",
      "==================================================\n"
     ]
    }
   ],
   "source": [
    "# XGBoost\n",
    "xgb.fit(X_train_kbest, y_train)\n",
    "\n",
    "y_pred_test = xgb.predict(X_test_kbest)\n",
    "y_pred_train = xgb.predict(X_train_kbest)\n",
    "\n",
    "show_metrics(y_test, y_pred_test, y_train, y_pred_train)"
   ]
  },
  {
   "cell_type": "code",
   "execution_count": 64,
   "id": "56231cd4",
   "metadata": {},
   "outputs": [
    {
     "name": "stdout",
     "output_type": "stream",
     "text": [
      "\n",
      "RESULTADOS DEL MODELO\n",
      "==================================================\n",
      "Métrica         Test       Train     \n",
      "--------------------------------------------------\n",
      "Accuracy        0.76       0.78      \n",
      "F1 Score        0.55       0.59      \n",
      "Precision       0.44       0.48      \n",
      "Recall          0.72       0.76      \n",
      "==================================================\n"
     ]
    }
   ],
   "source": [
    "cat_model.fit(X_train_kbest, y_train)\n",
    "\n",
    "y_pred_test = cat_model.predict(X_test_kbest)\n",
    "y_pred_train = cat_model.predict(X_train_kbest)\n",
    "\n",
    "show_metrics(y_test, y_pred_test, y_train, y_pred_train)"
   ]
  },
  {
   "cell_type": "markdown",
   "id": "6b560849",
   "metadata": {},
   "source": [
    "## 🔥 Fase 5.1: Importancia de Features con XGBoost y CatBoost\n",
    "\n",
    "### 🎯 Descripción\n",
    "Se evaluarán las características más relevantes para la predicción utilizando la importancia interna de:\n",
    "- **XGBoost**\n",
    "- **CatBoost**\n",
    "\n",
    "Esta estrategia permite:\n",
    "- Identificar las variables que más contribuyen al rendimiento del modelo.\n",
    "- Mejorar la interpretabilidad en un contexto médico.\n",
    "\n",
    "### ⚡️ Pasos\n",
    "1. Entrenar los modelos finales (XGBoost y CatBoost) sobre el conjunto de datos completo.\n",
    "2. Obtener e interpretar la importancia de cada feature (`feature_importances_`).\n",
    "3. Utilizar esta información para valorar qué variables aportan al modelo y considerar futuras reducciones de dimensionalidad.\n",
    "\n",
    "### ✅ Resultado Esperado\n",
    "Una visión clara de qué variables son clave para predecir la variable objetivo, fortaleciendo tanto la interpretabilidad como la eficiencia del modelo final.\n"
   ]
  },
  {
   "cell_type": "code",
   "execution_count": 66,
   "id": "a7ef1e9a",
   "metadata": {},
   "outputs": [
    {
     "name": "stdout",
     "output_type": "stream",
     "text": [
      "\n",
      "Top 15 Features en XGBoost:\n",
      "      Feature  Importance\n",
      "24  _MENT14D    0.387729\n",
      "10    DECIDE    0.139240\n",
      "1     SEXVAR    0.047702\n",
      "17  SDHISOLT    0.038226\n",
      "29  _DRDXAR2    0.034488\n",
      "36  _AIDTST4    0.021250\n",
      "15  LSATISFY    0.018860\n",
      "23  _PHYS14D    0.015903\n",
      "28  _ASTHMS1    0.014525\n",
      "31  _BMI5CAT    0.012363\n",
      "33   _EDUCAG    0.011694\n",
      "13  HIVRISK5    0.011692\n",
      "11  DIFFALON    0.011577\n",
      "9    EMPLOY1    0.011386\n",
      "26  _TOTINDA    0.011247\n"
     ]
    },
    {
     "data": {
      "image/png": "[encoded data removed]",
      "text/plain": [
       "<Figure size 800x400 with 1 Axes>"
      ]
     },
     "metadata": {},
     "output_type": "display_data"
    },
    {
     "name": "stdout",
     "output_type": "stream",
     "text": [
      "\n",
      "Top 15 Features en CatBoost:\n",
      "      Feature  Importance\n",
      "24  _MENT14D   14.134969\n",
      "30  _AGEG5YR    6.156757\n",
      "3   SLEPTIM1    5.778743\n",
      "10    DECIDE    4.694302\n",
      "34  _INCOMG1    4.609420\n",
      "1     SEXVAR    4.555144\n",
      "6    MARITAL    4.497361\n",
      "33   _EDUCAG    4.052494\n",
      "9    EMPLOY1    3.832195\n",
      "15  LSATISFY    3.629018\n",
      "31  _BMI5CAT    3.400000\n",
      "0    HHADULT    3.210824\n",
      "23  _PHYS14D    3.076822\n",
      "17  SDHISOLT    3.060456\n",
      "29  _DRDXAR2    2.791113\n"
     ]
    },
    {
     "data": {
      "image/png": "[encoded data removed]",
      "text/plain": [
       "<Figure size 800x400 with 1 Axes>"
      ]
     },
     "metadata": {},
     "output_type": "display_data"
    }
   ],
   "source": [
    "xgb.fit(X_train, y_train)\n",
    "\n",
    "importance_xgb = pd.DataFrame({\n",
    "    'Feature': X_train.columns,\n",
    "    'Importance': xgb.feature_importances_\n",
    "}).sort_values(by='Importance', ascending=False)\n",
    "\n",
    "print(\"\\nTop 15 Features en XGBoost:\\n\", importance_xgb.head(15))\n",
    "\n",
    "importance_xgb.head(15).plot(kind='barh', x='Feature', y='Importance', figsize=(8,4), title=\"Importancia XGBoost (Top 15)\", legend=False)\n",
    "plt.gca().invert_yaxis()\n",
    "plt.show()\n",
    "\n",
    "\n",
    "cat_model.fit(X_train, y_train)\n",
    "\n",
    "importance_cat = pd.DataFrame({\n",
    "    'Feature': X_train.columns,\n",
    "    'Importance': cat_model.get_feature_importance()\n",
    "}).sort_values(by='Importance', ascending=False)\n",
    "\n",
    "print(\"\\nTop 15 Features en CatBoost:\\n\", importance_cat.head(15))\n",
    "\n",
    "importance_cat.head(15).plot(kind='barh', x='Feature', y='Importance', figsize=(8,4), title=\"Importancia CatBoost (Top 15)\", legend=False)\n",
    "plt.gca().invert_yaxis()\n",
    "plt.show()\n"
   ]
  },
  {
   "cell_type": "code",
   "execution_count": 67,
   "id": "b8653f19",
   "metadata": {},
   "outputs": [
    {
     "name": "stdout",
     "output_type": "stream",
     "text": [
      "\n",
      "RESULTADOS DEL MODELO\n",
      "==================================================\n",
      "Métrica         Test       Train     \n",
      "--------------------------------------------------\n",
      "Accuracy        0.76       0.79      \n",
      "F1 Score        0.55       0.60      \n",
      "Precision       0.45       0.49      \n",
      "Recall          0.70       0.77      \n",
      "==================================================\n",
      "\n",
      "RESULTADOS DEL MODELO\n",
      "==================================================\n",
      "Métrica         Test       Train     \n",
      "--------------------------------------------------\n",
      "Accuracy        0.76       0.80      \n",
      "F1 Score        0.56       0.61      \n",
      "Precision       0.45       0.50      \n",
      "Recall          0.72       0.78      \n",
      "==================================================\n"
     ]
    }
   ],
   "source": [
    "# Aplicación de Modelos con Features Más Importantes\n",
    "N = 15\n",
    "\n",
    "# Selección de Features para XGBoost\n",
    "top_xgb_features = importance_xgb.head(N)['Feature'].values\n",
    "X_train_xgb_best = X_train[top_xgb_features]\n",
    "X_test_xgb_best = X_test[top_xgb_features]\n",
    "\n",
    "# Entrenar y evaluar XGBoost\n",
    "xgb.fit(X_train_xgb_best, y_train)\n",
    "y_pred_test_xgb = xgb.predict(X_test_xgb_best)\n",
    "y_pred_train_xgb = xgb.predict(X_train_xgb_best)\n",
    "\n",
    "show_metrics(y_test, y_pred_test_xgb, y_train, y_pred_train_xgb)\n",
    "\n",
    "# Selección de Features para CatBoost\n",
    "top_cat_features = importance_cat.head(N)['Feature'].values\n",
    "X_train_cat_best = X_train[top_cat_features]\n",
    "X_test_cat_best = X_test[top_cat_features]\n",
    "\n",
    "# Entrenar y evaluar CatBoost\n",
    "cat_model.fit(X_train_cat_best, y_train)\n",
    "y_pred_test_cat = cat_model.predict(X_test_cat_best)\n",
    "y_pred_train_cat = cat_model.predict(X_train_cat_best)\n",
    "\n",
    "show_metrics(y_test, y_pred_test_cat, y_train, y_pred_train_cat)"
   ]
  },
  {
   "cell_type": "markdown",
   "id": "2fff8276",
   "metadata": {},
   "source": [
    "## 🏁 Conclusión Final de la Etapa de Modelado\n",
    "\n",
    "Tras evaluar diferentes modelos (Logistic Regression, KNN, Random Forest, XGBoost, MLP, CatBoost), junto con diferentes enfoques de preparación de datos (imputación de nulos, balance de clases, selección de características), **se concluye que:**\n",
    "\n",
    "✅ **CatBoost** es el modelo con mejor rendimiento general.  \n",
    "✅ La selección de características basada en la importancia de variables ofrece una alternativa para reducir la dimensionalidad sin comprometer la calidad de la predicción.\n",
    "\n",
    "### 🚀 Próximo Paso\n",
    "Se procederá al siguiente notebook para:\n",
    "1. **Optimización de Hiperparámetros de CatBoost**:  \n",
    "   - Ajustar los parámetros clave para maximizar el rendimiento del modelo final.\n",
    "\n",
    "2. **Exploración de Importancia de Features**:  \n",
    "   - Evaluar diferentes cantidades de variables significativas para encontrar el balance ideal entre:\n",
    "     - Mejoras en las métricas.\n",
    "     - Simplicidad e interpretabilidad del modelo.\n",
    "\n",
    "### 🎯 Resultado Esperado\n",
    "Obtener un modelo final que:\n",
    "- Sea robusto y eficaz para la predicción.\n",
    "- Utilice solo las variables realmente significativas para mantener un balance óptimo entre rendimiento e interpretabilidad.\n"
   ]
  },
  {
   "cell_type": "markdown",
   "id": "a2746e87",
   "metadata": {},
   "source": [
    "## 🎁 Bonus Final: Implementación de una Red Neuronal Sencilla\n",
    "\n",
    "### 🎯 Descripción\n",
    "Como complemento, implementaremos una **red neuronal básica** para evaluar su rendimiento en la misma tarea de predicción.  \n",
    "Se utilizará una arquitectura simple para obtener una referencia adicional y evaluar si esta alternativa aporta alguna ventaja frente a los modelos tradicionales.\n",
    "\n",
    "### 🛠️ Pasos\n",
    "1. Normalizar las características de entrada para garantizar que todas contribuyen de manera similar al aprendizaje de la red.\n",
    "2. Definir una arquitectura simple:\n",
    "    - Capas densas con activación ReLU.\n",
    "    - Capa de salida con activación Sigmoid para clasificación binaria.\n",
    "3. Entrenar el modelo y evaluar su desempeño en el conjunto de test.\n",
    "4. Comparar los resultados obtenidos con los alcanzados por los modelos tradicionales (Logistic Regression, Random Forest, XGBoost, CatBoost).\n",
    "\n",
    "### ✅ Resultado Esperado\n",
    "Obtener una referencia del rendimiento de una **red neuronal básica** para evaluar si esta alternativa aporta una mejora significativa en la predicción frente a los enfoques clásicos.\n"
   ]
  },
  {
   "cell_type": "code",
   "execution_count": 69,
   "id": "ea4f29cb",
   "metadata": {},
   "outputs": [
    {
     "name": "stdout",
     "output_type": "stream",
     "text": [
      "Epoch 1/30\n"
     ]
    },
    {
     "name": "stderr",
     "output_type": "stream",
     "text": [
      "/workspaces/Final_Project_DataScient/.venv/lib/python3.11/site-packages/keras/src/layers/core/dense.py:93: UserWarning: Do not pass an `input_shape`/`input_dim` argument to a layer. When using Sequential models, prefer using an `Input(shape)` object as the first layer in the model instead.\n",
      "  super().__init__(activity_regularizer=activity_regularizer, **kwargs)\n",
      "2025-06-24 00:01:56.208865: E external/local_xla/xla/stream_executor/cuda/cuda_platform.cc:51] failed call to cuInit: INTERNAL: CUDA error: Failed call to cuInit: UNKNOWN ERROR (303)\n"
     ]
    },
    {
     "name": "stdout",
     "output_type": "stream",
     "text": [
      "\u001b[1m1548/1548\u001b[0m \u001b[32m━━━━━━━━━━━━━━━━━━━━\u001b[0m\u001b[37m\u001b[0m \u001b[1m5s\u001b[0m 2ms/step - accuracy: 0.8228 - loss: 0.4150 - recall: 0.3366 - val_accuracy: 0.8364 - val_loss: 0.3829 - val_recall: 0.3894\n",
      "Epoch 2/30\n",
      "\u001b[1m1548/1548\u001b[0m \u001b[32m━━━━━━━━━━━━━━━━━━━━\u001b[0m\u001b[37m\u001b[0m \u001b[1m3s\u001b[0m 2ms/step - accuracy: 0.8422 - loss: 0.3718 - recall: 0.4215 - val_accuracy: 0.8371 - val_loss: 0.3831 - val_recall: 0.3917\n",
      "Epoch 3/30\n",
      "\u001b[1m1548/1548\u001b[0m \u001b[32m━━━━━━━━━━━━━━━━━━━━\u001b[0m\u001b[37m\u001b[0m \u001b[1m3s\u001b[0m 2ms/step - accuracy: 0.8424 - loss: 0.3728 - recall: 0.4127 - val_accuracy: 0.8376 - val_loss: 0.3832 - val_recall: 0.3972\n",
      "Epoch 4/30\n",
      "\u001b[1m1548/1548\u001b[0m \u001b[32m━━━━━━━━━━━━━━━━━━━━\u001b[0m\u001b[37m\u001b[0m \u001b[1m3s\u001b[0m 2ms/step - accuracy: 0.8439 - loss: 0.3675 - recall: 0.4169 - val_accuracy: 0.8366 - val_loss: 0.3841 - val_recall: 0.3728\n",
      "Epoch 5/30\n",
      "\u001b[1m1548/1548\u001b[0m \u001b[32m━━━━━━━━━━━━━━━━━━━━\u001b[0m\u001b[37m\u001b[0m \u001b[1m3s\u001b[0m 2ms/step - accuracy: 0.8442 - loss: 0.3655 - recall: 0.4228 - val_accuracy: 0.8369 - val_loss: 0.3837 - val_recall: 0.3913\n",
      "Epoch 6/30\n",
      "\u001b[1m1548/1548\u001b[0m \u001b[32m━━━━━━━━━━━━━━━━━━━━\u001b[0m\u001b[37m\u001b[0m \u001b[1m3s\u001b[0m 2ms/step - accuracy: 0.8471 - loss: 0.3593 - recall: 0.4265 - val_accuracy: 0.8357 - val_loss: 0.3854 - val_recall: 0.3862\n",
      "Epoch 7/30\n",
      "\u001b[1m1548/1548\u001b[0m \u001b[32m━━━━━━━━━━━━━━━━━━━━\u001b[0m\u001b[37m\u001b[0m \u001b[1m3s\u001b[0m 2ms/step - accuracy: 0.8479 - loss: 0.3597 - recall: 0.4404 - val_accuracy: 0.8359 - val_loss: 0.3878 - val_recall: 0.3709\n",
      "Epoch 8/30\n",
      "\u001b[1m1548/1548\u001b[0m \u001b[32m━━━━━━━━━━━━━━━━━━━━\u001b[0m\u001b[37m\u001b[0m \u001b[1m3s\u001b[0m 2ms/step - accuracy: 0.8497 - loss: 0.3564 - recall: 0.4428 - val_accuracy: 0.8326 - val_loss: 0.3885 - val_recall: 0.4130\n",
      "Epoch 9/30\n",
      "\u001b[1m1548/1548\u001b[0m \u001b[32m━━━━━━━━━━━━━━━━━━━━\u001b[0m\u001b[37m\u001b[0m \u001b[1m3s\u001b[0m 2ms/step - accuracy: 0.8549 - loss: 0.3517 - recall: 0.4546 - val_accuracy: 0.8346 - val_loss: 0.3919 - val_recall: 0.3728\n",
      "Epoch 10/30\n",
      "\u001b[1m1548/1548\u001b[0m \u001b[32m━━━━━━━━━━━━━━━━━━━━\u001b[0m\u001b[37m\u001b[0m \u001b[1m3s\u001b[0m 2ms/step - accuracy: 0.8516 - loss: 0.3540 - recall: 0.4520 - val_accuracy: 0.8356 - val_loss: 0.3928 - val_recall: 0.4051\n",
      "Epoch 11/30\n",
      "\u001b[1m1548/1548\u001b[0m \u001b[32m━━━━━━━━━━━━━━━━━━━━\u001b[0m\u001b[37m\u001b[0m \u001b[1m3s\u001b[0m 2ms/step - accuracy: 0.8544 - loss: 0.3487 - recall: 0.4599 - val_accuracy: 0.8300 - val_loss: 0.3951 - val_recall: 0.3866\n",
      "Epoch 12/30\n",
      "\u001b[1m1548/1548\u001b[0m \u001b[32m━━━━━━━━━━━━━━━━━━━━\u001b[0m\u001b[37m\u001b[0m \u001b[1m3s\u001b[0m 2ms/step - accuracy: 0.8544 - loss: 0.3460 - recall: 0.4675 - val_accuracy: 0.8306 - val_loss: 0.3989 - val_recall: 0.4276\n",
      "Epoch 13/30\n",
      "\u001b[1m1548/1548\u001b[0m \u001b[32m━━━━━━━━━━━━━━━━━━━━\u001b[0m\u001b[37m\u001b[0m \u001b[1m3s\u001b[0m 2ms/step - accuracy: 0.8531 - loss: 0.3484 - recall: 0.4662 - val_accuracy: 0.8302 - val_loss: 0.3990 - val_recall: 0.3795\n",
      "Epoch 14/30\n",
      "\u001b[1m1548/1548\u001b[0m \u001b[32m━━━━━━━━━━━━━━━━━━━━\u001b[0m\u001b[37m\u001b[0m \u001b[1m3s\u001b[0m 2ms/step - accuracy: 0.8603 - loss: 0.3411 - recall: 0.4705 - val_accuracy: 0.8267 - val_loss: 0.4049 - val_recall: 0.4307\n",
      "Epoch 15/30\n",
      "\u001b[1m1548/1548\u001b[0m \u001b[32m━━━━━━━━━━━━━━━━━━━━\u001b[0m\u001b[37m\u001b[0m \u001b[1m3s\u001b[0m 2ms/step - accuracy: 0.8590 - loss: 0.3362 - recall: 0.4690 - val_accuracy: 0.8277 - val_loss: 0.4077 - val_recall: 0.3957\n",
      "Epoch 16/30\n",
      "\u001b[1m1548/1548\u001b[0m \u001b[32m━━━━━━━━━━━━━━━━━━━━\u001b[0m\u001b[37m\u001b[0m \u001b[1m3s\u001b[0m 2ms/step - accuracy: 0.8590 - loss: 0.3390 - recall: 0.4753 - val_accuracy: 0.8278 - val_loss: 0.4049 - val_recall: 0.4008\n",
      "Epoch 17/30\n",
      "\u001b[1m1548/1548\u001b[0m \u001b[32m━━━━━━━━━━━━━━━━━━━━\u001b[0m\u001b[37m\u001b[0m \u001b[1m3s\u001b[0m 2ms/step - accuracy: 0.8587 - loss: 0.3395 - recall: 0.4895 - val_accuracy: 0.8284 - val_loss: 0.4100 - val_recall: 0.3965\n",
      "Epoch 18/30\n",
      "\u001b[1m1548/1548\u001b[0m \u001b[32m━━━━━━━━━━━━━━━━━━━━\u001b[0m\u001b[37m\u001b[0m \u001b[1m5s\u001b[0m 2ms/step - accuracy: 0.8610 - loss: 0.3337 - recall: 0.4838 - val_accuracy: 0.8259 - val_loss: 0.4123 - val_recall: 0.3972\n",
      "Epoch 19/30\n",
      "\u001b[1m1548/1548\u001b[0m \u001b[32m━━━━━━━━━━━━━━━━━━━━\u001b[0m\u001b[37m\u001b[0m \u001b[1m3s\u001b[0m 2ms/step - accuracy: 0.8635 - loss: 0.3309 - recall: 0.4922 - val_accuracy: 0.8246 - val_loss: 0.4162 - val_recall: 0.4394\n",
      "Epoch 20/30\n",
      "\u001b[1m1548/1548\u001b[0m \u001b[32m━━━━━━━━━━━━━━━━━━━━\u001b[0m\u001b[37m\u001b[0m \u001b[1m3s\u001b[0m 2ms/step - accuracy: 0.8660 - loss: 0.3250 - recall: 0.5083 - val_accuracy: 0.8249 - val_loss: 0.4151 - val_recall: 0.3941\n",
      "Epoch 21/30\n",
      "\u001b[1m1548/1548\u001b[0m \u001b[32m━━━━━━━━━━━━━━━━━━━━\u001b[0m\u001b[37m\u001b[0m \u001b[1m3s\u001b[0m 2ms/step - accuracy: 0.8635 - loss: 0.3302 - recall: 0.5003 - val_accuracy: 0.8252 - val_loss: 0.4209 - val_recall: 0.3539\n",
      "Epoch 22/30\n",
      "\u001b[1m1548/1548\u001b[0m \u001b[32m━━━━━━━━━━━━━━━━━━━━\u001b[0m\u001b[37m\u001b[0m \u001b[1m3s\u001b[0m 2ms/step - accuracy: 0.8662 - loss: 0.3261 - recall: 0.5036 - val_accuracy: 0.8158 - val_loss: 0.4292 - val_recall: 0.4024\n",
      "Epoch 23/30\n",
      "\u001b[1m1548/1548\u001b[0m \u001b[32m━━━━━━━━━━━━━━━━━━━━\u001b[0m\u001b[37m\u001b[0m \u001b[1m3s\u001b[0m 2ms/step - accuracy: 0.8666 - loss: 0.3241 - recall: 0.5041 - val_accuracy: 0.8237 - val_loss: 0.4251 - val_recall: 0.3508\n",
      "Epoch 24/30\n",
      "\u001b[1m1548/1548\u001b[0m \u001b[32m━━━━━━━━━━━━━━━━━━━━\u001b[0m\u001b[37m\u001b[0m \u001b[1m3s\u001b[0m 2ms/step - accuracy: 0.8644 - loss: 0.3222 - recall: 0.5037 - val_accuracy: 0.8163 - val_loss: 0.4322 - val_recall: 0.4362\n",
      "Epoch 25/30\n",
      "\u001b[1m1548/1548\u001b[0m \u001b[32m━━━━━━━━━━━━━━━━━━━━\u001b[0m\u001b[37m\u001b[0m \u001b[1m3s\u001b[0m 2ms/step - accuracy: 0.8678 - loss: 0.3224 - recall: 0.5089 - val_accuracy: 0.8207 - val_loss: 0.4361 - val_recall: 0.3839\n",
      "Epoch 26/30\n",
      "\u001b[1m1548/1548\u001b[0m \u001b[32m━━━━━━━━━━━━━━━━━━━━\u001b[0m\u001b[37m\u001b[0m \u001b[1m3s\u001b[0m 2ms/step - accuracy: 0.8675 - loss: 0.3205 - recall: 0.5162 - val_accuracy: 0.8222 - val_loss: 0.4283 - val_recall: 0.3886\n",
      "Epoch 27/30\n",
      "\u001b[1m1548/1548\u001b[0m \u001b[32m━━━━━━━━━━━━━━━━━━━━\u001b[0m\u001b[37m\u001b[0m \u001b[1m3s\u001b[0m 2ms/step - accuracy: 0.8686 - loss: 0.3184 - recall: 0.5218 - val_accuracy: 0.8204 - val_loss: 0.4325 - val_recall: 0.3772\n",
      "Epoch 28/30\n",
      "\u001b[1m1548/1548\u001b[0m \u001b[32m━━━━━━━━━━━━━━━━━━━━\u001b[0m\u001b[37m\u001b[0m \u001b[1m3s\u001b[0m 2ms/step - accuracy: 0.8702 - loss: 0.3140 - recall: 0.5219 - val_accuracy: 0.8229 - val_loss: 0.4361 - val_recall: 0.3626\n",
      "Epoch 29/30\n",
      "\u001b[1m1548/1548\u001b[0m \u001b[32m━━━━━━━━━━━━━━━━━━━━\u001b[0m\u001b[37m\u001b[0m \u001b[1m3s\u001b[0m 2ms/step - accuracy: 0.8719 - loss: 0.3142 - recall: 0.5192 - val_accuracy: 0.8165 - val_loss: 0.4382 - val_recall: 0.4039\n",
      "Epoch 30/30\n",
      "\u001b[1m1548/1548\u001b[0m \u001b[32m━━━━━━━━━━━━━━━━━━━━\u001b[0m\u001b[37m\u001b[0m \u001b[1m3s\u001b[0m 2ms/step - accuracy: 0.8683 - loss: 0.3189 - recall: 0.5208 - val_accuracy: 0.8183 - val_loss: 0.4414 - val_recall: 0.4047\n",
      "\u001b[1m484/484\u001b[0m \u001b[32m━━━━━━━━━━━━━━━━━━━━\u001b[0m\u001b[37m\u001b[0m \u001b[1m0s\u001b[0m 892us/step\n",
      "\u001b[1m1935/1935\u001b[0m \u001b[32m━━━━━━━━━━━━━━━━━━━━\u001b[0m\u001b[37m\u001b[0m \u001b[1m1s\u001b[0m 744us/step\n",
      "\n",
      "RESULTADOS DEL MODELO\n",
      "==================================================\n",
      "Métrica         Test       Train     \n",
      "--------------------------------------------------\n",
      "Accuracy        0.82       0.86      \n",
      "F1 Score        0.50       0.62      \n",
      "Precision       0.59       0.74      \n",
      "Recall          0.43       0.53      \n",
      "==================================================\n"
     ]
    }
   ],
   "source": [
    "# Escalar datos para la Red Neuronal\n",
    "scaler = StandardScaler()\n",
    "X_train_nn = scaler.fit_transform(X_train)\n",
    "X_test_nn = scaler.transform(X_test)\n",
    "\n",
    "# Definir la arquitectura de la Red Neuronal\n",
    "model = keras.Sequential([\n",
    "    layers.Dense(64, activation='relu', input_shape=(X_train_nn.shape[1],)),\n",
    "    layers.Dense(32, activation='relu'),\n",
    "    layers.Dense(1, activation='sigmoid')\n",
    "])\n",
    "\n",
    "model.compile(optimizer='adam',\n",
    "              loss='binary_crossentropy',\n",
    "              metrics=['accuracy', tf.keras.metrics.Recall()])\n",
    "\n",
    "# Entrenar el modelo\n",
    "history = model.fit(X_train_nn, y_train,\n",
    "                    validation_split=0.2,\n",
    "                    epochs=30,\n",
    "                    batch_size=32,\n",
    "                    verbose=1)\n",
    "\n",
    "# Evaluar el modelo\n",
    "y_pred_prob = model.predict(X_test_nn).ravel()\n",
    "y_pred_nn = (y_pred_prob >= 0.5).astype(int)\n",
    "\n",
    "show_metrics(y_test, y_pred_nn, y_train, model.predict(X_train_nn).ravel() >= 0.5)"
   ]
  },
  {
   "cell_type": "code",
   "execution_count": 71,
   "id": "47995c96",
   "metadata": {},
   "outputs": [
    {
     "name": "stdout",
     "output_type": "stream",
     "text": [
      "Pesos de clase calculados: {0: np.float64(0.6296590169270834), 1: np.float64(2.4281343166483604)}\n",
      "Epoch 1/100\n"
     ]
    },
    {
     "name": "stderr",
     "output_type": "stream",
     "text": [
      "/workspaces/Final_Project_DataScient/.venv/lib/python3.11/site-packages/keras/src/layers/core/dense.py:93: UserWarning: Do not pass an `input_shape`/`input_dim` argument to a layer. When using Sequential models, prefer using an `Input(shape)` object as the first layer in the model instead.\n",
      "  super().__init__(activity_regularizer=activity_regularizer, **kwargs)\n"
     ]
    },
    {
     "name": "stdout",
     "output_type": "stream",
     "text": [
      "\u001b[1m1548/1548\u001b[0m \u001b[32m━━━━━━━━━━━━━━━━━━━━\u001b[0m\u001b[37m\u001b[0m \u001b[1m6s\u001b[0m 3ms/step - f1_score: 0.3424 - loss: 0.7149 - val_f1_score: 0.3405 - val_loss: 0.5253\n",
      "Epoch 2/100\n",
      "\u001b[1m1548/1548\u001b[0m \u001b[32m━━━━━━━━━━━━━━━━━━━━\u001b[0m\u001b[37m\u001b[0m \u001b[1m4s\u001b[0m 3ms/step - f1_score: 0.3388 - loss: 0.5393 - val_f1_score: 0.3405 - val_loss: 0.5080\n",
      "Epoch 3/100\n",
      "\u001b[1m1548/1548\u001b[0m \u001b[32m━━━━━━━━━━━━━━━━━━━━\u001b[0m\u001b[37m\u001b[0m \u001b[1m5s\u001b[0m 3ms/step - f1_score: 0.3422 - loss: 0.5218 - val_f1_score: 0.3405 - val_loss: 0.5034\n",
      "Epoch 4/100\n",
      "\u001b[1m1548/1548\u001b[0m \u001b[32m━━━━━━━━━━━━━━━━━━━━\u001b[0m\u001b[37m\u001b[0m \u001b[1m4s\u001b[0m 3ms/step - f1_score: 0.3387 - loss: 0.5187 - val_f1_score: 0.3405 - val_loss: 0.5032\n",
      "Epoch 5/100\n",
      "\u001b[1m1548/1548\u001b[0m \u001b[32m━━━━━━━━━━━━━━━━━━━━\u001b[0m\u001b[37m\u001b[0m \u001b[1m4s\u001b[0m 3ms/step - f1_score: 0.3410 - loss: 0.5168 - val_f1_score: 0.3405 - val_loss: 0.4984\n",
      "Epoch 6/100\n",
      "\u001b[1m1548/1548\u001b[0m \u001b[32m━━━━━━━━━━━━━━━━━━━━\u001b[0m\u001b[37m\u001b[0m \u001b[1m4s\u001b[0m 3ms/step - f1_score: 0.3433 - loss: 0.5197 - val_f1_score: 0.3405 - val_loss: 0.5071\n",
      "Epoch 7/100\n",
      "\u001b[1m1548/1548\u001b[0m \u001b[32m━━━━━━━━━━━━━━━━━━━━\u001b[0m\u001b[37m\u001b[0m \u001b[1m6s\u001b[0m 3ms/step - f1_score: 0.3429 - loss: 0.5157 - val_f1_score: 0.3405 - val_loss: 0.4980\n",
      "Epoch 8/100\n",
      "\u001b[1m1548/1548\u001b[0m \u001b[32m━━━━━━━━━━━━━━━━━━━━\u001b[0m\u001b[37m\u001b[0m \u001b[1m7s\u001b[0m 4ms/step - f1_score: 0.3396 - loss: 0.5149 - val_f1_score: 0.3405 - val_loss: 0.4910\n",
      "Epoch 9/100\n",
      "\u001b[1m1548/1548\u001b[0m \u001b[32m━━━━━━━━━━━━━━━━━━━━\u001b[0m\u001b[37m\u001b[0m \u001b[1m4s\u001b[0m 3ms/step - f1_score: 0.3408 - loss: 0.5118 - val_f1_score: 0.3405 - val_loss: 0.5029\n",
      "Epoch 10/100\n",
      "\u001b[1m1548/1548\u001b[0m \u001b[32m━━━━━━━━━━━━━━━━━━━━\u001b[0m\u001b[37m\u001b[0m \u001b[1m4s\u001b[0m 3ms/step - f1_score: 0.3410 - loss: 0.5070 - val_f1_score: 0.3405 - val_loss: 0.5079\n",
      "Epoch 11/100\n",
      "\u001b[1m1548/1548\u001b[0m \u001b[32m━━━━━━━━━━━━━━━━━━━━\u001b[0m\u001b[37m\u001b[0m \u001b[1m5s\u001b[0m 3ms/step - f1_score: 0.3404 - loss: 0.5135 - val_f1_score: 0.3405 - val_loss: 0.5005\n",
      "Epoch 12/100\n",
      "\u001b[1m1548/1548\u001b[0m \u001b[32m━━━━━━━━━━━━━━━━━━━━\u001b[0m\u001b[37m\u001b[0m \u001b[1m4s\u001b[0m 2ms/step - f1_score: 0.3434 - loss: 0.5119 - val_f1_score: 0.3405 - val_loss: 0.4949\n",
      "Epoch 13/100\n",
      "\u001b[1m1548/1548\u001b[0m \u001b[32m━━━━━━━━━━━━━━━━━━━━\u001b[0m\u001b[37m\u001b[0m \u001b[1m5s\u001b[0m 3ms/step - f1_score: 0.3445 - loss: 0.5165 - val_f1_score: 0.3405 - val_loss: 0.4909\n",
      "Epoch 14/100\n",
      "\u001b[1m1548/1548\u001b[0m \u001b[32m━━━━━━━━━━━━━━━━━━━━\u001b[0m\u001b[37m\u001b[0m \u001b[1m4s\u001b[0m 3ms/step - f1_score: 0.3418 - loss: 0.5094 - val_f1_score: 0.3405 - val_loss: 0.4980\n",
      "Epoch 15/100\n",
      "\u001b[1m1548/1548\u001b[0m \u001b[32m━━━━━━━━━━━━━━━━━━━━\u001b[0m\u001b[37m\u001b[0m \u001b[1m4s\u001b[0m 3ms/step - f1_score: 0.3448 - loss: 0.5112 - val_f1_score: 0.3405 - val_loss: 0.5060\n",
      "Epoch 16/100\n",
      "\u001b[1m1548/1548\u001b[0m \u001b[32m━━━━━━━━━━━━━━━━━━━━\u001b[0m\u001b[37m\u001b[0m \u001b[1m4s\u001b[0m 3ms/step - f1_score: 0.3445 - loss: 0.5109 - val_f1_score: 0.3405 - val_loss: 0.4977\n",
      "Epoch 17/100\n",
      "\u001b[1m1548/1548\u001b[0m \u001b[32m━━━━━━━━━━━━━━━━━━━━\u001b[0m\u001b[37m\u001b[0m \u001b[1m4s\u001b[0m 3ms/step - f1_score: 0.3449 - loss: 0.5154 - val_f1_score: 0.3405 - val_loss: 0.4877\n",
      "Epoch 18/100\n",
      "\u001b[1m1548/1548\u001b[0m \u001b[32m━━━━━━━━━━━━━━━━━━━━\u001b[0m\u001b[37m\u001b[0m \u001b[1m6s\u001b[0m 3ms/step - f1_score: 0.3419 - loss: 0.5075 - val_f1_score: 0.3405 - val_loss: 0.4945\n",
      "Epoch 19/100\n",
      "\u001b[1m1548/1548\u001b[0m \u001b[32m━━━━━━━━━━━━━━━━━━━━\u001b[0m\u001b[37m\u001b[0m \u001b[1m5s\u001b[0m 3ms/step - f1_score: 0.3394 - loss: 0.5081 - val_f1_score: 0.3405 - val_loss: 0.5029\n",
      "Epoch 20/100\n",
      "\u001b[1m1548/1548\u001b[0m \u001b[32m━━━━━━━━━━━━━━━━━━━━\u001b[0m\u001b[37m\u001b[0m \u001b[1m5s\u001b[0m 3ms/step - f1_score: 0.3438 - loss: 0.5056 - val_f1_score: 0.3405 - val_loss: 0.5026\n",
      "Epoch 21/100\n",
      "\u001b[1m1548/1548\u001b[0m \u001b[32m━━━━━━━━━━━━━━━━━━━━\u001b[0m\u001b[37m\u001b[0m \u001b[1m4s\u001b[0m 3ms/step - f1_score: 0.3440 - loss: 0.5003 - val_f1_score: 0.3405 - val_loss: 0.4991\n",
      "Epoch 22/100\n",
      "\u001b[1m1548/1548\u001b[0m \u001b[32m━━━━━━━━━━━━━━━━━━━━\u001b[0m\u001b[37m\u001b[0m \u001b[1m4s\u001b[0m 3ms/step - f1_score: 0.3431 - loss: 0.5016 - val_f1_score: 0.3405 - val_loss: 0.4986\n",
      "Epoch 23/100\n",
      "\u001b[1m1548/1548\u001b[0m \u001b[32m━━━━━━━━━━━━━━━━━━━━\u001b[0m\u001b[37m\u001b[0m \u001b[1m4s\u001b[0m 3ms/step - f1_score: 0.3415 - loss: 0.5018 - val_f1_score: 0.3405 - val_loss: 0.5031\n",
      "Epoch 24/100\n",
      "\u001b[1m1548/1548\u001b[0m \u001b[32m━━━━━━━━━━━━━━━━━━━━\u001b[0m\u001b[37m\u001b[0m \u001b[1m4s\u001b[0m 3ms/step - f1_score: 0.3400 - loss: 0.5060 - val_f1_score: 0.3405 - val_loss: 0.4980\n",
      "Epoch 25/100\n",
      "\u001b[1m1548/1548\u001b[0m \u001b[32m━━━━━━━━━━━━━━━━━━━━\u001b[0m\u001b[37m\u001b[0m \u001b[1m4s\u001b[0m 3ms/step - f1_score: 0.3385 - loss: 0.4944 - val_f1_score: 0.3405 - val_loss: 0.5132\n",
      "Epoch 26/100\n",
      "\u001b[1m1548/1548\u001b[0m \u001b[32m━━━━━━━━━━━━━━━━━━━━\u001b[0m\u001b[37m\u001b[0m \u001b[1m4s\u001b[0m 3ms/step - f1_score: 0.3444 - loss: 0.5033 - val_f1_score: 0.3405 - val_loss: 0.4987\n",
      "Epoch 27/100\n",
      "\u001b[1m1548/1548\u001b[0m \u001b[32m━━━━━━━━━━━━━━━━━━━━\u001b[0m\u001b[37m\u001b[0m \u001b[1m4s\u001b[0m 3ms/step - f1_score: 0.3421 - loss: 0.5055 - val_f1_score: 0.3405 - val_loss: 0.4946\n"
     ]
    }
   ],
   "source": [
    "# --- CALCULO DE PESOS DE CLASE ---\n",
    "# Calcula automáticamente los pesos de clase para tu conjunto de entrenamiento\n",
    "# Crucial para que el modelo aprenda a priorizar la clase minoritaria\n",
    "class_weights = class_weight.compute_class_weight(\n",
    "    class_weight='balanced',\n",
    "    classes=np.unique(y_train),\n",
    "    y=y_train\n",
    ")\n",
    "\n",
    "# Convierte el array de pesos en un diccionario, que es lo que Keras espera\n",
    "# Por ejemplo, si class_weights = [0.6, 2.4], se mapea a {0: 0.6, 1: 2.4}\n",
    "class_weights_dict = {i : class_weights[i] for i in range(len(class_weights))}\n",
    "print(f\"Pesos de clase calculados: {class_weights_dict}\")\n",
    "\n",
    "\n",
    "model = keras.Sequential([\n",
    "    layers.Dense(units=128, activation='relu', input_shape=(X_train_scaled.shape[1],)), # Más neuronas en la primera capa\n",
    "    layers.BatchNormalization(),\n",
    "    layers.Dropout(0.4),\n",
    "\n",
    "    layers.Dense(units=64, activation='relu'),\n",
    "    layers.BatchNormalization(),\n",
    "    layers.Dropout(0.4),\n",
    "\n",
    "    layers.Dense(units=32, activation='relu'),\n",
    "    layers.BatchNormalization(),\n",
    "    layers.Dropout(0.4),\n",
    "\n",
    "    layers.Dense(units=1, activation='sigmoid')\n",
    "    ])\n",
    "\n",
    "model.compile(optimizer='adam',\n",
    "              loss='binary_crossentropy',\n",
    "              metrics=['f1_score'])\n",
    "\n",
    "early_stopping = keras.callbacks.EarlyStopping(\n",
    "    monitor='val_loss',\n",
    "    patience=10,\n",
    "    restore_best_weights=True\n",
    ")\n",
    "\n",
    "history = model.fit(\n",
    "    X_train_nn, y_train,\n",
    "    epochs=100,\n",
    "    batch_size=32,\n",
    "    validation_split=0.2,\n",
    "    class_weight=class_weights_dict,\n",
    "    callbacks=[early_stopping]\n",
    ")"
   ]
  },
  {
   "cell_type": "code",
   "execution_count": 73,
   "id": "d155e8e6",
   "metadata": {},
   "outputs": [
    {
     "name": "stdout",
     "output_type": "stream",
     "text": [
      "\u001b[1m484/484\u001b[0m \u001b[32m━━━━━━━━━━━━━━━━━━━━\u001b[0m\u001b[37m\u001b[0m \u001b[1m1s\u001b[0m 1ms/step  \n",
      "\n",
      "Reporte de Clasificación:\n",
      "              precision    recall  f1-score   support\n",
      "\n",
      "         0.0       0.91      0.80      0.85     12288\n",
      "         1.0       0.48      0.70      0.56      3187\n",
      "\n",
      "    accuracy                           0.78     15475\n",
      "   macro avg       0.69      0.75      0.71     15475\n",
      "weighted avg       0.82      0.78      0.79     15475\n",
      "\n"
     ]
    }
   ],
   "source": [
    "# 2. Realizar predicciones\n",
    "y_pred_proba = model.predict(X_test_nn) # Probabilidades de la clase positiva\n",
    "y_pred = (y_pred_proba > 0.52).astype(int) # Convertir probabilidades a etiquetas binarias (0 o 1)\n",
    "\n",
    "print(\"\\nReporte de Clasificación:\")\n",
    "print(classification_report(y_test, y_pred))"
   ]
  },
  {
   "cell_type": "markdown",
   "id": "c5a4ccd7",
   "metadata": {},
   "source": [
    "### 🧠 Conclusión sobre la Red Neuronal\n",
    "\n",
    "La red neuronal entrenada presenta **métricas similares a los modelos base** evaluados anteriormente.  \n",
    "Si bien esta alternativa ofrece una arquitectura flexible y ampliable, **no aporta mejoras significativas** en comparación con los modelos tradicionales para esta tarea.\n",
    "\n",
    "Se recomienda valorar a futuro la posibilidad de:\n",
    "- Profundizar en la arquitectura de la red neuronal (más capas, otras activaciones).\n",
    "- Aplicar regularización y búsqueda de hiperparámetros para evaluar si existe un incremento de rendimiento notable.\n",
    "\n",
    "Esto debería abordarse únicamente si la ganancia en métricas justifica:\n",
    "- El incremento en tiempo de entrenamiento.\n",
    "- El mayor consumo de recursos requerido por este tipo de modelos.\n"
   ]
  }
 ],
 "metadata": {
  "kernelspec": {
   "display_name": ".venv",
   "language": "python",
   "name": "python3"
  },
  "language_info": {
   "codemirror_mode": {
    "name": "ipython",
    "version": 3
   },
   "file_extension": ".py",
   "mimetype": "text/x-python",
   "name": "python",
   "nbconvert_exporter": "python",
   "pygments_lexer": "ipython3",
   "version": "3.11.4"
  }
 },
 "nbformat": 4,
 "nbformat_minor": 5
}
