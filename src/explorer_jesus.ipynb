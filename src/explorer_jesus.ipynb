{
    "cells": [
        {
            "cell_type": "markdown",
            "metadata": {},
            "source": [
                "# Explore here"
            ]
        },
        {
            "cell_type": "code",
<<<<<<< HEAD:src/explorer_jesus.ipynb
            "execution_count": 1,
=======
            "execution_count": 2,
>>>>>>> dde93dc5d0fe95e2335dbe30a758bfd6f6bbbbf2:src/first_features_selection.ipynb
            "metadata": {},
            "outputs": [],
            "source": [
                "# Your code here\n",
                "import pandas as pd\n",
                "import numpy as np\n",
                "import matplotlib.pyplot as plt\n",
                "import seaborn as sns"
            ]
        },
        {
            "cell_type": "code",
<<<<<<< HEAD:src/explorer_jesus.ipynb
            "execution_count": 2,
            "metadata": {},
            "outputs": [
                {
                    "data": {
                        "text/html": [
                            "<div>\n",
                            "<style scoped>\n",
                            "    .dataframe tbody tr th:only-of-type {\n",
                            "        vertical-align: middle;\n",
                            "    }\n",
                            "\n",
                            "    .dataframe tbody tr th {\n",
                            "        vertical-align: top;\n",
                            "    }\n",
                            "\n",
                            "    .dataframe thead th {\n",
                            "        text-align: right;\n",
                            "    }\n",
                            "</style>\n",
                            "<table border=\"1\" class=\"dataframe\">\n",
                            "  <thead>\n",
                            "    <tr style=\"text-align: right;\">\n",
                            "      <th></th>\n",
                            "      <th>MARITAL</th>\n",
                            "      <th>RENTHOM1</th>\n",
                            "      <th>VETERAN3</th>\n",
                            "      <th>EMPLOY1</th>\n",
                            "      <th>_AGEG5YR</th>\n",
                            "      <th>_INCOMG1</th>\n",
                            "      <th>_EDUCAG</th>\n",
                            "      <th>_CHLDCNT</th>\n",
                            "      <th>_EXTETH3</th>\n",
                            "      <th>HHADULT</th>\n",
                            "      <th>...</th>\n",
                            "      <th>ACEPRISN</th>\n",
                            "      <th>ACEDIVRC</th>\n",
                            "      <th>ACEHURT1</th>\n",
                            "      <th>ACESWEAR</th>\n",
                            "      <th>ACETOUCH</th>\n",
                            "      <th>ACETTHEM</th>\n",
                            "      <th>ACEHVSEX</th>\n",
                            "      <th>FIREARM5</th>\n",
                            "      <th>GUNLOAD</th>\n",
                            "      <th>LOADULK2</th>\n",
                            "    </tr>\n",
                            "  </thead>\n",
                            "  <tbody>\n",
                            "    <tr>\n",
                            "      <th>0</th>\n",
                            "      <td>1.0</td>\n",
                            "      <td>1.0</td>\n",
                            "      <td>2.0</td>\n",
                            "      <td>7.0</td>\n",
                            "      <td>13.0</td>\n",
                            "      <td>9.0</td>\n",
                            "      <td>4.0</td>\n",
                            "      <td>1.0</td>\n",
                            "      <td>9.0</td>\n",
                            "      <td>NaN</td>\n",
                            "      <td>...</td>\n",
                            "      <td>NaN</td>\n",
                            "      <td>NaN</td>\n",
                            "      <td>NaN</td>\n",
                            "      <td>NaN</td>\n",
                            "      <td>NaN</td>\n",
                            "      <td>NaN</td>\n",
                            "      <td>NaN</td>\n",
                            "      <td>NaN</td>\n",
                            "      <td>NaN</td>\n",
                            "      <td>NaN</td>\n",
                            "    </tr>\n",
                            "    <tr>\n",
                            "      <th>1</th>\n",
                            "      <td>3.0</td>\n",
                            "      <td>1.0</td>\n",
                            "      <td>2.0</td>\n",
                            "      <td>2.0</td>\n",
                            "      <td>13.0</td>\n",
                            "      <td>3.0</td>\n",
                            "      <td>2.0</td>\n",
                            "      <td>1.0</td>\n",
                            "      <td>9.0</td>\n",
                            "      <td>NaN</td>\n",
                            "      <td>...</td>\n",
                            "      <td>NaN</td>\n",
                            "      <td>NaN</td>\n",
                            "      <td>NaN</td>\n",
                            "      <td>NaN</td>\n",
                            "      <td>NaN</td>\n",
                            "      <td>NaN</td>\n",
                            "      <td>NaN</td>\n",
                            "      <td>NaN</td>\n",
                            "      <td>NaN</td>\n",
                            "      <td>NaN</td>\n",
                            "    </tr>\n",
                            "    <tr>\n",
                            "      <th>2</th>\n",
                            "      <td>1.0</td>\n",
                            "      <td>1.0</td>\n",
                            "      <td>2.0</td>\n",
                            "      <td>7.0</td>\n",
                            "      <td>8.0</td>\n",
                            "      <td>6.0</td>\n",
                            "      <td>4.0</td>\n",
                            "      <td>1.0</td>\n",
                            "      <td>9.0</td>\n",
                            "      <td>NaN</td>\n",
                            "      <td>...</td>\n",
                            "      <td>NaN</td>\n",
                            "      <td>NaN</td>\n",
                            "      <td>NaN</td>\n",
                            "      <td>NaN</td>\n",
                            "      <td>NaN</td>\n",
                            "      <td>NaN</td>\n",
                            "      <td>NaN</td>\n",
                            "      <td>NaN</td>\n",
                            "      <td>NaN</td>\n",
                            "      <td>NaN</td>\n",
                            "    </tr>\n",
                            "    <tr>\n",
                            "      <th>3</th>\n",
                            "      <td>1.0</td>\n",
                            "      <td>1.0</td>\n",
                            "      <td>2.0</td>\n",
                            "      <td>7.0</td>\n",
                            "      <td>14.0</td>\n",
                            "      <td>9.0</td>\n",
                            "      <td>2.0</td>\n",
                            "      <td>1.0</td>\n",
                            "      <td>9.0</td>\n",
                            "      <td>NaN</td>\n",
                            "      <td>...</td>\n",
                            "      <td>NaN</td>\n",
                            "      <td>NaN</td>\n",
                            "      <td>NaN</td>\n",
                            "      <td>NaN</td>\n",
                            "      <td>NaN</td>\n",
                            "      <td>NaN</td>\n",
                            "      <td>NaN</td>\n",
                            "      <td>NaN</td>\n",
                            "      <td>NaN</td>\n",
                            "      <td>NaN</td>\n",
                            "    </tr>\n",
                            "    <tr>\n",
                            "      <th>4</th>\n",
                            "      <td>1.0</td>\n",
                            "      <td>1.0</td>\n",
                            "      <td>2.0</td>\n",
                            "      <td>5.0</td>\n",
                            "      <td>5.0</td>\n",
                            "      <td>3.0</td>\n",
                            "      <td>3.0</td>\n",
                            "      <td>1.0</td>\n",
                            "      <td>9.0</td>\n",
                            "      <td>NaN</td>\n",
                            "      <td>...</td>\n",
                            "      <td>NaN</td>\n",
                            "      <td>NaN</td>\n",
                            "      <td>NaN</td>\n",
                            "      <td>NaN</td>\n",
                            "      <td>NaN</td>\n",
                            "      <td>NaN</td>\n",
                            "      <td>NaN</td>\n",
                            "      <td>NaN</td>\n",
                            "      <td>NaN</td>\n",
                            "      <td>NaN</td>\n",
                            "    </tr>\n",
                            "    <tr>\n",
                            "      <th>...</th>\n",
                            "      <td>...</td>\n",
                            "      <td>...</td>\n",
                            "      <td>...</td>\n",
                            "      <td>...</td>\n",
                            "      <td>...</td>\n",
                            "      <td>...</td>\n",
                            "      <td>...</td>\n",
                            "      <td>...</td>\n",
                            "      <td>...</td>\n",
                            "      <td>...</td>\n",
                            "      <td>...</td>\n",
                            "      <td>...</td>\n",
                            "      <td>...</td>\n",
                            "      <td>...</td>\n",
                            "      <td>...</td>\n",
                            "      <td>...</td>\n",
                            "      <td>...</td>\n",
                            "      <td>...</td>\n",
                            "      <td>...</td>\n",
                            "      <td>...</td>\n",
                            "      <td>...</td>\n",
                            "    </tr>\n",
                            "    <tr>\n",
                            "      <th>445127</th>\n",
                            "      <td>5.0</td>\n",
                            "      <td>2.0</td>\n",
                            "      <td>2.0</td>\n",
                            "      <td>1.0</td>\n",
                            "      <td>1.0</td>\n",
                            "      <td>1.0</td>\n",
                            "      <td>2.0</td>\n",
                            "      <td>2.0</td>\n",
                            "      <td>1.0</td>\n",
                            "      <td>5.0</td>\n",
                            "      <td>...</td>\n",
                            "      <td>NaN</td>\n",
                            "      <td>NaN</td>\n",
                            "      <td>NaN</td>\n",
                            "      <td>NaN</td>\n",
                            "      <td>NaN</td>\n",
                            "      <td>NaN</td>\n",
                            "      <td>NaN</td>\n",
                            "      <td>NaN</td>\n",
                            "      <td>NaN</td>\n",
                            "      <td>NaN</td>\n",
                            "    </tr>\n",
                            "    <tr>\n",
                            "      <th>445128</th>\n",
                            "      <td>1.0</td>\n",
                            "      <td>1.0</td>\n",
                            "      <td>1.0</td>\n",
                            "      <td>1.0</td>\n",
                            "      <td>7.0</td>\n",
                            "      <td>5.0</td>\n",
                            "      <td>4.0</td>\n",
                            "      <td>2.0</td>\n",
                            "      <td>1.0</td>\n",
                            "      <td>2.0</td>\n",
                            "      <td>...</td>\n",
                            "      <td>NaN</td>\n",
                            "      <td>NaN</td>\n",
                            "      <td>NaN</td>\n",
                            "      <td>NaN</td>\n",
                            "      <td>NaN</td>\n",
                            "      <td>NaN</td>\n",
                            "      <td>NaN</td>\n",
                            "      <td>NaN</td>\n",
                            "      <td>NaN</td>\n",
                            "      <td>NaN</td>\n",
                            "    </tr>\n",
                            "    <tr>\n",
                            "      <th>445129</th>\n",
                            "      <td>1.0</td>\n",
                            "      <td>3.0</td>\n",
                            "      <td>2.0</td>\n",
                            "      <td>8.0</td>\n",
                            "      <td>10.0</td>\n",
                            "      <td>9.0</td>\n",
                            "      <td>2.0</td>\n",
                            "      <td>1.0</td>\n",
                            "      <td>2.0</td>\n",
                            "      <td>1.0</td>\n",
                            "      <td>...</td>\n",
                            "      <td>NaN</td>\n",
                            "      <td>NaN</td>\n",
                            "      <td>NaN</td>\n",
                            "      <td>NaN</td>\n",
                            "      <td>NaN</td>\n",
                            "      <td>NaN</td>\n",
                            "      <td>NaN</td>\n",
                            "      <td>NaN</td>\n",
                            "      <td>NaN</td>\n",
                            "      <td>NaN</td>\n",
                            "    </tr>\n",
                            "    <tr>\n",
                            "      <th>445130</th>\n",
                            "      <td>1.0</td>\n",
                            "      <td>2.0</td>\n",
                            "      <td>2.0</td>\n",
                            "      <td>7.0</td>\n",
                            "      <td>11.0</td>\n",
                            "      <td>5.0</td>\n",
                            "      <td>3.0</td>\n",
                            "      <td>1.0</td>\n",
                            "      <td>1.0</td>\n",
                            "      <td>2.0</td>\n",
                            "      <td>...</td>\n",
                            "      <td>NaN</td>\n",
                            "      <td>NaN</td>\n",
                            "      <td>NaN</td>\n",
                            "      <td>NaN</td>\n",
                            "      <td>NaN</td>\n",
                            "      <td>NaN</td>\n",
                            "      <td>NaN</td>\n",
                            "      <td>NaN</td>\n",
                            "      <td>NaN</td>\n",
                            "      <td>NaN</td>\n",
                            "    </tr>\n",
                            "    <tr>\n",
                            "      <th>445131</th>\n",
                            "      <td>3.0</td>\n",
                            "      <td>1.0</td>\n",
                            "      <td>2.0</td>\n",
                            "      <td>1.0</td>\n",
                            "      <td>5.0</td>\n",
                            "      <td>2.0</td>\n",
                            "      <td>1.0</td>\n",
                            "      <td>1.0</td>\n",
                            "      <td>1.0</td>\n",
                            "      <td>1.0</td>\n",
                            "      <td>...</td>\n",
                            "      <td>NaN</td>\n",
                            "      <td>NaN</td>\n",
                            "      <td>NaN</td>\n",
                            "      <td>NaN</td>\n",
                            "      <td>NaN</td>\n",
                            "      <td>NaN</td>\n",
                            "      <td>NaN</td>\n",
                            "      <td>NaN</td>\n",
                            "      <td>NaN</td>\n",
                            "      <td>NaN</td>\n",
                            "    </tr>\n",
                            "  </tbody>\n",
                            "</table>\n",
                            "<p>445132 rows × 82 columns</p>\n",
                            "</div>"
                        ],
                        "text/plain": [
                            "        MARITAL  RENTHOM1  VETERAN3  EMPLOY1  _AGEG5YR  _INCOMG1  _EDUCAG  \\\n",
                            "0           1.0       1.0       2.0      7.0      13.0       9.0      4.0   \n",
                            "1           3.0       1.0       2.0      2.0      13.0       3.0      2.0   \n",
                            "2           1.0       1.0       2.0      7.0       8.0       6.0      4.0   \n",
                            "3           1.0       1.0       2.0      7.0      14.0       9.0      2.0   \n",
                            "4           1.0       1.0       2.0      5.0       5.0       3.0      3.0   \n",
                            "...         ...       ...       ...      ...       ...       ...      ...   \n",
                            "445127      5.0       2.0       2.0      1.0       1.0       1.0      2.0   \n",
                            "445128      1.0       1.0       1.0      1.0       7.0       5.0      4.0   \n",
                            "445129      1.0       3.0       2.0      8.0      10.0       9.0      2.0   \n",
                            "445130      1.0       2.0       2.0      7.0      11.0       5.0      3.0   \n",
                            "445131      3.0       1.0       2.0      1.0       5.0       2.0      1.0   \n",
                            "\n",
                            "        _CHLDCNT  _EXTETH3  HHADULT  ...  ACEPRISN  ACEDIVRC  ACEHURT1  \\\n",
                            "0            1.0       9.0      NaN  ...       NaN       NaN       NaN   \n",
                            "1            1.0       9.0      NaN  ...       NaN       NaN       NaN   \n",
                            "2            1.0       9.0      NaN  ...       NaN       NaN       NaN   \n",
                            "3            1.0       9.0      NaN  ...       NaN       NaN       NaN   \n",
                            "4            1.0       9.0      NaN  ...       NaN       NaN       NaN   \n",
                            "...          ...       ...      ...  ...       ...       ...       ...   \n",
                            "445127       2.0       1.0      5.0  ...       NaN       NaN       NaN   \n",
                            "445128       2.0       1.0      2.0  ...       NaN       NaN       NaN   \n",
                            "445129       1.0       2.0      1.0  ...       NaN       NaN       NaN   \n",
                            "445130       1.0       1.0      2.0  ...       NaN       NaN       NaN   \n",
                            "445131       1.0       1.0      1.0  ...       NaN       NaN       NaN   \n",
                            "\n",
                            "        ACESWEAR  ACETOUCH  ACETTHEM  ACEHVSEX  FIREARM5  GUNLOAD  LOADULK2  \n",
                            "0            NaN       NaN       NaN       NaN       NaN      NaN       NaN  \n",
                            "1            NaN       NaN       NaN       NaN       NaN      NaN       NaN  \n",
                            "2            NaN       NaN       NaN       NaN       NaN      NaN       NaN  \n",
                            "3            NaN       NaN       NaN       NaN       NaN      NaN       NaN  \n",
                            "4            NaN       NaN       NaN       NaN       NaN      NaN       NaN  \n",
                            "...          ...       ...       ...       ...       ...      ...       ...  \n",
                            "445127       NaN       NaN       NaN       NaN       NaN      NaN       NaN  \n",
                            "445128       NaN       NaN       NaN       NaN       NaN      NaN       NaN  \n",
                            "445129       NaN       NaN       NaN       NaN       NaN      NaN       NaN  \n",
                            "445130       NaN       NaN       NaN       NaN       NaN      NaN       NaN  \n",
                            "445131       NaN       NaN       NaN       NaN       NaN      NaN       NaN  \n",
                            "\n",
                            "[445132 rows x 82 columns]"
                        ]
                    },
                    "execution_count": 2,
                    "metadata": {},
                    "output_type": "execute_result"
=======
            "execution_count": 3,
            "metadata": {},
            "outputs": [
                {
                    "name": "stdout",
                    "output_type": "stream",
                    "text": [
                        "<class 'pandas.core.frame.DataFrame'>\n",
                        "RangeIndex: 445132 entries, 0 to 445131\n",
                        "Data columns (total 82 columns):\n",
                        " #   Column    Non-Null Count   Dtype  \n",
                        "---  ------    --------------   -----  \n",
                        " 0   MARITAL   445124 non-null  float64\n",
                        " 1   RENTHOM1  445123 non-null  float64\n",
                        " 2   VETERAN3  440959 non-null  float64\n",
                        " 3   EMPLOY1   438936 non-null  float64\n",
                        " 4   _AGEG5YR  445132 non-null  float64\n",
                        " 5   _INCOMG1  445132 non-null  float64\n",
                        " 6   _EDUCAG   445132 non-null  float64\n",
                        " 7   _CHLDCNT  445131 non-null  float64\n",
                        " 8   _EXTETH3  445132 non-null  float64\n",
                        " 9   HHADULT   349071 non-null  float64\n",
                        " 10  SEXVAR    445132 non-null  float64\n",
                        " 11  PERSDOC3  445130 non-null  float64\n",
                        " 12  MEDCOST1  445128 non-null  float64\n",
                        " 13  _HLTHPLN  445132 non-null  float64\n",
                        " 14  _AIDTST4  398897 non-null  float64\n",
                        " 15  SDHEMPLY  253515 non-null  float64\n",
                        " 16  SDHFOOD1  252829 non-null  float64\n",
                        " 17  SDHUTILS  252279 non-null  float64\n",
                        " 18  SDHBILLS  252522 non-null  float64\n",
                        " 19  SDHTRNSP  251943 non-null  float64\n",
                        " 20  CDSOCIAL  7415 non-null    float64\n",
                        " 21  CDDISCUS  7400 non-null    float64\n",
                        " 22  CAREGIV1  98510 non-null   float64\n",
                        " 23  CRGVREL4  19634 non-null   float64\n",
                        " 24  CRGVLNG1  19583 non-null   float64\n",
                        " 25  CRGVHRS1  19533 non-null   float64\n",
                        " 26  EXERANY2  445130 non-null  float64\n",
                        " 27  SLEPTIM1  445129 non-null  float64\n",
                        " 28  SMOKE100  413355 non-null  float64\n",
                        " 29  USENOW3   412532 non-null  float64\n",
                        " 30  ECIGNOW2  411553 non-null  float64\n",
                        " 31  ALCDAY4   404369 non-null  float64\n",
                        " 32  AVEDRNK3  210363 non-null  float64\n",
                        " 33  DRNK3GE5  209849 non-null  float64\n",
                        " 34  MAXDRNKS  209411 non-null  float64\n",
                        " 35  HIVRISK5  396671 non-null  float64\n",
                        " 36  MARIJAN1  94919 non-null   float64\n",
                        " 37  MARJSMOK  11510 non-null   float64\n",
                        " 38  MARJEAT   11504 non-null   float64\n",
                        " 39  MARJVAPE  11503 non-null   float64\n",
                        " 40  MARJDAB   11495 non-null   float64\n",
                        " 41  MARJOTHR  11487 non-null   float64\n",
                        " 42  ASBIALCH  60942 non-null   float64\n",
                        " 43  ASBIDRNK  60840 non-null   float64\n",
                        " 44  ASBIBING  60728 non-null   float64\n",
                        " 45  _TOTINDA  445132 non-null  float64\n",
                        " 46  _RFSMOK3  445132 non-null  float64\n",
                        " 47  DRNKANY6  445132 non-null  float64\n",
                        " 48  _RFBING6  445132 non-null  float64\n",
                        " 49  CVDINFR4  445128 non-null  float64\n",
                        " 50  CVDSTRK3  445130 non-null  float64\n",
                        " 51  ADDEPEV3  445125 non-null  float64\n",
                        " 52  DIABETE4  445129 non-null  float64\n",
                        " 53  COVIDPOS  395897 non-null  float64\n",
                        " 54  HADHYST2  217679 non-null  float64\n",
                        " 55  COLNCNCR  291086 non-null  float64\n",
                        " 56  FLUSHOT7  401539 non-null  float64\n",
                        " 57  _MICHD    440111 non-null  float64\n",
                        " 58  _ASTHMS1  445132 non-null  float64\n",
                        " 59  _DRDXAR2  442499 non-null  float64\n",
                        " 60  _PHYS14D  445132 non-null  float64\n",
                        " 61  _MENT14D  445132 non-null  float64\n",
                        " 62  _BMI5CAT  396326 non-null  float64\n",
                        " 63  _RFHLTH   445132 non-null  float64\n",
                        " 64  DECIDE    424146 non-null  float64\n",
                        " 65  DIFFALON  421190 non-null  float64\n",
                        " 66  ACEDEPRS  48286 non-null   float64\n",
                        " 67  LSATISFY  254488 non-null  float64\n",
                        " 68  EMTSUPRT  254141 non-null  float64\n",
                        " 69  SDHISOLT  253790 non-null  float64\n",
                        " 70  ACEDRINK  48231 non-null   float64\n",
                        " 71  ACEDRUGS  48220 non-null   float64\n",
                        " 72  ACEPRISN  48194 non-null   float64\n",
                        " 73  ACEDIVRC  48172 non-null   float64\n",
                        " 74  ACEHURT1  48077 non-null   float64\n",
                        " 75  ACESWEAR  48029 non-null   float64\n",
                        " 76  ACETOUCH  47972 non-null   float64\n",
                        " 77  ACETTHEM  47936 non-null   float64\n",
                        " 78  ACEHVSEX  47876 non-null   float64\n",
                        " 79  FIREARM5  39800 non-null   float64\n",
                        " 80  GUNLOAD   13825 non-null   float64\n",
                        " 81  LOADULK2  4055 non-null    float64\n",
                        "dtypes: float64(82)\n",
                        "memory usage: 278.5 MB\n"
                    ]
>>>>>>> dde93dc5d0fe95e2335dbe30a758bfd6f6bbbbf2:src/first_features_selection.ipynb
                }
            ],
            "source": [
                "data = pd.read_csv('/workspaces/Final_Project_DataScient/data/interim/data_limpia.zip')\n",
                "df = data.copy()\n",
                "df.info(verbose=True)"
            ]
        },
        {
            "cell_type": "markdown",
            "metadata": {},
            "source": [
                "## Ingenieria de atributos para fusionar columnas con significado acumulativo\n",
                "**Paso 1:** Analizar la codificacion presente en las columnas susceptibles de fusionar  \n",
                "**Paso 2:** Imputar valores a los NaN presentes en columnas a sumar (Nan + 1 = NaN, NaN + 0 = Nan...)  \n",
                "**Paso 3:** Sumar columnas y agregar resultado a nueva columna  \n",
                "**Paso 4:** Eliminar columnas utilizadas para la crecion de una nueva"
            ]
        },
        {
            "cell_type": "markdown",
            "metadata": {},
            "source": [
                "Variables _HLTHPLN (Cobertura formal del sistema de salud) y PERSDOC3 (Atención continua o relación con un médico)\n",
                "\n",
                "Se decide mantener solo _HLTHPLN porque:\n",
                "- Es más fundamental y objetivo (tener o no cobertura).\n",
                "- Está menos expuesta a interpretación subjetiva.\n",
                "- Captura directamente un factor estructural de acceso."
            ]
        },
        {
            "cell_type": "code",
<<<<<<< HEAD:src/explorer_jesus.ipynb
            "execution_count": 3,
            "metadata": {},
            "outputs": [
                {
                    "data": {
                        "text/plain": [
                            "ADDEPEV3\n",
                            "2.0    350910\n",
                            "1.0     91410\n",
                            "7.0      2140\n",
                            "9.0       665\n",
                            "Name: count, dtype: int64"
                        ]
                    },
                    "execution_count": 3,
                    "metadata": {},
                    "output_type": "execute_result"
                }
            ],
            "source": [
                "df['ADDEPEV3'].value_counts()"
            ]
        },
        {
            "cell_type": "code",
            "execution_count": 4,
            "metadata": {},
            "outputs": [
                {
                    "name": "stdout",
                    "output_type": "stream",
                    "text": [
                        "Columna: MARITAL - Porcentaje de valores nulos: 0.00%\n",
                        "Columna: RENTHOM1 - Porcentaje de valores nulos: 0.00%\n",
                        "Columna: VETERAN3 - Porcentaje de valores nulos: 0.94%\n",
                        "Columna: EMPLOY1 - Porcentaje de valores nulos: 1.39%\n",
                        "Columna: _AGEG5YR - Porcentaje de valores nulos: 0.00%\n",
                        "Columna: _INCOMG1 - Porcentaje de valores nulos: 0.00%\n",
                        "Columna: _EDUCAG - Porcentaje de valores nulos: 0.00%\n",
                        "Columna: _CHLDCNT - Porcentaje de valores nulos: 0.00%\n",
                        "Columna: _EXTETH3 - Porcentaje de valores nulos: 0.00%\n",
                        "Columna: HHADULT - Porcentaje de valores nulos: 21.58%\n",
                        "Columna: SEXVAR - Porcentaje de valores nulos: 0.00%\n",
                        "Columna: PERSDOC3 - Porcentaje de valores nulos: 0.00%\n",
                        "Columna: MEDCOST1 - Porcentaje de valores nulos: 0.00%\n",
                        "Columna: _HLTHPLN - Porcentaje de valores nulos: 0.00%\n",
                        "Columna: _AIDTST4 - Porcentaje de valores nulos: 10.39%\n",
                        "Columna: SDHEMPLY - Porcentaje de valores nulos: 43.05%\n",
                        "Columna: SDHFOOD1 - Porcentaje de valores nulos: 43.20%\n",
                        "Columna: SDHUTILS - Porcentaje de valores nulos: 43.32%\n",
                        "Columna: SDHBILLS - Porcentaje de valores nulos: 43.27%\n",
                        "Columna: SDHTRNSP - Porcentaje de valores nulos: 43.40%\n",
                        "Columna: CDSOCIAL - Porcentaje de valores nulos: 98.33%\n",
                        "Columna: CDDISCUS - Porcentaje de valores nulos: 98.34%\n",
                        "Columna: CAREGIV1 - Porcentaje de valores nulos: 77.87%\n",
                        "Columna: CRGVREL4 - Porcentaje de valores nulos: 95.59%\n",
                        "Columna: CRGVLNG1 - Porcentaje de valores nulos: 95.60%\n",
                        "Columna: CRGVHRS1 - Porcentaje de valores nulos: 95.61%\n",
                        "Columna: EXERANY2 - Porcentaje de valores nulos: 0.00%\n",
                        "Columna: SLEPTIM1 - Porcentaje de valores nulos: 0.00%\n",
                        "Columna: SMOKE100 - Porcentaje de valores nulos: 7.14%\n",
                        "Columna: USENOW3 - Porcentaje de valores nulos: 7.32%\n",
                        "Columna: ECIGNOW2 - Porcentaje de valores nulos: 7.54%\n",
                        "Columna: ALCDAY4 - Porcentaje de valores nulos: 9.16%\n",
                        "Columna: AVEDRNK3 - Porcentaje de valores nulos: 52.74%\n",
                        "Columna: DRNK3GE5 - Porcentaje de valores nulos: 52.86%\n",
                        "Columna: MAXDRNKS - Porcentaje de valores nulos: 52.96%\n",
                        "Columna: HIVRISK5 - Porcentaje de valores nulos: 10.89%\n",
                        "Columna: MARIJAN1 - Porcentaje de valores nulos: 78.68%\n",
                        "Columna: MARJSMOK - Porcentaje de valores nulos: 97.41%\n",
                        "Columna: MARJEAT - Porcentaje de valores nulos: 97.42%\n",
                        "Columna: MARJVAPE - Porcentaje de valores nulos: 97.42%\n",
                        "Columna: MARJDAB - Porcentaje de valores nulos: 97.42%\n",
                        "Columna: MARJOTHR - Porcentaje de valores nulos: 97.42%\n",
                        "Columna: ASBIALCH - Porcentaje de valores nulos: 86.31%\n",
                        "Columna: ASBIDRNK - Porcentaje de valores nulos: 86.33%\n",
                        "Columna: ASBIBING - Porcentaje de valores nulos: 86.36%\n",
                        "Columna: _TOTINDA - Porcentaje de valores nulos: 0.00%\n",
                        "Columna: _RFSMOK3 - Porcentaje de valores nulos: 0.00%\n",
                        "Columna: DRNKANY6 - Porcentaje de valores nulos: 0.00%\n",
                        "Columna: _RFBING6 - Porcentaje de valores nulos: 0.00%\n",
                        "Columna: CVDINFR4 - Porcentaje de valores nulos: 0.00%\n",
                        "Columna: CVDSTRK3 - Porcentaje de valores nulos: 0.00%\n",
                        "Columna: ADDEPEV3 - Porcentaje de valores nulos: 0.00%\n",
                        "Columna: DIABETE4 - Porcentaje de valores nulos: 0.00%\n",
                        "Columna: COVIDPOS - Porcentaje de valores nulos: 11.06%\n",
                        "Columna: HADHYST2 - Porcentaje de valores nulos: 51.10%\n",
                        "Columna: COLNCNCR - Porcentaje de valores nulos: 34.61%\n",
                        "Columna: FLUSHOT7 - Porcentaje de valores nulos: 9.79%\n",
                        "Columna: _MICHD - Porcentaje de valores nulos: 1.13%\n",
                        "Columna: _ASTHMS1 - Porcentaje de valores nulos: 0.00%\n",
                        "Columna: _DRDXAR2 - Porcentaje de valores nulos: 0.59%\n",
                        "Columna: _PHYS14D - Porcentaje de valores nulos: 0.00%\n",
                        "Columna: _MENT14D - Porcentaje de valores nulos: 0.00%\n",
                        "Columna: _BMI5CAT - Porcentaje de valores nulos: 10.96%\n",
                        "Columna: _RFHLTH - Porcentaje de valores nulos: 0.00%\n",
                        "Columna: DECIDE - Porcentaje de valores nulos: 4.71%\n",
                        "Columna: DIFFALON - Porcentaje de valores nulos: 5.38%\n",
                        "Columna: ACEDEPRS - Porcentaje de valores nulos: 89.15%\n",
                        "Columna: LSATISFY - Porcentaje de valores nulos: 42.83%\n",
                        "Columna: EMTSUPRT - Porcentaje de valores nulos: 42.91%\n",
                        "Columna: SDHISOLT - Porcentaje de valores nulos: 42.99%\n",
                        "Columna: ACEDRINK - Porcentaje de valores nulos: 89.16%\n",
                        "Columna: ACEDRUGS - Porcentaje de valores nulos: 89.17%\n",
                        "Columna: ACEPRISN - Porcentaje de valores nulos: 89.17%\n",
                        "Columna: ACEDIVRC - Porcentaje de valores nulos: 89.18%\n",
                        "Columna: ACEHURT1 - Porcentaje de valores nulos: 89.20%\n",
                        "Columna: ACESWEAR - Porcentaje de valores nulos: 89.21%\n",
                        "Columna: ACETOUCH - Porcentaje de valores nulos: 89.22%\n",
                        "Columna: ACETTHEM - Porcentaje de valores nulos: 89.23%\n",
                        "Columna: ACEHVSEX - Porcentaje de valores nulos: 89.24%\n",
                        "Columna: FIREARM5 - Porcentaje de valores nulos: 91.06%\n",
                        "Columna: GUNLOAD - Porcentaje de valores nulos: 96.89%\n",
                        "Columna: LOADULK2 - Porcentaje de valores nulos: 99.09%\n"
                    ]
                }
            ],
            "source": [
                "columnas_a_borrar = []\n",
                "\n",
                "for i in data.columns:\n",
                "    porcentaje_nulos = df[i].isnull().sum() / len(df) * 100\n",
                "    print(f'Columna: {i} - Porcentaje de valores nulos: {porcentaje_nulos:.2f}%')\n",
                "    if porcentaje_nulos >= 50:\n",
                "        columnas_a_borrar.append(i)"
            ]
        },
        {
            "cell_type": "code",
            "execution_count": null,
            "metadata": {},
            "outputs": [],
            "source": []
        },
        {
            "cell_type": "code",
            "execution_count": 5,
=======
            "execution_count": 4,
>>>>>>> dde93dc5d0fe95e2335dbe30a758bfd6f6bbbbf2:src/first_features_selection.ipynb
            "metadata": {},
            "outputs": [],
            "source": [
                "df = df.drop(\"PERSDOC3\", axis=1)"
            ]
        },
        {
            "cell_type": "markdown",
            "metadata": {},
            "source": [
                "social_vulnerability_score: ``SDHEMPLY``, ``SDHFOOD1``, ``SDHUTILS``, ``SDHBILLS``, ``SDHTRNSP``, ``CAREGIV1``"
            ]
        },
        {
            "cell_type": "markdown",
            "metadata": {},
            "source": [
                "``SDHEMPLY``: Problemas para encontrar o mantener empleo por razones de salud  \n",
                "``SDHFOOD1``: Problemas para acceder a comida suficiente  \n",
                "``SDHUTILS``: Dificultades para pagar agua, luz, gas  \n",
                "``SDHBILLS``: Dificultad para pagar otras facturas (no básicas)  \n",
                "``SDHTRNSP``: Problemas con transporte para acceder a atención médica o actividades  \n",
                "``CAREGIV1``: Si cuida a otra persona (sí/no)  "
            ]
        },
        {
            "cell_type": "code",
<<<<<<< HEAD:src/explorer_jesus.ipynb
            "execution_count": 6,
=======
            "execution_count": 5,
>>>>>>> dde93dc5d0fe95e2335dbe30a758bfd6f6bbbbf2:src/first_features_selection.ipynb
            "metadata": {},
            "outputs": [
                {
                    "data": {
                        "text/plain": [
                            "SDHEMPLY\n",
                            "0.0    227969\n",
                            "1.0     23170\n",
                            "Name: count, dtype: int64"
                        ]
                    },
<<<<<<< HEAD:src/explorer_jesus.ipynb
                    "execution_count": 6,
=======
                    "execution_count": 5,
>>>>>>> dde93dc5d0fe95e2335dbe30a758bfd6f6bbbbf2:src/first_features_selection.ipynb
                    "metadata": {},
                    "output_type": "execute_result"
                }
            ],
            "source": [
                "# 1: Yes, 2: No >> Cambiar a 1: Yes, 0: No\n",
                "df.loc[df[\"SDHEMPLY\"] > 2, \"SDHEMPLY\"] = np.nan\n",
                "df.loc[df[\"SDHEMPLY\"] == 2, \"SDHEMPLY\"] = 0\n",
                "df.SDHEMPLY.value_counts()"
            ]
        },
        {
            "cell_type": "code",
<<<<<<< HEAD:src/explorer_jesus.ipynb
            "execution_count": 7,
=======
            "execution_count": 6,
>>>>>>> dde93dc5d0fe95e2335dbe30a758bfd6f6bbbbf2:src/first_features_selection.ipynb
            "metadata": {},
            "outputs": [
                {
                    "data": {
                        "text/plain": [
                            "SDHFOOD1\n",
                            "0.0    203654\n",
                            "1.0     47453\n",
                            "Name: count, dtype: int64"
                        ]
                    },
<<<<<<< HEAD:src/explorer_jesus.ipynb
                    "execution_count": 7,
=======
                    "execution_count": 6,
>>>>>>> dde93dc5d0fe95e2335dbe30a758bfd6f6bbbbf2:src/first_features_selection.ipynb
                    "metadata": {},
                    "output_type": "execute_result"
                }
            ],
            "source": [
                "# 1, 2, 3 o 4: Yes, 5: No >> Cambiar a 1: Yes, 0: No\n",
                "df.loc[df[\"SDHFOOD1\"] > 5, \"SDHFOOD1\"] = np.nan\n",
                "df.loc[df[\"SDHFOOD1\"] < 5, \"SDHFOOD1\"] = 1\n",
                "df.loc[df[\"SDHFOOD1\"] == 5, \"SDHFOOD1\"] = 0\n",
                "df.SDHFOOD1.value_counts()"
            ]
        },
        {
            "cell_type": "code",
<<<<<<< HEAD:src/explorer_jesus.ipynb
            "execution_count": 8,
=======
            "execution_count": 7,
>>>>>>> dde93dc5d0fe95e2335dbe30a758bfd6f6bbbbf2:src/first_features_selection.ipynb
            "metadata": {},
            "outputs": [
                {
                    "data": {
                        "text/plain": [
                            "SDHUTILS\n",
                            "0.0    236141\n",
                            "1.0     14942\n",
                            "Name: count, dtype: int64"
                        ]
                    },
<<<<<<< HEAD:src/explorer_jesus.ipynb
                    "execution_count": 8,
=======
                    "execution_count": 7,
>>>>>>> dde93dc5d0fe95e2335dbe30a758bfd6f6bbbbf2:src/first_features_selection.ipynb
                    "metadata": {},
                    "output_type": "execute_result"
                }
            ],
            "source": [
                "# 1: Yes, 2: No >> Cambiar a 1: Yes, 0: No\n",
                "df.loc[df[\"SDHUTILS\"] > 2, \"SDHUTILS\"] = np.nan\n",
                "df.loc[df[\"SDHUTILS\"] == 2, \"SDHUTILS\"] = 0\n",
                "df.SDHUTILS.value_counts()"
            ]
        },
        {
            "cell_type": "code",
<<<<<<< HEAD:src/explorer_jesus.ipynb
            "execution_count": 9,
=======
            "execution_count": 8,
>>>>>>> dde93dc5d0fe95e2335dbe30a758bfd6f6bbbbf2:src/first_features_selection.ipynb
            "metadata": {},
            "outputs": [
                {
                    "data": {
                        "text/plain": [
                            "SDHBILLS\n",
                            "0.0    228332\n",
                            "1.0     22690\n",
                            "Name: count, dtype: int64"
                        ]
                    },
<<<<<<< HEAD:src/explorer_jesus.ipynb
                    "execution_count": 9,
=======
                    "execution_count": 8,
>>>>>>> dde93dc5d0fe95e2335dbe30a758bfd6f6bbbbf2:src/first_features_selection.ipynb
                    "metadata": {},
                    "output_type": "execute_result"
                }
            ],
            "source": [
                "# 1: Yes, 2: No >> Cambiar a 1: Yes, 0: No\n",
                "df.loc[df[\"SDHBILLS\"] > 2, \"SDHBILLS\"] = np.nan\n",
                "df.loc[df[\"SDHBILLS\"] == 2, \"SDHBILLS\"] = 0\n",
                "df.SDHBILLS.value_counts()"
            ]
        },
        {
            "cell_type": "code",
<<<<<<< HEAD:src/explorer_jesus.ipynb
            "execution_count": 10,
=======
            "execution_count": 9,
>>>>>>> dde93dc5d0fe95e2335dbe30a758bfd6f6bbbbf2:src/first_features_selection.ipynb
            "metadata": {},
            "outputs": [
                {
                    "data": {
                        "text/plain": [
                            "CAREGIV1\n",
                            "0.0    78174\n",
                            "1.0    19662\n",
                            "Name: count, dtype: int64"
                        ]
                    },
<<<<<<< HEAD:src/explorer_jesus.ipynb
                    "execution_count": 10,
=======
                    "execution_count": 9,
>>>>>>> dde93dc5d0fe95e2335dbe30a758bfd6f6bbbbf2:src/first_features_selection.ipynb
                    "metadata": {},
                    "output_type": "execute_result"
                }
            ],
            "source": [
                "# 1: Yes, 2: No >> Cambiar a 1: Yes, 0: No\n",
                "df.loc[df[\"CAREGIV1\"] > 2, \"CAREGIV1\"] = np.nan\n",
                "df.loc[df[\"CAREGIV1\"] == 2, \"CAREGIV1\"] = 0\n",
                "df.CAREGIV1.value_counts()"
            ]
        },
        {
            "cell_type": "code",
<<<<<<< HEAD:src/explorer_jesus.ipynb
            "execution_count": 11,
=======
            "execution_count": 10,
>>>>>>> dde93dc5d0fe95e2335dbe30a758bfd6f6bbbbf2:src/first_features_selection.ipynb
            "metadata": {},
            "outputs": [],
            "source": [
                "social_columns = [\"SDHEMPLY\", \"SDHFOOD1\", \"SDHUTILS\", \"SDHBILLS\", \"SDHTRNSP\", \"CAREGIV1\"]\n",
                "# Se imputa 0 a los valores vacios que indican no respuesta a la pregunta asumiendo respuesta negativa\n",
                "df[social_columns] = df[social_columns].fillna(0)\n",
                "\n",
                "df[\"social_vulnerability_score\"] = df[social_columns].sum(axis=1)\n",
                "df = df.drop(social_columns, axis=1)"
            ]
        },
        {
            "cell_type": "markdown",
            "metadata": {},
            "source": [
                "Se unifican valores relativos a condiciones sociales en un score acumulativo, donde mayor valor indica peor condicion social"
            ]
        },
        {
            "cell_type": "code",
<<<<<<< HEAD:src/explorer_jesus.ipynb
            "execution_count": 12,
=======
            "execution_count": 11,
>>>>>>> dde93dc5d0fe95e2335dbe30a758bfd6f6bbbbf2:src/first_features_selection.ipynb
            "metadata": {},
            "outputs": [
                {
                    "data": {
                        "text/plain": [
                            "(445132, 76)"
                        ]
                    },
<<<<<<< HEAD:src/explorer_jesus.ipynb
                    "execution_count": 12,
=======
                    "execution_count": 11,
>>>>>>> dde93dc5d0fe95e2335dbe30a758bfd6f6bbbbf2:src/first_features_selection.ipynb
                    "metadata": {},
                    "output_type": "execute_result"
                }
            ],
            "source": [
                "df.shape"
            ]
        },
        {
            "cell_type": "markdown",
            "metadata": {},
            "source": [
                "Variables EXERANY2 (Realiza alguna actividad física) y _TOTINDA (Actividad física suficiente (recodificada))\n",
                "\n",
                "Se decide mantener solo _TOTINDA porque:\n",
                "- Ya está recodificada de forma estandarizada por el BRFSS.\n",
                "- Refleja si cumple con los mínimos de actividad física recomendados, no solo si ha hecho \"algo\".\n",
                "- Más útil para análisis de riesgo real o comparación entre personas."
            ]
        },
        {
            "cell_type": "code",
<<<<<<< HEAD:src/explorer_jesus.ipynb
            "execution_count": 13,
=======
            "execution_count": 12,
>>>>>>> dde93dc5d0fe95e2335dbe30a758bfd6f6bbbbf2:src/first_features_selection.ipynb
            "metadata": {},
            "outputs": [],
            "source": [
                "df = df.drop(\"EXERANY2\", axis=1)"
            ]
        },
        {
            "cell_type": "markdown",
            "metadata": {},
            "source": [
                "Variables SMOKE100 (¿Ha fumado ≥100 cigarrillos en su vida?),  USENOW3 (¿Fuma actualmente cigarrillos tradicionales?) y _RFSMOK3 (Fumador actual (recodificada))\n",
                "\n",
                "Se decide mantener solo _RFSMOK3 porque:\n",
                "- Ya resume todo lo relevante del consumo de tabaco convencional."
            ]
        },
        {
            "cell_type": "code",
<<<<<<< HEAD:src/explorer_jesus.ipynb
            "execution_count": 14,
=======
            "execution_count": 13,
>>>>>>> dde93dc5d0fe95e2335dbe30a758bfd6f6bbbbf2:src/first_features_selection.ipynb
            "metadata": {},
            "outputs": [],
            "source": [
                "df = df.drop([\"SMOKE100\", \"USENOW3\"], axis=1)"
            ]
        },
        {
            "cell_type": "markdown",
            "metadata": {},
            "source": [
                "tobacco_use: ``_RFSMOK3`` y ``ECIGNOW2``"
            ]
        },
        {
            "cell_type": "markdown",
            "metadata": {},
            "source": [
                "``_RFSMOK3``: Fumador actual  \n",
                "``ECIGNOW2``: ¿Usa cigarrillos electrónicos actualmente? "
            ]
        },
        {
            "cell_type": "code",
<<<<<<< HEAD:src/explorer_jesus.ipynb
            "execution_count": 15,
=======
            "execution_count": 14,
>>>>>>> dde93dc5d0fe95e2335dbe30a758bfd6f6bbbbf2:src/first_features_selection.ipynb
            "metadata": {},
            "outputs": [
                {
                    "data": {
                        "text/plain": [
                            "_RFSMOK3\n",
                            "0.0    359729\n",
                            "1.0     49941\n",
                            "Name: count, dtype: int64"
                        ]
                    },
<<<<<<< HEAD:src/explorer_jesus.ipynb
                    "execution_count": 15,
=======
                    "execution_count": 14,
>>>>>>> dde93dc5d0fe95e2335dbe30a758bfd6f6bbbbf2:src/first_features_selection.ipynb
                    "metadata": {},
                    "output_type": "execute_result"
                }
            ],
            "source": [
                "# 1: No, 2: Yes >> Cambiar a 1: Yes, 0: No\n",
                "df.loc[df[\"_RFSMOK3\"] > 2, \"_RFSMOK3\"] = np.nan\n",
                "\n",
                "df.loc[df[\"_RFSMOK3\"] == 1, \"_RFSMOK3\"] = 0\n",
                "df.loc[df[\"_RFSMOK3\"] == 2, \"_RFSMOK3\"] = 1\n",
                "\n",
                "df._RFSMOK3.value_counts()"
            ]
        },
        {
            "cell_type": "code",
<<<<<<< HEAD:src/explorer_jesus.ipynb
            "execution_count": 16,
=======
            "execution_count": 15,
>>>>>>> dde93dc5d0fe95e2335dbe30a758bfd6f6bbbbf2:src/first_features_selection.ipynb
            "metadata": {},
            "outputs": [
                {
                    "data": {
                        "text/plain": [
                            "ECIGNOW2\n",
                            "0.0    311988\n",
                            "1.0     97484\n",
                            "Name: count, dtype: int64"
                        ]
                    },
<<<<<<< HEAD:src/explorer_jesus.ipynb
                    "execution_count": 16,
=======
                    "execution_count": 15,
>>>>>>> dde93dc5d0fe95e2335dbe30a758bfd6f6bbbbf2:src/first_features_selection.ipynb
                    "metadata": {},
                    "output_type": "execute_result"
                }
            ],
            "source": [
                "# 1: No, 2, 3 o 4: Yes >> Cambiar a 1: Yes, 0: No\n",
                "df.loc[df[\"ECIGNOW2\"] > 4, \"ECIGNOW2\"] = np.nan\n",
                "df.loc[df[\"ECIGNOW2\"] == 1, \"ECIGNOW2\"] = 0\n",
                "df.loc[df[\"ECIGNOW2\"] > 1, \"ECIGNOW2\"] = 1\n",
                "\n",
                "df.ECIGNOW2.value_counts()"
            ]
        },
        {
            "cell_type": "code",
<<<<<<< HEAD:src/explorer_jesus.ipynb
            "execution_count": 17,
=======
            "execution_count": 16,
>>>>>>> dde93dc5d0fe95e2335dbe30a758bfd6f6bbbbf2:src/first_features_selection.ipynb
            "metadata": {},
            "outputs": [],
            "source": [
                "tobacco_columns = [\"_RFSMOK3\", \"ECIGNOW2\"]\n",
                "# Se imputa 0 a los valores vacios que indican no respuesta a la pregunta asumiendo respuesta negativa\n",
                "df[tobacco_columns] = df[tobacco_columns].fillna(0)\n",
                "\n",
                "df[\"tobacco_use\"] = df[tobacco_columns].sum(axis=1)\n",
                "df = df.drop(tobacco_columns, axis=1)"
            ]
        },
        {
            "cell_type": "markdown",
            "metadata": {},
            "source": [
                "Se unifican valores relativos a uso de tabaco o vapeo en un score acumulativo, donde mayor valor indica mayor consumo"
            ]
        },
        {
            "cell_type": "code",
<<<<<<< HEAD:src/explorer_jesus.ipynb
            "execution_count": 18,
=======
            "execution_count": 17,
>>>>>>> dde93dc5d0fe95e2335dbe30a758bfd6f6bbbbf2:src/first_features_selection.ipynb
            "metadata": {},
            "outputs": [
                {
                    "data": {
                        "text/plain": [
                            "(445132, 72)"
                        ]
                    },
<<<<<<< HEAD:src/explorer_jesus.ipynb
                    "execution_count": 18,
=======
                    "execution_count": 17,
>>>>>>> dde93dc5d0fe95e2335dbe30a758bfd6f6bbbbf2:src/first_features_selection.ipynb
                    "metadata": {},
                    "output_type": "execute_result"
                }
            ],
            "source": [
                "df.shape"
            ]
        },
        {
            "cell_type": "markdown",
            "metadata": {},
            "source": [
                "Variables ALCDAY4 (Frecuencia de consumo de alcohol), AVEDRNK3 (Promedio de copas por día cuando bebe), DRNK3GE5 (¿Bebe ≥5 copas en una sola ocasión al menos una vez al mes?), MAXDRNKS (Máximo de copas en una sola ocasión), ASBIALCH (¿En su chequeo médico le preguntaron si bebe alcohol?), ASBIDRNK (¿Le preguntaron cuánta cantidad?), ASBIBING (¿Le preguntaron si hace atracones?), DRNKANY6 (¿Ha bebido alcohol en los últimos 30 días?) y _RFBING6 (Recodificación de binge drinking: ≥5 copas para hombres, ≥4 mujeres)\n",
                "\n",
                "Se decide mantener solo _RFBING6 porque:\n",
                "- Identifica personas con comportamientos de consumo de alcohol de alto riesgo"
            ]
        },
        {
            "cell_type": "code",
<<<<<<< HEAD:src/explorer_jesus.ipynb
            "execution_count": 19,
=======
            "execution_count": 18,
>>>>>>> dde93dc5d0fe95e2335dbe30a758bfd6f6bbbbf2:src/first_features_selection.ipynb
            "metadata": {},
            "outputs": [],
            "source": [
                "df = df.drop([\"ALCDAY4\", \"AVEDRNK3\", \"DRNK3GE5\", \"MAXDRNKS\", \"ASBIALCH\", \"ASBIDRNK\", \"ASBIBING\", \"DRNKANY6\"], axis=1)"
            ]
        },
        {
            "cell_type": "code",
<<<<<<< HEAD:src/explorer_jesus.ipynb
            "execution_count": 20,
=======
            "execution_count": 19,
>>>>>>> dde93dc5d0fe95e2335dbe30a758bfd6f6bbbbf2:src/first_features_selection.ipynb
            "metadata": {},
            "outputs": [
                {
                    "data": {
                        "text/plain": [
                            "_RFBING6\n",
                            " 0.0    337114\n",
                            " 1.0     56916\n",
                            "-1.0     51102\n",
                            "Name: count, dtype: int64"
                        ]
                    },
<<<<<<< HEAD:src/explorer_jesus.ipynb
                    "execution_count": 20,
=======
                    "execution_count": 19,
>>>>>>> dde93dc5d0fe95e2335dbe30a758bfd6f6bbbbf2:src/first_features_selection.ipynb
                    "metadata": {},
                    "output_type": "execute_result"
                }
            ],
            "source": [
                "# 1: No, 2: Yes >> Cambiar a 1: Yes, 0: No\n",
                "df.loc[df[\"_RFBING6\"] > 2, \"_RFBING6\"] = -1\n",
                "\n",
                "df.loc[df[\"_RFBING6\"] == 1, \"_RFBING6\"] = 0\n",
                "df.loc[df[\"_RFBING6\"] == 2, \"_RFBING6\"] = 1\n",
                "\n",
                "df._RFBING6.value_counts()"
            ]
        },
        {
            "cell_type": "markdown",
            "metadata": {},
            "source": [
                "Variables MARIJAN1 (Uso de marihuana en los últimos 30 días), MARJSMOK (Ha fumado marihuana), MARJEAT (Ha comido marihuana (comestibles)), MARJVAPE (Ha vapeado marihuana), MARJDAB (Ha usado marihuana en forma de dab/wax) y MARJOTHR (Ha usado marihuana de otras formas)\n",
                "\n",
                "Se decide mantener solo MARIJAN1 porque:\n",
                "- Es una variable resumen, y su respuesta \"Sí\" debería implicar que alguna de las otras formas de uso fue positiva."
            ]
        },
        {
            "cell_type": "code",
<<<<<<< HEAD:src/explorer_jesus.ipynb
            "execution_count": 21,
=======
            "execution_count": 20,
>>>>>>> dde93dc5d0fe95e2335dbe30a758bfd6f6bbbbf2:src/first_features_selection.ipynb
            "metadata": {},
            "outputs": [],
            "source": [
                "df = df.drop([\"MARJSMOK\", \"MARJEAT\", \"MARJVAPE\", \"MARJDAB\", \"MARJOTHR\"], axis=1)"
            ]
        },
        {
            "cell_type": "code",
<<<<<<< HEAD:src/explorer_jesus.ipynb
            "execution_count": 22,
=======
            "execution_count": 21,
>>>>>>> dde93dc5d0fe95e2335dbe30a758bfd6f6bbbbf2:src/first_features_selection.ipynb
            "metadata": {},
            "outputs": [
                {
                    "data": {
                        "text/plain": [
                            "MARIJAN1\n",
                            "0.0    83394\n",
                            "1.0    11525\n",
                            "Name: count, dtype: int64"
                        ]
                    },
<<<<<<< HEAD:src/explorer_jesus.ipynb
                    "execution_count": 22,
=======
                    "execution_count": 21,
>>>>>>> dde93dc5d0fe95e2335dbe30a758bfd6f6bbbbf2:src/first_features_selection.ipynb
                    "metadata": {},
                    "output_type": "execute_result"
                }
            ],
            "source": [
                "# 1-30: Yes, >30: No >> Cambiar a 1: Yes, 0: No\n",
                "df.loc[df[\"MARIJAN1\"] <= 30, \"MARIJAN1\"] = 1\n",
                "df.loc[df[\"MARIJAN1\"] > 30, \"MARIJAN1\"] = 0\n",
                "\n",
                "df.MARIJAN1.value_counts()"
            ]
        },
        {
            "cell_type": "code",
<<<<<<< HEAD:src/explorer_jesus.ipynb
            "execution_count": 23,
=======
            "execution_count": 22,
>>>>>>> dde93dc5d0fe95e2335dbe30a758bfd6f6bbbbf2:src/first_features_selection.ipynb
            "metadata": {},
            "outputs": [
                {
                    "data": {
                        "text/plain": [
                            "(445132, 59)"
                        ]
                    },
<<<<<<< HEAD:src/explorer_jesus.ipynb
                    "execution_count": 23,
=======
                    "execution_count": 22,
>>>>>>> dde93dc5d0fe95e2335dbe30a758bfd6f6bbbbf2:src/first_features_selection.ipynb
                    "metadata": {},
                    "output_type": "execute_result"
                }
            ],
            "source": [
                "df.shape"
            ]
        },
        {
            "cell_type": "markdown",
            "metadata": {},
            "source": [
                "Variables CVDINFR4 (Infarto de miocardio alguna vez) y _MICHD (Infarto o enfermedad coronaria (variable combinada por CDC))\n",
                "\n",
                "Se decide mantener solo _MICHD porque:\n",
                "- Es una variable resumen, incluye enfermedad coronaria e infarto al miocardio"
            ]
        },
        {
            "cell_type": "code",
<<<<<<< HEAD:src/explorer_jesus.ipynb
            "execution_count": 24,
=======
            "execution_count": 23,
>>>>>>> dde93dc5d0fe95e2335dbe30a758bfd6f6bbbbf2:src/first_features_selection.ipynb
            "metadata": {},
            "outputs": [],
            "source": [
                "df = df.drop(\"CVDINFR4\", axis=1)"
            ]
        },
        {
            "cell_type": "markdown",
            "metadata": {},
            "source": [
                "health_risk_score: ``CVDSTRK3``, ``DIABETE4``, ``COLNCNCR``, ``_MICHD``, ``_ASTHMS1``, ``_DRDXAR2``"
            ]
        },
        {
            "cell_type": "markdown",
            "metadata": {},
            "source": [
                "``CVDSTRK3``: Derrame cerebral (stroke) alguna vez   \n",
                "``DIABETE4``: Tiene diabetes (o prediabetes, según codificación)  \n",
                "``COLNCNCR``: Diagnóstico de cáncer de colon  \n",
                "``_MICHD``  : Infarto o enfermedad coronaria (variable combinada por CDC)  \n",
                "``_ASTHMS1``: Tiene asma actualmente  \n",
                "``_DRDXAR2``: Diagnóstico de artritis"
            ]
        },
        {
            "cell_type": "code",
<<<<<<< HEAD:src/explorer_jesus.ipynb
            "execution_count": 25,
=======
            "execution_count": 24,
>>>>>>> dde93dc5d0fe95e2335dbe30a758bfd6f6bbbbf2:src/first_features_selection.ipynb
            "metadata": {},
            "outputs": [
                {
                    "data": {
                        "text/plain": [
                            "CVDSTRK3\n",
                            "0.0    424336\n",
                            "1.0     19239\n",
                            "Name: count, dtype: int64"
                        ]
                    },
<<<<<<< HEAD:src/explorer_jesus.ipynb
                    "execution_count": 25,
=======
                    "execution_count": 24,
>>>>>>> dde93dc5d0fe95e2335dbe30a758bfd6f6bbbbf2:src/first_features_selection.ipynb
                    "metadata": {},
                    "output_type": "execute_result"
                }
            ],
            "source": [
                "# 1: Yes, 2: No >> Cambiar a 1: Yes, 0: No\n",
                "df.loc[df[\"CVDSTRK3\"] > 2, \"CVDSTRK3\"] = np.nan\n",
                "\n",
                "df.loc[df[\"CVDSTRK3\"] == 2, \"CVDSTRK3\"] = 0\n",
                "\n",
                "df.CVDSTRK3.value_counts()"
            ]
        },
        {
            "cell_type": "code",
<<<<<<< HEAD:src/explorer_jesus.ipynb
            "execution_count": 26,
=======
            "execution_count": 25,
>>>>>>> dde93dc5d0fe95e2335dbe30a758bfd6f6bbbbf2:src/first_features_selection.ipynb
            "metadata": {},
            "outputs": [
                {
                    "data": {
                        "text/plain": [
                            "DIABETE4\n",
                            "0.0    379051\n",
                            "1.0     64994\n",
                            "Name: count, dtype: int64"
                        ]
                    },
<<<<<<< HEAD:src/explorer_jesus.ipynb
                    "execution_count": 26,
=======
                    "execution_count": 25,
>>>>>>> dde93dc5d0fe95e2335dbe30a758bfd6f6bbbbf2:src/first_features_selection.ipynb
                    "metadata": {},
                    "output_type": "execute_result"
                }
            ],
            "source": [
                "# 1 y 2: Yes, 3 y 4: No >> Cambiar a 1: Yes, 0: No\n",
                "df.loc[df[\"DIABETE4\"] > 4, \"DIABETE4\"] = np.nan\n",
                "\n",
                "df.loc[df[\"DIABETE4\"] < 3, \"DIABETE4\"] = 1\n",
                "df.loc[df[\"DIABETE4\"] >= 3, \"DIABETE4\"] = 0\n",
                "\n",
                "df.DIABETE4.value_counts()"
            ]
        },
        {
            "cell_type": "code",
<<<<<<< HEAD:src/explorer_jesus.ipynb
            "execution_count": 27,
=======
            "execution_count": 26,
>>>>>>> dde93dc5d0fe95e2335dbe30a758bfd6f6bbbbf2:src/first_features_selection.ipynb
            "metadata": {},
            "outputs": [
                {
                    "data": {
                        "text/plain": [
                            "COLNCNCR\n",
                            "0.0    219810\n",
                            "1.0     61981\n",
                            "Name: count, dtype: int64"
                        ]
                    },
<<<<<<< HEAD:src/explorer_jesus.ipynb
                    "execution_count": 27,
=======
                    "execution_count": 26,
>>>>>>> dde93dc5d0fe95e2335dbe30a758bfd6f6bbbbf2:src/first_features_selection.ipynb
                    "metadata": {},
                    "output_type": "execute_result"
                }
            ],
            "source": [
                "# 1: Yes, 2: No >> Cambiar a 1: Yes, 0: No\n",
                "df.loc[df[\"COLNCNCR\"] > 2, \"COLNCNCR\"] = np.nan\n",
                "\n",
                "df.loc[df[\"COLNCNCR\"] == 2, \"COLNCNCR\"] = 0\n",
                "\n",
                "df.COLNCNCR.value_counts()"
            ]
        },
        {
            "cell_type": "code",
<<<<<<< HEAD:src/explorer_jesus.ipynb
            "execution_count": 28,
=======
            "execution_count": 27,
>>>>>>> dde93dc5d0fe95e2335dbe30a758bfd6f6bbbbf2:src/first_features_selection.ipynb
            "metadata": {},
            "outputs": [
                {
                    "data": {
                        "text/plain": [
                            "_MICHD\n",
                            "0.0    400360\n",
                            "1.0     39751\n",
                            "Name: count, dtype: int64"
                        ]
                    },
<<<<<<< HEAD:src/explorer_jesus.ipynb
                    "execution_count": 28,
=======
                    "execution_count": 27,
>>>>>>> dde93dc5d0fe95e2335dbe30a758bfd6f6bbbbf2:src/first_features_selection.ipynb
                    "metadata": {},
                    "output_type": "execute_result"
                }
            ],
            "source": [
                "# 1: Yes, 2: No >> Cambiar a 1: Yes, 0: No\n",
                "df.loc[df[\"_MICHD\"] > 2, \"_MICHD\"] = np.nan\n",
                "\n",
                "df.loc[df[\"_MICHD\"] == 2, \"_MICHD\"] = 0\n",
                "\n",
                "df._MICHD.value_counts()"
            ]
        },
        {
            "cell_type": "code",
<<<<<<< HEAD:src/explorer_jesus.ipynb
            "execution_count": 29,
=======
            "execution_count": 28,
>>>>>>> dde93dc5d0fe95e2335dbe30a758bfd6f6bbbbf2:src/first_features_selection.ipynb
            "metadata": {},
            "outputs": [
                {
                    "data": {
                        "text/plain": [
                            "_ASTHMS1\n",
                            "0.0    376665\n",
                            "1.0     64607\n",
                            "Name: count, dtype: int64"
                        ]
                    },
<<<<<<< HEAD:src/explorer_jesus.ipynb
                    "execution_count": 29,
=======
                    "execution_count": 28,
>>>>>>> dde93dc5d0fe95e2335dbe30a758bfd6f6bbbbf2:src/first_features_selection.ipynb
                    "metadata": {},
                    "output_type": "execute_result"
                }
            ],
            "source": [
                "# 1 y 2: Yes, 3: No >> Cambiar a 1: Yes, 0: No\n",
                "df.loc[df[\"_ASTHMS1\"] > 3, \"_ASTHMS1\"] = np.nan\n",
                "\n",
                "df.loc[df[\"_ASTHMS1\"] <= 2, \"_ASTHMS1\"] = 1\n",
                "df.loc[df[\"_ASTHMS1\"] == 3, \"_ASTHMS1\"] = 0\n",
                "\n",
                "df._ASTHMS1.value_counts()"
            ]
        },
        {
            "cell_type": "code",
<<<<<<< HEAD:src/explorer_jesus.ipynb
            "execution_count": 30,
=======
            "execution_count": 29,
>>>>>>> dde93dc5d0fe95e2335dbe30a758bfd6f6bbbbf2:src/first_features_selection.ipynb
            "metadata": {},
            "outputs": [
                {
                    "data": {
                        "text/plain": [
                            "_DRDXAR2\n",
                            "0.0    291351\n",
                            "1.0    151148\n",
                            "Name: count, dtype: int64"
                        ]
                    },
<<<<<<< HEAD:src/explorer_jesus.ipynb
                    "execution_count": 30,
=======
                    "execution_count": 29,
>>>>>>> dde93dc5d0fe95e2335dbe30a758bfd6f6bbbbf2:src/first_features_selection.ipynb
                    "metadata": {},
                    "output_type": "execute_result"
                }
            ],
            "source": [
                "# 1: Yes, 2: No >> Cambiar a 1: Yes, 0: No\n",
                "df.loc[df[\"_DRDXAR2\"] > 2, \"_DRDXAR2\"] = np.nan\n",
                "\n",
                "df.loc[df[\"_DRDXAR2\"] == 2, \"_DRDXAR2\"] = 0\n",
                "\n",
                "df._DRDXAR2.value_counts()"
            ]
        },
        {
            "cell_type": "code",
<<<<<<< HEAD:src/explorer_jesus.ipynb
            "execution_count": 31,
=======
            "execution_count": 30,
>>>>>>> dde93dc5d0fe95e2335dbe30a758bfd6f6bbbbf2:src/first_features_selection.ipynb
            "metadata": {},
            "outputs": [],
            "source": [
                "health_risk_cols = [\"CVDSTRK3\", \"DIABETE4\", \"COLNCNCR\", \"_MICHD\", \"_ASTHMS1\", \"_DRDXAR2\"]\n",
                "# Se imputa 0 a los valores vacios que indican no respuesta a la pregunta asumiendo respuesta negativa\n",
                "df[health_risk_cols] = df[health_risk_cols].fillna(0)\n",
                "\n",
                "df[\"health_risk_score\"] = df[health_risk_cols].sum(axis=1)\n",
                "df = df.drop(health_risk_cols, axis=1)"
            ]
        },
        {
            "cell_type": "code",
<<<<<<< HEAD:src/explorer_jesus.ipynb
            "execution_count": 32,
=======
            "execution_count": 31,
>>>>>>> dde93dc5d0fe95e2335dbe30a758bfd6f6bbbbf2:src/first_features_selection.ipynb
            "metadata": {},
            "outputs": [
                {
                    "data": {
                        "text/plain": [
                            "(445132, 53)"
                        ]
                    },
<<<<<<< HEAD:src/explorer_jesus.ipynb
                    "execution_count": 32,
=======
                    "execution_count": 31,
>>>>>>> dde93dc5d0fe95e2335dbe30a758bfd6f6bbbbf2:src/first_features_selection.ipynb
                    "metadata": {},
                    "output_type": "execute_result"
                }
            ],
            "source": [
                "df.shape"
            ]
        },
        {
            "cell_type": "code",
<<<<<<< HEAD:src/explorer_jesus.ipynb
            "execution_count": 33,
=======
            "execution_count": 32,
>>>>>>> dde93dc5d0fe95e2335dbe30a758bfd6f6bbbbf2:src/first_features_selection.ipynb
            "metadata": {},
            "outputs": [],
            "source": [
                "# Columnas a eliminar de este grupo de factores de riesgo en salud\n",
                "del_cols = [\n",
                "\"HADHYST2\",     # Solo aplica a mujeres; no suma valor general\n",
                "\"FLUSHOT7\",     # Indica vacunación, no condición médica\n",
                "\"_RFHLTH\",      # Resumen global de mala salud (física o mental), demasiado generalista\n",
                "]\n",
                "\n",
                "df = df.drop(del_cols, axis=1)"
            ]
        },
        {
            "cell_type": "code",
<<<<<<< HEAD:src/explorer_jesus.ipynb
            "execution_count": 34,
=======
            "execution_count": 33,
>>>>>>> dde93dc5d0fe95e2335dbe30a758bfd6f6bbbbf2:src/first_features_selection.ipynb
            "metadata": {},
            "outputs": [
                {
                    "data": {
                        "text/plain": [
                            "(445132, 50)"
                        ]
                    },
<<<<<<< HEAD:src/explorer_jesus.ipynb
                    "execution_count": 34,
=======
                    "execution_count": 33,
>>>>>>> dde93dc5d0fe95e2335dbe30a758bfd6f6bbbbf2:src/first_features_selection.ipynb
                    "metadata": {},
                    "output_type": "execute_result"
                }
            ],
            "source": [
                "df.shape"
            ]
        },
        {
            "cell_type": "markdown",
            "metadata": {},
            "source": [
                "Se unifican valores relativos a condiciones de salud fisica en un score acumulativo, donde mayor valor indica peor estado"
            ]
        },
        {
            "cell_type": "markdown",
            "metadata": {},
            "source": [
                "disability_score: ``DECIDE``, ``DIFFALON``"
            ]
        },
        {
            "cell_type": "markdown",
            "metadata": {},
            "source": [
                "``DECIDE``: Dificultad para concentrarse, recordar o tomar decisiones debido a un problema de salud física, mental o emocional  \n",
                "``DIFFALON``: Dificultad para hacer recados solo, como visitar al médico o hacer compras, debido a una condición de salud física, mental o emocional"
            ]
        },
        {
            "cell_type": "code",
<<<<<<< HEAD:src/explorer_jesus.ipynb
            "execution_count": 35,
=======
            "execution_count": 34,
>>>>>>> dde93dc5d0fe95e2335dbe30a758bfd6f6bbbbf2:src/first_features_selection.ipynb
            "metadata": {},
            "outputs": [
                {
                    "data": {
                        "text/plain": [
                            "DECIDE\n",
                            "0.0    370792\n",
                            "1.0     50100\n",
                            "Name: count, dtype: int64"
                        ]
                    },
<<<<<<< HEAD:src/explorer_jesus.ipynb
                    "execution_count": 35,
=======
                    "execution_count": 34,
>>>>>>> dde93dc5d0fe95e2335dbe30a758bfd6f6bbbbf2:src/first_features_selection.ipynb
                    "metadata": {},
                    "output_type": "execute_result"
                }
            ],
            "source": [
                "# 1: Yes, 2: No >> Cambiar a 1: Yes, 0: No\n",
                "df.loc[df[\"DECIDE\"] > 2, \"DECIDE\"] = np.nan\n",
                "\n",
                "df.loc[df[\"DECIDE\"] == 2, \"DECIDE\"] = 0\n",
                "\n",
                "df.DECIDE.value_counts()"
            ]
        },
        {
            "cell_type": "code",
<<<<<<< HEAD:src/explorer_jesus.ipynb
            "execution_count": 36,
=======
            "execution_count": 35,
>>>>>>> dde93dc5d0fe95e2335dbe30a758bfd6f6bbbbf2:src/first_features_selection.ipynb
            "metadata": {},
            "outputs": [
                {
                    "data": {
                        "text/plain": [
                            "DIFFALON\n",
                            "0.0    387029\n",
                            "1.0     32447\n",
                            "Name: count, dtype: int64"
                        ]
                    },
<<<<<<< HEAD:src/explorer_jesus.ipynb
                    "execution_count": 36,
=======
                    "execution_count": 35,
>>>>>>> dde93dc5d0fe95e2335dbe30a758bfd6f6bbbbf2:src/first_features_selection.ipynb
                    "metadata": {},
                    "output_type": "execute_result"
                }
            ],
            "source": [
                "# 1: Yes, 2: No >> Cambiar a 1: Yes, 0: No\n",
                "df.loc[df[\"DIFFALON\"] > 2, \"DIFFALON\"] = np.nan\n",
                "\n",
                "df.loc[df[\"DIFFALON\"] == 2, \"DIFFALON\"] = 0\n",
                "\n",
                "df.DIFFALON.value_counts()"
            ]
        },
        {
            "cell_type": "code",
<<<<<<< HEAD:src/explorer_jesus.ipynb
            "execution_count": 37,
=======
            "execution_count": 36,
>>>>>>> dde93dc5d0fe95e2335dbe30a758bfd6f6bbbbf2:src/first_features_selection.ipynb
            "metadata": {},
            "outputs": [],
            "source": [
                "disability_cols = [\"DECIDE\", \"DIFFALON\"]\n",
                "# Se imputa 0 a los valores vacios que indican no respuesta a la pregunta asumiendo respuesta negativa\n",
                "df[disability_cols] = df[disability_cols].fillna(0)\n",
                "\n",
                "df[\"disability_score\"] = df[disability_cols].sum(axis=1)\n",
                "df = df.drop(disability_cols, axis=1)"
            ]
        },
        {
            "cell_type": "markdown",
            "metadata": {},
            "source": [
                "Se unifican valores relativos a condiciones de discapacidad en un score acumulativo, donde mayor valor indica peor estado"
            ]
        },
        {
            "cell_type": "code",
<<<<<<< HEAD:src/explorer_jesus.ipynb
            "execution_count": 38,
=======
            "execution_count": 37,
>>>>>>> dde93dc5d0fe95e2335dbe30a758bfd6f6bbbbf2:src/first_features_selection.ipynb
            "metadata": {},
            "outputs": [
                {
                    "data": {
                        "text/plain": [
                            "(445132, 49)"
                        ]
                    },
<<<<<<< HEAD:src/explorer_jesus.ipynb
                    "execution_count": 38,
=======
                    "execution_count": 37,
>>>>>>> dde93dc5d0fe95e2335dbe30a758bfd6f6bbbbf2:src/first_features_selection.ipynb
                    "metadata": {},
                    "output_type": "execute_result"
                }
            ],
            "source": [
                "df.shape"
            ]
        },
        {
            "cell_type": "markdown",
            "metadata": {},
            "source": [
                "trauma_exposure_score: ``ACEDEPRS``, ``LSATISFY``, ``EMTSUPRT``, ``SDHISOLT``, ``ACEDRINK``, ``ACEDRUGS``, ``ACEPRISN``, \n",
                "                       ``ACEDIVRC``, ``ACEHURT1``, ``ACESWEAR``, ``ACETOUCH``, ``ACETTHEM``, ``ACEHVSEX``"
            ]
        },
        {
            "cell_type": "markdown",
            "metadata": {},
            "source": [
                "``ACEDEPRS``: Adulto con depresión diagnosticada (cuando la persona era menor)    \n",
                "``LSATISFY``: Satisfacción general con la vida  \n",
                "``EMTSUPRT``: Cuenta con apoyo emocional si lo necesita  \n",
                "``SDHISOLT``: Se siente aislado socialmente  \n",
                "``ACEDRINK``: Vivió con alguien que bebía mucho o abusaba de alcohol  \n",
                "``ACEDRUGS``: Vivió con alguien que usaba drogas  \n",
                "``ACEPRISN``: Vivió con alguien que fue a prisión  \n",
                "``ACEDIVRC``: Sus padres se separaron o divorciaron  \n",
                "``ACEHURT1``: Fue golpeado por un adulto  \n",
                "``ACESWEAR``: Le gritaron, insultaron o lo humillaron  \n",
                "``ACETOUCH``: Tocamiento sexual no deseado en la infancia  \n",
                "``ACETTHEM``: Alguien intentó tocarlo sexualmente  \n",
                "``ACEHVSEX``: Tuvo relaciones sexuales forzadas antes de los 18"
            ]
        },
        {
            "cell_type": "code",
<<<<<<< HEAD:src/explorer_jesus.ipynb
            "execution_count": 39,
=======
            "execution_count": 38,
>>>>>>> dde93dc5d0fe95e2335dbe30a758bfd6f6bbbbf2:src/first_features_selection.ipynb
            "metadata": {},
            "outputs": [
                {
                    "data": {
                        "text/plain": [
                            "ACEDEPRS\n",
                            "0.0    38156\n",
                            "1.0     8800\n",
                            "Name: count, dtype: int64"
                        ]
                    },
<<<<<<< HEAD:src/explorer_jesus.ipynb
                    "execution_count": 39,
=======
                    "execution_count": 38,
>>>>>>> dde93dc5d0fe95e2335dbe30a758bfd6f6bbbbf2:src/first_features_selection.ipynb
                    "metadata": {},
                    "output_type": "execute_result"
                }
            ],
            "source": [
                "# 1: Yes, 2: No >> Cambiar a 1: Yes, 0: No\n",
                "df.loc[df[\"ACEDEPRS\"] > 2, \"ACEDEPRS\"] = np.nan\n",
                "\n",
                "df.loc[df[\"ACEDEPRS\"] == 2, \"ACEDEPRS\"] = 0\n",
                "\n",
                "df.ACEDEPRS.value_counts()"
            ]
        },
        {
            "cell_type": "code",
<<<<<<< HEAD:src/explorer_jesus.ipynb
            "execution_count": 40,
=======
            "execution_count": 39,
>>>>>>> dde93dc5d0fe95e2335dbe30a758bfd6f6bbbbf2:src/first_features_selection.ipynb
            "metadata": {},
            "outputs": [
                {
                    "data": {
                        "text/plain": [
                            "LSATISFY\n",
                            "0.0    237697\n",
                            "1.0     13820\n",
                            "Name: count, dtype: int64"
                        ]
                    },
<<<<<<< HEAD:src/explorer_jesus.ipynb
                    "execution_count": 40,
=======
                    "execution_count": 39,
>>>>>>> dde93dc5d0fe95e2335dbe30a758bfd6f6bbbbf2:src/first_features_selection.ipynb
                    "metadata": {},
                    "output_type": "execute_result"
                }
            ],
            "source": [
                "# 1 y 2: Satisfecho, 3 y 4: Insatisfecho >> Cambiar a 1: Insatisfecho, 0: Satisfecho\n",
                "df.loc[df[\"LSATISFY\"] > 4, \"LSATISFY\"] = np.nan\n",
                "\n",
                "df.loc[df[\"LSATISFY\"] < 3, \"LSATISFY\"] = 0\n",
                "df.loc[df[\"LSATISFY\"] >= 3, \"LSATISFY\"] = 1\n",
                "\n",
                "df.LSATISFY.value_counts()"
            ]
        },
        {
            "cell_type": "code",
<<<<<<< HEAD:src/explorer_jesus.ipynb
            "execution_count": 41,
=======
            "execution_count": 40,
>>>>>>> dde93dc5d0fe95e2335dbe30a758bfd6f6bbbbf2:src/first_features_selection.ipynb
            "metadata": {},
            "outputs": [
                {
                    "data": {
                        "text/plain": [
                            "EMTSUPRT\n",
                            "0.0    195919\n",
                            "1.0     54027\n",
                            "Name: count, dtype: int64"
                        ]
                    },
<<<<<<< HEAD:src/explorer_jesus.ipynb
                    "execution_count": 41,
=======
                    "execution_count": 40,
>>>>>>> dde93dc5d0fe95e2335dbe30a758bfd6f6bbbbf2:src/first_features_selection.ipynb
                    "metadata": {},
                    "output_type": "execute_result"
                }
            ],
            "source": [
                "# 1 y 2: Apoyo, 3, 4 y 5: No apoyo >> Cambiar a 1: No apoyo, 0: Apoyo\n",
                "df.loc[df[\"EMTSUPRT\"] > 5, \"EMTSUPRT\"] = np.nan\n",
                "\n",
                "df.loc[df[\"EMTSUPRT\"] < 3, \"EMTSUPRT\"] = 0\n",
                "df.loc[df[\"EMTSUPRT\"] >= 3, \"EMTSUPRT\"] = 1\n",
                "\n",
                "df.EMTSUPRT.value_counts()"
            ]
        },
        {
            "cell_type": "code",
<<<<<<< HEAD:src/explorer_jesus.ipynb
            "execution_count": 42,
=======
            "execution_count": 41,
>>>>>>> dde93dc5d0fe95e2335dbe30a758bfd6f6bbbbf2:src/first_features_selection.ipynb
            "metadata": {},
            "outputs": [
                {
                    "data": {
                        "text/plain": [
                            "SDHISOLT\n",
                            "0.0    229849\n",
                            "1.0     21276\n",
                            "Name: count, dtype: int64"
                        ]
                    },
<<<<<<< HEAD:src/explorer_jesus.ipynb
                    "execution_count": 42,
=======
                    "execution_count": 41,
>>>>>>> dde93dc5d0fe95e2335dbe30a758bfd6f6bbbbf2:src/first_features_selection.ipynb
                    "metadata": {},
                    "output_type": "execute_result"
                }
            ],
            "source": [
                "# 1, 2 y 3: Aislado, 4 y 5: No aislado >> Cambiar a 1: Aislado, 0: No aislado\n",
                "df.loc[df[\"SDHISOLT\"] > 5, \"SDHISOLT\"] = np.nan\n",
                "\n",
                "df.loc[df[\"SDHISOLT\"] < 3, \"SDHISOLT\"] = 1\n",
                "df.loc[df[\"SDHISOLT\"] >= 3, \"SDHISOLT\"] = 0\n",
                "\n",
                "df.SDHISOLT.value_counts()"
            ]
        },
        {
            "cell_type": "code",
<<<<<<< HEAD:src/explorer_jesus.ipynb
            "execution_count": 43,
=======
            "execution_count": 42,
>>>>>>> dde93dc5d0fe95e2335dbe30a758bfd6f6bbbbf2:src/first_features_selection.ipynb
            "metadata": {},
            "outputs": [
                {
                    "data": {
                        "text/plain": [
                            "ACEDRINK\n",
                            "0.0    35692\n",
                            "1.0    11527\n",
                            "Name: count, dtype: int64"
                        ]
                    },
<<<<<<< HEAD:src/explorer_jesus.ipynb
                    "execution_count": 43,
=======
                    "execution_count": 42,
>>>>>>> dde93dc5d0fe95e2335dbe30a758bfd6f6bbbbf2:src/first_features_selection.ipynb
                    "metadata": {},
                    "output_type": "execute_result"
                }
            ],
            "source": [
                "# 1: Yes, 2: No >> Cambiar a 1: Yes, 0: No\n",
                "df.loc[df[\"ACEDRINK\"] > 2, \"ACEDRINK\"] = np.nan\n",
                "\n",
                "df.loc[df[\"ACEDRINK\"] == 2, \"ACEDRINK\"] = 0\n",
                "\n",
                "df.ACEDRINK.value_counts()"
            ]
        },
        {
            "cell_type": "code",
<<<<<<< HEAD:src/explorer_jesus.ipynb
            "execution_count": 44,
=======
            "execution_count": 43,
>>>>>>> dde93dc5d0fe95e2335dbe30a758bfd6f6bbbbf2:src/first_features_selection.ipynb
            "metadata": {},
            "outputs": [
                {
                    "data": {
                        "text/plain": [
                            "ACEDRUGS\n",
                            "0.0    42448\n",
                            "1.0     4691\n",
                            "Name: count, dtype: int64"
                        ]
                    },
<<<<<<< HEAD:src/explorer_jesus.ipynb
                    "execution_count": 44,
=======
                    "execution_count": 43,
>>>>>>> dde93dc5d0fe95e2335dbe30a758bfd6f6bbbbf2:src/first_features_selection.ipynb
                    "metadata": {},
                    "output_type": "execute_result"
                }
            ],
            "source": [
                "# 1: Yes, 2: No >> Cambiar a 1: Yes, 0: No\n",
                "df.loc[df[\"ACEDRUGS\"] > 2, \"ACEDRUGS\"] = np.nan\n",
                "\n",
                "df.loc[df[\"ACEDRUGS\"] == 2, \"ACEDRUGS\"] = 0\n",
                "\n",
                "df.ACEDRUGS.value_counts()"
            ]
        },
        {
            "cell_type": "code",
<<<<<<< HEAD:src/explorer_jesus.ipynb
            "execution_count": 45,
=======
            "execution_count": 44,
>>>>>>> dde93dc5d0fe95e2335dbe30a758bfd6f6bbbbf2:src/first_features_selection.ipynb
            "metadata": {},
            "outputs": [
                {
                    "data": {
                        "text/plain": [
                            "ACEPRISN\n",
                            "0.0    43701\n",
                            "1.0     3549\n",
                            "Name: count, dtype: int64"
                        ]
                    },
<<<<<<< HEAD:src/explorer_jesus.ipynb
                    "execution_count": 45,
=======
                    "execution_count": 44,
>>>>>>> dde93dc5d0fe95e2335dbe30a758bfd6f6bbbbf2:src/first_features_selection.ipynb
                    "metadata": {},
                    "output_type": "execute_result"
                }
            ],
            "source": [
                "# 1: Yes, 2: No >> Cambiar a 1: Yes, 0: No\n",
                "df.loc[df[\"ACEPRISN\"] > 2, \"ACEPRISN\"] = np.nan\n",
                "\n",
                "df.loc[df[\"ACEPRISN\"] == 2, \"ACEPRISN\"] = 0\n",
                "\n",
                "df.ACEPRISN.value_counts()"
            ]
        },
        {
            "cell_type": "code",
<<<<<<< HEAD:src/explorer_jesus.ipynb
            "execution_count": 46,
=======
            "execution_count": 45,
>>>>>>> dde93dc5d0fe95e2335dbe30a758bfd6f6bbbbf2:src/first_features_selection.ipynb
            "metadata": {},
            "outputs": [
                {
                    "data": {
                        "text/plain": [
                            "ACEDIVRC\n",
                            "0.0    34367\n",
                            "1.0    12107\n",
                            "Name: count, dtype: int64"
                        ]
                    },
<<<<<<< HEAD:src/explorer_jesus.ipynb
                    "execution_count": 46,
=======
                    "execution_count": 45,
>>>>>>> dde93dc5d0fe95e2335dbe30a758bfd6f6bbbbf2:src/first_features_selection.ipynb
                    "metadata": {},
                    "output_type": "execute_result"
                }
            ],
            "source": [
                "# 1: Yes, 2: No >> Cambiar a 1: Yes, 0: No\n",
                "df.loc[df[\"ACEDIVRC\"] > 2, \"ACEDIVRC\"] = np.nan\n",
                "\n",
                "df.loc[df[\"ACEDIVRC\"] == 2, \"ACEDIVRC\"] = 0\n",
                "\n",
                "df.ACEDIVRC.value_counts()"
            ]
        },
        {
            "cell_type": "code",
<<<<<<< HEAD:src/explorer_jesus.ipynb
            "execution_count": 47,
=======
            "execution_count": 46,
>>>>>>> dde93dc5d0fe95e2335dbe30a758bfd6f6bbbbf2:src/first_features_selection.ipynb
            "metadata": {},
            "outputs": [
                {
                    "data": {
                        "text/plain": [
                            "ACEHURT1\n",
                            "0.0    35092\n",
                            "1.0    11567\n",
                            "Name: count, dtype: int64"
                        ]
                    },
<<<<<<< HEAD:src/explorer_jesus.ipynb
                    "execution_count": 47,
=======
                    "execution_count": 46,
>>>>>>> dde93dc5d0fe95e2335dbe30a758bfd6f6bbbbf2:src/first_features_selection.ipynb
                    "metadata": {},
                    "output_type": "execute_result"
                }
            ],
            "source": [
                "# 1: Nunca, 2 y 3: Si >> Cambiar a 1: Si, 0: Nunca\n",
                "df.loc[df[\"ACEHURT1\"] > 3, \"ACEHURT1\"] = np.nan\n",
                "\n",
                "df.loc[df[\"ACEHURT1\"] == 1, \"ACEHURT1\"] = 0\n",
                "df.loc[df[\"ACEHURT1\"] >= 2, \"ACEHURT1\"] = 1\n",
                "\n",
                "df.ACEHURT1.value_counts()"
            ]
        },
        {
            "cell_type": "code",
<<<<<<< HEAD:src/explorer_jesus.ipynb
            "execution_count": 48,
=======
            "execution_count": 47,
>>>>>>> dde93dc5d0fe95e2335dbe30a758bfd6f6bbbbf2:src/first_features_selection.ipynb
            "metadata": {},
            "outputs": [
                {
                    "data": {
                        "text/plain": [
                            "ACESWEAR\n",
                            "0.0    30266\n",
                            "1.0    16115\n",
                            "Name: count, dtype: int64"
                        ]
                    },
<<<<<<< HEAD:src/explorer_jesus.ipynb
                    "execution_count": 48,
=======
                    "execution_count": 47,
>>>>>>> dde93dc5d0fe95e2335dbe30a758bfd6f6bbbbf2:src/first_features_selection.ipynb
                    "metadata": {},
                    "output_type": "execute_result"
                }
            ],
            "source": [
                "# 1: Nunca, 2 y 3: Si >> Cambiar a 1: Si, 0: Nunca\n",
                "df.loc[df[\"ACESWEAR\"] > 3, \"ACESWEAR\"] = np.nan\n",
                "\n",
                "df.loc[df[\"ACESWEAR\"] == 1, \"ACESWEAR\"] = 0\n",
                "df.loc[df[\"ACESWEAR\"] >= 2, \"ACESWEAR\"] = 1\n",
                "\n",
                "df.ACESWEAR.value_counts()"
            ]
        },
        {
            "cell_type": "code",
<<<<<<< HEAD:src/explorer_jesus.ipynb
            "execution_count": 49,
=======
            "execution_count": 48,
>>>>>>> dde93dc5d0fe95e2335dbe30a758bfd6f6bbbbf2:src/first_features_selection.ipynb
            "metadata": {},
            "outputs": [
                {
                    "data": {
                        "text/plain": [
                            "ACETOUCH\n",
                            "0.0    40941\n",
                            "1.0     5617\n",
                            "Name: count, dtype: int64"
                        ]
                    },
<<<<<<< HEAD:src/explorer_jesus.ipynb
                    "execution_count": 49,
=======
                    "execution_count": 48,
>>>>>>> dde93dc5d0fe95e2335dbe30a758bfd6f6bbbbf2:src/first_features_selection.ipynb
                    "metadata": {},
                    "output_type": "execute_result"
                }
            ],
            "source": [
                "# 1: Nunca, 2 y 3: Si >> Cambiar a 1: Si, 0: Nunca\n",
                "df.loc[df[\"ACETOUCH\"] > 3, \"ACETOUCH\"] = np.nan\n",
                "\n",
                "df.loc[df[\"ACETOUCH\"] == 1, \"ACETOUCH\"] = 0\n",
                "df.loc[df[\"ACETOUCH\"] >= 2, \"ACETOUCH\"] = 1\n",
                "\n",
                "df.ACETOUCH.value_counts()"
            ]
        },
        {
            "cell_type": "code",
<<<<<<< HEAD:src/explorer_jesus.ipynb
            "execution_count": 50,
=======
            "execution_count": 49,
>>>>>>> dde93dc5d0fe95e2335dbe30a758bfd6f6bbbbf2:src/first_features_selection.ipynb
            "metadata": {},
            "outputs": [
                {
                    "data": {
                        "text/plain": [
                            "ACETTHEM\n",
                            "0.0    42421\n",
                            "1.0     4123\n",
                            "Name: count, dtype: int64"
                        ]
                    },
<<<<<<< HEAD:src/explorer_jesus.ipynb
                    "execution_count": 50,
=======
                    "execution_count": 49,
>>>>>>> dde93dc5d0fe95e2335dbe30a758bfd6f6bbbbf2:src/first_features_selection.ipynb
                    "metadata": {},
                    "output_type": "execute_result"
                }
            ],
            "source": [
                "# 1: Nunca, 2 y 3: Si >> Cambiar a 1: Si, 0: Nunca\n",
                "df.loc[df[\"ACETTHEM\"] > 3, \"ACETTHEM\"] = np.nan\n",
                "\n",
                "df.loc[df[\"ACETTHEM\"] == 1, \"ACETTHEM\"] = 0\n",
                "df.loc[df[\"ACETTHEM\"] >= 2, \"ACETTHEM\"] = 1\n",
                "\n",
                "df.ACETTHEM.value_counts()"
            ]
        },
        {
            "cell_type": "code",
<<<<<<< HEAD:src/explorer_jesus.ipynb
            "execution_count": 51,
=======
            "execution_count": 50,
>>>>>>> dde93dc5d0fe95e2335dbe30a758bfd6f6bbbbf2:src/first_features_selection.ipynb
            "metadata": {},
            "outputs": [
                {
                    "data": {
                        "text/plain": [
                            "ACEHVSEX\n",
                            "0.0    44050\n",
                            "1.0     2430\n",
                            "Name: count, dtype: int64"
                        ]
                    },
<<<<<<< HEAD:src/explorer_jesus.ipynb
                    "execution_count": 51,
=======
                    "execution_count": 50,
>>>>>>> dde93dc5d0fe95e2335dbe30a758bfd6f6bbbbf2:src/first_features_selection.ipynb
                    "metadata": {},
                    "output_type": "execute_result"
                }
            ],
            "source": [
                "# 1: Nunca, 2 y 3: Si >> Cambiar a 1: Si, 0: Nunca\n",
                "df.loc[df[\"ACEHVSEX\"] > 3, \"ACEHVSEX\"] = np.nan\n",
                "\n",
                "df.loc[df[\"ACEHVSEX\"] == 1, \"ACEHVSEX\"] = 0\n",
                "df.loc[df[\"ACEHVSEX\"] >= 2, \"ACEHVSEX\"] = 1\n",
                "\n",
                "df.ACEHVSEX.value_counts()"
            ]
        },
        {
            "cell_type": "code",
<<<<<<< HEAD:src/explorer_jesus.ipynb
            "execution_count": 52,
=======
            "execution_count": 51,
>>>>>>> dde93dc5d0fe95e2335dbe30a758bfd6f6bbbbf2:src/first_features_selection.ipynb
            "metadata": {},
            "outputs": [],
            "source": [
                "trauma_exposure_cols = [\"ACEDEPRS\", \"LSATISFY\", \"EMTSUPRT\", \"SDHISOLT\", \"ACEDRINK\", \"ACEDRUGS\", \"ACEPRISN\", \n",
                "                        \"ACEDIVRC\", \"ACEHURT1\", \"ACESWEAR\", \"ACETOUCH\", \"ACETTHEM\", \"ACEHVSEX\"]\n",
                "# Se imputa 0 a los valores vacios que indican no respuesta a la pregunta asumiendo respuesta negativa\n",
                "df[trauma_exposure_cols] = df[trauma_exposure_cols].fillna(0)\n",
                "\n",
                "df[\"trauma_exposure_score\"] = df[trauma_exposure_cols].sum(axis=1)\n",
                "df = df.drop(trauma_exposure_cols, axis=1)"
            ]
        },
        {
            "cell_type": "code",
<<<<<<< HEAD:src/explorer_jesus.ipynb
            "execution_count": 53,
=======
            "execution_count": 52,
>>>>>>> dde93dc5d0fe95e2335dbe30a758bfd6f6bbbbf2:src/first_features_selection.ipynb
            "metadata": {},
            "outputs": [
                {
                    "data": {
                        "text/plain": [
                            "(445132, 37)"
                        ]
                    },
<<<<<<< HEAD:src/explorer_jesus.ipynb
                    "execution_count": 53,
=======
                    "execution_count": 52,
>>>>>>> dde93dc5d0fe95e2335dbe30a758bfd6f6bbbbf2:src/first_features_selection.ipynb
                    "metadata": {},
                    "output_type": "execute_result"
                }
            ],
            "source": [
                "df.shape"
            ]
        },
        {
            "cell_type": "markdown",
            "metadata": {},
            "source": [
                "Se unifican valores relativos a exposicion a traumas infantiles en un score acumulativo, donde mayor valor indica peor estado"
            ]
        },
        {
            "cell_type": "markdown",
            "metadata": {},
            "source": [
                "gun_risk_score: ``FIREARM5``, ``GUNLOAD``, ``LOADULK2``"
            ]
        },
        {
            "cell_type": "markdown",
            "metadata": {},
            "source": [
                "``FIREARM5``: Hay al menos un arma de fuego en el hogar  \n",
                "``GUNLOAD`` : El arma está cargada  \n",
                "``LOADULK2``: El arma cargada está guardada sin seguro en el gatillo (desprotegida)"
            ]
        },
        {
            "cell_type": "code",
<<<<<<< HEAD:src/explorer_jesus.ipynb
            "execution_count": 54,
=======
            "execution_count": 53,
>>>>>>> dde93dc5d0fe95e2335dbe30a758bfd6f6bbbbf2:src/first_features_selection.ipynb
            "metadata": {},
            "outputs": [
                {
                    "data": {
                        "text/plain": [
                            "FIREARM5\n",
                            "0.0    23428\n",
                            "1.0    13839\n",
                            "Name: count, dtype: int64"
                        ]
                    },
<<<<<<< HEAD:src/explorer_jesus.ipynb
                    "execution_count": 54,
=======
                    "execution_count": 53,
>>>>>>> dde93dc5d0fe95e2335dbe30a758bfd6f6bbbbf2:src/first_features_selection.ipynb
                    "metadata": {},
                    "output_type": "execute_result"
                }
            ],
            "source": [
                "# 1: Yes, 2: No >> Cambiar a 1: Yes, 0: No\n",
                "df.loc[df[\"FIREARM5\"] > 2, \"FIREARM5\"] = np.nan\n",
                "\n",
                "df.loc[df[\"FIREARM5\"] == 2, \"FIREARM5\"] = 0\n",
                "\n",
                "df.FIREARM5.value_counts()"
            ]
        },
        {
            "cell_type": "code",
<<<<<<< HEAD:src/explorer_jesus.ipynb
            "execution_count": 55,
=======
            "execution_count": 54,
>>>>>>> dde93dc5d0fe95e2335dbe30a758bfd6f6bbbbf2:src/first_features_selection.ipynb
            "metadata": {},
            "outputs": [
                {
                    "data": {
                        "text/plain": [
                            "GUNLOAD\n",
                            "0.0    9381\n",
                            "1.0    4056\n",
                            "Name: count, dtype: int64"
                        ]
                    },
<<<<<<< HEAD:src/explorer_jesus.ipynb
                    "execution_count": 55,
=======
                    "execution_count": 54,
>>>>>>> dde93dc5d0fe95e2335dbe30a758bfd6f6bbbbf2:src/first_features_selection.ipynb
                    "metadata": {},
                    "output_type": "execute_result"
                }
            ],
            "source": [
                "# 1: Yes, 2: No >> Cambiar a 1: Yes, 0: No\n",
                "df.loc[df[\"GUNLOAD\"] > 2, \"GUNLOAD\"] = np.nan\n",
                "\n",
                "df.loc[df[\"GUNLOAD\"] == 2, \"GUNLOAD\"] = 0\n",
                "\n",
                "df.GUNLOAD.value_counts()"
            ]
        },
        {
            "cell_type": "code",
<<<<<<< HEAD:src/explorer_jesus.ipynb
            "execution_count": 56,
=======
            "execution_count": 55,
>>>>>>> dde93dc5d0fe95e2335dbe30a758bfd6f6bbbbf2:src/first_features_selection.ipynb
            "metadata": {},
            "outputs": [
                {
                    "data": {
                        "text/plain": [
                            "LOADULK2\n",
                            "1.0    2167\n",
                            "0.0    1852\n",
                            "Name: count, dtype: int64"
                        ]
                    },
<<<<<<< HEAD:src/explorer_jesus.ipynb
                    "execution_count": 56,
=======
                    "execution_count": 55,
>>>>>>> dde93dc5d0fe95e2335dbe30a758bfd6f6bbbbf2:src/first_features_selection.ipynb
                    "metadata": {},
                    "output_type": "execute_result"
                }
            ],
            "source": [
                "# 1: Yes, 2: No >> Cambiar a 1: Yes, 0: No\n",
                "df.loc[df[\"LOADULK2\"] > 2, \"LOADULK2\"] = np.nan\n",
                "\n",
                "df.loc[df[\"LOADULK2\"] == 2, \"LOADULK2\"] = 0\n",
                "\n",
                "df.LOADULK2.value_counts()"
            ]
        },
        {
            "cell_type": "code",
<<<<<<< HEAD:src/explorer_jesus.ipynb
            "execution_count": 57,
=======
            "execution_count": 56,
>>>>>>> dde93dc5d0fe95e2335dbe30a758bfd6f6bbbbf2:src/first_features_selection.ipynb
            "metadata": {},
            "outputs": [],
            "source": [
                "gun_risk_cols = [\"FIREARM5\", \"GUNLOAD\", \"LOADULK2\"]\n",
                "# Se imputa 0 a los valores vacios que indican no respuesta a la pregunta asumiendo respuesta negativa\n",
                "df[gun_risk_cols] = df[gun_risk_cols].fillna(0)\n",
                "\n",
                "df[\"gun_risk_score\"] = df[gun_risk_cols].sum(axis=1)\n",
                "df = df.drop(gun_risk_cols, axis=1)"
            ]
        },
        {
            "cell_type": "markdown",
            "metadata": {},
            "source": [
                "Se unifican valores relativos a tenencia y riesgo de armas de fuego en un score acumulativo, donde mayor valor indica peor estado"
            ]
        },
        {
            "cell_type": "code",
<<<<<<< HEAD:src/explorer_jesus.ipynb
            "execution_count": 58,
=======
            "execution_count": 57,
>>>>>>> dde93dc5d0fe95e2335dbe30a758bfd6f6bbbbf2:src/first_features_selection.ipynb
            "metadata": {},
            "outputs": [
                {
                    "data": {
                        "text/plain": [
                            "(445132, 35)"
                        ]
                    },
<<<<<<< HEAD:src/explorer_jesus.ipynb
                    "execution_count": 58,
=======
                    "execution_count": 57,
>>>>>>> dde93dc5d0fe95e2335dbe30a758bfd6f6bbbbf2:src/first_features_selection.ipynb
                    "metadata": {},
                    "output_type": "execute_result"
                }
            ],
            "source": [
                "df.shape"
            ]
        },
        {
            "cell_type": "code",
<<<<<<< HEAD:src/explorer_jesus.ipynb
            "execution_count": 59,
=======
            "execution_count": 58,
>>>>>>> dde93dc5d0fe95e2335dbe30a758bfd6f6bbbbf2:src/first_features_selection.ipynb
            "metadata": {},
            "outputs": [
                {
                    "data": {
                        "text/plain": [
                            "Index(['MARITAL', 'RENTHOM1', 'VETERAN3', 'EMPLOY1', '_AGEG5YR', '_INCOMG1',\n",
                            "       '_EDUCAG', '_CHLDCNT', '_EXTETH3', 'HHADULT', 'SEXVAR', 'MEDCOST1',\n",
                            "       '_HLTHPLN', '_AIDTST4', 'CDSOCIAL', 'CDDISCUS', 'CRGVREL4', 'CRGVLNG1',\n",
                            "       'CRGVHRS1', 'SLEPTIM1', 'HIVRISK5', 'MARIJAN1', '_TOTINDA', '_RFBING6',\n",
                            "       'ADDEPEV3', 'COVIDPOS', '_PHYS14D', '_MENT14D', '_BMI5CAT',\n",
                            "       'social_vulnerability_score', 'tobacco_use', 'health_risk_score',\n",
                            "       'disability_score', 'trauma_exposure_score', 'gun_risk_score'],\n",
                            "      dtype='object')"
                        ]
                    },
<<<<<<< HEAD:src/explorer_jesus.ipynb
                    "execution_count": 59,
=======
                    "execution_count": 58,
>>>>>>> dde93dc5d0fe95e2335dbe30a758bfd6f6bbbbf2:src/first_features_selection.ipynb
                    "metadata": {},
                    "output_type": "execute_result"
                }
            ],
            "source": [
                "df.columns"
            ]
        },
        {
            "cell_type": "code",
<<<<<<< HEAD:src/explorer_jesus.ipynb
            "execution_count": 60,
=======
            "execution_count": 59,
>>>>>>> dde93dc5d0fe95e2335dbe30a758bfd6f6bbbbf2:src/first_features_selection.ipynb
            "metadata": {},
            "outputs": [
                {
                    "name": "stdout",
                    "output_type": "stream",
                    "text": [
                        "<class 'pandas.core.series.Series'>\n",
                        "RangeIndex: 445132 entries, 0 to 445131\n",
                        "Series name: tobacco_use\n",
                        "Non-Null Count   Dtype  \n",
                        "--------------   -----  \n",
                        "445132 non-null  float64\n",
                        "dtypes: float64(1)\n",
                        "memory usage: 3.4 MB\n"
                    ]
                }
            ],
            "source": [
                "df.tobacco_use.info()"
            ]
        },
        {
            "cell_type": "code",
<<<<<<< HEAD:src/explorer_jesus.ipynb
            "execution_count": 61,
=======
            "execution_count": 60,
>>>>>>> dde93dc5d0fe95e2335dbe30a758bfd6f6bbbbf2:src/first_features_selection.ipynb
            "metadata": {},
            "outputs": [],
            "source": [
                "df.to_csv(\"../data/processed/data_merged.csv\", index=False)"
            ]
        },
        {
            "cell_type": "code",
<<<<<<< HEAD:src/explorer_jesus.ipynb
=======
            "execution_count": null,
            "metadata": {},
            "outputs": [
                {
                    "data": {
                        "text/plain": [
                            "estado_civil\n",
                            "Casado        227424\n",
                            "Soltero       107371\n",
                            "Divorciado     57516\n",
                            "Viudo          48019\n",
                            "Name: count, dtype: int64"
                        ]
                    },
                    "execution_count": 61,
                    "metadata": {},
                    "output_type": "execute_result"
                }
            ],
            "source": [
                "#MARITAL\n",
                "def clasificar_estado_civil(valor):\n",
                "    if valor == 1:\n",
                "        return \"Casado\"\n",
                "    elif valor == 2:\n",
                "        return \"Divorciado\"\n",
                "    elif valor == 3:\n",
                "        return \"Viudo\"\n",
                "    elif valor in [4, 5, 6]:\n",
                "        return \"Soltero\"\n",
                "    else:\n",
                "        return None  # Para 9 Refused o valores faltantes\n",
                "df['estado_civil'] = df['MARITAL'].apply(clasificar_estado_civil)\n",
                "df = df[df['estado_civil'].notna()]\n",
                "df[\"estado_civil\"].value_counts()\n"
            ]
        },
        {
            "cell_type": "code",
>>>>>>> dde93dc5d0fe95e2335dbe30a758bfd6f6bbbbf2:src/first_features_selection.ipynb
            "execution_count": 62,
            "metadata": {},
            "outputs": [
                {
<<<<<<< HEAD:src/explorer_jesus.ipynb
                    "name": "stdout",
                    "output_type": "stream",
                    "text": [
                        "Columna: MARITAL - Porcentaje de valores nulos: 0.00%\n",
                        "Columna: RENTHOM1 - Porcentaje de valores nulos: 0.00%\n",
                        "Columna: VETERAN3 - Porcentaje de valores nulos: 0.94%\n",
                        "Columna: EMPLOY1 - Porcentaje de valores nulos: 1.39%\n",
                        "Columna: _AGEG5YR - Porcentaje de valores nulos: 0.00%\n",
                        "Columna: _INCOMG1 - Porcentaje de valores nulos: 0.00%\n",
                        "Columna: _EDUCAG - Porcentaje de valores nulos: 0.00%\n",
                        "Columna: _CHLDCNT - Porcentaje de valores nulos: 0.00%\n",
                        "Columna: _EXTETH3 - Porcentaje de valores nulos: 0.00%\n",
                        "Columna: HHADULT - Porcentaje de valores nulos: 21.58%\n",
                        "Columna: SEXVAR - Porcentaje de valores nulos: 0.00%\n",
                        "Columna: MEDCOST1 - Porcentaje de valores nulos: 0.00%\n",
                        "Columna: _HLTHPLN - Porcentaje de valores nulos: 0.00%\n",
                        "Columna: _AIDTST4 - Porcentaje de valores nulos: 10.39%\n",
                        "Columna: CDSOCIAL - Porcentaje de valores nulos: 98.33%\n",
                        "Columna: CDDISCUS - Porcentaje de valores nulos: 98.34%\n",
                        "Columna: CRGVREL4 - Porcentaje de valores nulos: 95.59%\n",
                        "Columna: CRGVLNG1 - Porcentaje de valores nulos: 95.60%\n",
                        "Columna: CRGVHRS1 - Porcentaje de valores nulos: 95.61%\n",
                        "Columna: SLEPTIM1 - Porcentaje de valores nulos: 0.00%\n",
                        "Columna: HIVRISK5 - Porcentaje de valores nulos: 10.89%\n",
                        "Columna: MARIJAN1 - Porcentaje de valores nulos: 78.68%\n",
                        "Columna: _TOTINDA - Porcentaje de valores nulos: 0.00%\n",
                        "Columna: _RFBING6 - Porcentaje de valores nulos: 0.00%\n",
                        "Columna: ADDEPEV3 - Porcentaje de valores nulos: 0.00%\n",
                        "Columna: COVIDPOS - Porcentaje de valores nulos: 11.06%\n",
                        "Columna: _PHYS14D - Porcentaje de valores nulos: 0.00%\n",
                        "Columna: _MENT14D - Porcentaje de valores nulos: 0.00%\n",
                        "Columna: _BMI5CAT - Porcentaje de valores nulos: 10.96%\n",
                        "Columna: social_vulnerability_score - Porcentaje de valores nulos: 0.00%\n",
                        "Columna: tobacco_use - Porcentaje de valores nulos: 0.00%\n",
                        "Columna: health_risk_score - Porcentaje de valores nulos: 0.00%\n",
                        "Columna: disability_score - Porcentaje de valores nulos: 0.00%\n",
                        "Columna: trauma_exposure_score - Porcentaje de valores nulos: 0.00%\n",
                        "Columna: gun_risk_score - Porcentaje de valores nulos: 0.00%\n"
                    ]
                }
            ],
            "source": [
                "columnas_a_borrar = []\n",
                "\n",
                "for i in df.columns:\n",
                "    porcentaje_nulos = df[i].isnull().sum() / len(df) * 100\n",
                "    print(f'Columna: {i} - Porcentaje de valores nulos: {porcentaje_nulos:.2f}%')\n",
                "    if porcentaje_nulos >= 60:\n",
                "        columnas_a_borrar.append(i)"
            ]
        },
        {
            "cell_type": "code",
            "execution_count": 63,
            "metadata": {},
            "outputs": [
                {
                    "data": {
                        "text/plain": [
                            "['CDSOCIAL', 'CDDISCUS', 'CRGVREL4', 'CRGVLNG1', 'CRGVHRS1', 'MARIJAN1']"
                        ]
                    },
                    "execution_count": 63,
=======
                    "data": {
                        "text/plain": [
                            "RENTHOM1\n",
                            "1.0    308655\n",
                            "2.0    107197\n",
                            "3.0     21228\n",
                            "9.0      2198\n",
                            "7.0      1050\n",
                            "Name: count, dtype: int64"
                        ]
                    },
                    "execution_count": 62,
>>>>>>> dde93dc5d0fe95e2335dbe30a758bfd6f6bbbbf2:src/first_features_selection.ipynb
                    "metadata": {},
                    "output_type": "execute_result"
                }
            ],
            "source": [
<<<<<<< HEAD:src/explorer_jesus.ipynb
                "columnas_a_borrar"
            ]
        },
        {
            "cell_type": "markdown",
            "metadata": {},
            "source": [
                "### Columnas a modificar por Jesús"
=======
                "def clasificar_vivienda(valor):\n",
                "    if valor == 1:\n",
                "        return \"Propia\"\n",
                "    elif valor == 2:\n",
                "        return \"Alquilado\"\n",
                "    elif valor in [3, 7, 9]:\n",
                "        return \"Otro\"\n",
                "    else:\n",
                "        return None \n",
                "    \n",
                "df['situacion_vivienda'] = df['RENTHOM1'].apply(clasificar_vivienda)\n",
                "\n",
                "# Eliminar filas con valores faltantes\n",
                "df = df[df['situacion_vivienda'].notna()]\n",
                "df['RENTHOM1'].value_counts()"
            ]
        },
        {
            "cell_type": "code",
            "execution_count": 76,
            "metadata": {},
            "outputs": [
                {
                    "name": "stdout",
                    "output_type": "stream",
                    "text": [
                        "servicio_militar\n",
                        "1    374670\n",
                        "0     51762\n",
                        "Name: count, dtype: int64\n"
                    ]
                }
            ],
            "source": [
                "#VETEREN1\n",
                "def clasificar_servicio_militar(valor):\n",
                "    if valor == 1:\n",
                "        return 0 #\"Sí\"\n",
                "    elif valor == 2:\n",
                "        return 1 #\"No\"\n",
                "    else:\n",
                "        return None\n",
                "df['servicio_militar'] = df['VETERAN3'].apply(clasificar_servicio_militar)\n",
                "df = df[df['servicio_militar'].notna()]\n",
                "print(df['servicio_militar'].value_counts())"
>>>>>>> dde93dc5d0fe95e2335dbe30a758bfd6f6bbbbf2:src/first_features_selection.ipynb
            ]
        },
        {
            "cell_type": "code",
            "execution_count": 64,
            "metadata": {},
            "outputs": [
                {
<<<<<<< HEAD:src/explorer_jesus.ipynb
                    "data": {
                        "text/plain": [
                            "_TOTINDA\n",
                            "1.0    337559\n",
                            "2.0    106480\n",
                            "9.0      1093\n",
                            "Name: count, dtype: int64"
                        ]
                    },
                    "execution_count": 64,
                    "metadata": {},
                    "output_type": "execute_result"
                }
            ],
            "source": [
                "# Question:  Adults who reported doing physical activity or exercise during the past 30 days other than their regular job\n",
                "df['_TOTINDA'].value_counts()"
            ]
        },
        {
            "cell_type": "code",
            "execution_count": 69,
            "metadata": {},
            "outputs": [
                {
                    "data": {
                        "text/plain": [
                            "_TOTINDA\n",
                            " 1.0    337559\n",
                            " 0.0    106480\n",
                            "-1.0      1093\n",
                            "Name: count, dtype: int64"
                        ]
                    },
                    "execution_count": 69,
                    "metadata": {},
                    "output_type": "execute_result"
                }
            ],
            "source": [
                "# 9 (Don’t know/Refused/Missing) >> Cambiar a -1\n",
                "df.loc[df[\"_TOTINDA\"] == 9, \"_TOTINDA\"] = -1\n",
                "df.loc[df[\"_TOTINDA\"] == 2, \"_TOTINDA\"] = 0\n",
                "\n",
                "df[\"_TOTINDA\"].value_counts()"
            ]
        },
        {
            "cell_type": "code",
            "execution_count": null,
            "metadata": {},
            "outputs": [
                {
                    "data": {
                        "text/plain": [
                            "ADDEPEV3\n",
                            " 0.0    350910\n",
                            " 1.0     91410\n",
                            "-1.0      2805\n",
                            " NaN         7\n",
                            "Name: count, dtype: int64"
                        ]
                    },
                    "execution_count": 73,
                    "metadata": {},
                    "output_type": "execute_result"
                }
            ],
            "source": [
                "# Question:  (Ever told) (you had) a depressive disorder (including depression, major depression, dysthymia, or minor depression)\n",
                "df['ADDEPEV3'].value_counts(dropna=False)"
=======
                    "name": "stdout",
                    "output_type": "stream",
                    "text": [
                        "situacion_laboral\n",
                        "Empleado       183960\n",
                        "Jubilado       136024\n",
                        "Desempleado     75102\n",
                        "Autónomo        38395\n",
                        "Name: count, dtype: int64\n"
                    ]
                }
            ],
            "source": [
                "#EMPLO1\n",
                "def clasificar_situacion_laboral(valor):\n",
                "    if valor == 1:\n",
                "        return \"Empleado\"\n",
                "    elif valor == 2:\n",
                "        return \"Autónomo\"\n",
                "    elif valor in [3, 4, 5, 6, 8, 9]:\n",
                "        return \"Desempleado\"\n",
                "    elif valor == 7:\n",
                "        return \"Jubilado\"\n",
                "    else:\n",
                "        return None\n",
                "df['situacion_laboral'] = df['EMPLOY1'].apply(clasificar_situacion_laboral)\n",
                "df = df[df['situacion_laboral'].notna()]\n",
                "print(df['situacion_laboral'].value_counts())\n"
>>>>>>> dde93dc5d0fe95e2335dbe30a758bfd6f6bbbbf2:src/first_features_selection.ipynb
            ]
        },
        {
            "cell_type": "code",
            "execution_count": null,
            "metadata": {},
            "outputs": [
                {
                    "name": "stdout",
                    "output_type": "stream",
                    "text": [
<<<<<<< HEAD:src/explorer_jesus.ipynb
                        "ADDEPEV3\n",
                        "0.0    350910\n",
                        "1.0     91410\n",
                        "Name: count, dtype: int64\n",
                        "(442327, 35)\n"
=======
                        "edad\n",
                        "36-65    197276\n",
                        "66+      156628\n",
                        "18-35     72528\n",
                        "Name: count, dtype: int64\n"
>>>>>>> dde93dc5d0fe95e2335dbe30a758bfd6f6bbbbf2:src/first_features_selection.ipynb
                    ]
                }
            ],
            "source": [
<<<<<<< HEAD:src/explorer_jesus.ipynb
                "# Eliminamos NAN y los valores 7 y 9 (Don’t know/Refused/Missing)\n",
                "# Pasamos 2 (no) a 0\n",
                "\n",
                "df['ADDEPEV3'].dropna()\n",
                "df = df[~df[\"ADDEPEV3\"].isin([-1])]\n",
                "df.loc[df[\"ADDEPEV3\"] == 2, \"ADDEPEV3\"] = 0\n",
                "\n",
                "\n",
                "print(df[\"ADDEPEV3\"].value_counts())\n",
                "print(df.shape)"
=======
                "#EDAD\n",
                "def edad(valor):\n",
                "    if valor in [1, 2, 3]:  # 18-24, 25-29, 30-34\n",
                "        return \"18-35\"\n",
                "    elif valor == 14:\n",
                "        return \"66+\"\n",
                "    elif valor in [4, 5, 6, 7, 8, 9]:  # 35-39, 40-44, 45-49, 50-54, 55-59, 60-64\n",
                "        return \"36-65\"\n",
                "    elif valor in [10, 11, 12, 13]:  # 65-69, 70-74, 75-79, 80+\n",
                "        return \"66+\"\n",
                "    else:\n",
                "        return None\n",
                "\n",
                "df['edad'] = df['_AGEG5YR'].apply(edad)\n",
                "df = df[df['edad'].notna()]\n",
                "print(df['edad'].value_counts())"
>>>>>>> dde93dc5d0fe95e2335dbe30a758bfd6f6bbbbf2:src/first_features_selection.ipynb
            ]
        },
        {
            "cell_type": "code",
<<<<<<< HEAD:src/explorer_jesus.ipynb
            "execution_count": 77,
=======
            "execution_count": 75,
>>>>>>> dde93dc5d0fe95e2335dbe30a758bfd6f6bbbbf2:src/first_features_selection.ipynb
            "metadata": {},
            "outputs": [
                {
                    "data": {
                        "text/plain": [
<<<<<<< HEAD:src/explorer_jesus.ipynb
                            "COVIDPOS\n",
                            "2.0    268442\n",
                            "1.0    110273\n",
                            "NaN     48851\n",
                            "3.0     13375\n",
                            "9.0       759\n",
                            "7.0       627\n",
                            "Name: count, dtype: int64"
                        ]
                    },
                    "execution_count": 77,
=======
                            "educacion\n",
                            "1    246505\n",
                            "0    179927\n",
                            "Name: count, dtype: int64"
                        ]
                    },
                    "execution_count": 75,
>>>>>>> dde93dc5d0fe95e2335dbe30a758bfd6f6bbbbf2:src/first_features_selection.ipynb
                    "metadata": {},
                    "output_type": "execute_result"
                }
            ],
            "source": [
<<<<<<< HEAD:src/explorer_jesus.ipynb
                "# Question:  Has a doctor, nurse, or other health professional ever told you that you tested positive for COVID 19?\n",
                "df['COVIDPOS'].value_counts(dropna=False)"
=======
                "#_EDUCAG\n",
                "def educacion(row):\n",
                "    if row in [4, 6]:\n",
                "        return 0 #'Se graduó'\n",
                "    elif row in [1, 2, 3, 5, 9] or pd.isna(row):\n",
                "        return 1 #'No estudió / No concluyó'\n",
                "    else:\n",
                "        return 'Otro'\n",
                "df['educacion'] = df['_EDUCAG'].apply(educacion)\n",
                "df['educacion'].value_counts()\n"
            ]
        },
        {
            "cell_type": "code",
            "execution_count": 72,
            "metadata": {},
            "outputs": [
                {
                    "data": {
                        "text/plain": [
                            "child_home\n",
                            "0    319568\n",
                            "1     98412\n",
                            "2      8452\n",
                            "Name: count, dtype: Int64"
                        ]
                    },
                    "execution_count": 72,
                    "metadata": {},
                    "output_type": "execute_result"
                }
            ],
            "source": [
                "import pandas as pd\n",
                "\n",
                "def niños_hogar(valor):\n",
                "    if valor in [1, 9] or pd.isna(valor):\n",
                "        return 0  # Sin niños o no sabe\n",
                "    elif valor in [2, 3, 4]:\n",
                "        return 1  # De 1-3 niños\n",
                "    elif valor in [5, 6]:\n",
                "        return 2  # +3 de niños\n",
                "    else:\n",
                "        return pd.NA \n",
                "df['child_home'] = df['_CHLDCNT'].apply(niños_hogar).astype('Int64')\n",
                "df['child_home'].value_counts()\n"
            ]
        },
        {
            "cell_type": "code",
            "execution_count": 74,
            "metadata": {},
            "outputs": [
                {
                    "data": {
                        "text/plain": [
                            "ingresos_anuales\n",
                            "2     95145\n",
                            "-1    82309\n",
                            "0     75705\n",
                            "1     46153\n",
                            "Name: count, dtype: Int64"
                        ]
                    },
                    "execution_count": 74,
                    "metadata": {},
                    "output_type": "execute_result"
                }
            ],
            "source": [
                "#Incomg1\n",
                "\n",
                "def ingresos(valor):\n",
                "    if valor in [2, 3]:      # 15mil - 35mil\n",
                "        return 0\n",
                "    elif valor == 4:         # 36mil - 50mil\n",
                "        return 1\n",
                "    elif valor in [6, 7]:    # 100mil o más\n",
                "        return 2\n",
                "    elif valor == 9 or pd.isna(valor):  # No sabe cuanto\n",
                "        return -1\n",
                "    else:\n",
                "        return pd.NA \n",
                "df['ingresos_anuales'] = df['_INCOMG1'].apply(ingresos).astype('Int64')\n",
                "df['ingresos_anuales'].value_counts()\n"
>>>>>>> dde93dc5d0fe95e2335dbe30a758bfd6f6bbbbf2:src/first_features_selection.ipynb
            ]
        }
    ],
    "metadata": {
        "kernelspec": {
            "display_name": ".venv",
            "language": "python",
            "name": "python3"
        },
        "language_info": {
            "codemirror_mode": {
                "name": "ipython",
                "version": 3
            },
            "file_extension": ".py",
            "mimetype": "text/x-python",
            "name": "python",
            "nbconvert_exporter": "python",
            "pygments_lexer": "ipython3",
            "version": "3.11.4"
        },
        "orig_nbformat": 4
    },
    "nbformat": 4,
    "nbformat_minor": 2
}
