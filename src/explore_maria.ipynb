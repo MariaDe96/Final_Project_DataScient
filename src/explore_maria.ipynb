{
 "cells": [
  {
   "cell_type": "code",
   "execution_count": 1,
   "id": "e3f74d21",
   "metadata": {},
   "outputs": [],
   "source": [
    "import pandas as pd\n",
    "import numpy as np"
   ]
  },
  {
   "cell_type": "code",
   "execution_count": 2,
   "id": "4e51d88a",
   "metadata": {},
   "outputs": [
    {
     "data": {
      "text/html": [
       "<div>\n",
       "<style scoped>\n",
       "    .dataframe tbody tr th:only-of-type {\n",
       "        vertical-align: middle;\n",
       "    }\n",
       "\n",
       "    .dataframe tbody tr th {\n",
       "        vertical-align: top;\n",
       "    }\n",
       "\n",
       "    .dataframe thead th {\n",
       "        text-align: right;\n",
       "    }\n",
       "</style>\n",
       "<table border=\"1\" class=\"dataframe\">\n",
       "  <thead>\n",
       "    <tr style=\"text-align: right;\">\n",
       "      <th></th>\n",
       "      <th>MARITAL</th>\n",
       "      <th>RENTHOM1</th>\n",
       "      <th>VETERAN3</th>\n",
       "      <th>EMPLOY1</th>\n",
       "      <th>_AGEG5YR</th>\n",
       "      <th>_INCOMG1</th>\n",
       "      <th>_EDUCAG</th>\n",
       "      <th>_CHLDCNT</th>\n",
       "      <th>_EXTETH3</th>\n",
       "      <th>HHADULT</th>\n",
       "      <th>...</th>\n",
       "      <th>ACEPRISN</th>\n",
       "      <th>ACEDIVRC</th>\n",
       "      <th>ACEHURT1</th>\n",
       "      <th>ACESWEAR</th>\n",
       "      <th>ACETOUCH</th>\n",
       "      <th>ACETTHEM</th>\n",
       "      <th>ACEHVSEX</th>\n",
       "      <th>FIREARM5</th>\n",
       "      <th>GUNLOAD</th>\n",
       "      <th>LOADULK2</th>\n",
       "    </tr>\n",
       "  </thead>\n",
       "  <tbody>\n",
       "    <tr>\n",
       "      <th>0</th>\n",
       "      <td>1.0</td>\n",
       "      <td>1.0</td>\n",
       "      <td>2.0</td>\n",
       "      <td>7.0</td>\n",
       "      <td>13.0</td>\n",
       "      <td>9.0</td>\n",
       "      <td>4.0</td>\n",
       "      <td>1.0</td>\n",
       "      <td>9.0</td>\n",
       "      <td>NaN</td>\n",
       "      <td>...</td>\n",
       "      <td>NaN</td>\n",
       "      <td>NaN</td>\n",
       "      <td>NaN</td>\n",
       "      <td>NaN</td>\n",
       "      <td>NaN</td>\n",
       "      <td>NaN</td>\n",
       "      <td>NaN</td>\n",
       "      <td>NaN</td>\n",
       "      <td>NaN</td>\n",
       "      <td>NaN</td>\n",
       "    </tr>\n",
       "    <tr>\n",
       "      <th>1</th>\n",
       "      <td>3.0</td>\n",
       "      <td>1.0</td>\n",
       "      <td>2.0</td>\n",
       "      <td>2.0</td>\n",
       "      <td>13.0</td>\n",
       "      <td>3.0</td>\n",
       "      <td>2.0</td>\n",
       "      <td>1.0</td>\n",
       "      <td>9.0</td>\n",
       "      <td>NaN</td>\n",
       "      <td>...</td>\n",
       "      <td>NaN</td>\n",
       "      <td>NaN</td>\n",
       "      <td>NaN</td>\n",
       "      <td>NaN</td>\n",
       "      <td>NaN</td>\n",
       "      <td>NaN</td>\n",
       "      <td>NaN</td>\n",
       "      <td>NaN</td>\n",
       "      <td>NaN</td>\n",
       "      <td>NaN</td>\n",
       "    </tr>\n",
       "    <tr>\n",
       "      <th>2</th>\n",
       "      <td>1.0</td>\n",
       "      <td>1.0</td>\n",
       "      <td>2.0</td>\n",
       "      <td>7.0</td>\n",
       "      <td>8.0</td>\n",
       "      <td>6.0</td>\n",
       "      <td>4.0</td>\n",
       "      <td>1.0</td>\n",
       "      <td>9.0</td>\n",
       "      <td>NaN</td>\n",
       "      <td>...</td>\n",
       "      <td>NaN</td>\n",
       "      <td>NaN</td>\n",
       "      <td>NaN</td>\n",
       "      <td>NaN</td>\n",
       "      <td>NaN</td>\n",
       "      <td>NaN</td>\n",
       "      <td>NaN</td>\n",
       "      <td>NaN</td>\n",
       "      <td>NaN</td>\n",
       "      <td>NaN</td>\n",
       "    </tr>\n",
       "    <tr>\n",
       "      <th>3</th>\n",
       "      <td>1.0</td>\n",
       "      <td>1.0</td>\n",
       "      <td>2.0</td>\n",
       "      <td>7.0</td>\n",
       "      <td>14.0</td>\n",
       "      <td>9.0</td>\n",
       "      <td>2.0</td>\n",
       "      <td>1.0</td>\n",
       "      <td>9.0</td>\n",
       "      <td>NaN</td>\n",
       "      <td>...</td>\n",
       "      <td>NaN</td>\n",
       "      <td>NaN</td>\n",
       "      <td>NaN</td>\n",
       "      <td>NaN</td>\n",
       "      <td>NaN</td>\n",
       "      <td>NaN</td>\n",
       "      <td>NaN</td>\n",
       "      <td>NaN</td>\n",
       "      <td>NaN</td>\n",
       "      <td>NaN</td>\n",
       "    </tr>\n",
       "    <tr>\n",
       "      <th>4</th>\n",
       "      <td>1.0</td>\n",
       "      <td>1.0</td>\n",
       "      <td>2.0</td>\n",
       "      <td>5.0</td>\n",
       "      <td>5.0</td>\n",
       "      <td>3.0</td>\n",
       "      <td>3.0</td>\n",
       "      <td>1.0</td>\n",
       "      <td>9.0</td>\n",
       "      <td>NaN</td>\n",
       "      <td>...</td>\n",
       "      <td>NaN</td>\n",
       "      <td>NaN</td>\n",
       "      <td>NaN</td>\n",
       "      <td>NaN</td>\n",
       "      <td>NaN</td>\n",
       "      <td>NaN</td>\n",
       "      <td>NaN</td>\n",
       "      <td>NaN</td>\n",
       "      <td>NaN</td>\n",
       "      <td>NaN</td>\n",
       "    </tr>\n",
       "    <tr>\n",
       "      <th>...</th>\n",
       "      <td>...</td>\n",
       "      <td>...</td>\n",
       "      <td>...</td>\n",
       "      <td>...</td>\n",
       "      <td>...</td>\n",
       "      <td>...</td>\n",
       "      <td>...</td>\n",
       "      <td>...</td>\n",
       "      <td>...</td>\n",
       "      <td>...</td>\n",
       "      <td>...</td>\n",
       "      <td>...</td>\n",
       "      <td>...</td>\n",
       "      <td>...</td>\n",
       "      <td>...</td>\n",
       "      <td>...</td>\n",
       "      <td>...</td>\n",
       "      <td>...</td>\n",
       "      <td>...</td>\n",
       "      <td>...</td>\n",
       "      <td>...</td>\n",
       "    </tr>\n",
       "    <tr>\n",
       "      <th>445127</th>\n",
       "      <td>5.0</td>\n",
       "      <td>2.0</td>\n",
       "      <td>2.0</td>\n",
       "      <td>1.0</td>\n",
       "      <td>1.0</td>\n",
       "      <td>1.0</td>\n",
       "      <td>2.0</td>\n",
       "      <td>2.0</td>\n",
       "      <td>1.0</td>\n",
       "      <td>5.0</td>\n",
       "      <td>...</td>\n",
       "      <td>NaN</td>\n",
       "      <td>NaN</td>\n",
       "      <td>NaN</td>\n",
       "      <td>NaN</td>\n",
       "      <td>NaN</td>\n",
       "      <td>NaN</td>\n",
       "      <td>NaN</td>\n",
       "      <td>NaN</td>\n",
       "      <td>NaN</td>\n",
       "      <td>NaN</td>\n",
       "    </tr>\n",
       "    <tr>\n",
       "      <th>445128</th>\n",
       "      <td>1.0</td>\n",
       "      <td>1.0</td>\n",
       "      <td>1.0</td>\n",
       "      <td>1.0</td>\n",
       "      <td>7.0</td>\n",
       "      <td>5.0</td>\n",
       "      <td>4.0</td>\n",
       "      <td>2.0</td>\n",
       "      <td>1.0</td>\n",
       "      <td>2.0</td>\n",
       "      <td>...</td>\n",
       "      <td>NaN</td>\n",
       "      <td>NaN</td>\n",
       "      <td>NaN</td>\n",
       "      <td>NaN</td>\n",
       "      <td>NaN</td>\n",
       "      <td>NaN</td>\n",
       "      <td>NaN</td>\n",
       "      <td>NaN</td>\n",
       "      <td>NaN</td>\n",
       "      <td>NaN</td>\n",
       "    </tr>\n",
       "    <tr>\n",
       "      <th>445129</th>\n",
       "      <td>1.0</td>\n",
       "      <td>3.0</td>\n",
       "      <td>2.0</td>\n",
       "      <td>8.0</td>\n",
       "      <td>10.0</td>\n",
       "      <td>9.0</td>\n",
       "      <td>2.0</td>\n",
       "      <td>1.0</td>\n",
       "      <td>2.0</td>\n",
       "      <td>1.0</td>\n",
       "      <td>...</td>\n",
       "      <td>NaN</td>\n",
       "      <td>NaN</td>\n",
       "      <td>NaN</td>\n",
       "      <td>NaN</td>\n",
       "      <td>NaN</td>\n",
       "      <td>NaN</td>\n",
       "      <td>NaN</td>\n",
       "      <td>NaN</td>\n",
       "      <td>NaN</td>\n",
       "      <td>NaN</td>\n",
       "    </tr>\n",
       "    <tr>\n",
       "      <th>445130</th>\n",
       "      <td>1.0</td>\n",
       "      <td>2.0</td>\n",
       "      <td>2.0</td>\n",
       "      <td>7.0</td>\n",
       "      <td>11.0</td>\n",
       "      <td>5.0</td>\n",
       "      <td>3.0</td>\n",
       "      <td>1.0</td>\n",
       "      <td>1.0</td>\n",
       "      <td>2.0</td>\n",
       "      <td>...</td>\n",
       "      <td>NaN</td>\n",
       "      <td>NaN</td>\n",
       "      <td>NaN</td>\n",
       "      <td>NaN</td>\n",
       "      <td>NaN</td>\n",
       "      <td>NaN</td>\n",
       "      <td>NaN</td>\n",
       "      <td>NaN</td>\n",
       "      <td>NaN</td>\n",
       "      <td>NaN</td>\n",
       "    </tr>\n",
       "    <tr>\n",
       "      <th>445131</th>\n",
       "      <td>3.0</td>\n",
       "      <td>1.0</td>\n",
       "      <td>2.0</td>\n",
       "      <td>1.0</td>\n",
       "      <td>5.0</td>\n",
       "      <td>2.0</td>\n",
       "      <td>1.0</td>\n",
       "      <td>1.0</td>\n",
       "      <td>1.0</td>\n",
       "      <td>1.0</td>\n",
       "      <td>...</td>\n",
       "      <td>NaN</td>\n",
       "      <td>NaN</td>\n",
       "      <td>NaN</td>\n",
       "      <td>NaN</td>\n",
       "      <td>NaN</td>\n",
       "      <td>NaN</td>\n",
       "      <td>NaN</td>\n",
       "      <td>NaN</td>\n",
       "      <td>NaN</td>\n",
       "      <td>NaN</td>\n",
       "    </tr>\n",
       "  </tbody>\n",
       "</table>\n",
       "<p>445132 rows × 82 columns</p>\n",
       "</div>"
      ],
      "text/plain": [
       "        MARITAL  RENTHOM1  VETERAN3  EMPLOY1  _AGEG5YR  _INCOMG1  _EDUCAG  \\\n",
       "0           1.0       1.0       2.0      7.0      13.0       9.0      4.0   \n",
       "1           3.0       1.0       2.0      2.0      13.0       3.0      2.0   \n",
       "2           1.0       1.0       2.0      7.0       8.0       6.0      4.0   \n",
       "3           1.0       1.0       2.0      7.0      14.0       9.0      2.0   \n",
       "4           1.0       1.0       2.0      5.0       5.0       3.0      3.0   \n",
       "...         ...       ...       ...      ...       ...       ...      ...   \n",
       "445127      5.0       2.0       2.0      1.0       1.0       1.0      2.0   \n",
       "445128      1.0       1.0       1.0      1.0       7.0       5.0      4.0   \n",
       "445129      1.0       3.0       2.0      8.0      10.0       9.0      2.0   \n",
       "445130      1.0       2.0       2.0      7.0      11.0       5.0      3.0   \n",
       "445131      3.0       1.0       2.0      1.0       5.0       2.0      1.0   \n",
       "\n",
       "        _CHLDCNT  _EXTETH3  HHADULT  ...  ACEPRISN  ACEDIVRC  ACEHURT1  \\\n",
       "0            1.0       9.0      NaN  ...       NaN       NaN       NaN   \n",
       "1            1.0       9.0      NaN  ...       NaN       NaN       NaN   \n",
       "2            1.0       9.0      NaN  ...       NaN       NaN       NaN   \n",
       "3            1.0       9.0      NaN  ...       NaN       NaN       NaN   \n",
       "4            1.0       9.0      NaN  ...       NaN       NaN       NaN   \n",
       "...          ...       ...      ...  ...       ...       ...       ...   \n",
       "445127       2.0       1.0      5.0  ...       NaN       NaN       NaN   \n",
       "445128       2.0       1.0      2.0  ...       NaN       NaN       NaN   \n",
       "445129       1.0       2.0      1.0  ...       NaN       NaN       NaN   \n",
       "445130       1.0       1.0      2.0  ...       NaN       NaN       NaN   \n",
       "445131       1.0       1.0      1.0  ...       NaN       NaN       NaN   \n",
       "\n",
       "        ACESWEAR  ACETOUCH  ACETTHEM  ACEHVSEX  FIREARM5  GUNLOAD  LOADULK2  \n",
       "0            NaN       NaN       NaN       NaN       NaN      NaN       NaN  \n",
       "1            NaN       NaN       NaN       NaN       NaN      NaN       NaN  \n",
       "2            NaN       NaN       NaN       NaN       NaN      NaN       NaN  \n",
       "3            NaN       NaN       NaN       NaN       NaN      NaN       NaN  \n",
       "4            NaN       NaN       NaN       NaN       NaN      NaN       NaN  \n",
       "...          ...       ...       ...       ...       ...      ...       ...  \n",
       "445127       NaN       NaN       NaN       NaN       NaN      NaN       NaN  \n",
       "445128       NaN       NaN       NaN       NaN       NaN      NaN       NaN  \n",
       "445129       NaN       NaN       NaN       NaN       NaN      NaN       NaN  \n",
       "445130       NaN       NaN       NaN       NaN       NaN      NaN       NaN  \n",
       "445131       NaN       NaN       NaN       NaN       NaN      NaN       NaN  \n",
       "\n",
       "[445132 rows x 82 columns]"
      ]
     },
     "execution_count": 2,
     "metadata": {},
     "output_type": "execute_result"
    }
   ],
   "source": [
    "df = pd.read_csv('/workspaces/Final_Project_DataScient/data/interim/data_limpia.zip')\n",
    "df"
   ]
  },
  {
   "cell_type": "code",
   "execution_count": 3,
   "id": "6bbaa89a",
   "metadata": {},
   "outputs": [
    {
     "name": "stdout",
     "output_type": "stream",
     "text": [
      "<class 'pandas.core.frame.DataFrame'>\n",
      "RangeIndex: 445132 entries, 0 to 445131\n",
      "Data columns (total 82 columns):\n",
      " #   Column    Non-Null Count   Dtype  \n",
      "---  ------    --------------   -----  \n",
      " 0   MARITAL   445124 non-null  float64\n",
      " 1   RENTHOM1  445123 non-null  float64\n",
      " 2   VETERAN3  440959 non-null  float64\n",
      " 3   EMPLOY1   438936 non-null  float64\n",
      " 4   _AGEG5YR  445132 non-null  float64\n",
      " 5   _INCOMG1  445132 non-null  float64\n",
      " 6   _EDUCAG   445132 non-null  float64\n",
      " 7   _CHLDCNT  445131 non-null  float64\n",
      " 8   _EXTETH3  445132 non-null  float64\n",
      " 9   HHADULT   349071 non-null  float64\n",
      " 10  SEXVAR    445132 non-null  float64\n",
      " 11  PERSDOC3  445130 non-null  float64\n",
      " 12  MEDCOST1  445128 non-null  float64\n",
      " 13  _HLTHPLN  445132 non-null  float64\n",
      " 14  _AIDTST4  398897 non-null  float64\n",
      " 15  SDHEMPLY  253515 non-null  float64\n",
      " 16  SDHFOOD1  252829 non-null  float64\n",
      " 17  SDHUTILS  252279 non-null  float64\n",
      " 18  SDHBILLS  252522 non-null  float64\n",
      " 19  SDHTRNSP  251943 non-null  float64\n",
      " 20  CDSOCIAL  7415 non-null    float64\n",
      " 21  CDDISCUS  7400 non-null    float64\n",
      " 22  CAREGIV1  98510 non-null   float64\n",
      " 23  CRGVREL4  19634 non-null   float64\n",
      " 24  CRGVLNG1  19583 non-null   float64\n",
      " 25  CRGVHRS1  19533 non-null   float64\n",
      " 26  EXERANY2  445130 non-null  float64\n",
      " 27  SLEPTIM1  445129 non-null  float64\n",
      " 28  SMOKE100  413355 non-null  float64\n",
      " 29  USENOW3   412532 non-null  float64\n",
      " 30  ECIGNOW2  411553 non-null  float64\n",
      " 31  ALCDAY4   404369 non-null  float64\n",
      " 32  AVEDRNK3  210363 non-null  float64\n",
      " 33  DRNK3GE5  209849 non-null  float64\n",
      " 34  MAXDRNKS  209411 non-null  float64\n",
      " 35  HIVRISK5  396671 non-null  float64\n",
      " 36  MARIJAN1  94919 non-null   float64\n",
      " 37  MARJSMOK  11510 non-null   float64\n",
      " 38  MARJEAT   11504 non-null   float64\n",
      " 39  MARJVAPE  11503 non-null   float64\n",
      " 40  MARJDAB   11495 non-null   float64\n",
      " 41  MARJOTHR  11487 non-null   float64\n",
      " 42  ASBIALCH  60942 non-null   float64\n",
      " 43  ASBIDRNK  60840 non-null   float64\n",
      " 44  ASBIBING  60728 non-null   float64\n",
      " 45  _TOTINDA  445132 non-null  float64\n",
      " 46  _RFSMOK3  445132 non-null  float64\n",
      " 47  DRNKANY6  445132 non-null  float64\n",
      " 48  _RFBING6  445132 non-null  float64\n",
      " 49  CVDINFR4  445128 non-null  float64\n",
      " 50  CVDSTRK3  445130 non-null  float64\n",
      " 51  ADDEPEV3  445125 non-null  float64\n",
      " 52  DIABETE4  445129 non-null  float64\n",
      " 53  COVIDPOS  395897 non-null  float64\n",
      " 54  HADHYST2  217679 non-null  float64\n",
      " 55  COLNCNCR  291086 non-null  float64\n",
      " 56  FLUSHOT7  401539 non-null  float64\n",
      " 57  _MICHD    440111 non-null  float64\n",
      " 58  _ASTHMS1  445132 non-null  float64\n",
      " 59  _DRDXAR2  442499 non-null  float64\n",
      " 60  _PHYS14D  445132 non-null  float64\n",
      " 61  _MENT14D  445132 non-null  float64\n",
      " 62  _BMI5CAT  396326 non-null  float64\n",
      " 63  _RFHLTH   445132 non-null  float64\n",
      " 64  DECIDE    424146 non-null  float64\n",
      " 65  DIFFALON  421190 non-null  float64\n",
      " 66  ACEDEPRS  48286 non-null   float64\n",
      " 67  LSATISFY  254488 non-null  float64\n",
      " 68  EMTSUPRT  254141 non-null  float64\n",
      " 69  SDHISOLT  253790 non-null  float64\n",
      " 70  ACEDRINK  48231 non-null   float64\n",
      " 71  ACEDRUGS  48220 non-null   float64\n",
      " 72  ACEPRISN  48194 non-null   float64\n",
      " 73  ACEDIVRC  48172 non-null   float64\n",
      " 74  ACEHURT1  48077 non-null   float64\n",
      " 75  ACESWEAR  48029 non-null   float64\n",
      " 76  ACETOUCH  47972 non-null   float64\n",
      " 77  ACETTHEM  47936 non-null   float64\n",
      " 78  ACEHVSEX  47876 non-null   float64\n",
      " 79  FIREARM5  39800 non-null   float64\n",
      " 80  GUNLOAD   13825 non-null   float64\n",
      " 81  LOADULK2  4055 non-null    float64\n",
      "dtypes: float64(82)\n",
      "memory usage: 278.5 MB\n"
     ]
    }
   ],
   "source": [
    "df.info()"
   ]
  },
  {
   "cell_type": "code",
   "execution_count": 4,
   "id": "b4ddf59c",
   "metadata": {},
   "outputs": [],
   "source": [
    "df = df.drop(columns=[\"MARIJAN1\",\"MARJSMOK\",\"HADHYST2\", \"MARJEAT\",\"FLUSHOT7\", \n",
    "                      \"_RFHLTH\",\"CVDINFR4\",\"MARJVAPE\", \"MARJDAB\",\n",
    "                     \"MARJOTHR\",\"ALCDAY4\", \"AVEDRNK3\", \n",
    "                     \"DRNK3GE5\", \"MAXDRNKS\", \"ASBIALCH\",\n",
    "                     \"ASBIDRNK\", \"ASBIBING\", \"DRNKANY6\", \n",
    "                     \"PERSDOC3\", \"EXERANY2\", \"SMOKE100\", \"USENOW3\",\n",
    "                     \"ACEDEPRS\", \"ACEDRINK\", \"ACEDRUGS\", \"ACEPRISN\", \"ACEDIVRC\", \n",
    "                     \"ACEHURT1\", \"ACESWEAR\", \"ACETOUCH\", \"ACETTHEM\", \"ACEHVSEX\",\n",
    "                     \"CDSOCIAL\",\"CDDISCUS\", \"CRGVHRS1\", \"CRGVLNG1\", \"CRGVREL4\", \"_EXTETH3\",\n",
    "                     \"CAREGIV1\", \"FIREARM5\", \"GUNLOAD\", \"LOADULK2\"\n",
    "                       ])"
   ]
  },
  {
   "cell_type": "code",
   "execution_count": 5,
   "id": "d41d4e45",
   "metadata": {},
   "outputs": [
    {
     "name": "stdout",
     "output_type": "stream",
     "text": [
      "<class 'pandas.core.frame.DataFrame'>\n",
      "RangeIndex: 445132 entries, 0 to 445131\n",
      "Data columns (total 40 columns):\n",
      " #   Column    Non-Null Count   Dtype  \n",
      "---  ------    --------------   -----  \n",
      " 0   MARITAL   445124 non-null  float64\n",
      " 1   RENTHOM1  445123 non-null  float64\n",
      " 2   VETERAN3  440959 non-null  float64\n",
      " 3   EMPLOY1   438936 non-null  float64\n",
      " 4   _AGEG5YR  445132 non-null  float64\n",
      " 5   _INCOMG1  445132 non-null  float64\n",
      " 6   _EDUCAG   445132 non-null  float64\n",
      " 7   _CHLDCNT  445131 non-null  float64\n",
      " 8   HHADULT   349071 non-null  float64\n",
      " 9   SEXVAR    445132 non-null  float64\n",
      " 10  MEDCOST1  445128 non-null  float64\n",
      " 11  _HLTHPLN  445132 non-null  float64\n",
      " 12  _AIDTST4  398897 non-null  float64\n",
      " 13  SDHEMPLY  253515 non-null  float64\n",
      " 14  SDHFOOD1  252829 non-null  float64\n",
      " 15  SDHUTILS  252279 non-null  float64\n",
      " 16  SDHBILLS  252522 non-null  float64\n",
      " 17  SDHTRNSP  251943 non-null  float64\n",
      " 18  SLEPTIM1  445129 non-null  float64\n",
      " 19  ECIGNOW2  411553 non-null  float64\n",
      " 20  HIVRISK5  396671 non-null  float64\n",
      " 21  _TOTINDA  445132 non-null  float64\n",
      " 22  _RFSMOK3  445132 non-null  float64\n",
      " 23  _RFBING6  445132 non-null  float64\n",
      " 24  CVDSTRK3  445130 non-null  float64\n",
      " 25  ADDEPEV3  445125 non-null  float64\n",
      " 26  DIABETE4  445129 non-null  float64\n",
      " 27  COVIDPOS  395897 non-null  float64\n",
      " 28  COLNCNCR  291086 non-null  float64\n",
      " 29  _MICHD    440111 non-null  float64\n",
      " 30  _ASTHMS1  445132 non-null  float64\n",
      " 31  _DRDXAR2  442499 non-null  float64\n",
      " 32  _PHYS14D  445132 non-null  float64\n",
      " 33  _MENT14D  445132 non-null  float64\n",
      " 34  _BMI5CAT  396326 non-null  float64\n",
      " 35  DECIDE    424146 non-null  float64\n",
      " 36  DIFFALON  421190 non-null  float64\n",
      " 37  LSATISFY  254488 non-null  float64\n",
      " 38  EMTSUPRT  254141 non-null  float64\n",
      " 39  SDHISOLT  253790 non-null  float64\n",
      "dtypes: float64(40)\n",
      "memory usage: 135.8 MB\n"
     ]
    }
   ],
   "source": [
    "df.info()"
   ]
  },
  {
   "cell_type": "code",
   "execution_count": 6,
   "id": "46a3a632",
   "metadata": {},
   "outputs": [
    {
     "data": {
      "text/plain": [
       "(445132, 40)"
      ]
     },
     "execution_count": 6,
     "metadata": {},
     "output_type": "execute_result"
    }
   ],
   "source": [
    "df.shape"
   ]
  },
  {
   "cell_type": "code",
   "execution_count": 7,
   "id": "7d013af0",
   "metadata": {},
   "outputs": [
    {
     "data": {
      "text/plain": [
       "tobacco_use\n",
       "0.0     286153\n",
       "1.0      96120\n",
       "2.0      25831\n",
       "9.0       2022\n",
       "10.0      1427\n",
       "Name: count, dtype: int64"
      ]
     },
     "execution_count": 7,
     "metadata": {},
     "output_type": "execute_result"
    }
   ],
   "source": [
    "#tabaco\n",
    "# 1: No, 2: Yes >> Cambiar a 1: Yes, 0: No\n",
    "df.loc[df[\"_RFSMOK3\"] == 1, \"_RFSMOK3\"] = 0\n",
    "df.loc[df[\"_RFSMOK3\"] == 2, \"_RFSMOK3\"] = 1\n",
    "df._RFSMOK3.value_counts()\n",
    "# 1: No, 2, 3 o 4: Yes >> Cambiar a 1: Yes, 0: No\n",
    "df.loc[df[\"ECIGNOW2\"] == 1, \"ECIGNOW2\"] = 0\n",
    "df.loc[df[\"ECIGNOW2\"] > 1, \"ECIGNOW2\"] = 1\n",
    "df.ECIGNOW2.value_counts()\n",
    "tobacco_columns = [\"_RFSMOK3\", \"ECIGNOW2\"]\n",
    "# Se imputa 0 a los valores vacios que indican no respuesta a la pregunta asumiendo respuesta negativa\n",
    "df = df.dropna(subset=tobacco_columns)\n",
    "df[\"tobacco_use\"] = df[tobacco_columns].sum(axis=1)\n",
    "df = df.drop(tobacco_columns, axis=1)\n",
    "df[\"tobacco_use\"].value_counts()"
   ]
  },
  {
   "cell_type": "code",
   "execution_count": 8,
   "id": "752dde91",
   "metadata": {},
   "outputs": [
    {
     "data": {
      "text/plain": [
       "(411553, 39)"
      ]
     },
     "execution_count": 8,
     "metadata": {},
     "output_type": "execute_result"
    }
   ],
   "source": [
    "df.shape"
   ]
  },
  {
   "cell_type": "code",
   "execution_count": 9,
   "id": "e677c4b6",
   "metadata": {},
   "outputs": [
    {
     "data": {
      "text/plain": [
       "_RFBING6\n",
       " 0.0    337111\n",
       " 1.0     56915\n",
       "-1.0     17527\n",
       "Name: count, dtype: int64"
      ]
     },
     "execution_count": 9,
     "metadata": {},
     "output_type": "execute_result"
    }
   ],
   "source": [
    "#Alcohol\n",
    "# 1: No, 2: Yes >> Cambiar a 1: Yes, 0: No\n",
    "df.loc[df[\"_RFBING6\"] > 2, \"_RFBING6\"] = -1\n",
    "df.loc[df[\"_RFBING6\"] == 1, \"_RFBING6\"] = 0\n",
    "df.loc[df[\"_RFBING6\"] == 2, \"_RFBING6\"] = 1\n",
    "df._RFBING6.value_counts()"
   ]
  },
  {
   "cell_type": "code",
   "execution_count": 10,
   "id": "ed25a8d4",
   "metadata": {},
   "outputs": [
    {
     "data": {
      "text/plain": [
       "(411553, 39)"
      ]
     },
     "execution_count": 10,
     "metadata": {},
     "output_type": "execute_result"
    }
   ],
   "source": [
    "df.shape"
   ]
  },
  {
   "cell_type": "code",
   "execution_count": 11,
   "id": "aa0c136e",
   "metadata": {},
   "outputs": [
    {
     "data": {
      "text/plain": [
       "SDHISOLT\n",
       "5.0    106160\n",
       "4.0     70617\n",
       "3.0     53072\n",
       "2.0     13178\n",
       "1.0      8098\n",
       "7.0      1696\n",
       "9.0       969\n",
       "Name: count, dtype: int64"
      ]
     },
     "execution_count": 11,
     "metadata": {},
     "output_type": "execute_result"
    }
   ],
   "source": [
    "df[\"SDHISOLT\"].value_counts()"
   ]
  },
  {
   "cell_type": "code",
   "execution_count": 12,
   "id": "da96ad7f",
   "metadata": {},
   "outputs": [
    {
     "data": {
      "text/plain": [
       "SDHISOLT\n",
       " 0.0    176777\n",
       " 1.0     74348\n",
       "-1.0      2665\n",
       "Name: count, dtype: int64"
      ]
     },
     "execution_count": 12,
     "metadata": {},
     "output_type": "execute_result"
    }
   ],
   "source": [
    "#aislamiento social\n",
    "# 1, 2 y 3: Aislado, 4 y 5: No aislado >> Cambiar a 1: Aislado, 0: No aislado\n",
    "df.loc[df[\"SDHISOLT\"] <= 3, \"SDHISOLT\"] = 1\n",
    "df.loc[(df[\"SDHISOLT\"] == 4) | (df[\"SDHISOLT\"] == 5), \"SDHISOLT\"] = 0\n",
    "df.loc[df[\"SDHISOLT\"] > 5, \"SDHISOLT\"] = -1\n",
    "df[\"SDHISOLT\"].value_counts()"
   ]
  },
  {
   "cell_type": "code",
   "execution_count": 13,
   "id": "3ded1567",
   "metadata": {},
   "outputs": [
    {
     "data": {
      "text/plain": [
       "EMTSUPRT\n",
       "1.0    118012\n",
       "2.0     77907\n",
       "3.0     33813\n",
       "4.0     10835\n",
       "5.0      9379\n",
       "7.0      2820\n",
       "9.0      1375\n",
       "Name: count, dtype: int64"
      ]
     },
     "execution_count": 13,
     "metadata": {},
     "output_type": "execute_result"
    }
   ],
   "source": [
    "df[\"EMTSUPRT\"].value_counts()"
   ]
  },
  {
   "cell_type": "code",
   "execution_count": 14,
   "id": "2793879a",
   "metadata": {},
   "outputs": [
    {
     "data": {
      "text/plain": [
       "EMTSUPRT\n",
       " 1.0    195919\n",
       " 0.0     54027\n",
       "-1.0      4195\n",
       "Name: count, dtype: int64"
      ]
     },
     "execution_count": 14,
     "metadata": {},
     "output_type": "execute_result"
    }
   ],
   "source": [
    "df.loc[df[\"EMTSUPRT\"] <= 2, \"EMTSUPRT\"] = 1\n",
    "df.loc[(df[\"EMTSUPRT\"] == 3) | (df[\"EMTSUPRT\"] == 4) | (df[\"EMTSUPRT\"] == 5), \"EMTSUPRT\"] = 0\n",
    "df.loc[df[\"EMTSUPRT\"] > 5, \"EMTSUPRT\"] = -1\n",
    "df[\"EMTSUPRT\"].value_counts()"
   ]
  },
  {
   "cell_type": "code",
   "execution_count": 15,
   "id": "9bad71f8",
   "metadata": {},
   "outputs": [
    {
     "name": "stdout",
     "output_type": "stream",
     "text": [
      "<class 'pandas.core.frame.DataFrame'>\n",
      "Index: 411553 entries, 0 to 445131\n",
      "Data columns (total 39 columns):\n",
      " #   Column       Non-Null Count   Dtype  \n",
      "---  ------       --------------   -----  \n",
      " 0   MARITAL      411551 non-null  float64\n",
      " 1   RENTHOM1     411552 non-null  float64\n",
      " 2   VETERAN3     411553 non-null  float64\n",
      " 3   EMPLOY1      411552 non-null  float64\n",
      " 4   _AGEG5YR     411553 non-null  float64\n",
      " 5   _INCOMG1     411553 non-null  float64\n",
      " 6   _EDUCAG      411553 non-null  float64\n",
      " 7   _CHLDCNT     411552 non-null  float64\n",
      " 8   HHADULT      321768 non-null  float64\n",
      " 9   SEXVAR       411553 non-null  float64\n",
      " 10  MEDCOST1     411551 non-null  float64\n",
      " 11  _HLTHPLN     411553 non-null  float64\n",
      " 12  _AIDTST4     398894 non-null  float64\n",
      " 13  SDHEMPLY     253515 non-null  float64\n",
      " 14  SDHFOOD1     252829 non-null  float64\n",
      " 15  SDHUTILS     252279 non-null  float64\n",
      " 16  SDHBILLS     252522 non-null  float64\n",
      " 17  SDHTRNSP     251943 non-null  float64\n",
      " 18  SLEPTIM1     411553 non-null  float64\n",
      " 19  HIVRISK5     396668 non-null  float64\n",
      " 20  _TOTINDA     411553 non-null  float64\n",
      " 21  _RFBING6     411553 non-null  float64\n",
      " 22  CVDSTRK3     411553 non-null  float64\n",
      " 23  ADDEPEV3     411548 non-null  float64\n",
      " 24  DIABETE4     411553 non-null  float64\n",
      " 25  COVIDPOS     395894 non-null  float64\n",
      " 26  COLNCNCR     288369 non-null  float64\n",
      " 27  _MICHD       407038 non-null  float64\n",
      " 28  _ASTHMS1     411553 non-null  float64\n",
      " 29  _DRDXAR2     409158 non-null  float64\n",
      " 30  _PHYS14D     411553 non-null  float64\n",
      " 31  _MENT14D     411553 non-null  float64\n",
      " 32  _BMI5CAT     382897 non-null  float64\n",
      " 33  DECIDE       411552 non-null  float64\n",
      " 34  DIFFALON     411552 non-null  float64\n",
      " 35  LSATISFY     254488 non-null  float64\n",
      " 36  EMTSUPRT     254141 non-null  float64\n",
      " 37  SDHISOLT     253790 non-null  float64\n",
      " 38  tobacco_use  411553 non-null  float64\n",
      "dtypes: float64(39)\n",
      "memory usage: 125.6 MB\n"
     ]
    }
   ],
   "source": [
    "df.info()"
   ]
  },
  {
   "cell_type": "code",
   "execution_count": 16,
   "id": "3b3d9952",
   "metadata": {},
   "outputs": [
    {
     "data": {
      "text/plain": [
       "(115712, 39)"
      ]
     },
     "execution_count": 16,
     "metadata": {},
     "output_type": "execute_result"
    }
   ],
   "source": [
    "df = df.dropna(subset=[col for col in df.columns if col != \"MARIJAN1\"])\n",
    "df.shape"
   ]
  },
  {
   "cell_type": "code",
   "execution_count": 17,
   "id": "5c6c2d33",
   "metadata": {},
   "outputs": [
    {
     "name": "stdout",
     "output_type": "stream",
     "text": [
      "<class 'pandas.core.frame.DataFrame'>\n",
      "Index: 115712 entries, 1211 to 445130\n",
      "Data columns (total 39 columns):\n",
      " #   Column       Non-Null Count   Dtype  \n",
      "---  ------       --------------   -----  \n",
      " 0   MARITAL      115712 non-null  float64\n",
      " 1   RENTHOM1     115712 non-null  float64\n",
      " 2   VETERAN3     115712 non-null  float64\n",
      " 3   EMPLOY1      115712 non-null  float64\n",
      " 4   _AGEG5YR     115712 non-null  float64\n",
      " 5   _INCOMG1     115712 non-null  float64\n",
      " 6   _EDUCAG      115712 non-null  float64\n",
      " 7   _CHLDCNT     115712 non-null  float64\n",
      " 8   HHADULT      115712 non-null  float64\n",
      " 9   SEXVAR       115712 non-null  float64\n",
      " 10  MEDCOST1     115712 non-null  float64\n",
      " 11  _HLTHPLN     115712 non-null  float64\n",
      " 12  _AIDTST4     115712 non-null  float64\n",
      " 13  SDHEMPLY     115712 non-null  float64\n",
      " 14  SDHFOOD1     115712 non-null  float64\n",
      " 15  SDHUTILS     115712 non-null  float64\n",
      " 16  SDHBILLS     115712 non-null  float64\n",
      " 17  SDHTRNSP     115712 non-null  float64\n",
      " 18  SLEPTIM1     115712 non-null  float64\n",
      " 19  HIVRISK5     115712 non-null  float64\n",
      " 20  _TOTINDA     115712 non-null  float64\n",
      " 21  _RFBING6     115712 non-null  float64\n",
      " 22  CVDSTRK3     115712 non-null  float64\n",
      " 23  ADDEPEV3     115712 non-null  float64\n",
      " 24  DIABETE4     115712 non-null  float64\n",
      " 25  COVIDPOS     115712 non-null  float64\n",
      " 26  COLNCNCR     115712 non-null  float64\n",
      " 27  _MICHD       115712 non-null  float64\n",
      " 28  _ASTHMS1     115712 non-null  float64\n",
      " 29  _DRDXAR2     115712 non-null  float64\n",
      " 30  _PHYS14D     115712 non-null  float64\n",
      " 31  _MENT14D     115712 non-null  float64\n",
      " 32  _BMI5CAT     115712 non-null  float64\n",
      " 33  DECIDE       115712 non-null  float64\n",
      " 34  DIFFALON     115712 non-null  float64\n",
      " 35  LSATISFY     115712 non-null  float64\n",
      " 36  EMTSUPRT     115712 non-null  float64\n",
      " 37  SDHISOLT     115712 non-null  float64\n",
      " 38  tobacco_use  115712 non-null  float64\n",
      "dtypes: float64(39)\n",
      "memory usage: 35.3 MB\n"
     ]
    }
   ],
   "source": [
    "df.info()"
   ]
  },
  {
   "cell_type": "code",
   "execution_count": 18,
   "id": "3e937fdc",
   "metadata": {},
   "outputs": [
    {
     "data": {
      "text/plain": [
       "MARITAL        0\n",
       "RENTHOM1       0\n",
       "VETERAN3       0\n",
       "EMPLOY1        0\n",
       "_AGEG5YR       0\n",
       "_INCOMG1       0\n",
       "_EDUCAG        0\n",
       "_CHLDCNT       0\n",
       "HHADULT        0\n",
       "SEXVAR         0\n",
       "MEDCOST1       0\n",
       "_HLTHPLN       0\n",
       "_AIDTST4       0\n",
       "SDHEMPLY       0\n",
       "SDHFOOD1       0\n",
       "SDHUTILS       0\n",
       "SDHBILLS       0\n",
       "SDHTRNSP       0\n",
       "SLEPTIM1       0\n",
       "HIVRISK5       0\n",
       "_TOTINDA       0\n",
       "_RFBING6       0\n",
       "CVDSTRK3       0\n",
       "ADDEPEV3       0\n",
       "DIABETE4       0\n",
       "COVIDPOS       0\n",
       "COLNCNCR       0\n",
       "_MICHD         0\n",
       "_ASTHMS1       0\n",
       "_DRDXAR2       0\n",
       "_PHYS14D       0\n",
       "_MENT14D       0\n",
       "_BMI5CAT       0\n",
       "DECIDE         0\n",
       "DIFFALON       0\n",
       "LSATISFY       0\n",
       "EMTSUPRT       0\n",
       "SDHISOLT       0\n",
       "tobacco_use    0\n",
       "dtype: int64"
      ]
     },
     "execution_count": 18,
     "metadata": {},
     "output_type": "execute_result"
    }
   ],
   "source": [
    "df.isnull().sum()"
   ]
  },
  {
   "cell_type": "code",
   "execution_count": 19,
   "id": "d0c8c954",
   "metadata": {},
   "outputs": [
    {
     "data": {
      "text/plain": [
       "Index(['MARITAL', 'RENTHOM1', 'VETERAN3', 'EMPLOY1', '_AGEG5YR', '_INCOMG1',\n",
       "       '_EDUCAG', '_CHLDCNT', 'HHADULT', 'SEXVAR', 'MEDCOST1', '_HLTHPLN',\n",
       "       '_AIDTST4', 'SDHEMPLY', 'SDHFOOD1', 'SDHUTILS', 'SDHBILLS', 'SDHTRNSP',\n",
       "       'SLEPTIM1', 'HIVRISK5', '_TOTINDA', '_RFBING6', 'CVDSTRK3', 'ADDEPEV3',\n",
       "       'DIABETE4', 'COVIDPOS', 'COLNCNCR', '_MICHD', '_ASTHMS1', '_DRDXAR2',\n",
       "       '_PHYS14D', '_MENT14D', '_BMI5CAT', 'DECIDE', 'DIFFALON', 'LSATISFY',\n",
       "       'EMTSUPRT', 'SDHISOLT', 'tobacco_use'],\n",
       "      dtype='object')"
      ]
     },
     "execution_count": 19,
     "metadata": {},
     "output_type": "execute_result"
    }
   ],
   "source": [
    "df.columns"
   ]
  },
  {
   "cell_type": "code",
   "execution_count": 20,
   "id": "23298956",
   "metadata": {},
   "outputs": [
    {
     "data": {
      "text/plain": [
       "ADDEPEV3\n",
       "2.0    91598\n",
       "1.0    23696\n",
       "7.0      353\n",
       "9.0       65\n",
       "Name: count, dtype: int64"
      ]
     },
     "execution_count": 20,
     "metadata": {},
     "output_type": "execute_result"
    }
   ],
   "source": [
    "df[\"ADDEPEV3\"].value_counts()"
   ]
  },
  {
   "cell_type": "code",
   "execution_count": 21,
   "id": "b1e09875",
   "metadata": {},
   "outputs": [
    {
     "name": "stdout",
     "output_type": "stream",
     "text": [
      "ADDEPEV3\n",
      "0.0    91598\n",
      "1.0    23696\n",
      "Name: count, dtype: int64\n",
      "(115294, 39)\n"
     ]
    }
   ],
   "source": [
    "# Lo llevamos a una variable binaria.\n",
    "# Eliminamos NAN y los valores 7 y 9 (Don’t know/Refused/Missing)\n",
    "# Pasamos 2 (no) a 0\n",
    "df['ADDEPEV3'].dropna()\n",
    "df = df[~df[\"ADDEPEV3\"].isin([9,7])]\n",
    "df.loc[df[\"ADDEPEV3\"] == 2, \"ADDEPEV3\"] = 0\n",
    "print(df[\"ADDEPEV3\"].value_counts())\n",
    "print(df.shape)"
   ]
  },
  {
   "cell_type": "code",
   "execution_count": 22,
   "id": "82bf7262",
   "metadata": {},
   "outputs": [],
   "source": [
    "df.to_csv(\"../data/processed/data_prefinal.csv\", index=False)"
   ]
  }
 ],
 "metadata": {
  "kernelspec": {
   "display_name": ".venv",
   "language": "python",
   "name": "python3"
  },
  "language_info": {
   "codemirror_mode": {
    "name": "ipython",
    "version": 3
   },
   "file_extension": ".py",
   "mimetype": "text/x-python",
   "name": "python",
   "nbconvert_exporter": "python",
   "pygments_lexer": "ipython3",
   "version": "3.11.4"
  }
 },
 "nbformat": 4,
 "nbformat_minor": 5
}
