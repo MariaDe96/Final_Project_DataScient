{
 "cells": [
  {
   "cell_type": "code",
   "execution_count": 339,
   "id": "e3ffa710",
   "metadata": {},
   "outputs": [],
   "source": [
    "import pandas as pd\n",
    "import numpy as np"
   ]
  },
  {
   "cell_type": "code",
   "execution_count": 340,
   "id": "e5b7921d",
   "metadata": {},
   "outputs": [],
   "source": [
    "df = pd.read_csv(\"../data/processed/data_merged.csv\")"
   ]
  },
  {
   "cell_type": "code",
   "execution_count": 341,
   "id": "90fb62df",
   "metadata": {},
   "outputs": [
    {
     "data": {
      "text/html": [
       "<div>\n",
       "<style scoped>\n",
       "    .dataframe tbody tr th:only-of-type {\n",
       "        vertical-align: middle;\n",
       "    }\n",
       "\n",
       "    .dataframe tbody tr th {\n",
       "        vertical-align: top;\n",
       "    }\n",
       "\n",
       "    .dataframe thead th {\n",
       "        text-align: right;\n",
       "    }\n",
       "</style>\n",
       "<table border=\"1\" class=\"dataframe\">\n",
       "  <thead>\n",
       "    <tr style=\"text-align: right;\">\n",
       "      <th></th>\n",
       "      <th>MARITAL</th>\n",
       "      <th>RENTHOM1</th>\n",
       "      <th>VETERAN3</th>\n",
       "      <th>EMPLOY1</th>\n",
       "      <th>_AGEG5YR</th>\n",
       "      <th>_INCOMG1</th>\n",
       "      <th>_EDUCAG</th>\n",
       "      <th>_CHLDCNT</th>\n",
       "      <th>_EXTETH3</th>\n",
       "      <th>HHADULT</th>\n",
       "      <th>...</th>\n",
       "      <th>_PHYS14D</th>\n",
       "      <th>_MENT14D</th>\n",
       "      <th>_BMI5CAT</th>\n",
       "      <th>LSATISFY</th>\n",
       "      <th>social_vulnerability_score</th>\n",
       "      <th>tobacco_use</th>\n",
       "      <th>health_risk_score</th>\n",
       "      <th>disability_score</th>\n",
       "      <th>trauma_exposure_score</th>\n",
       "      <th>gun_risk_score</th>\n",
       "    </tr>\n",
       "  </thead>\n",
       "  <tbody>\n",
       "    <tr>\n",
       "      <th>0</th>\n",
       "      <td>1.0</td>\n",
       "      <td>1.0</td>\n",
       "      <td>2.0</td>\n",
       "      <td>7.0</td>\n",
       "      <td>13.0</td>\n",
       "      <td>9.0</td>\n",
       "      <td>4.0</td>\n",
       "      <td>1.0</td>\n",
       "      <td>9.0</td>\n",
       "      <td>NaN</td>\n",
       "      <td>...</td>\n",
       "      <td>1.0</td>\n",
       "      <td>1.0</td>\n",
       "      <td>NaN</td>\n",
       "      <td>1.0</td>\n",
       "      <td>0.0</td>\n",
       "      <td>1.0</td>\n",
       "      <td>1.0</td>\n",
       "      <td>0.0</td>\n",
       "      <td>0.0</td>\n",
       "      <td>0.0</td>\n",
       "    </tr>\n",
       "    <tr>\n",
       "      <th>1</th>\n",
       "      <td>3.0</td>\n",
       "      <td>1.0</td>\n",
       "      <td>2.0</td>\n",
       "      <td>2.0</td>\n",
       "      <td>13.0</td>\n",
       "      <td>3.0</td>\n",
       "      <td>2.0</td>\n",
       "      <td>1.0</td>\n",
       "      <td>9.0</td>\n",
       "      <td>NaN</td>\n",
       "      <td>...</td>\n",
       "      <td>1.0</td>\n",
       "      <td>1.0</td>\n",
       "      <td>3.0</td>\n",
       "      <td>1.0</td>\n",
       "      <td>0.0</td>\n",
       "      <td>0.0</td>\n",
       "      <td>0.0</td>\n",
       "      <td>0.0</td>\n",
       "      <td>0.0</td>\n",
       "      <td>0.0</td>\n",
       "    </tr>\n",
       "    <tr>\n",
       "      <th>2</th>\n",
       "      <td>1.0</td>\n",
       "      <td>1.0</td>\n",
       "      <td>2.0</td>\n",
       "      <td>7.0</td>\n",
       "      <td>8.0</td>\n",
       "      <td>6.0</td>\n",
       "      <td>4.0</td>\n",
       "      <td>1.0</td>\n",
       "      <td>9.0</td>\n",
       "      <td>NaN</td>\n",
       "      <td>...</td>\n",
       "      <td>2.0</td>\n",
       "      <td>2.0</td>\n",
       "      <td>3.0</td>\n",
       "      <td>2.0</td>\n",
       "      <td>0.0</td>\n",
       "      <td>0.0</td>\n",
       "      <td>0.0</td>\n",
       "      <td>0.0</td>\n",
       "      <td>0.0</td>\n",
       "      <td>0.0</td>\n",
       "    </tr>\n",
       "    <tr>\n",
       "      <th>3</th>\n",
       "      <td>1.0</td>\n",
       "      <td>1.0</td>\n",
       "      <td>2.0</td>\n",
       "      <td>7.0</td>\n",
       "      <td>14.0</td>\n",
       "      <td>9.0</td>\n",
       "      <td>2.0</td>\n",
       "      <td>1.0</td>\n",
       "      <td>9.0</td>\n",
       "      <td>NaN</td>\n",
       "      <td>...</td>\n",
       "      <td>1.0</td>\n",
       "      <td>1.0</td>\n",
       "      <td>2.0</td>\n",
       "      <td>1.0</td>\n",
       "      <td>0.0</td>\n",
       "      <td>1.0</td>\n",
       "      <td>2.0</td>\n",
       "      <td>0.0</td>\n",
       "      <td>0.0</td>\n",
       "      <td>0.0</td>\n",
       "    </tr>\n",
       "    <tr>\n",
       "      <th>4</th>\n",
       "      <td>1.0</td>\n",
       "      <td>1.0</td>\n",
       "      <td>2.0</td>\n",
       "      <td>5.0</td>\n",
       "      <td>5.0</td>\n",
       "      <td>3.0</td>\n",
       "      <td>3.0</td>\n",
       "      <td>1.0</td>\n",
       "      <td>9.0</td>\n",
       "      <td>NaN</td>\n",
       "      <td>...</td>\n",
       "      <td>2.0</td>\n",
       "      <td>1.0</td>\n",
       "      <td>2.0</td>\n",
       "      <td>1.0</td>\n",
       "      <td>0.0</td>\n",
       "      <td>0.0</td>\n",
       "      <td>0.0</td>\n",
       "      <td>0.0</td>\n",
       "      <td>0.0</td>\n",
       "      <td>0.0</td>\n",
       "    </tr>\n",
       "  </tbody>\n",
       "</table>\n",
       "<p>5 rows × 36 columns</p>\n",
       "</div>"
      ],
      "text/plain": [
       "   MARITAL  RENTHOM1  VETERAN3  EMPLOY1  _AGEG5YR  _INCOMG1  _EDUCAG  \\\n",
       "0      1.0       1.0       2.0      7.0      13.0       9.0      4.0   \n",
       "1      3.0       1.0       2.0      2.0      13.0       3.0      2.0   \n",
       "2      1.0       1.0       2.0      7.0       8.0       6.0      4.0   \n",
       "3      1.0       1.0       2.0      7.0      14.0       9.0      2.0   \n",
       "4      1.0       1.0       2.0      5.0       5.0       3.0      3.0   \n",
       "\n",
       "   _CHLDCNT  _EXTETH3  HHADULT  ...  _PHYS14D  _MENT14D  _BMI5CAT  LSATISFY  \\\n",
       "0       1.0       9.0      NaN  ...       1.0       1.0       NaN       1.0   \n",
       "1       1.0       9.0      NaN  ...       1.0       1.0       3.0       1.0   \n",
       "2       1.0       9.0      NaN  ...       2.0       2.0       3.0       2.0   \n",
       "3       1.0       9.0      NaN  ...       1.0       1.0       2.0       1.0   \n",
       "4       1.0       9.0      NaN  ...       2.0       1.0       2.0       1.0   \n",
       "\n",
       "   social_vulnerability_score  tobacco_use  health_risk_score  \\\n",
       "0                         0.0          1.0                1.0   \n",
       "1                         0.0          0.0                0.0   \n",
       "2                         0.0          0.0                0.0   \n",
       "3                         0.0          1.0                2.0   \n",
       "4                         0.0          0.0                0.0   \n",
       "\n",
       "   disability_score  trauma_exposure_score  gun_risk_score  \n",
       "0               0.0                    0.0             0.0  \n",
       "1               0.0                    0.0             0.0  \n",
       "2               0.0                    0.0             0.0  \n",
       "3               0.0                    0.0             0.0  \n",
       "4               0.0                    0.0             0.0  \n",
       "\n",
       "[5 rows x 36 columns]"
      ]
     },
     "execution_count": 341,
     "metadata": {},
     "output_type": "execute_result"
    }
   ],
   "source": [
    "df.head()"
   ]
  },
  {
   "cell_type": "code",
   "execution_count": 342,
   "id": "c75cab84",
   "metadata": {},
   "outputs": [
    {
     "name": "stdout",
     "output_type": "stream",
     "text": [
      "<class 'pandas.core.frame.DataFrame'>\n",
      "RangeIndex: 445132 entries, 0 to 445131\n",
      "Data columns (total 36 columns):\n",
      " #   Column                      Non-Null Count   Dtype  \n",
      "---  ------                      --------------   -----  \n",
      " 0   MARITAL                     445124 non-null  float64\n",
      " 1   RENTHOM1                    445123 non-null  float64\n",
      " 2   VETERAN3                    440959 non-null  float64\n",
      " 3   EMPLOY1                     438936 non-null  float64\n",
      " 4   _AGEG5YR                    445132 non-null  float64\n",
      " 5   _INCOMG1                    445132 non-null  float64\n",
      " 6   _EDUCAG                     445132 non-null  float64\n",
      " 7   _CHLDCNT                    445131 non-null  float64\n",
      " 8   _EXTETH3                    445132 non-null  float64\n",
      " 9   HHADULT                     349071 non-null  float64\n",
      " 10  SEXVAR                      445132 non-null  float64\n",
      " 11  MEDCOST1                    445128 non-null  float64\n",
      " 12  _HLTHPLN                    445132 non-null  float64\n",
      " 13  _AIDTST4                    398897 non-null  float64\n",
      " 14  CDSOCIAL                    7415 non-null    float64\n",
      " 15  CDDISCUS                    7400 non-null    float64\n",
      " 16  CRGVREL4                    19634 non-null   float64\n",
      " 17  CRGVLNG1                    19583 non-null   float64\n",
      " 18  CRGVHRS1                    19533 non-null   float64\n",
      " 19  SLEPTIM1                    445129 non-null  float64\n",
      " 20  HIVRISK5                    396671 non-null  float64\n",
      " 21  MARIJAN1                    94919 non-null   float64\n",
      " 22  _TOTINDA                    445132 non-null  float64\n",
      " 23  _RFBING6                    445132 non-null  float64\n",
      " 24  ADDEPEV3                    445125 non-null  float64\n",
      " 25  COVIDPOS                    395897 non-null  float64\n",
      " 26  _PHYS14D                    445132 non-null  float64\n",
      " 27  _MENT14D                    445132 non-null  float64\n",
      " 28  _BMI5CAT                    396326 non-null  float64\n",
      " 29  LSATISFY                    254488 non-null  float64\n",
      " 30  social_vulnerability_score  445132 non-null  float64\n",
      " 31  tobacco_use                 445132 non-null  float64\n",
      " 32  health_risk_score           445132 non-null  float64\n",
      " 33  disability_score            445132 non-null  float64\n",
      " 34  trauma_exposure_score       445132 non-null  float64\n",
      " 35  gun_risk_score              445132 non-null  float64\n",
      "dtypes: float64(36)\n",
      "memory usage: 122.3 MB\n"
     ]
    }
   ],
   "source": [
    "df.info()"
   ]
  },
  {
   "cell_type": "code",
   "execution_count": 343,
   "id": "69813d3c",
   "metadata": {},
   "outputs": [],
   "source": [
    "duplicates = df.duplicated().sum()\n",
    "\n",
    "df = df.drop_duplicates()"
   ]
  },
  {
   "cell_type": "code",
   "execution_count": 344,
   "id": "db4f59b6",
   "metadata": {},
   "outputs": [],
   "source": [
    "# Columnas a eliminar por amplia presencia de nulos\n",
    "cols_to_drop = [\"CDSOCIAL\", \"CDDISCUS\", \"CRGVREL4\", \"CRGVLNG1\", \"CRGVHRS1\", \"MARIJAN1\"]\n",
    "df = df.drop(cols_to_drop, axis=1)"
   ]
  },
  {
   "cell_type": "code",
   "execution_count": 345,
   "id": "d514494f",
   "metadata": {},
   "outputs": [],
   "source": [
    "df = df.dropna()"
   ]
  },
  {
   "cell_type": "code",
   "execution_count": 346,
   "id": "681bf2bf",
   "metadata": {},
   "outputs": [
    {
     "name": "stdout",
     "output_type": "stream",
     "text": [
      "<class 'pandas.core.frame.DataFrame'>\n",
      "Index: 182940 entries, 1211 to 445131\n",
      "Data columns (total 30 columns):\n",
      " #   Column                      Non-Null Count   Dtype  \n",
      "---  ------                      --------------   -----  \n",
      " 0   MARITAL                     182940 non-null  float64\n",
      " 1   RENTHOM1                    182940 non-null  float64\n",
      " 2   VETERAN3                    182940 non-null  float64\n",
      " 3   EMPLOY1                     182940 non-null  float64\n",
      " 4   _AGEG5YR                    182940 non-null  float64\n",
      " 5   _INCOMG1                    182940 non-null  float64\n",
      " 6   _EDUCAG                     182940 non-null  float64\n",
      " 7   _CHLDCNT                    182940 non-null  float64\n",
      " 8   _EXTETH3                    182940 non-null  float64\n",
      " 9   HHADULT                     182940 non-null  float64\n",
      " 10  SEXVAR                      182940 non-null  float64\n",
      " 11  MEDCOST1                    182940 non-null  float64\n",
      " 12  _HLTHPLN                    182940 non-null  float64\n",
      " 13  _AIDTST4                    182940 non-null  float64\n",
      " 14  SLEPTIM1                    182940 non-null  float64\n",
      " 15  HIVRISK5                    182940 non-null  float64\n",
      " 16  _TOTINDA                    182940 non-null  float64\n",
      " 17  _RFBING6                    182940 non-null  float64\n",
      " 18  ADDEPEV3                    182940 non-null  float64\n",
      " 19  COVIDPOS                    182940 non-null  float64\n",
      " 20  _PHYS14D                    182940 non-null  float64\n",
      " 21  _MENT14D                    182940 non-null  float64\n",
      " 22  _BMI5CAT                    182940 non-null  float64\n",
      " 23  LSATISFY                    182940 non-null  float64\n",
      " 24  social_vulnerability_score  182940 non-null  float64\n",
      " 25  tobacco_use                 182940 non-null  float64\n",
      " 26  health_risk_score           182940 non-null  float64\n",
      " 27  disability_score            182940 non-null  float64\n",
      " 28  trauma_exposure_score       182940 non-null  float64\n",
      " 29  gun_risk_score              182940 non-null  float64\n",
      "dtypes: float64(30)\n",
      "memory usage: 43.3 MB\n"
     ]
    }
   ],
   "source": [
    "df.info()"
   ]
  },
  {
   "cell_type": "markdown",
   "id": "6d7cd9da",
   "metadata": {},
   "source": [
    "## Recodificacion de variables"
   ]
  },
  {
   "cell_type": "code",
   "execution_count": 347,
   "id": "d32e7521",
   "metadata": {},
   "outputs": [
    {
     "data": {
      "text/plain": [
       "estado_civil\n",
       "Casado        96888\n",
       "Soltero       47847\n",
       "Divorciado    24601\n",
       "Viudo         12483\n",
       "Name: count, dtype: int64"
      ]
     },
     "execution_count": 347,
     "metadata": {},
     "output_type": "execute_result"
    }
   ],
   "source": [
    "#MARITAL\n",
    "def clasificar_estado_civil(valor):\n",
    "    if valor == 1:\n",
    "        return \"Casado\"\n",
    "    elif valor == 2:\n",
    "        return \"Divorciado\"\n",
    "    elif valor == 3:\n",
    "        return \"Viudo\"\n",
    "    elif valor in [4, 5, 6]:\n",
    "        return \"Soltero\"\n",
    "    else:\n",
    "        return None  # Para 9 Refused o valores faltantes\n",
    "df['estado_civil'] = df['MARITAL'].apply(clasificar_estado_civil)\n",
    "df = df[df['estado_civil'].notna()]\n",
    "df = df.drop('MARITAL', axis=1)\n",
    "df[\"estado_civil\"].value_counts()"
   ]
  },
  {
   "cell_type": "code",
   "execution_count": 348,
   "id": "c342ad76",
   "metadata": {},
   "outputs": [
    {
     "data": {
      "text/plain": [
       "situacion_vivienda\n",
       "Propia       124346\n",
       "Alquilado     47017\n",
       "Otro          10456\n",
       "Name: count, dtype: int64"
      ]
     },
     "execution_count": 348,
     "metadata": {},
     "output_type": "execute_result"
    }
   ],
   "source": [
    "def clasificar_vivienda(valor):\n",
    "    if valor == 1:\n",
    "        return \"Propia\"\n",
    "    elif valor == 2:\n",
    "        return \"Alquilado\"\n",
    "    elif valor in [3, 7, 9]:\n",
    "        return \"Otro\"\n",
    "    else:\n",
    "        return None \n",
    "    \n",
    "df['situacion_vivienda'] = df['RENTHOM1'].apply(clasificar_vivienda)\n",
    "\n",
    "# Eliminar filas con valores faltantes\n",
    "df = df[df['situacion_vivienda'].notna()]\n",
    "df = df.drop('RENTHOM1', axis=1)\n",
    "df['situacion_vivienda'].value_counts()"
   ]
  },
  {
   "cell_type": "code",
   "execution_count": 349,
   "id": "b1aa198e",
   "metadata": {},
   "outputs": [
    {
     "name": "stdout",
     "output_type": "stream",
     "text": [
      "servicio_militar\n",
      "1.0    160296\n",
      "0.0     21268\n",
      "Name: count, dtype: int64\n"
     ]
    }
   ],
   "source": [
    "#VETEREN1\n",
    "def clasificar_servicio_militar(valor):\n",
    "    if valor == 1:\n",
    "        return 0 #\"Sí\"\n",
    "    elif valor == 2:\n",
    "        return 1 #\"No\"\n",
    "    else:\n",
    "        return None\n",
    "df['servicio_militar'] = df['VETERAN3'].apply(clasificar_servicio_militar)\n",
    "df = df[df['servicio_militar'].notna()]\n",
    "df = df.drop('VETERAN3', axis=1)\n",
    "print(df['servicio_militar'].value_counts())"
   ]
  },
  {
   "cell_type": "code",
   "execution_count": 350,
   "id": "6da8b3c4",
   "metadata": {},
   "outputs": [
    {
     "name": "stdout",
     "output_type": "stream",
     "text": [
      "situacion_laboral\n",
      "Empleado       88631\n",
      "Jubilado       43099\n",
      "Desempleado    31879\n",
      "Autónomo       17955\n",
      "Name: count, dtype: int64\n"
     ]
    }
   ],
   "source": [
    "#EMPLO1\n",
    "def clasificar_situacion_laboral(valor):\n",
    "    if valor == 1:\n",
    "        return \"Empleado\"\n",
    "    elif valor == 2:\n",
    "        return \"Autónomo\"\n",
    "    elif valor in [3, 4, 5, 6, 8, 9]:\n",
    "        return \"Desempleado\"\n",
    "    elif valor == 7:\n",
    "        return \"Jubilado\"\n",
    "    else:\n",
    "        return None\n",
    "df['situacion_laboral'] = df['EMPLOY1'].apply(clasificar_situacion_laboral)\n",
    "df = df[df['situacion_laboral'].notna()]\n",
    "df = df.drop('EMPLOY1', axis=1)\n",
    "print(df['situacion_laboral'].value_counts())"
   ]
  },
  {
   "cell_type": "code",
   "execution_count": 351,
   "id": "eaa22de3",
   "metadata": {},
   "outputs": [
    {
     "name": "stdout",
     "output_type": "stream",
     "text": [
      "edad\n",
      "36-65    94678\n",
      "66+      49805\n",
      "18-35    35382\n",
      "Name: count, dtype: int64\n"
     ]
    }
   ],
   "source": [
    "#EDAD\n",
    "def edad(valor):\n",
    "    if valor in [1, 2, 3]:  # 18-24, 25-29, 30-34\n",
    "        return \"18-35\"\n",
    "    elif valor in [4, 5, 6, 7, 8, 9]:  # 35-39, 40-44, 45-49, 50-54, 55-59, 60-64\n",
    "        return \"36-65\"\n",
    "    elif valor in [10, 11, 12, 13]:  # 65-69, 70-74, 75-79, 80+\n",
    "        return \"66+\"\n",
    "    else:\n",
    "        return None\n",
    "\n",
    "df['edad'] = df['_AGEG5YR'].apply(edad)\n",
    "df = df[df['edad'].notna()]\n",
    "df = df.drop('_AGEG5YR', axis=1)\n",
    "print(df['edad'].value_counts())"
   ]
  },
  {
   "cell_type": "code",
   "execution_count": 352,
   "id": "98fd7c76",
   "metadata": {},
   "outputs": [
    {
     "data": {
      "text/plain": [
       "educacion\n",
       "0       119414\n",
       "1        60121\n",
       "Otro       330\n",
       "Name: count, dtype: int64"
      ]
     },
     "execution_count": 352,
     "metadata": {},
     "output_type": "execute_result"
    }
   ],
   "source": [
    "#_EDUCAG\n",
    "def educacion(row):\n",
    "    if row in [2, 4]:\n",
    "        return 0 #'Se graduó'\n",
    "    elif row in [1, 3] or pd.isna(row):\n",
    "        return 1 #'No estudió / No concluyó'\n",
    "    else:\n",
    "        return 'Otro'\n",
    "df['educacion'] = df['_EDUCAG'].apply(educacion)\n",
    "df = df.drop('_EDUCAG', axis=1)\n",
    "df['educacion'].value_counts()"
   ]
  },
  {
   "cell_type": "code",
   "execution_count": 353,
   "id": "3331a050",
   "metadata": {},
   "outputs": [
    {
     "data": {
      "text/plain": [
       "child_home\n",
       " 0    125748\n",
       " 1     48839\n",
       " 2      4052\n",
       "-1      1226\n",
       "Name: count, dtype: int64"
      ]
     },
     "execution_count": 353,
     "metadata": {},
     "output_type": "execute_result"
    }
   ],
   "source": [
    "def niños_hogar(valor):\n",
    "    if valor == 1:\n",
    "        return 0  # Sin niños\n",
    "    elif valor in [2, 3, 4]:\n",
    "        return 1  # De 1-3 niños\n",
    "    elif valor in [5, 6]:\n",
    "        return 2  # +3 de niños\n",
    "    else:\n",
    "        return -1\n",
    "    \n",
    "df['child_home'] = df['_CHLDCNT'].apply(niños_hogar)\n",
    "df = df.drop('_CHLDCNT', axis=1)\n",
    "df['child_home'].value_counts()"
   ]
  },
  {
   "cell_type": "code",
   "execution_count": 354,
   "id": "b2788268",
   "metadata": {},
   "outputs": [
    {
     "data": {
      "text/plain": [
       "ingresos_anuales\n",
       " 1    66410\n",
       " 2    47069\n",
       " 0    30397\n",
       "-1    26700\n",
       "-2     9289\n",
       "Name: count, dtype: int64"
      ]
     },
     "execution_count": 354,
     "metadata": {},
     "output_type": "execute_result"
    }
   ],
   "source": [
    "#Incomg1\n",
    "\n",
    "def ingresos(valor):\n",
    "    if valor == 1:\n",
    "        return -2\n",
    "    elif valor in [2, 3]:    # 15mil - 35mil\n",
    "        return 0\n",
    "    elif valor in [4, 5]:    # 36mil - 100mil\n",
    "        return 1\n",
    "    elif valor in [6, 7]:    # 100mil o más\n",
    "        return 2\n",
    "    else:  # No sabe cuanto\n",
    "        return -1\n",
    "df['ingresos_anuales'] = df['_INCOMG1'].apply(ingresos)\n",
    "df = df.drop('_INCOMG1', axis=1)\n",
    "df['ingresos_anuales'].value_counts()"
   ]
  },
  {
   "cell_type": "code",
   "execution_count": 355,
   "id": "cc553212",
   "metadata": {},
   "outputs": [],
   "source": [
    "df = df.rename(columns={\"_RFBING6\": \"heavy_drinker\"})"
   ]
  },
  {
   "cell_type": "code",
   "execution_count": 356,
   "id": "4456402f",
   "metadata": {},
   "outputs": [
    {
     "name": "stdout",
     "output_type": "stream",
     "text": [
      "_TOTINDA\n",
      " 1.0    140213\n",
      " 0.0     39320\n",
      "-1.0       332\n",
      "Name: count, dtype: int64\n"
     ]
    }
   ],
   "source": [
    "# Question:  Adults who reported doing physical activity or exercise during the past 30 days other than their regular job\n",
    "# 9 (Don’t know/Refused/Missing) >> Cambiar a -1\n",
    "df.loc[df[\"_TOTINDA\"] == 9, \"_TOTINDA\"] = -1\n",
    "df.loc[df[\"_TOTINDA\"] == 2, \"_TOTINDA\"] = 0\n",
    "\n",
    "print(df[\"_TOTINDA\"].value_counts())\n",
    "df = df.rename(columns={\"_TOTINDA\": \"act_fisica\"})"
   ]
  },
  {
   "cell_type": "code",
   "execution_count": 357,
   "id": "883739c0",
   "metadata": {},
   "outputs": [
    {
     "name": "stdout",
     "output_type": "stream",
     "text": [
      "ADDEPEV3\n",
      "0.0    137722\n",
      "1.0     41165\n",
      "Name: count, dtype: int64\n"
     ]
    }
   ],
   "source": [
    "# Question:  (Ever told) (you had) a depressive disorder (including depression, major depression, dysthymia, or minor depression)\n",
    "# Eliminamos NAN y los valores 7 y 9 (Don’t know/Refused/Missing)\n",
    "df['ADDEPEV3'].dropna()\n",
    "df = df[~df[\"ADDEPEV3\"].isin([7, 9])]\n",
    "df.loc[df[\"ADDEPEV3\"] == 2, \"ADDEPEV3\"] = 0\n",
    "print(df[\"ADDEPEV3\"].value_counts())"
   ]
  },
  {
   "cell_type": "code",
   "execution_count": 358,
   "id": "daf7fb86",
   "metadata": {},
   "outputs": [
    {
     "name": "stdout",
     "output_type": "stream",
     "text": [
      "covid_pos\n",
      " 0.0    116065\n",
      " 1.0     62367\n",
      "-1.0       455\n",
      "Name: count, dtype: int64\n"
     ]
    }
   ],
   "source": [
    "# Question:  Has a doctor, nurse, or other health professional ever told you that you tested positive for COVID 19?\n",
    "# df['COVIDPOS'].value_counts(dropna=False)\n",
    "\n",
    "df.loc[df[\"COVIDPOS\"] == 3, \"COVIDPOS\"] = 1\n",
    "df.loc[df[\"COVIDPOS\"] == 2, \"COVIDPOS\"] = 0\n",
    "df.loc[(df[\"COVIDPOS\"] == 7) | (df[\"COVIDPOS\"] == 9), \"COVIDPOS\"] = -1\n",
    "df = df.rename(columns={\"COVIDPOS\": \"covid_pos\"})\n",
    "print(df[\"covid_pos\"].value_counts())"
   ]
  },
  {
   "cell_type": "code",
   "execution_count": 359,
   "id": "30b4000c",
   "metadata": {},
   "outputs": [
    {
     "data": {
      "text/plain": [
       "salud_fisica\n",
       " 0.0    106557\n",
       " 1.0     45991\n",
       " 2.0     22774\n",
       "-1.0      3565\n",
       "Name: count, dtype: int64"
      ]
     },
     "execution_count": 359,
     "metadata": {},
     "output_type": "execute_result"
    }
   ],
   "source": [
    "df.loc[df[\"_PHYS14D\"] == 1, \"_PHYS14D\"] = 0\n",
    "df.loc[df[\"_PHYS14D\"] == 2, \"_PHYS14D\"] = 1\n",
    "df.loc[df[\"_PHYS14D\"] == 3, \"_PHYS14D\"] = 2\n",
    "df.loc[df[\"_PHYS14D\"] == 9, \"_PHYS14D\"] = -1\n",
    "\n",
    "df = df.rename(columns={\"_PHYS14D\": \"salud_fisica\"})\n",
    "\n",
    "df[\"salud_fisica\"].value_counts()"
   ]
  },
  {
   "cell_type": "code",
   "execution_count": 360,
   "id": "0ccf9d5f",
   "metadata": {},
   "outputs": [
    {
     "data": {
      "text/plain": [
       "salud_mental\n",
       " 0.0    101585\n",
       " 1.0     48242\n",
       " 2.0     26097\n",
       "-1.0      2963\n",
       "Name: count, dtype: int64"
      ]
     },
     "execution_count": 360,
     "metadata": {},
     "output_type": "execute_result"
    }
   ],
   "source": [
    "df.loc[df[\"_MENT14D\"] == 1, \"_MENT14D\"] = 0\n",
    "df.loc[df[\"_MENT14D\"] == 2, \"_MENT14D\"] = 1\n",
    "df.loc[df[\"_MENT14D\"] == 3, \"_MENT14D\"] = 2\n",
    "df.loc[df[\"_MENT14D\"] == 9, \"_MENT14D\"] = -1\n",
    "\n",
    "df = df.rename(columns={\"_MENT14D\": \"salud_mental\"})\n",
    "\n",
    "df[\"salud_mental\"].value_counts()"
   ]
  },
  {
   "cell_type": "code",
   "execution_count": 361,
   "id": "80fb68a9",
   "metadata": {},
   "outputs": [
    {
     "data": {
      "text/plain": [
       "index_peso\n",
       "2.0    63280\n",
       "3.0    62145\n",
       "1.0    50656\n",
       "0.0     2806\n",
       "Name: count, dtype: int64"
      ]
     },
     "execution_count": 361,
     "metadata": {},
     "output_type": "execute_result"
    }
   ],
   "source": [
    "df.loc[df[\"_BMI5CAT\"] == 1, \"_BMI5CAT\"] = 0\n",
    "df.loc[df[\"_BMI5CAT\"] == 2, \"_BMI5CAT\"] = 1\n",
    "df.loc[df[\"_BMI5CAT\"] == 3, \"_BMI5CAT\"] = 2\n",
    "df.loc[df[\"_BMI5CAT\"] == 4, \"_BMI5CAT\"] = 3\n",
    "\n",
    "df = df.rename(columns={\"_BMI5CAT\": \"index_peso\"})\n",
    "df[\"index_peso\"].value_counts()"
   ]
  },
  {
   "cell_type": "code",
   "execution_count": 362,
   "id": "0ac6ce26",
   "metadata": {},
   "outputs": [
    {
     "data": {
      "text/plain": [
       "life_satisfaction\n",
       " 0.0    167103\n",
       " 1.0     10178\n",
       "-1.0      1606\n",
       "Name: count, dtype: int64"
      ]
     },
     "execution_count": 362,
     "metadata": {},
     "output_type": "execute_result"
    }
   ],
   "source": [
    "df.loc[(df[\"LSATISFY\"] == 1) | (df[\"LSATISFY\"] == 2), \"LSATISFY\"] = 0\n",
    "df.loc[(df[\"LSATISFY\"] == 3) | (df[\"LSATISFY\"] == 4), \"LSATISFY\"] = 1\n",
    "df.loc[(df[\"LSATISFY\"] == 7) | (df[\"LSATISFY\"] == 9), \"LSATISFY\"] = -1\n",
    "\n",
    "df = df.rename(columns={\"LSATISFY\": \"life_satisfaction\"})\n",
    "df[\"life_satisfaction\"].value_counts()"
   ]
  },
  {
   "cell_type": "code",
   "execution_count": 363,
   "id": "d8ba7794",
   "metadata": {},
   "outputs": [],
   "source": [
    "df = df.drop([\"_EXTETH3\", \"HHADULT\"], axis=1)"
   ]
  },
  {
   "cell_type": "code",
   "execution_count": 364,
   "id": "56fa7178",
   "metadata": {},
   "outputs": [
    {
     "data": {
      "text/plain": [
       "gender\n",
       "1.0    91494\n",
       "2.0    87393\n",
       "Name: count, dtype: int64"
      ]
     },
     "execution_count": 364,
     "metadata": {},
     "output_type": "execute_result"
    }
   ],
   "source": [
    "df = df.rename(columns={\"SEXVAR\": \"gender\"})\n",
    "df[\"gender\"].value_counts() # 1: Male, 2: Female"
   ]
  },
  {
   "cell_type": "code",
   "execution_count": 365,
   "id": "96634c57",
   "metadata": {},
   "outputs": [
    {
     "data": {
      "text/plain": [
       "missed_care_cost\n",
       " 0.0    161618\n",
       " 1.0     16775\n",
       "-1.0       494\n",
       "Name: count, dtype: int64"
      ]
     },
     "execution_count": 365,
     "metadata": {},
     "output_type": "execute_result"
    }
   ],
   "source": [
    "# 1: Yes, 2: No >> Cambiar a 1: Yes, 0: No\n",
    "df.loc[df[\"MEDCOST1\"] > 2, \"MEDCOST1\"] = -1\n",
    "df.loc[df[\"MEDCOST1\"] == 2, \"MEDCOST1\"] = 0\n",
    "df = df.rename(columns={\"MEDCOST1\": \"missed_care_cost\"})\n",
    "df.missed_care_cost.value_counts()"
   ]
  },
  {
   "cell_type": "code",
   "execution_count": 366,
   "id": "7e6696d1",
   "metadata": {},
   "outputs": [
    {
     "data": {
      "text/plain": [
       "insurance\n",
       " 0.0    163050\n",
       " 1.0     10470\n",
       "-1.0      5367\n",
       "Name: count, dtype: int64"
      ]
     },
     "execution_count": 366,
     "metadata": {},
     "output_type": "execute_result"
    }
   ],
   "source": [
    "# 1: Yes, 2: No >> Cambiar a 0: Yes, 1: No\n",
    "df.loc[df[\"_HLTHPLN\"] > 2, \"_HLTHPLN\"] = -1\n",
    "df.loc[df[\"_HLTHPLN\"] == 1, \"_HLTHPLN\"] = 0\n",
    "df.loc[df[\"_HLTHPLN\"] == 2, \"_HLTHPLN\"] = 1\n",
    "\n",
    "df = df.rename(columns={\"_HLTHPLN\": \"insurance\"})\n",
    "df.insurance.value_counts()"
   ]
  },
  {
   "cell_type": "code",
   "execution_count": 367,
   "id": "0bf4cf52",
   "metadata": {},
   "outputs": [
    {
     "data": {
      "text/plain": [
       "test_hiv\n",
       " 0.0    106084\n",
       " 1.0     64458\n",
       "-1.0      8345\n",
       "Name: count, dtype: int64"
      ]
     },
     "execution_count": 367,
     "metadata": {},
     "output_type": "execute_result"
    }
   ],
   "source": [
    "# 1: Yes, 2: No >> Cambiar a 1: Yes, 0: No\n",
    "df.loc[df[\"_AIDTST4\"] > 2, \"_AIDTST4\"] = -1\n",
    "df.loc[df[\"_AIDTST4\"] == 2, \"_AIDTST4\"] = 0\n",
    "df = df.rename(columns={\"_AIDTST4\": \"test_hiv\"})\n",
    "df.test_hiv.value_counts()"
   ]
  },
  {
   "cell_type": "code",
   "execution_count": 368,
   "id": "cc5b1001",
   "metadata": {},
   "outputs": [
    {
     "data": {
      "text/plain": [
       "drugs_prostit\n",
       " 0.0    168856\n",
       " 1.0      9294\n",
       "-1.0       737\n",
       "Name: count, dtype: int64"
      ]
     },
     "execution_count": 368,
     "metadata": {},
     "output_type": "execute_result"
    }
   ],
   "source": [
    "# 1: Yes, 2: No >> Cambiar a 1: Yes, 0: No\n",
    "df.loc[df[\"HIVRISK5\"] > 2, \"HIVRISK5\"] = -1\n",
    "df.loc[df[\"HIVRISK5\"] == 2, \"HIVRISK5\"] = 0\n",
    "df = df.rename(columns={\"HIVRISK5\": \"drugs_prostit\"})\n",
    "df.drugs_prostit.value_counts()"
   ]
  },
  {
   "cell_type": "code",
   "execution_count": 369,
   "id": "a3e564d0",
   "metadata": {},
   "outputs": [
    {
     "data": {
      "text/plain": [
       "sleep_time\n",
       " 0.0    152160\n",
       " 2.0     19666\n",
       " 1.0      5546\n",
       "-1.0      1515\n",
       "Name: count, dtype: int64"
      ]
     },
     "execution_count": 369,
     "metadata": {},
     "output_type": "execute_result"
    }
   ],
   "source": [
    "df.loc[df[\"SLEPTIM1\"] > 24, \"SLEPTIM1\"] = -1\n",
    "df.loc[(df[\"SLEPTIM1\"] > 0) & (df[\"SLEPTIM1\"] <= 5), \"SLEPTIM1\"] = 2\n",
    "df.loc[(df[\"SLEPTIM1\"] > 5) & (df[\"SLEPTIM1\"] <= 9), \"SLEPTIM1\"] = 0\n",
    "df.loc[(df[\"SLEPTIM1\"] > 9) & (df[\"SLEPTIM1\"] <= 24), \"SLEPTIM1\"] = 1\n",
    "df = df.rename(columns={\"SLEPTIM1\": \"sleep_time\"})\n",
    "df.sleep_time.value_counts()"
   ]
  },
  {
   "cell_type": "code",
   "execution_count": 370,
   "id": "53a168b0",
   "metadata": {},
   "outputs": [
    {
     "data": {
      "text/plain": [
       "Index(['gender', 'missed_care_cost', 'insurance', 'test_hiv', 'sleep_time',\n",
       "       'drugs_prostit', 'act_fisica', 'heavy_drinker', 'ADDEPEV3', 'covid_pos',\n",
       "       'salud_fisica', 'salud_mental', 'index_peso', 'life_satisfaction',\n",
       "       'social_vulnerability_score', 'tobacco_use', 'health_risk_score',\n",
       "       'disability_score', 'trauma_exposure_score', 'gun_risk_score',\n",
       "       'estado_civil', 'situacion_vivienda', 'servicio_militar',\n",
       "       'situacion_laboral', 'edad', 'educacion', 'child_home',\n",
       "       'ingresos_anuales'],\n",
       "      dtype='object')"
      ]
     },
     "execution_count": 370,
     "metadata": {},
     "output_type": "execute_result"
    }
   ],
   "source": [
    "df.columns"
   ]
  },
  {
   "cell_type": "code",
   "execution_count": 371,
   "id": "9ab7f6a8",
   "metadata": {},
   "outputs": [],
   "source": [
    "df.to_csv(\"../data/processed/data_ready.csv\", index=False)"
   ]
  }
 ],
 "metadata": {
  "kernelspec": {
   "display_name": ".venv",
   "language": "python",
   "name": "python3"
  },
  "language_info": {
   "codemirror_mode": {
    "name": "ipython",
    "version": 3
   },
   "file_extension": ".py",
   "mimetype": "text/x-python",
   "name": "python",
   "nbconvert_exporter": "python",
   "pygments_lexer": "ipython3",
   "version": "3.11.4"
  }
 },
 "nbformat": 4,
 "nbformat_minor": 5
}
