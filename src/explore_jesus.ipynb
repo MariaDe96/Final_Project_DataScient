{
    "cells": [
        {
            "cell_type": "markdown",
            "metadata": {},
            "source": [
                "# Explorer Jesus\n",
                "# Tratamiento de nulos y combinación de atributos que representan lo mismo."
            ]
        },
        {
            "cell_type": "code",
            "execution_count": 1,
            "metadata": {},
            "outputs": [],
            "source": [
                "# Your code here\n",
                "import pandas as pd\n",
                "import numpy as np\n",
                "import matplotlib.pyplot as plt\n",
                "import seaborn as sns"
            ]
        },
        {
            "cell_type": "code",
            "execution_count": 2,
            "metadata": {},
            "outputs": [
                {
                    "data": {
                        "text/html": [
                            "<div>\n",
                            "<style scoped>\n",
                            "    .dataframe tbody tr th:only-of-type {\n",
                            "        vertical-align: middle;\n",
                            "    }\n",
                            "\n",
                            "    .dataframe tbody tr th {\n",
                            "        vertical-align: top;\n",
                            "    }\n",
                            "\n",
                            "    .dataframe thead th {\n",
                            "        text-align: right;\n",
                            "    }\n",
                            "</style>\n",
                            "<table border=\"1\" class=\"dataframe\">\n",
                            "  <thead>\n",
                            "    <tr style=\"text-align: right;\">\n",
                            "      <th></th>\n",
                            "      <th>MARITAL</th>\n",
                            "      <th>RENTHOM1</th>\n",
                            "      <th>VETERAN3</th>\n",
                            "      <th>EMPLOY1</th>\n",
                            "      <th>_AGEG5YR</th>\n",
                            "      <th>_INCOMG1</th>\n",
                            "      <th>_EDUCAG</th>\n",
                            "      <th>_CHLDCNT</th>\n",
                            "      <th>_EXTETH3</th>\n",
                            "      <th>HHADULT</th>\n",
                            "      <th>...</th>\n",
                            "      <th>ACEPRISN</th>\n",
                            "      <th>ACEDIVRC</th>\n",
                            "      <th>ACEHURT1</th>\n",
                            "      <th>ACESWEAR</th>\n",
                            "      <th>ACETOUCH</th>\n",
                            "      <th>ACETTHEM</th>\n",
                            "      <th>ACEHVSEX</th>\n",
                            "      <th>FIREARM5</th>\n",
                            "      <th>GUNLOAD</th>\n",
                            "      <th>LOADULK2</th>\n",
                            "    </tr>\n",
                            "  </thead>\n",
                            "  <tbody>\n",
                            "    <tr>\n",
                            "      <th>0</th>\n",
                            "      <td>1.0</td>\n",
                            "      <td>1.0</td>\n",
                            "      <td>2.0</td>\n",
                            "      <td>7.0</td>\n",
                            "      <td>13.0</td>\n",
                            "      <td>9.0</td>\n",
                            "      <td>4.0</td>\n",
                            "      <td>1.0</td>\n",
                            "      <td>9.0</td>\n",
                            "      <td>NaN</td>\n",
                            "      <td>...</td>\n",
                            "      <td>NaN</td>\n",
                            "      <td>NaN</td>\n",
                            "      <td>NaN</td>\n",
                            "      <td>NaN</td>\n",
                            "      <td>NaN</td>\n",
                            "      <td>NaN</td>\n",
                            "      <td>NaN</td>\n",
                            "      <td>NaN</td>\n",
                            "      <td>NaN</td>\n",
                            "      <td>NaN</td>\n",
                            "    </tr>\n",
                            "    <tr>\n",
                            "      <th>1</th>\n",
                            "      <td>3.0</td>\n",
                            "      <td>1.0</td>\n",
                            "      <td>2.0</td>\n",
                            "      <td>2.0</td>\n",
                            "      <td>13.0</td>\n",
                            "      <td>3.0</td>\n",
                            "      <td>2.0</td>\n",
                            "      <td>1.0</td>\n",
                            "      <td>9.0</td>\n",
                            "      <td>NaN</td>\n",
                            "      <td>...</td>\n",
                            "      <td>NaN</td>\n",
                            "      <td>NaN</td>\n",
                            "      <td>NaN</td>\n",
                            "      <td>NaN</td>\n",
                            "      <td>NaN</td>\n",
                            "      <td>NaN</td>\n",
                            "      <td>NaN</td>\n",
                            "      <td>NaN</td>\n",
                            "      <td>NaN</td>\n",
                            "      <td>NaN</td>\n",
                            "    </tr>\n",
                            "    <tr>\n",
                            "      <th>2</th>\n",
                            "      <td>1.0</td>\n",
                            "      <td>1.0</td>\n",
                            "      <td>2.0</td>\n",
                            "      <td>7.0</td>\n",
                            "      <td>8.0</td>\n",
                            "      <td>6.0</td>\n",
                            "      <td>4.0</td>\n",
                            "      <td>1.0</td>\n",
                            "      <td>9.0</td>\n",
                            "      <td>NaN</td>\n",
                            "      <td>...</td>\n",
                            "      <td>NaN</td>\n",
                            "      <td>NaN</td>\n",
                            "      <td>NaN</td>\n",
                            "      <td>NaN</td>\n",
                            "      <td>NaN</td>\n",
                            "      <td>NaN</td>\n",
                            "      <td>NaN</td>\n",
                            "      <td>NaN</td>\n",
                            "      <td>NaN</td>\n",
                            "      <td>NaN</td>\n",
                            "    </tr>\n",
                            "    <tr>\n",
                            "      <th>3</th>\n",
                            "      <td>1.0</td>\n",
                            "      <td>1.0</td>\n",
                            "      <td>2.0</td>\n",
                            "      <td>7.0</td>\n",
                            "      <td>14.0</td>\n",
                            "      <td>9.0</td>\n",
                            "      <td>2.0</td>\n",
                            "      <td>1.0</td>\n",
                            "      <td>9.0</td>\n",
                            "      <td>NaN</td>\n",
                            "      <td>...</td>\n",
                            "      <td>NaN</td>\n",
                            "      <td>NaN</td>\n",
                            "      <td>NaN</td>\n",
                            "      <td>NaN</td>\n",
                            "      <td>NaN</td>\n",
                            "      <td>NaN</td>\n",
                            "      <td>NaN</td>\n",
                            "      <td>NaN</td>\n",
                            "      <td>NaN</td>\n",
                            "      <td>NaN</td>\n",
                            "    </tr>\n",
                            "    <tr>\n",
                            "      <th>4</th>\n",
                            "      <td>1.0</td>\n",
                            "      <td>1.0</td>\n",
                            "      <td>2.0</td>\n",
                            "      <td>5.0</td>\n",
                            "      <td>5.0</td>\n",
                            "      <td>3.0</td>\n",
                            "      <td>3.0</td>\n",
                            "      <td>1.0</td>\n",
                            "      <td>9.0</td>\n",
                            "      <td>NaN</td>\n",
                            "      <td>...</td>\n",
                            "      <td>NaN</td>\n",
                            "      <td>NaN</td>\n",
                            "      <td>NaN</td>\n",
                            "      <td>NaN</td>\n",
                            "      <td>NaN</td>\n",
                            "      <td>NaN</td>\n",
                            "      <td>NaN</td>\n",
                            "      <td>NaN</td>\n",
                            "      <td>NaN</td>\n",
                            "      <td>NaN</td>\n",
                            "    </tr>\n",
                            "    <tr>\n",
                            "      <th>...</th>\n",
                            "      <td>...</td>\n",
                            "      <td>...</td>\n",
                            "      <td>...</td>\n",
                            "      <td>...</td>\n",
                            "      <td>...</td>\n",
                            "      <td>...</td>\n",
                            "      <td>...</td>\n",
                            "      <td>...</td>\n",
                            "      <td>...</td>\n",
                            "      <td>...</td>\n",
                            "      <td>...</td>\n",
                            "      <td>...</td>\n",
                            "      <td>...</td>\n",
                            "      <td>...</td>\n",
                            "      <td>...</td>\n",
                            "      <td>...</td>\n",
                            "      <td>...</td>\n",
                            "      <td>...</td>\n",
                            "      <td>...</td>\n",
                            "      <td>...</td>\n",
                            "      <td>...</td>\n",
                            "    </tr>\n",
                            "    <tr>\n",
                            "      <th>445127</th>\n",
                            "      <td>5.0</td>\n",
                            "      <td>2.0</td>\n",
                            "      <td>2.0</td>\n",
                            "      <td>1.0</td>\n",
                            "      <td>1.0</td>\n",
                            "      <td>1.0</td>\n",
                            "      <td>2.0</td>\n",
                            "      <td>2.0</td>\n",
                            "      <td>1.0</td>\n",
                            "      <td>5.0</td>\n",
                            "      <td>...</td>\n",
                            "      <td>NaN</td>\n",
                            "      <td>NaN</td>\n",
                            "      <td>NaN</td>\n",
                            "      <td>NaN</td>\n",
                            "      <td>NaN</td>\n",
                            "      <td>NaN</td>\n",
                            "      <td>NaN</td>\n",
                            "      <td>NaN</td>\n",
                            "      <td>NaN</td>\n",
                            "      <td>NaN</td>\n",
                            "    </tr>\n",
                            "    <tr>\n",
                            "      <th>445128</th>\n",
                            "      <td>1.0</td>\n",
                            "      <td>1.0</td>\n",
                            "      <td>1.0</td>\n",
                            "      <td>1.0</td>\n",
                            "      <td>7.0</td>\n",
                            "      <td>5.0</td>\n",
                            "      <td>4.0</td>\n",
                            "      <td>2.0</td>\n",
                            "      <td>1.0</td>\n",
                            "      <td>2.0</td>\n",
                            "      <td>...</td>\n",
                            "      <td>NaN</td>\n",
                            "      <td>NaN</td>\n",
                            "      <td>NaN</td>\n",
                            "      <td>NaN</td>\n",
                            "      <td>NaN</td>\n",
                            "      <td>NaN</td>\n",
                            "      <td>NaN</td>\n",
                            "      <td>NaN</td>\n",
                            "      <td>NaN</td>\n",
                            "      <td>NaN</td>\n",
                            "    </tr>\n",
                            "    <tr>\n",
                            "      <th>445129</th>\n",
                            "      <td>1.0</td>\n",
                            "      <td>3.0</td>\n",
                            "      <td>2.0</td>\n",
                            "      <td>8.0</td>\n",
                            "      <td>10.0</td>\n",
                            "      <td>9.0</td>\n",
                            "      <td>2.0</td>\n",
                            "      <td>1.0</td>\n",
                            "      <td>2.0</td>\n",
                            "      <td>1.0</td>\n",
                            "      <td>...</td>\n",
                            "      <td>NaN</td>\n",
                            "      <td>NaN</td>\n",
                            "      <td>NaN</td>\n",
                            "      <td>NaN</td>\n",
                            "      <td>NaN</td>\n",
                            "      <td>NaN</td>\n",
                            "      <td>NaN</td>\n",
                            "      <td>NaN</td>\n",
                            "      <td>NaN</td>\n",
                            "      <td>NaN</td>\n",
                            "    </tr>\n",
                            "    <tr>\n",
                            "      <th>445130</th>\n",
                            "      <td>1.0</td>\n",
                            "      <td>2.0</td>\n",
                            "      <td>2.0</td>\n",
                            "      <td>7.0</td>\n",
                            "      <td>11.0</td>\n",
                            "      <td>5.0</td>\n",
                            "      <td>3.0</td>\n",
                            "      <td>1.0</td>\n",
                            "      <td>1.0</td>\n",
                            "      <td>2.0</td>\n",
                            "      <td>...</td>\n",
                            "      <td>NaN</td>\n",
                            "      <td>NaN</td>\n",
                            "      <td>NaN</td>\n",
                            "      <td>NaN</td>\n",
                            "      <td>NaN</td>\n",
                            "      <td>NaN</td>\n",
                            "      <td>NaN</td>\n",
                            "      <td>NaN</td>\n",
                            "      <td>NaN</td>\n",
                            "      <td>NaN</td>\n",
                            "    </tr>\n",
                            "    <tr>\n",
                            "      <th>445131</th>\n",
                            "      <td>3.0</td>\n",
                            "      <td>1.0</td>\n",
                            "      <td>2.0</td>\n",
                            "      <td>1.0</td>\n",
                            "      <td>5.0</td>\n",
                            "      <td>2.0</td>\n",
                            "      <td>1.0</td>\n",
                            "      <td>1.0</td>\n",
                            "      <td>1.0</td>\n",
                            "      <td>1.0</td>\n",
                            "      <td>...</td>\n",
                            "      <td>NaN</td>\n",
                            "      <td>NaN</td>\n",
                            "      <td>NaN</td>\n",
                            "      <td>NaN</td>\n",
                            "      <td>NaN</td>\n",
                            "      <td>NaN</td>\n",
                            "      <td>NaN</td>\n",
                            "      <td>NaN</td>\n",
                            "      <td>NaN</td>\n",
                            "      <td>NaN</td>\n",
                            "    </tr>\n",
                            "  </tbody>\n",
                            "</table>\n",
                            "<p>445132 rows × 82 columns</p>\n",
                            "</div>"
                        ],
                        "text/plain": [
                            "        MARITAL  RENTHOM1  VETERAN3  EMPLOY1  _AGEG5YR  _INCOMG1  _EDUCAG  \\\n",
                            "0           1.0       1.0       2.0      7.0      13.0       9.0      4.0   \n",
                            "1           3.0       1.0       2.0      2.0      13.0       3.0      2.0   \n",
                            "2           1.0       1.0       2.0      7.0       8.0       6.0      4.0   \n",
                            "3           1.0       1.0       2.0      7.0      14.0       9.0      2.0   \n",
                            "4           1.0       1.0       2.0      5.0       5.0       3.0      3.0   \n",
                            "...         ...       ...       ...      ...       ...       ...      ...   \n",
                            "445127      5.0       2.0       2.0      1.0       1.0       1.0      2.0   \n",
                            "445128      1.0       1.0       1.0      1.0       7.0       5.0      4.0   \n",
                            "445129      1.0       3.0       2.0      8.0      10.0       9.0      2.0   \n",
                            "445130      1.0       2.0       2.0      7.0      11.0       5.0      3.0   \n",
                            "445131      3.0       1.0       2.0      1.0       5.0       2.0      1.0   \n",
                            "\n",
                            "        _CHLDCNT  _EXTETH3  HHADULT  ...  ACEPRISN  ACEDIVRC  ACEHURT1  \\\n",
                            "0            1.0       9.0      NaN  ...       NaN       NaN       NaN   \n",
                            "1            1.0       9.0      NaN  ...       NaN       NaN       NaN   \n",
                            "2            1.0       9.0      NaN  ...       NaN       NaN       NaN   \n",
                            "3            1.0       9.0      NaN  ...       NaN       NaN       NaN   \n",
                            "4            1.0       9.0      NaN  ...       NaN       NaN       NaN   \n",
                            "...          ...       ...      ...  ...       ...       ...       ...   \n",
                            "445127       2.0       1.0      5.0  ...       NaN       NaN       NaN   \n",
                            "445128       2.0       1.0      2.0  ...       NaN       NaN       NaN   \n",
                            "445129       1.0       2.0      1.0  ...       NaN       NaN       NaN   \n",
                            "445130       1.0       1.0      2.0  ...       NaN       NaN       NaN   \n",
                            "445131       1.0       1.0      1.0  ...       NaN       NaN       NaN   \n",
                            "\n",
                            "        ACESWEAR  ACETOUCH  ACETTHEM  ACEHVSEX  FIREARM5  GUNLOAD  LOADULK2  \n",
                            "0            NaN       NaN       NaN       NaN       NaN      NaN       NaN  \n",
                            "1            NaN       NaN       NaN       NaN       NaN      NaN       NaN  \n",
                            "2            NaN       NaN       NaN       NaN       NaN      NaN       NaN  \n",
                            "3            NaN       NaN       NaN       NaN       NaN      NaN       NaN  \n",
                            "4            NaN       NaN       NaN       NaN       NaN      NaN       NaN  \n",
                            "...          ...       ...       ...       ...       ...      ...       ...  \n",
                            "445127       NaN       NaN       NaN       NaN       NaN      NaN       NaN  \n",
                            "445128       NaN       NaN       NaN       NaN       NaN      NaN       NaN  \n",
                            "445129       NaN       NaN       NaN       NaN       NaN      NaN       NaN  \n",
                            "445130       NaN       NaN       NaN       NaN       NaN      NaN       NaN  \n",
                            "445131       NaN       NaN       NaN       NaN       NaN      NaN       NaN  \n",
                            "\n",
                            "[445132 rows x 82 columns]"
                        ]
                    },
                    "execution_count": 2,
                    "metadata": {},
                    "output_type": "execute_result"
                }
            ],
            "source": [
                "data = pd.read_csv('/workspaces/Final_Project_DataScient/data/interim/data_limpia.zip')\n",
                "df = data.copy()\n",
                "df"
            ]
        },
        {
            "cell_type": "markdown",
            "metadata": {},
            "source": [
                "## Tratamiento de nulos\n",
                "Las columnas que tengan más de un 60% de nulos y poca correlación con nuestra variable objetivo, intentaremos fusionar con otra si representa lo mismo o se eliminará."
            ]
        },
        {
            "cell_type": "markdown",
            "metadata": {},
            "source": [
                "### Definición de la variable objetivo\n",
                "\n",
                "Definiremos ADDEPEV3 como nuestra variable objetivo. Esta variable indica si la persona encuestada ha sido diagnosticada alguna vez con depresión."
            ]
        },
        {
            "cell_type": "code",
            "execution_count": null,
            "metadata": {},
            "outputs": [
                {
                    "data": {
                        "text/plain": [
                            "ADDEPEV3\n",
                            "2.0    350910\n",
                            "1.0     91410\n",
                            "7.0      2140\n",
                            "9.0       665\n",
                            "Name: count, dtype: int64"
                        ]
                    },
                    "execution_count": 7,
                    "metadata": {},
                    "output_type": "execute_result"
                }
            ],
            "source": [
                "# Observamos los valores que contiene.\n",
                "df['ADDEPEV3'].value_counts()"
            ]
        },
        {
            "cell_type": "code",
            "execution_count": 8,
            "metadata": {},
            "outputs": [
                {
                    "name": "stdout",
                    "output_type": "stream",
                    "text": [
                        "ADDEPEV3\n",
                        "0.0    350910\n",
                        "1.0     91410\n",
                        "Name: count, dtype: int64\n",
                        "(442327, 82)\n"
                    ]
                },
                {
                    "name": "stderr",
                    "output_type": "stream",
                    "text": [
                        "/tmp/ipykernel_827/1533398761.py:7: SettingWithCopyWarning: \n",
                        "A value is trying to be set on a copy of a slice from a DataFrame\n",
                        "\n",
                        "See the caveats in the documentation: https://pandas.pydata.org/pandas-docs/stable/user_guide/indexing.html#returning-a-view-versus-a-copy\n",
                        "  df.loc[df[\"ADDEPEV3\"] == 2, \"ADDEPEV3\"] = 0\n"
                    ]
                }
            ],
            "source": [
                "# Lo llevamos a una variable binaria.\n",
                "# Eliminamos NAN y los valores 7 y 9 (Don’t know/Refused/Missing)\n",
                "# Pasamos 2 (no) a 0\n",
                "\n",
                "df['ADDEPEV3'].dropna()\n",
                "df = df[~df[\"ADDEPEV3\"].isin([9,7])]\n",
                "df.loc[df[\"ADDEPEV3\"] == 2, \"ADDEPEV3\"] = 0\n",
                "\n",
                "\n",
                "print(df[\"ADDEPEV3\"].value_counts())\n",
                "print(df.shape)"
            ]
        },
        {
            "cell_type": "markdown",
            "metadata": {},
            "source": [
                "### Matriz de Correlación"
            ]
        },
        {
            "cell_type": "code",
            "execution_count": 9,
            "metadata": {},
            "outputs": [
                {
                    "data": {
                        "image/png": "[encoded data removed]",
                        "text/plain": [
                            "<Figure size 500x1500 with 2 Axes>"
                        ]
                    },
                    "metadata": {},
                    "output_type": "display_data"
                }
            ],
            "source": [
                "# Calculamos la matriz de correlación\n",
                "cor_matrix = df.corr()\n",
                "\n",
                "# Extraemos correlación con ADDEPEV3\n",
                "cor_target = cor_matrix[[\"ADDEPEV3\"]].sort_values(by=\"ADDEPEV3\", ascending=False)\n",
                "\n",
                "# Hacemos el heatmap\n",
                "plt.figure(figsize=(5, 15))\n",
                "sns.heatmap(cor_target, annot=True, cmap='coolwarm', fmt=\".2f\", vmin=-1, vmax=1)\n",
                "plt.title(\"Correlación con ADDEPEV3\")\n",
                "plt.show()"
            ]
        },
        {
            "cell_type": "markdown",
            "metadata": {},
            "source": [
                "## Agrupación de atributos por temática\n",
                "Agruparemos los atributos según su temática con el objetivo de identificar cuáles pueden ser descartados o combinados entre sí."
            ]
        },
        {
            "cell_type": "code",
            "execution_count": null,
            "metadata": {},
            "outputs": [
                {
                    "data": {
                        "text/html": [
                            "<div>\n",
                            "<style scoped>\n",
                            "    .dataframe tbody tr th:only-of-type {\n",
                            "        vertical-align: middle;\n",
                            "    }\n",
                            "\n",
                            "    .dataframe tbody tr th {\n",
                            "        vertical-align: top;\n",
                            "    }\n",
                            "\n",
                            "    .dataframe thead th {\n",
                            "        text-align: right;\n",
                            "    }\n",
                            "</style>\n",
                            "<table border=\"1\" class=\"dataframe\">\n",
                            "  <thead>\n",
                            "    <tr style=\"text-align: right;\">\n",
                            "      <th></th>\n",
                            "      <th>_RFHLTH</th>\n",
                            "      <th>_PHYS14D</th>\n",
                            "      <th>CVDINFR4</th>\n",
                            "      <th>CVDSTRK3</th>\n",
                            "      <th>DIABETE4</th>\n",
                            "      <th>_MICHD</th>\n",
                            "      <th>_ASTHMS1</th>\n",
                            "      <th>_DRDXAR2</th>\n",
                            "      <th>COVIDPOS</th>\n",
                            "      <th>_BMI5CAT</th>\n",
                            "      <th>SLEPTIM1</th>\n",
                            "    </tr>\n",
                            "  </thead>\n",
                            "  <tbody>\n",
                            "    <tr>\n",
                            "      <th>0</th>\n",
                            "      <td>1.0</td>\n",
                            "      <td>1.0</td>\n",
                            "      <td>2.0</td>\n",
                            "      <td>2.0</td>\n",
                            "      <td>1.0</td>\n",
                            "      <td>2.0</td>\n",
                            "      <td>3.0</td>\n",
                            "      <td>2.0</td>\n",
                            "      <td>2.0</td>\n",
                            "      <td>NaN</td>\n",
                            "      <td>8.0</td>\n",
                            "    </tr>\n",
                            "    <tr>\n",
                            "      <th>1</th>\n",
                            "      <td>1.0</td>\n",
                            "      <td>1.0</td>\n",
                            "      <td>2.0</td>\n",
                            "      <td>2.0</td>\n",
                            "      <td>3.0</td>\n",
                            "      <td>2.0</td>\n",
                            "      <td>3.0</td>\n",
                            "      <td>2.0</td>\n",
                            "      <td>2.0</td>\n",
                            "      <td>3.0</td>\n",
                            "      <td>6.0</td>\n",
                            "    </tr>\n",
                            "    <tr>\n",
                            "      <th>2</th>\n",
                            "      <td>1.0</td>\n",
                            "      <td>2.0</td>\n",
                            "      <td>2.0</td>\n",
                            "      <td>2.0</td>\n",
                            "      <td>3.0</td>\n",
                            "      <td>2.0</td>\n",
                            "      <td>3.0</td>\n",
                            "      <td>2.0</td>\n",
                            "      <td>1.0</td>\n",
                            "      <td>3.0</td>\n",
                            "      <td>5.0</td>\n",
                            "    </tr>\n",
                            "    <tr>\n",
                            "      <th>3</th>\n",
                            "      <td>1.0</td>\n",
                            "      <td>1.0</td>\n",
                            "      <td>2.0</td>\n",
                            "      <td>2.0</td>\n",
                            "      <td>3.0</td>\n",
                            "      <td>2.0</td>\n",
                            "      <td>1.0</td>\n",
                            "      <td>1.0</td>\n",
                            "      <td>2.0</td>\n",
                            "      <td>2.0</td>\n",
                            "      <td>7.0</td>\n",
                            "    </tr>\n",
                            "    <tr>\n",
                            "      <th>4</th>\n",
                            "      <td>2.0</td>\n",
                            "      <td>2.0</td>\n",
                            "      <td>2.0</td>\n",
                            "      <td>2.0</td>\n",
                            "      <td>3.0</td>\n",
                            "      <td>2.0</td>\n",
                            "      <td>3.0</td>\n",
                            "      <td>2.0</td>\n",
                            "      <td>2.0</td>\n",
                            "      <td>2.0</td>\n",
                            "      <td>9.0</td>\n",
                            "    </tr>\n",
                            "    <tr>\n",
                            "      <th>...</th>\n",
                            "      <td>...</td>\n",
                            "      <td>...</td>\n",
                            "      <td>...</td>\n",
                            "      <td>...</td>\n",
                            "      <td>...</td>\n",
                            "      <td>...</td>\n",
                            "      <td>...</td>\n",
                            "      <td>...</td>\n",
                            "      <td>...</td>\n",
                            "      <td>...</td>\n",
                            "      <td>...</td>\n",
                            "    </tr>\n",
                            "    <tr>\n",
                            "      <th>445127</th>\n",
                            "      <td>1.0</td>\n",
                            "      <td>1.0</td>\n",
                            "      <td>2.0</td>\n",
                            "      <td>2.0</td>\n",
                            "      <td>3.0</td>\n",
                            "      <td>2.0</td>\n",
                            "      <td>1.0</td>\n",
                            "      <td>2.0</td>\n",
                            "      <td>1.0</td>\n",
                            "      <td>3.0</td>\n",
                            "      <td>6.0</td>\n",
                            "    </tr>\n",
                            "    <tr>\n",
                            "      <th>445128</th>\n",
                            "      <td>1.0</td>\n",
                            "      <td>2.0</td>\n",
                            "      <td>2.0</td>\n",
                            "      <td>2.0</td>\n",
                            "      <td>3.0</td>\n",
                            "      <td>2.0</td>\n",
                            "      <td>3.0</td>\n",
                            "      <td>2.0</td>\n",
                            "      <td>2.0</td>\n",
                            "      <td>3.0</td>\n",
                            "      <td>7.0</td>\n",
                            "    </tr>\n",
                            "    <tr>\n",
                            "      <th>445129</th>\n",
                            "      <td>2.0</td>\n",
                            "      <td>3.0</td>\n",
                            "      <td>2.0</td>\n",
                            "      <td>2.0</td>\n",
                            "      <td>3.0</td>\n",
                            "      <td>2.0</td>\n",
                            "      <td>3.0</td>\n",
                            "      <td>2.0</td>\n",
                            "      <td>2.0</td>\n",
                            "      <td>1.0</td>\n",
                            "      <td>5.0</td>\n",
                            "    </tr>\n",
                            "    <tr>\n",
                            "      <th>445130</th>\n",
                            "      <td>1.0</td>\n",
                            "      <td>1.0</td>\n",
                            "      <td>1.0</td>\n",
                            "      <td>2.0</td>\n",
                            "      <td>3.0</td>\n",
                            "      <td>1.0</td>\n",
                            "      <td>2.0</td>\n",
                            "      <td>2.0</td>\n",
                            "      <td>1.0</td>\n",
                            "      <td>4.0</td>\n",
                            "      <td>5.0</td>\n",
                            "    </tr>\n",
                            "    <tr>\n",
                            "      <th>445131</th>\n",
                            "      <td>1.0</td>\n",
                            "      <td>1.0</td>\n",
                            "      <td>2.0</td>\n",
                            "      <td>2.0</td>\n",
                            "      <td>3.0</td>\n",
                            "      <td>2.0</td>\n",
                            "      <td>3.0</td>\n",
                            "      <td>2.0</td>\n",
                            "      <td>2.0</td>\n",
                            "      <td>2.0</td>\n",
                            "      <td>5.0</td>\n",
                            "    </tr>\n",
                            "  </tbody>\n",
                            "</table>\n",
                            "<p>442327 rows × 11 columns</p>\n",
                            "</div>"
                        ],
                        "text/plain": [
                            "        _RFHLTH  _PHYS14D  CVDINFR4  CVDSTRK3  DIABETE4  _MICHD  _ASTHMS1  \\\n",
                            "0           1.0       1.0       2.0       2.0       1.0     2.0       3.0   \n",
                            "1           1.0       1.0       2.0       2.0       3.0     2.0       3.0   \n",
                            "2           1.0       2.0       2.0       2.0       3.0     2.0       3.0   \n",
                            "3           1.0       1.0       2.0       2.0       3.0     2.0       1.0   \n",
                            "4           2.0       2.0       2.0       2.0       3.0     2.0       3.0   \n",
                            "...         ...       ...       ...       ...       ...     ...       ...   \n",
                            "445127      1.0       1.0       2.0       2.0       3.0     2.0       1.0   \n",
                            "445128      1.0       2.0       2.0       2.0       3.0     2.0       3.0   \n",
                            "445129      2.0       3.0       2.0       2.0       3.0     2.0       3.0   \n",
                            "445130      1.0       1.0       1.0       2.0       3.0     1.0       2.0   \n",
                            "445131      1.0       1.0       2.0       2.0       3.0     2.0       3.0   \n",
                            "\n",
                            "        _DRDXAR2  COVIDPOS  _BMI5CAT  SLEPTIM1  \n",
                            "0            2.0       2.0       NaN       8.0  \n",
                            "1            2.0       2.0       3.0       6.0  \n",
                            "2            2.0       1.0       3.0       5.0  \n",
                            "3            1.0       2.0       2.0       7.0  \n",
                            "4            2.0       2.0       2.0       9.0  \n",
                            "...          ...       ...       ...       ...  \n",
                            "445127       2.0       1.0       3.0       6.0  \n",
                            "445128       2.0       2.0       3.0       7.0  \n",
                            "445129       2.0       2.0       1.0       5.0  \n",
                            "445130       2.0       1.0       4.0       5.0  \n",
                            "445131       2.0       2.0       2.0       5.0  \n",
                            "\n",
                            "[442327 rows x 11 columns]"
                        ]
                    },
                    "execution_count": 15,
                    "metadata": {},
                    "output_type": "execute_result"
                }
            ],
            "source": [
                "salud_mental = df[['DECIDE','DIFFALON','_MENT14D','LSATISFY','EMTSUPRT','SDHISOLT','CDSOCIAL','CDDISCUS']]\n",
                "aces = df[['ACEDRINK','ACEDRUGS','ACEPRISN','ACEDIVRC','ACEHURT1','ACESWEAR','ACETOUCH','ACETTHEM','ACEHVSEX']]\n",
                "estado_de_salud = df[['_RFHLTH','_PHYS14D','CVDINFR4','CVDSTRK3','DIABETE4','_MICHD','_ASTHMS1','_DRDXAR2','COVIDPOS','_BMI5CAT','SLEPTIM1']]\n"
            ]
        },
        {
            "cell_type": "code",
            "execution_count": 3,
            "metadata": {},
            "outputs": [
                {
                    "data": {
                        "text/plain": [
                            "marijuana_use\n",
                            "0    350212\n",
                            "1     94920\n",
                            "Name: count, dtype: int64"
                        ]
                    },
                    "execution_count": 3,
                    "metadata": {},
                    "output_type": "execute_result"
                }
            ],
            "source": [
                "# 6. Consumo de marihuana\n",
                "marijuana_columns = ['MARIJAN1', 'MARJSMOK', 'MARJEAT', 'MARJVAPE', 'MARJDAB', 'MARJOTHR']\n",
                "\n",
                "# ¿Ha consumido marihuana alguna vez?\n",
                "df['marijuana_use'] = df[marijuana_columns].fillna(0).any(axis=1).astype(int)\n",
                "\n",
                "# ¿Cuántas formas de consumo ha reportado?\n",
                "df['marijuana_forms'] = df[['MARJSMOK', 'MARJEAT', 'MARJVAPE', 'MARJDAB', 'MARJOTHR']].fillna(0).astype(int).sum(axis=1)\n",
                "df['marijuana_use'].value_counts()"
            ]
        },
        {
            "cell_type": "code",
            "execution_count": 4,
            "metadata": {},
            "outputs": [
                {
                    "data": {
                        "text/plain": [
                            "MARIJAN1    350213\n",
                            "MARJSMOK    433622\n",
                            "MARJEAT     433628\n",
                            "MARJVAPE    433629\n",
                            "MARJDAB     433637\n",
                            "MARJOTHR    433645\n",
                            "dtype: int64"
                        ]
                    },
                    "execution_count": 4,
                    "metadata": {},
                    "output_type": "execute_result"
                }
            ],
            "source": [
                "df[marijuana_columns].isnull().sum()"
            ]
        },
        {
            "cell_type": "code",
            "execution_count": null,
            "metadata": {},
            "outputs": [],
            "source": []
        },
        {
            "cell_type": "markdown",
            "metadata": {},
            "source": [
                "### Detección de nulos"
            ]
        },
        {
            "cell_type": "code",
            "execution_count": 10,
            "metadata": {},
            "outputs": [
                {
                    "name": "stdout",
                    "output_type": "stream",
                    "text": [
                        "Columna: MARITAL - Porcentaje de valores nulos: 0.00%\n",
                        "Columna: RENTHOM1 - Porcentaje de valores nulos: 0.00%\n",
                        "Columna: VETERAN3 - Porcentaje de valores nulos: 0.94%\n",
                        "Columna: EMPLOY1 - Porcentaje de valores nulos: 1.39%\n",
                        "Columna: _AGEG5YR - Porcentaje de valores nulos: 0.00%\n",
                        "Columna: _INCOMG1 - Porcentaje de valores nulos: 0.00%\n",
                        "Columna: _EDUCAG - Porcentaje de valores nulos: 0.00%\n",
                        "Columna: _CHLDCNT - Porcentaje de valores nulos: 0.00%\n",
                        "Columna: _EXTETH3 - Porcentaje de valores nulos: 0.00%\n",
                        "Columna: HHADULT - Porcentaje de valores nulos: 21.60%\n",
                        "Columna: SEXVAR - Porcentaje de valores nulos: 0.00%\n",
                        "Columna: PERSDOC3 - Porcentaje de valores nulos: 0.00%\n",
                        "Columna: MEDCOST1 - Porcentaje de valores nulos: 0.00%\n",
                        "Columna: _HLTHPLN - Porcentaje de valores nulos: 0.00%\n",
                        "Columna: _AIDTST4 - Porcentaje de valores nulos: 10.37%\n",
                        "Columna: SDHEMPLY - Porcentaje de valores nulos: 43.04%\n",
                        "Columna: SDHFOOD1 - Porcentaje de valores nulos: 43.19%\n",
                        "Columna: SDHUTILS - Porcentaje de valores nulos: 43.31%\n",
                        "Columna: SDHBILLS - Porcentaje de valores nulos: 43.26%\n",
                        "Columna: SDHTRNSP - Porcentaje de valores nulos: 43.39%\n",
                        "Columna: CDSOCIAL - Porcentaje de valores nulos: 98.34%\n",
                        "Columna: CDDISCUS - Porcentaje de valores nulos: 98.34%\n",
                        "Columna: CAREGIV1 - Porcentaje de valores nulos: 77.86%\n",
                        "Columna: CRGVREL4 - Porcentaje de valores nulos: 95.59%\n",
                        "Columna: CRGVLNG1 - Porcentaje de valores nulos: 95.60%\n",
                        "Columna: CRGVHRS1 - Porcentaje de valores nulos: 95.61%\n",
                        "Columna: EXERANY2 - Porcentaje de valores nulos: 0.00%\n",
                        "Columna: SLEPTIM1 - Porcentaje de valores nulos: 0.00%\n",
                        "Columna: SMOKE100 - Porcentaje de valores nulos: 7.12%\n",
                        "Columna: USENOW3 - Porcentaje de valores nulos: 7.31%\n",
                        "Columna: ECIGNOW2 - Porcentaje de valores nulos: 7.53%\n",
                        "Columna: ALCDAY4 - Porcentaje de valores nulos: 9.14%\n",
                        "Columna: AVEDRNK3 - Porcentaje de valores nulos: 52.67%\n",
                        "Columna: DRNK3GE5 - Porcentaje de valores nulos: 52.78%\n",
                        "Columna: MAXDRNKS - Porcentaje de valores nulos: 52.88%\n",
                        "Columna: HIVRISK5 - Porcentaje de valores nulos: 10.87%\n",
                        "Columna: MARIJAN1 - Porcentaje de valores nulos: 78.65%\n",
                        "Columna: MARJSMOK - Porcentaje de valores nulos: 97.42%\n",
                        "Columna: MARJEAT - Porcentaje de valores nulos: 97.42%\n",
                        "Columna: MARJVAPE - Porcentaje de valores nulos: 97.42%\n",
                        "Columna: MARJDAB - Porcentaje de valores nulos: 97.42%\n",
                        "Columna: MARJOTHR - Porcentaje de valores nulos: 97.42%\n",
                        "Columna: ASBIALCH - Porcentaje de valores nulos: 86.29%\n",
                        "Columna: ASBIDRNK - Porcentaje de valores nulos: 86.32%\n",
                        "Columna: ASBIBING - Porcentaje de valores nulos: 86.34%\n",
                        "Columna: _TOTINDA - Porcentaje de valores nulos: 0.00%\n",
                        "Columna: _RFSMOK3 - Porcentaje de valores nulos: 0.00%\n",
                        "Columna: DRNKANY6 - Porcentaje de valores nulos: 0.00%\n",
                        "Columna: _RFBING6 - Porcentaje de valores nulos: 0.00%\n",
                        "Columna: CVDINFR4 - Porcentaje de valores nulos: 0.00%\n",
                        "Columna: CVDSTRK3 - Porcentaje de valores nulos: 0.00%\n",
                        "Columna: ADDEPEV3 - Porcentaje de valores nulos: 0.00%\n",
                        "Columna: DIABETE4 - Porcentaje de valores nulos: 0.00%\n",
                        "Columna: COVIDPOS - Porcentaje de valores nulos: 11.04%\n",
                        "Columna: HADHYST2 - Porcentaje de valores nulos: 51.07%\n",
                        "Columna: COLNCNCR - Porcentaje de valores nulos: 34.55%\n",
                        "Columna: FLUSHOT7 - Porcentaje de valores nulos: 9.78%\n",
                        "Columna: _MICHD - Porcentaje de valores nulos: 1.03%\n",
                        "Columna: _ASTHMS1 - Porcentaje de valores nulos: 0.00%\n",
                        "Columna: _DRDXAR2 - Porcentaje de valores nulos: 0.50%\n",
                        "Columna: _PHYS14D - Porcentaje de valores nulos: 0.00%\n",
                        "Columna: _MENT14D - Porcentaje de valores nulos: 0.00%\n",
                        "Columna: _BMI5CAT - Porcentaje de valores nulos: 10.88%\n",
                        "Columna: _RFHLTH - Porcentaje de valores nulos: 0.00%\n",
                        "Columna: DECIDE - Porcentaje de valores nulos: 4.71%\n",
                        "Columna: DIFFALON - Porcentaje de valores nulos: 5.37%\n",
                        "Columna: ACEDEPRS - Porcentaje de valores nulos: 89.15%\n",
                        "Columna: LSATISFY - Porcentaje de valores nulos: 42.82%\n",
                        "Columna: EMTSUPRT - Porcentaje de valores nulos: 42.90%\n",
                        "Columna: SDHISOLT - Porcentaje de valores nulos: 42.97%\n",
                        "Columna: ACEDRINK - Porcentaje de valores nulos: 89.17%\n",
                        "Columna: ACEDRUGS - Porcentaje de valores nulos: 89.17%\n",
                        "Columna: ACEPRISN - Porcentaje de valores nulos: 89.17%\n",
                        "Columna: ACEDIVRC - Porcentaje de valores nulos: 89.18%\n",
                        "Columna: ACEHURT1 - Porcentaje de valores nulos: 89.20%\n",
                        "Columna: ACESWEAR - Porcentaje de valores nulos: 89.21%\n",
                        "Columna: ACETOUCH - Porcentaje de valores nulos: 89.22%\n",
                        "Columna: ACETTHEM - Porcentaje de valores nulos: 89.23%\n",
                        "Columna: ACEHVSEX - Porcentaje de valores nulos: 89.25%\n",
                        "Columna: FIREARM5 - Porcentaje de valores nulos: 91.06%\n",
                        "Columna: GUNLOAD - Porcentaje de valores nulos: 96.89%\n",
                        "Columna: LOADULK2 - Porcentaje de valores nulos: 99.09%\n"
                    ]
                }
            ],
            "source": [
                "columnas_a_borrar = []\n",
                "\n",
                "for i in data.columns:\n",
                "    porcentaje_nulos = df[i].isnull().sum() / len(df) * 100\n",
                "    print(f'Columna: {i} - Porcentaje de valores nulos: {porcentaje_nulos:.2f}%')\n",
                "    if porcentaje_nulos >= 60:\n",
                "        columnas_a_borrar.append(i)"
            ]
        },
        {
            "cell_type": "code",
            "execution_count": 11,
            "metadata": {},
            "outputs": [
                {
                    "data": {
                        "text/plain": [
                            "['CDSOCIAL',\n",
                            " 'CDDISCUS',\n",
                            " 'CAREGIV1',\n",
                            " 'CRGVREL4',\n",
                            " 'CRGVLNG1',\n",
                            " 'CRGVHRS1',\n",
                            " 'MARIJAN1',\n",
                            " 'MARJSMOK',\n",
                            " 'MARJEAT',\n",
                            " 'MARJVAPE',\n",
                            " 'MARJDAB',\n",
                            " 'MARJOTHR',\n",
                            " 'ASBIALCH',\n",
                            " 'ASBIDRNK',\n",
                            " 'ASBIBING',\n",
                            " 'ACEDEPRS',\n",
                            " 'ACEDRINK',\n",
                            " 'ACEDRUGS',\n",
                            " 'ACEPRISN',\n",
                            " 'ACEDIVRC',\n",
                            " 'ACEHURT1',\n",
                            " 'ACESWEAR',\n",
                            " 'ACETOUCH',\n",
                            " 'ACETTHEM',\n",
                            " 'ACEHVSEX',\n",
                            " 'FIREARM5',\n",
                            " 'GUNLOAD',\n",
                            " 'LOADULK2']"
                        ]
                    },
                    "execution_count": 11,
                    "metadata": {},
                    "output_type": "execute_result"
                }
            ],
            "source": [
                "columnas_a_borrar"
            ]
        },
        {
            "cell_type": "code",
            "execution_count": 5,
            "metadata": {},
            "outputs": [
                {
                    "name": "stdout",
                    "output_type": "stream",
                    "text": [
                        "Columna: MARITAL - Porcentaje de valores nulos: 0.00%\n",
                        "Columna: RENTHOM1 - Porcentaje de valores nulos: 0.00%\n",
                        "Columna: VETERAN3 - Porcentaje de valores nulos: 0.94%\n",
                        "Columna: EMPLOY1 - Porcentaje de valores nulos: 1.39%\n",
                        "Columna: _AGEG5YR - Porcentaje de valores nulos: 0.00%\n",
                        "Columna: _INCOMG1 - Porcentaje de valores nulos: 0.00%\n",
                        "Columna: _EDUCAG - Porcentaje de valores nulos: 0.00%\n",
                        "Columna: _CHLDCNT - Porcentaje de valores nulos: 0.00%\n",
                        "Columna: _EXTETH3 - Porcentaje de valores nulos: 0.00%\n",
                        "Columna: HHADULT - Porcentaje de valores nulos: 21.58%\n",
                        "Columna: SEXVAR - Porcentaje de valores nulos: 0.00%\n",
                        "Columna: MEDCOST1 - Porcentaje de valores nulos: 0.00%\n",
                        "Columna: _HLTHPLN - Porcentaje de valores nulos: 0.00%\n",
                        "Columna: _AIDTST4 - Porcentaje de valores nulos: 10.39%\n",
                        "Columna: CDSOCIAL - Porcentaje de valores nulos: 98.33%\n",
                        "Columna: CDDISCUS - Porcentaje de valores nulos: 98.34%\n",
                        "Columna: CRGVREL4 - Porcentaje de valores nulos: 95.59%\n",
                        "Columna: CRGVLNG1 - Porcentaje de valores nulos: 95.60%\n",
                        "Columna: CRGVHRS1 - Porcentaje de valores nulos: 95.61%\n",
                        "Columna: SLEPTIM1 - Porcentaje de valores nulos: 0.00%\n",
                        "Columna: HIVRISK5 - Porcentaje de valores nulos: 10.89%\n",
                        "Columna: MARIJAN1 - Porcentaje de valores nulos: 78.68%\n",
                        "Columna: _TOTINDA - Porcentaje de valores nulos: 0.00%\n",
                        "Columna: _RFBING6 - Porcentaje de valores nulos: 0.00%\n",
                        "Columna: ADDEPEV3 - Porcentaje de valores nulos: 0.00%\n",
                        "Columna: COVIDPOS - Porcentaje de valores nulos: 11.06%\n",
                        "Columna: _PHYS14D - Porcentaje de valores nulos: 0.00%\n",
                        "Columna: _MENT14D - Porcentaje de valores nulos: 0.00%\n",
                        "Columna: _BMI5CAT - Porcentaje de valores nulos: 10.96%\n",
                        "Columna: LSATISFY - Porcentaje de valores nulos: 42.83%\n",
                        "Columna: social_vulnerability_score - Porcentaje de valores nulos: 0.00%\n",
                        "Columna: tobacco_use - Porcentaje de valores nulos: 0.00%\n",
                        "Columna: health_risk_score - Porcentaje de valores nulos: 0.00%\n",
                        "Columna: disability_score - Porcentaje de valores nulos: 0.00%\n",
                        "Columna: trauma_exposure_score - Porcentaje de valores nulos: 0.00%\n",
                        "Columna: gun_risk_score - Porcentaje de valores nulos: 0.00%\n"
                    ]
                }
            ],
            "source": [
                "columnas_a_borrar = []\n",
                "\n",
                "for i in df.columns:\n",
                "    porcentaje_nulos = df[i].isnull().sum() / len(df) * 100\n",
                "    print(f'Columna: {i} - Porcentaje de valores nulos: {porcentaje_nulos:.2f}%')\n",
                "    if porcentaje_nulos >= 60:\n",
                "        columnas_a_borrar.append(i)"
            ]
        },
        {
            "cell_type": "code",
            "execution_count": 6,
            "metadata": {},
            "outputs": [
                {
                    "data": {
                        "text/plain": [
                            "['CDSOCIAL', 'CDDISCUS', 'CRGVREL4', 'CRGVLNG1', 'CRGVHRS1', 'MARIJAN1']"
                        ]
                    },
                    "execution_count": 6,
                    "metadata": {},
                    "output_type": "execute_result"
                }
            ],
            "source": [
                "columnas_a_borrar"
            ]
        },
        {
            "cell_type": "markdown",
            "metadata": {},
            "source": [
                "### Columnas a modificar por Jesús"
            ]
        },
        {
            "cell_type": "code",
            "execution_count": 15,
            "metadata": {},
            "outputs": [
                {
                    "data": {
                        "text/plain": [
                            "_TOTINDA\n",
                            "1.0    337559\n",
                            "2.0    106480\n",
                            "9.0      1093\n",
                            "Name: count, dtype: int64"
                        ]
                    },
                    "execution_count": 15,
                    "metadata": {},
                    "output_type": "execute_result"
                }
            ],
            "source": [
                "# Question:  Adults who reported doing physical activity or exercise during the past 30 days other than their regular job\n",
                "df['_TOTINDA'].value_counts()"
            ]
        },
        {
            "cell_type": "code",
            "execution_count": 16,
            "metadata": {},
            "outputs": [
                {
                    "data": {
                        "text/plain": [
                            "_TOTINDA\n",
                            " 1.0    337559\n",
                            " 0.0    106480\n",
                            "-1.0      1093\n",
                            "Name: count, dtype: int64"
                        ]
                    },
                    "execution_count": 16,
                    "metadata": {},
                    "output_type": "execute_result"
                }
            ],
            "source": [
                "# 9 (Don’t know/Refused/Missing) >> Cambiar a -1\n",
                "df.loc[df[\"_TOTINDA\"] == 9, \"_TOTINDA\"] = -1\n",
                "df.loc[df[\"_TOTINDA\"] == 2, \"_TOTINDA\"] = 0\n",
                "\n",
                "df[\"_TOTINDA\"].value_counts()"
            ]
        },
        {
            "cell_type": "code",
            "execution_count": 17,
            "metadata": {},
            "outputs": [
                {
                    "data": {
                        "text/plain": [
                            "ADDEPEV3\n",
                            "2.0    350910\n",
                            "1.0     91410\n",
                            "7.0      2140\n",
                            "9.0       665\n",
                            "NaN         7\n",
                            "Name: count, dtype: int64"
                        ]
                    },
                    "execution_count": 17,
                    "metadata": {},
                    "output_type": "execute_result"
                }
            ],
            "source": [
                "# Question:  (Ever told) (you had) a depressive disorder (including depression, major depression, dysthymia, or minor depression)\n",
                "df['ADDEPEV3'].value_counts(dropna=False)"
            ]
        },
        {
            "cell_type": "code",
            "execution_count": 18,
            "metadata": {},
            "outputs": [
                {
                    "name": "stdout",
                    "output_type": "stream",
                    "text": [
                        "ADDEPEV3\n",
                        "0.0    350910\n",
                        "1.0     91410\n",
                        "Name: count, dtype: int64\n",
                        "(442327, 36)\n"
                    ]
                },
                {
                    "name": "stderr",
                    "output_type": "stream",
                    "text": [
                        "/tmp/ipykernel_779/1478865628.py:6: SettingWithCopyWarning: \n",
                        "A value is trying to be set on a copy of a slice from a DataFrame\n",
                        "\n",
                        "See the caveats in the documentation: https://pandas.pydata.org/pandas-docs/stable/user_guide/indexing.html#returning-a-view-versus-a-copy\n",
                        "  df.loc[df[\"ADDEPEV3\"] == 2, \"ADDEPEV3\"] = 0\n"
                    ]
                }
            ],
            "source": [
                "# Eliminamos NAN y los valores 7 y 9 (Don’t know/Refused/Missing)\n",
                "# Pasamos 2 (no) a 0\n",
                "\n",
                "df['ADDEPEV3'].dropna()\n",
                "df = df[~df[\"ADDEPEV3\"].isin([9,7])]\n",
                "df.loc[df[\"ADDEPEV3\"] == 2, \"ADDEPEV3\"] = 0\n",
                "\n",
                "\n",
                "print(df[\"ADDEPEV3\"].value_counts())\n",
                "print(df.shape)"
            ]
        },
        {
            "cell_type": "code",
            "execution_count": 22,
            "metadata": {},
            "outputs": [
                {
                    "data": {
                        "text/plain": [
                            "COVIDPOS\n",
                            "2.0    268442\n",
                            "1.0    125595\n",
                            "0.0     33529\n",
                            "3.0     13375\n",
                            "9.0       759\n",
                            "7.0       627\n",
                            "Name: count, dtype: int64"
                        ]
                    },
                    "execution_count": 22,
                    "metadata": {},
                    "output_type": "execute_result"
                }
            ],
            "source": [
                "# Question:  Has a doctor, nurse, or other health professional ever told you that you tested positive for COVID 19?\n",
                "df['COVIDPOS'].value_counts(dropna=False)"
            ]
        },
        {
            "cell_type": "code",
            "execution_count": 27,
            "metadata": {},
            "outputs": [
                {
                    "name": "stderr",
                    "output_type": "stream",
                    "text": [
                        "/tmp/ipykernel_779/3385643432.py:5: SettingWithCopyWarning: \n",
                        "A value is trying to be set on a copy of a slice from a DataFrame\n",
                        "\n",
                        "See the caveats in the documentation: https://pandas.pydata.org/pandas-docs/stable/user_guide/indexing.html#returning-a-view-versus-a-copy\n",
                        "  df.loc[df[\"COVIDPOS\"] > 6, \"COVIDPOS\"] = -1\n",
                        "/tmp/ipykernel_779/3385643432.py:6: SettingWithCopyWarning: \n",
                        "A value is trying to be set on a copy of a slice from a DataFrame\n",
                        "\n",
                        "See the caveats in the documentation: https://pandas.pydata.org/pandas-docs/stable/user_guide/indexing.html#returning-a-view-versus-a-copy\n",
                        "  df.loc[df[\"COVIDPOS\"] == 2, \"COVIDPOS\"] = 0\n",
                        "/tmp/ipykernel_779/3385643432.py:7: SettingWithCopyWarning: \n",
                        "A value is trying to be set on a copy of a slice from a DataFrame\n",
                        "\n",
                        "See the caveats in the documentation: https://pandas.pydata.org/pandas-docs/stable/user_guide/indexing.html#returning-a-view-versus-a-copy\n",
                        "  df.loc[df[\"COVIDPOS\"] == 3, \"COVIDPOS\"] = 1\n"
                    ]
                },
                {
                    "data": {
                        "text/plain": [
                            "COVIDPOS\n",
                            " 0.0    301971\n",
                            " 1.0    138970\n",
                            "-1.0      1386\n",
                            "Name: count, dtype: int64"
                        ]
                    },
                    "execution_count": 27,
                    "metadata": {},
                    "output_type": "execute_result"
                }
            ],
            "source": [
                "# Se juntó 1 y 3(Positivo con prueba casera) = 1\n",
                "#  2(No) = 0\n",
                "# 7,9(Don’t know/Refused/Missing) = -1 \n",
                "\n",
                "df.loc[df[\"COVIDPOS\"] > 6, \"COVIDPOS\"] = -1\n",
                "df.loc[df[\"COVIDPOS\"] == 2, \"COVIDPOS\"] = 0\n",
                "df.loc[df[\"COVIDPOS\"] == 3, \"COVIDPOS\"] = 1\n",
                "\n",
                "df[\"COVIDPOS\"].value_counts(dropna=False)\n"
            ]
        },
        {
            "cell_type": "code",
            "execution_count": 24,
            "metadata": {},
            "outputs": [
                {
                    "name": "stderr",
                    "output_type": "stream",
                    "text": [
                        "/tmp/ipykernel_779/3198490329.py:12: SettingWithCopyWarning: \n",
                        "A value is trying to be set on a copy of a slice from a DataFrame\n",
                        "\n",
                        "See the caveats in the documentation: https://pandas.pydata.org/pandas-docs/stable/user_guide/indexing.html#returning-a-view-versus-a-copy\n",
                        "  df.loc[df[\"COVIDPOS\"].isna(), \"COVIDPOS\"] = valores_nuevos\n"
                    ]
                },
                {
                    "data": {
                        "text/plain": [
                            "COVIDPOS\n",
                            " 0.0    301971\n",
                            " 1.0    138970\n",
                            "-1.0      1386\n",
                            "Name: count, dtype: int64"
                        ]
                    },
                    "execution_count": 24,
                    "metadata": {},
                    "output_type": "execute_result"
                }
            ],
            "source": [
                "# Rellenamos los NAN de manera proporcional.\n",
                "# Porcentajes (excluyendo -1.0)\n",
                "\n",
                "total_validos = 268442 + 123648\n",
                "p_0 = 268442 / total_validos\n",
                "p_1 = 123648 / total_validos\n",
                "\n",
                "# Crear valores aleatorios según esa proporción\n",
                "valores_nuevos = np.random.choice([0.0, 1.0], size=df[\"COVIDPOS\"].isna().sum(), p=[p_0, p_1])\n",
                "\n",
                "# Asignarlos a los NaN\n",
                "df.loc[df[\"COVIDPOS\"].isna(), \"COVIDPOS\"] = valores_nuevos\n",
                "df[\"COVIDPOS\"].value_counts()\n"
            ]
        },
        {
            "cell_type": "code",
            "execution_count": 28,
            "metadata": {},
            "outputs": [
                {
                    "data": {
                        "text/plain": [
                            "_PHYS14D\n",
                            "1.0    266620\n",
                            "2.0    107575\n",
                            "3.0     57478\n",
                            "9.0     10654\n",
                            "Name: count, dtype: int64"
                        ]
                    },
                    "execution_count": 28,
                    "metadata": {},
                    "output_type": "execute_result"
                }
            ],
            "source": [
                "# Question:  3 level not good physical health status: 0 days, 1-13 days, 14-30 days\n",
                "df['_PHYS14D'].value_counts(dropna=False)"
            ]
        },
        {
            "cell_type": "code",
            "execution_count": 29,
            "metadata": {},
            "outputs": [
                {
                    "name": "stderr",
                    "output_type": "stream",
                    "text": [
                        "/tmp/ipykernel_779/1078946329.py:7: SettingWithCopyWarning: \n",
                        "A value is trying to be set on a copy of a slice from a DataFrame\n",
                        "\n",
                        "See the caveats in the documentation: https://pandas.pydata.org/pandas-docs/stable/user_guide/indexing.html#returning-a-view-versus-a-copy\n",
                        "  df.loc[df[\"_PHYS14D\"] == 9, \"_PHYS14D\"] = -1\n",
                        "/tmp/ipykernel_779/1078946329.py:8: SettingWithCopyWarning: \n",
                        "A value is trying to be set on a copy of a slice from a DataFrame\n",
                        "\n",
                        "See the caveats in the documentation: https://pandas.pydata.org/pandas-docs/stable/user_guide/indexing.html#returning-a-view-versus-a-copy\n",
                        "  df.loc[df[\"_PHYS14D\"] == 1, \"_PHYS14D\"] = 0\n",
                        "/tmp/ipykernel_779/1078946329.py:9: SettingWithCopyWarning: \n",
                        "A value is trying to be set on a copy of a slice from a DataFrame\n",
                        "\n",
                        "See the caveats in the documentation: https://pandas.pydata.org/pandas-docs/stable/user_guide/indexing.html#returning-a-view-versus-a-copy\n",
                        "  df.loc[df[\"_PHYS14D\"] == 2, \"_PHYS14D\"] = 1\n",
                        "/tmp/ipykernel_779/1078946329.py:10: SettingWithCopyWarning: \n",
                        "A value is trying to be set on a copy of a slice from a DataFrame\n",
                        "\n",
                        "See the caveats in the documentation: https://pandas.pydata.org/pandas-docs/stable/user_guide/indexing.html#returning-a-view-versus-a-copy\n",
                        "  df.loc[df[\"_PHYS14D\"] == 3, \"_PHYS14D\"] = 2\n"
                    ]
                },
                {
                    "data": {
                        "text/plain": [
                            "_PHYS14D\n",
                            " 0.0    266620\n",
                            " 1.0    107575\n",
                            " 2.0     57478\n",
                            "-1.0     10654\n",
                            "Name: count, dtype: int64"
                        ]
                    },
                    "execution_count": 29,
                    "metadata": {},
                    "output_type": "execute_result"
                }
            ],
            "source": [
                "# Se realizaron los siguientes cambios\n",
                "# 1(0 días con mala salud) = 0\n",
                "# 2(1-13 días) = 1\n",
                "# 2(14-30 días) = 2\n",
                "# 9(Don’t know/Refused/Missing) = -1 \n",
                "\n",
                "df.loc[df[\"_PHYS14D\"] == 9, \"_PHYS14D\"] = -1\n",
                "df.loc[df[\"_PHYS14D\"] == 1, \"_PHYS14D\"] = 0\n",
                "df.loc[df[\"_PHYS14D\"] == 2, \"_PHYS14D\"] = 1\n",
                "df.loc[df[\"_PHYS14D\"] == 3, \"_PHYS14D\"] = 2\n",
                "\n",
                "\n",
                "df[\"_PHYS14D\"].value_counts(dropna=False)"
            ]
        },
        {
            "cell_type": "code",
            "execution_count": null,
            "metadata": {},
            "outputs": [
                {
                    "data": {
                        "text/plain": [
                            "_MENT14D\n",
                            "1.0    264432\n",
                            "2.0    109811\n",
                            "3.0     59462\n",
                            "9.0      8622\n",
                            "Name: count, dtype: int64"
                        ]
                    },
                    "execution_count": 31,
                    "metadata": {},
                    "output_type": "execute_result"
                }
            ],
            "source": [
                "# Question:  3 level not good mental health status: 0 days, 1-13 days, 14-30 days\n",
                "df['_MENT14D'].value_counts(dropna=False)"
            ]
        },
        {
            "cell_type": "code",
            "execution_count": 32,
            "metadata": {},
            "outputs": [
                {
                    "name": "stderr",
                    "output_type": "stream",
                    "text": [
                        "/tmp/ipykernel_779/399812987.py:7: SettingWithCopyWarning: \n",
                        "A value is trying to be set on a copy of a slice from a DataFrame\n",
                        "\n",
                        "See the caveats in the documentation: https://pandas.pydata.org/pandas-docs/stable/user_guide/indexing.html#returning-a-view-versus-a-copy\n",
                        "  df.loc[df[\"_MENT14D\"] == 9, \"_MENT14D\"] = -1\n",
                        "/tmp/ipykernel_779/399812987.py:8: SettingWithCopyWarning: \n",
                        "A value is trying to be set on a copy of a slice from a DataFrame\n",
                        "\n",
                        "See the caveats in the documentation: https://pandas.pydata.org/pandas-docs/stable/user_guide/indexing.html#returning-a-view-versus-a-copy\n",
                        "  df.loc[df[\"_MENT14D\"] == 1, \"_MENT14D\"] = 0\n",
                        "/tmp/ipykernel_779/399812987.py:9: SettingWithCopyWarning: \n",
                        "A value is trying to be set on a copy of a slice from a DataFrame\n",
                        "\n",
                        "See the caveats in the documentation: https://pandas.pydata.org/pandas-docs/stable/user_guide/indexing.html#returning-a-view-versus-a-copy\n",
                        "  df.loc[df[\"_MENT14D\"] == 2, \"_MENT14D\"] = 1\n",
                        "/tmp/ipykernel_779/399812987.py:10: SettingWithCopyWarning: \n",
                        "A value is trying to be set on a copy of a slice from a DataFrame\n",
                        "\n",
                        "See the caveats in the documentation: https://pandas.pydata.org/pandas-docs/stable/user_guide/indexing.html#returning-a-view-versus-a-copy\n",
                        "  df.loc[df[\"_MENT14D\"] == 3, \"_MENT14D\"] = 2\n"
                    ]
                },
                {
                    "data": {
                        "text/plain": [
                            "_MENT14D\n",
                            " 0.0    264432\n",
                            " 1.0    109811\n",
                            " 2.0     59462\n",
                            "-1.0      8622\n",
                            "Name: count, dtype: int64"
                        ]
                    },
                    "execution_count": 32,
                    "metadata": {},
                    "output_type": "execute_result"
                }
            ],
            "source": [
                "# Se realizaron los siguientes cambios\n",
                "# 1(0 días con mala salud) = 0\n",
                "# 2(1-13 días) = 1\n",
                "# 2(14-30 días) = 2\n",
                "# 9(Don’t know/Refused/Missing) = -1 \n",
                "\n",
                "df.loc[df[\"_MENT14D\"] == 9, \"_MENT14D\"] = -1\n",
                "df.loc[df[\"_MENT14D\"] == 1, \"_MENT14D\"] = 0\n",
                "df.loc[df[\"_MENT14D\"] == 2, \"_MENT14D\"] = 1\n",
                "df.loc[df[\"_MENT14D\"] == 3, \"_MENT14D\"] = 2\n",
                "\n",
                "\n",
                "df[\"_MENT14D\"].value_counts(dropna=False)"
            ]
        },
        {
            "cell_type": "code",
            "execution_count": 42,
            "metadata": {},
            "outputs": [
                {
                    "data": {
                        "text/plain": [
                            "_BMI5CAT\n",
                            "3.0    139995\n",
                            "4.0    132577\n",
                            "2.0    116976\n",
                            "NaN     48806\n",
                            "1.0      6778\n",
                            "Name: count, dtype: int64"
                        ]
                    },
                    "execution_count": 42,
                    "metadata": {},
                    "output_type": "execute_result"
                }
            ],
            "source": [
                "# Question:  Four-categories of Body Mass Index (BMI)\n",
                "df['_BMI5CAT'].value_counts(dropna=False)"
            ]
        },
        {
            "cell_type": "code",
            "execution_count": null,
            "metadata": {},
            "outputs": [
                {
                    "name": "stderr",
                    "output_type": "stream",
                    "text": [
                        "/tmp/ipykernel_779/1542337306.py:11: FutureWarning: A value is trying to be set on a copy of a DataFrame or Series through chained assignment using an inplace method.\n",
                        "The behavior will change in pandas 3.0. This inplace method will never work because the intermediate object on which we are setting values always behaves as a copy.\n",
                        "\n",
                        "For example, when doing 'df[col].method(value, inplace=True)', try using 'df.method({col: value}, inplace=True)' or df[col] = df[col].method(value) instead, to perform the operation inplace on the original object.\n",
                        "\n",
                        "\n",
                        "  df[\"_BMI5CAT\"].fillna(-1, inplace=True)\n"
                    ]
                },
                {
                    "data": {
                        "text/plain": [
                            "_BMI5CAT\n",
                            " 2.0    139995\n",
                            " 3.0    132577\n",
                            " 1.0    116976\n",
                            "-1.0     48806\n",
                            " 0.0      6778\n",
                            "Name: count, dtype: int64"
                        ]
                    },
                    "execution_count": 43,
                    "metadata": {},
                    "output_type": "execute_result"
                }
            ],
            "source": [
                "# Se realizaron los siguientes cambios\n",
                "# 1 = 0\n",
                "# 2 = 1\n",
                "# 3 = 2\n",
                "# 4 = 3\n",
                "# NAN (Don’t know/Refused/Missing) = -1 \n",
                "\n",
                "df.loc[df[\"_BMI5CAT\"] == 1, \"_BMI5CAT\"] = 0\n",
                "df.loc[df[\"_BMI5CAT\"] == 2, \"_BMI5CAT\"] = 1\n",
                "df.loc[df[\"_BMI5CAT\"] == 3, \"_BMI5CAT\"] = 2\n",
                "df.loc[df[\"_BMI5CAT\"] == 4, \"_BMI5CAT\"] = 3\n",
                "df[\"_BMI5CAT\"].fillna(-1, inplace=True)\n",
                "\n",
                "df[\"_BMI5CAT\"].value_counts(dropna=False)"
            ]
        },
        {
            "cell_type": "code",
            "execution_count": 51,
            "metadata": {},
            "outputs": [
                {
                    "data": {
                        "text/plain": [
                            "LSATISFY\n",
                            "NaN    190644\n",
                            "2.0    123445\n",
                            "1.0    114252\n",
                            "3.0     10758\n",
                            "4.0      3062\n",
                            "7.0      1864\n",
                            "9.0      1107\n",
                            "Name: count, dtype: int64"
                        ]
                    },
                    "execution_count": 51,
                    "metadata": {},
                    "output_type": "execute_result"
                }
            ],
            "source": [
                "# Question:  In general, how satisfied are you with your life?\n",
                "df['LSATISFY'].value_counts(dropna=False)"
            ]
        },
        {
            "cell_type": "code",
            "execution_count": 52,
            "metadata": {},
            "outputs": [
                {
                    "data": {
                        "text/plain": [
                            "LSATISFY\n",
                            " NaN    190644\n",
                            " 1.0    123445\n",
                            " 0.0    114252\n",
                            " 2.0     10758\n",
                            " 3.0      3062\n",
                            "-1.0      2971\n",
                            "Name: count, dtype: int64"
                        ]
                    },
                    "execution_count": 52,
                    "metadata": {},
                    "output_type": "execute_result"
                }
            ],
            "source": [
                "# Se realizaron los siguientes cambios\n",
                "# 1 = 0\n",
                "# 2 = 1\n",
                "# 3 = 2\n",
                "# 4 = 3\n",
                "# NAN = Se rellenaran de manera proporcional.\n",
                "\n",
                "\n",
                "df.loc[df[\"LSATISFY\"] == 1, \"LSATISFY\"] = 0\n",
                "df.loc[df[\"LSATISFY\"] == 2, \"LSATISFY\"] = 1\n",
                "df.loc[df[\"LSATISFY\"] == 3, \"LSATISFY\"] = 2\n",
                "df.loc[df[\"LSATISFY\"] == 4, \"LSATISFY\"] = 3\n",
                "df.loc[df[\"LSATISFY\"] > 6, \"LSATISFY\"] = -1\n",
                "\n",
                "df[\"LSATISFY\"].value_counts(dropna=False)"
            ]
        },
        {
            "cell_type": "code",
            "execution_count": null,
            "metadata": {},
            "outputs": [
                {
                    "data": {
                        "text/plain": [
                            "LSATISFY\n",
                            " 1.0    215887\n",
                            " 0.0    199935\n",
                            " 2.0     18788\n",
                            " 3.0      5366\n",
                            "-1.0      5156\n",
                            "Name: count, dtype: int64"
                        ]
                    },
                    "execution_count": 54,
                    "metadata": {},
                    "output_type": "execute_result"
                }
            ],
            "source": [
                "# Contar valores válidos (excluyendo NaN)\n",
                "valores_validos = df[\"LSATISFY\"].value_counts(normalize=True, dropna=True)\n",
                "\n",
                "# Crear una muestra aleatoria con esa distribución\n",
                "valores_nuevos = np.random.choice(\n",
                "    valores_validos.index,                  # [1, 0, 2, 3, -1]\n",
                "    size=df[\"LSATISFY\"].isna().sum(),       # 190644\n",
                "    p=valores_validos.values                # proporciones respectivas\n",
                ")\n",
                "\n",
                "# Rellenar los NaN\n",
                "df.loc[df[\"LSATISFY\"].isna(), \"LSATISFY\"] = valores_nuevos\n",
                "df['LSATISFY'].value_counts(dropna=False)\n"
            ]
        },
        {
            "cell_type": "code",
            "execution_count": null,
            "metadata": {},
            "outputs": [],
            "source": [
                "dta"
            ]
        }
    ],
    "metadata": {
        "kernelspec": {
            "display_name": ".venv",
            "language": "python",
            "name": "python3"
        },
        "language_info": {
            "codemirror_mode": {
                "name": "ipython",
                "version": 3
            },
            "file_extension": ".py",
            "mimetype": "text/x-python",
            "name": "python",
            "nbconvert_exporter": "python",
            "pygments_lexer": "ipython3",
            "version": "3.11.4"
        },
        "orig_nbformat": 4
    },
    "nbformat": 4,
    "nbformat_minor": 2
}
