{
    "cells": [
        {
            "cell_type": "markdown",
            "metadata": {},
            "source": [
                "# Explorer Jesus"
            ]
        },
        {
            "cell_type": "code",
            "execution_count": 40,
            "metadata": {},
            "outputs": [],
            "source": [
                "# Your code here\n",
                "import pandas as pd\n",
                "import numpy as np\n",
                "import matplotlib.pyplot as plt\n",
                "import seaborn as sns"
            ]
        },
        {
            "cell_type": "code",
            "execution_count": 50,
            "metadata": {},
            "outputs": [
                {
                    "data": {
                        "text/html": [
                            "<div>\n",
                            "<style scoped>\n",
                            "    .dataframe tbody tr th:only-of-type {\n",
                            "        vertical-align: middle;\n",
                            "    }\n",
                            "\n",
                            "    .dataframe tbody tr th {\n",
                            "        vertical-align: top;\n",
                            "    }\n",
                            "\n",
                            "    .dataframe thead th {\n",
                            "        text-align: right;\n",
                            "    }\n",
                            "</style>\n",
                            "<table border=\"1\" class=\"dataframe\">\n",
                            "  <thead>\n",
                            "    <tr style=\"text-align: right;\">\n",
                            "      <th></th>\n",
                            "      <th>MARITAL</th>\n",
                            "      <th>RENTHOM1</th>\n",
                            "      <th>VETERAN3</th>\n",
                            "      <th>EMPLOY1</th>\n",
                            "      <th>_AGEG5YR</th>\n",
                            "      <th>_INCOMG1</th>\n",
                            "      <th>_EDUCAG</th>\n",
                            "      <th>_CHLDCNT</th>\n",
                            "      <th>_EXTETH3</th>\n",
                            "      <th>HHADULT</th>\n",
                            "      <th>...</th>\n",
                            "      <th>_PHYS14D</th>\n",
                            "      <th>_MENT14D</th>\n",
                            "      <th>_BMI5CAT</th>\n",
                            "      <th>LSATISFY</th>\n",
                            "      <th>social_vulnerability_score</th>\n",
                            "      <th>tobacco_use</th>\n",
                            "      <th>health_risk_score</th>\n",
                            "      <th>disability_score</th>\n",
                            "      <th>trauma_exposure_score</th>\n",
                            "      <th>gun_risk_score</th>\n",
                            "    </tr>\n",
                            "  </thead>\n",
                            "  <tbody>\n",
                            "    <tr>\n",
                            "      <th>0</th>\n",
                            "      <td>1.0</td>\n",
                            "      <td>1.0</td>\n",
                            "      <td>2.0</td>\n",
                            "      <td>7.0</td>\n",
                            "      <td>13.0</td>\n",
                            "      <td>9.0</td>\n",
                            "      <td>4.0</td>\n",
                            "      <td>1.0</td>\n",
                            "      <td>9.0</td>\n",
                            "      <td>NaN</td>\n",
                            "      <td>...</td>\n",
                            "      <td>1.0</td>\n",
                            "      <td>1.0</td>\n",
                            "      <td>NaN</td>\n",
                            "      <td>1.0</td>\n",
                            "      <td>0.0</td>\n",
                            "      <td>1.0</td>\n",
                            "      <td>1.0</td>\n",
                            "      <td>0.0</td>\n",
                            "      <td>0.0</td>\n",
                            "      <td>0.0</td>\n",
                            "    </tr>\n",
                            "    <tr>\n",
                            "      <th>1</th>\n",
                            "      <td>3.0</td>\n",
                            "      <td>1.0</td>\n",
                            "      <td>2.0</td>\n",
                            "      <td>2.0</td>\n",
                            "      <td>13.0</td>\n",
                            "      <td>3.0</td>\n",
                            "      <td>2.0</td>\n",
                            "      <td>1.0</td>\n",
                            "      <td>9.0</td>\n",
                            "      <td>NaN</td>\n",
                            "      <td>...</td>\n",
                            "      <td>1.0</td>\n",
                            "      <td>1.0</td>\n",
                            "      <td>3.0</td>\n",
                            "      <td>1.0</td>\n",
                            "      <td>0.0</td>\n",
                            "      <td>0.0</td>\n",
                            "      <td>0.0</td>\n",
                            "      <td>0.0</td>\n",
                            "      <td>0.0</td>\n",
                            "      <td>0.0</td>\n",
                            "    </tr>\n",
                            "    <tr>\n",
                            "      <th>2</th>\n",
                            "      <td>1.0</td>\n",
                            "      <td>1.0</td>\n",
                            "      <td>2.0</td>\n",
                            "      <td>7.0</td>\n",
                            "      <td>8.0</td>\n",
                            "      <td>6.0</td>\n",
                            "      <td>4.0</td>\n",
                            "      <td>1.0</td>\n",
                            "      <td>9.0</td>\n",
                            "      <td>NaN</td>\n",
                            "      <td>...</td>\n",
                            "      <td>2.0</td>\n",
                            "      <td>2.0</td>\n",
                            "      <td>3.0</td>\n",
                            "      <td>2.0</td>\n",
                            "      <td>0.0</td>\n",
                            "      <td>0.0</td>\n",
                            "      <td>0.0</td>\n",
                            "      <td>0.0</td>\n",
                            "      <td>0.0</td>\n",
                            "      <td>0.0</td>\n",
                            "    </tr>\n",
                            "    <tr>\n",
                            "      <th>3</th>\n",
                            "      <td>1.0</td>\n",
                            "      <td>1.0</td>\n",
                            "      <td>2.0</td>\n",
                            "      <td>7.0</td>\n",
                            "      <td>14.0</td>\n",
                            "      <td>9.0</td>\n",
                            "      <td>2.0</td>\n",
                            "      <td>1.0</td>\n",
                            "      <td>9.0</td>\n",
                            "      <td>NaN</td>\n",
                            "      <td>...</td>\n",
                            "      <td>1.0</td>\n",
                            "      <td>1.0</td>\n",
                            "      <td>2.0</td>\n",
                            "      <td>1.0</td>\n",
                            "      <td>0.0</td>\n",
                            "      <td>1.0</td>\n",
                            "      <td>2.0</td>\n",
                            "      <td>0.0</td>\n",
                            "      <td>0.0</td>\n",
                            "      <td>0.0</td>\n",
                            "    </tr>\n",
                            "    <tr>\n",
                            "      <th>4</th>\n",
                            "      <td>1.0</td>\n",
                            "      <td>1.0</td>\n",
                            "      <td>2.0</td>\n",
                            "      <td>5.0</td>\n",
                            "      <td>5.0</td>\n",
                            "      <td>3.0</td>\n",
                            "      <td>3.0</td>\n",
                            "      <td>1.0</td>\n",
                            "      <td>9.0</td>\n",
                            "      <td>NaN</td>\n",
                            "      <td>...</td>\n",
                            "      <td>2.0</td>\n",
                            "      <td>1.0</td>\n",
                            "      <td>2.0</td>\n",
                            "      <td>1.0</td>\n",
                            "      <td>0.0</td>\n",
                            "      <td>0.0</td>\n",
                            "      <td>0.0</td>\n",
                            "      <td>0.0</td>\n",
                            "      <td>0.0</td>\n",
                            "      <td>0.0</td>\n",
                            "    </tr>\n",
                            "    <tr>\n",
                            "      <th>...</th>\n",
                            "      <td>...</td>\n",
                            "      <td>...</td>\n",
                            "      <td>...</td>\n",
                            "      <td>...</td>\n",
                            "      <td>...</td>\n",
                            "      <td>...</td>\n",
                            "      <td>...</td>\n",
                            "      <td>...</td>\n",
                            "      <td>...</td>\n",
                            "      <td>...</td>\n",
                            "      <td>...</td>\n",
                            "      <td>...</td>\n",
                            "      <td>...</td>\n",
                            "      <td>...</td>\n",
                            "      <td>...</td>\n",
                            "      <td>...</td>\n",
                            "      <td>...</td>\n",
                            "      <td>...</td>\n",
                            "      <td>...</td>\n",
                            "      <td>...</td>\n",
                            "      <td>...</td>\n",
                            "    </tr>\n",
                            "    <tr>\n",
                            "      <th>445127</th>\n",
                            "      <td>5.0</td>\n",
                            "      <td>2.0</td>\n",
                            "      <td>2.0</td>\n",
                            "      <td>1.0</td>\n",
                            "      <td>1.0</td>\n",
                            "      <td>1.0</td>\n",
                            "      <td>2.0</td>\n",
                            "      <td>2.0</td>\n",
                            "      <td>1.0</td>\n",
                            "      <td>5.0</td>\n",
                            "      <td>...</td>\n",
                            "      <td>1.0</td>\n",
                            "      <td>2.0</td>\n",
                            "      <td>3.0</td>\n",
                            "      <td>7.0</td>\n",
                            "      <td>2.0</td>\n",
                            "      <td>0.0</td>\n",
                            "      <td>1.0</td>\n",
                            "      <td>0.0</td>\n",
                            "      <td>1.0</td>\n",
                            "      <td>0.0</td>\n",
                            "    </tr>\n",
                            "    <tr>\n",
                            "      <th>445128</th>\n",
                            "      <td>1.0</td>\n",
                            "      <td>1.0</td>\n",
                            "      <td>1.0</td>\n",
                            "      <td>1.0</td>\n",
                            "      <td>7.0</td>\n",
                            "      <td>5.0</td>\n",
                            "      <td>4.0</td>\n",
                            "      <td>2.0</td>\n",
                            "      <td>1.0</td>\n",
                            "      <td>2.0</td>\n",
                            "      <td>...</td>\n",
                            "      <td>2.0</td>\n",
                            "      <td>2.0</td>\n",
                            "      <td>3.0</td>\n",
                            "      <td>1.0</td>\n",
                            "      <td>0.0</td>\n",
                            "      <td>0.0</td>\n",
                            "      <td>0.0</td>\n",
                            "      <td>0.0</td>\n",
                            "      <td>0.0</td>\n",
                            "      <td>0.0</td>\n",
                            "    </tr>\n",
                            "    <tr>\n",
                            "      <th>445129</th>\n",
                            "      <td>1.0</td>\n",
                            "      <td>3.0</td>\n",
                            "      <td>2.0</td>\n",
                            "      <td>8.0</td>\n",
                            "      <td>10.0</td>\n",
                            "      <td>9.0</td>\n",
                            "      <td>2.0</td>\n",
                            "      <td>1.0</td>\n",
                            "      <td>2.0</td>\n",
                            "      <td>1.0</td>\n",
                            "      <td>...</td>\n",
                            "      <td>3.0</td>\n",
                            "      <td>3.0</td>\n",
                            "      <td>1.0</td>\n",
                            "      <td>9.0</td>\n",
                            "      <td>1.0</td>\n",
                            "      <td>2.0</td>\n",
                            "      <td>0.0</td>\n",
                            "      <td>0.0</td>\n",
                            "      <td>2.0</td>\n",
                            "      <td>0.0</td>\n",
                            "    </tr>\n",
                            "    <tr>\n",
                            "      <th>445130</th>\n",
                            "      <td>1.0</td>\n",
                            "      <td>2.0</td>\n",
                            "      <td>2.0</td>\n",
                            "      <td>7.0</td>\n",
                            "      <td>11.0</td>\n",
                            "      <td>5.0</td>\n",
                            "      <td>3.0</td>\n",
                            "      <td>1.0</td>\n",
                            "      <td>1.0</td>\n",
                            "      <td>2.0</td>\n",
                            "      <td>...</td>\n",
                            "      <td>1.0</td>\n",
                            "      <td>1.0</td>\n",
                            "      <td>4.0</td>\n",
                            "      <td>1.0</td>\n",
                            "      <td>0.0</td>\n",
                            "      <td>0.0</td>\n",
                            "      <td>2.0</td>\n",
                            "      <td>0.0</td>\n",
                            "      <td>0.0</td>\n",
                            "      <td>0.0</td>\n",
                            "    </tr>\n",
                            "    <tr>\n",
                            "      <th>445131</th>\n",
                            "      <td>3.0</td>\n",
                            "      <td>1.0</td>\n",
                            "      <td>2.0</td>\n",
                            "      <td>1.0</td>\n",
                            "      <td>5.0</td>\n",
                            "      <td>2.0</td>\n",
                            "      <td>1.0</td>\n",
                            "      <td>1.0</td>\n",
                            "      <td>1.0</td>\n",
                            "      <td>1.0</td>\n",
                            "      <td>...</td>\n",
                            "      <td>1.0</td>\n",
                            "      <td>2.0</td>\n",
                            "      <td>2.0</td>\n",
                            "      <td>2.0</td>\n",
                            "      <td>5.0</td>\n",
                            "      <td>1.0</td>\n",
                            "      <td>0.0</td>\n",
                            "      <td>1.0</td>\n",
                            "      <td>1.0</td>\n",
                            "      <td>0.0</td>\n",
                            "    </tr>\n",
                            "  </tbody>\n",
                            "</table>\n",
                            "<p>445132 rows × 36 columns</p>\n",
                            "</div>"
                        ],
                        "text/plain": [
                            "        MARITAL  RENTHOM1  VETERAN3  EMPLOY1  _AGEG5YR  _INCOMG1  _EDUCAG  \\\n",
                            "0           1.0       1.0       2.0      7.0      13.0       9.0      4.0   \n",
                            "1           3.0       1.0       2.0      2.0      13.0       3.0      2.0   \n",
                            "2           1.0       1.0       2.0      7.0       8.0       6.0      4.0   \n",
                            "3           1.0       1.0       2.0      7.0      14.0       9.0      2.0   \n",
                            "4           1.0       1.0       2.0      5.0       5.0       3.0      3.0   \n",
                            "...         ...       ...       ...      ...       ...       ...      ...   \n",
                            "445127      5.0       2.0       2.0      1.0       1.0       1.0      2.0   \n",
                            "445128      1.0       1.0       1.0      1.0       7.0       5.0      4.0   \n",
                            "445129      1.0       3.0       2.0      8.0      10.0       9.0      2.0   \n",
                            "445130      1.0       2.0       2.0      7.0      11.0       5.0      3.0   \n",
                            "445131      3.0       1.0       2.0      1.0       5.0       2.0      1.0   \n",
                            "\n",
                            "        _CHLDCNT  _EXTETH3  HHADULT  ...  _PHYS14D  _MENT14D  _BMI5CAT  \\\n",
                            "0            1.0       9.0      NaN  ...       1.0       1.0       NaN   \n",
                            "1            1.0       9.0      NaN  ...       1.0       1.0       3.0   \n",
                            "2            1.0       9.0      NaN  ...       2.0       2.0       3.0   \n",
                            "3            1.0       9.0      NaN  ...       1.0       1.0       2.0   \n",
                            "4            1.0       9.0      NaN  ...       2.0       1.0       2.0   \n",
                            "...          ...       ...      ...  ...       ...       ...       ...   \n",
                            "445127       2.0       1.0      5.0  ...       1.0       2.0       3.0   \n",
                            "445128       2.0       1.0      2.0  ...       2.0       2.0       3.0   \n",
                            "445129       1.0       2.0      1.0  ...       3.0       3.0       1.0   \n",
                            "445130       1.0       1.0      2.0  ...       1.0       1.0       4.0   \n",
                            "445131       1.0       1.0      1.0  ...       1.0       2.0       2.0   \n",
                            "\n",
                            "        LSATISFY  social_vulnerability_score  tobacco_use  health_risk_score  \\\n",
                            "0            1.0                         0.0          1.0                1.0   \n",
                            "1            1.0                         0.0          0.0                0.0   \n",
                            "2            2.0                         0.0          0.0                0.0   \n",
                            "3            1.0                         0.0          1.0                2.0   \n",
                            "4            1.0                         0.0          0.0                0.0   \n",
                            "...          ...                         ...          ...                ...   \n",
                            "445127       7.0                         2.0          0.0                1.0   \n",
                            "445128       1.0                         0.0          0.0                0.0   \n",
                            "445129       9.0                         1.0          2.0                0.0   \n",
                            "445130       1.0                         0.0          0.0                2.0   \n",
                            "445131       2.0                         5.0          1.0                0.0   \n",
                            "\n",
                            "        disability_score  trauma_exposure_score  gun_risk_score  \n",
                            "0                    0.0                    0.0             0.0  \n",
                            "1                    0.0                    0.0             0.0  \n",
                            "2                    0.0                    0.0             0.0  \n",
                            "3                    0.0                    0.0             0.0  \n",
                            "4                    0.0                    0.0             0.0  \n",
                            "...                  ...                    ...             ...  \n",
                            "445127               0.0                    1.0             0.0  \n",
                            "445128               0.0                    0.0             0.0  \n",
                            "445129               0.0                    2.0             0.0  \n",
                            "445130               0.0                    0.0             0.0  \n",
                            "445131               1.0                    1.0             0.0  \n",
                            "\n",
                            "[445132 rows x 36 columns]"
                        ]
                    },
                    "execution_count": 50,
                    "metadata": {},
                    "output_type": "execute_result"
                }
            ],
            "source": [
                "data = pd.read_csv('/workspaces/Final_Project_DataScient/data/processed/data_merged.csv')\n",
                "df = data.copy()\n",
                "df"
            ]
        },
        {
            "cell_type": "code",
            "execution_count": 4,
            "metadata": {},
            "outputs": [
                {
                    "name": "stdout",
                    "output_type": "stream",
                    "text": [
                        "Columna: MARITAL - Porcentaje de valores nulos: 0.00%\n",
                        "Columna: RENTHOM1 - Porcentaje de valores nulos: 0.00%\n",
                        "Columna: VETERAN3 - Porcentaje de valores nulos: 0.94%\n",
                        "Columna: EMPLOY1 - Porcentaje de valores nulos: 1.39%\n",
                        "Columna: _AGEG5YR - Porcentaje de valores nulos: 0.00%\n",
                        "Columna: _INCOMG1 - Porcentaje de valores nulos: 0.00%\n",
                        "Columna: _EDUCAG - Porcentaje de valores nulos: 0.00%\n",
                        "Columna: _CHLDCNT - Porcentaje de valores nulos: 0.00%\n",
                        "Columna: _EXTETH3 - Porcentaje de valores nulos: 0.00%\n",
                        "Columna: HHADULT - Porcentaje de valores nulos: 21.58%\n",
                        "Columna: SEXVAR - Porcentaje de valores nulos: 0.00%\n",
                        "Columna: MEDCOST1 - Porcentaje de valores nulos: 0.00%\n",
                        "Columna: _HLTHPLN - Porcentaje de valores nulos: 0.00%\n",
                        "Columna: _AIDTST4 - Porcentaje de valores nulos: 10.39%\n",
                        "Columna: CDSOCIAL - Porcentaje de valores nulos: 98.33%\n",
                        "Columna: CDDISCUS - Porcentaje de valores nulos: 98.34%\n",
                        "Columna: CRGVREL4 - Porcentaje de valores nulos: 95.59%\n",
                        "Columna: CRGVLNG1 - Porcentaje de valores nulos: 95.60%\n",
                        "Columna: CRGVHRS1 - Porcentaje de valores nulos: 95.61%\n",
                        "Columna: SLEPTIM1 - Porcentaje de valores nulos: 0.00%\n",
                        "Columna: HIVRISK5 - Porcentaje de valores nulos: 10.89%\n",
                        "Columna: MARIJAN1 - Porcentaje de valores nulos: 78.68%\n",
                        "Columna: _TOTINDA - Porcentaje de valores nulos: 0.00%\n",
                        "Columna: _RFBING6 - Porcentaje de valores nulos: 0.00%\n",
                        "Columna: ADDEPEV3 - Porcentaje de valores nulos: 0.00%\n",
                        "Columna: COVIDPOS - Porcentaje de valores nulos: 11.06%\n",
                        "Columna: _PHYS14D - Porcentaje de valores nulos: 0.00%\n",
                        "Columna: _MENT14D - Porcentaje de valores nulos: 0.00%\n",
                        "Columna: _BMI5CAT - Porcentaje de valores nulos: 10.96%\n",
                        "Columna: LSATISFY - Porcentaje de valores nulos: 42.83%\n",
                        "Columna: social_vulnerability_score - Porcentaje de valores nulos: 0.00%\n",
                        "Columna: tobacco_use - Porcentaje de valores nulos: 0.00%\n",
                        "Columna: health_risk_score - Porcentaje de valores nulos: 0.00%\n",
                        "Columna: disability_score - Porcentaje de valores nulos: 0.00%\n",
                        "Columna: trauma_exposure_score - Porcentaje de valores nulos: 0.00%\n",
                        "Columna: gun_risk_score - Porcentaje de valores nulos: 0.00%\n"
                    ]
                }
            ],
            "source": [
                "columnas_a_borrar = []\n",
                "\n",
                "for i in data.columns:\n",
                "    porcentaje_nulos = df[i].isnull().sum() / len(df) * 100\n",
                "    print(f'Columna: {i} - Porcentaje de valores nulos: {porcentaje_nulos:.2f}%')\n",
                "    if porcentaje_nulos >= 50:\n",
                "        columnas_a_borrar.append(i)"
            ]
        },
        {
            "cell_type": "code",
            "execution_count": 5,
            "metadata": {},
            "outputs": [
                {
                    "name": "stdout",
                    "output_type": "stream",
                    "text": [
                        "Columna: MARITAL - Porcentaje de valores nulos: 0.00%\n",
                        "Columna: RENTHOM1 - Porcentaje de valores nulos: 0.00%\n",
                        "Columna: VETERAN3 - Porcentaje de valores nulos: 0.94%\n",
                        "Columna: EMPLOY1 - Porcentaje de valores nulos: 1.39%\n",
                        "Columna: _AGEG5YR - Porcentaje de valores nulos: 0.00%\n",
                        "Columna: _INCOMG1 - Porcentaje de valores nulos: 0.00%\n",
                        "Columna: _EDUCAG - Porcentaje de valores nulos: 0.00%\n",
                        "Columna: _CHLDCNT - Porcentaje de valores nulos: 0.00%\n",
                        "Columna: _EXTETH3 - Porcentaje de valores nulos: 0.00%\n",
                        "Columna: HHADULT - Porcentaje de valores nulos: 21.58%\n",
                        "Columna: SEXVAR - Porcentaje de valores nulos: 0.00%\n",
                        "Columna: MEDCOST1 - Porcentaje de valores nulos: 0.00%\n",
                        "Columna: _HLTHPLN - Porcentaje de valores nulos: 0.00%\n",
                        "Columna: _AIDTST4 - Porcentaje de valores nulos: 10.39%\n",
                        "Columna: CDSOCIAL - Porcentaje de valores nulos: 98.33%\n",
                        "Columna: CDDISCUS - Porcentaje de valores nulos: 98.34%\n",
                        "Columna: CRGVREL4 - Porcentaje de valores nulos: 95.59%\n",
                        "Columna: CRGVLNG1 - Porcentaje de valores nulos: 95.60%\n",
                        "Columna: CRGVHRS1 - Porcentaje de valores nulos: 95.61%\n",
                        "Columna: SLEPTIM1 - Porcentaje de valores nulos: 0.00%\n",
                        "Columna: HIVRISK5 - Porcentaje de valores nulos: 10.89%\n",
                        "Columna: MARIJAN1 - Porcentaje de valores nulos: 78.68%\n",
                        "Columna: _TOTINDA - Porcentaje de valores nulos: 0.00%\n",
                        "Columna: _RFBING6 - Porcentaje de valores nulos: 0.00%\n",
                        "Columna: ADDEPEV3 - Porcentaje de valores nulos: 0.00%\n",
                        "Columna: COVIDPOS - Porcentaje de valores nulos: 11.06%\n",
                        "Columna: _PHYS14D - Porcentaje de valores nulos: 0.00%\n",
                        "Columna: _MENT14D - Porcentaje de valores nulos: 0.00%\n",
                        "Columna: _BMI5CAT - Porcentaje de valores nulos: 10.96%\n",
                        "Columna: LSATISFY - Porcentaje de valores nulos: 42.83%\n",
                        "Columna: social_vulnerability_score - Porcentaje de valores nulos: 0.00%\n",
                        "Columna: tobacco_use - Porcentaje de valores nulos: 0.00%\n",
                        "Columna: health_risk_score - Porcentaje de valores nulos: 0.00%\n",
                        "Columna: disability_score - Porcentaje de valores nulos: 0.00%\n",
                        "Columna: trauma_exposure_score - Porcentaje de valores nulos: 0.00%\n",
                        "Columna: gun_risk_score - Porcentaje de valores nulos: 0.00%\n"
                    ]
                }
            ],
            "source": [
                "columnas_a_borrar = []\n",
                "\n",
                "for i in df.columns:\n",
                "    porcentaje_nulos = df[i].isnull().sum() / len(df) * 100\n",
                "    print(f'Columna: {i} - Porcentaje de valores nulos: {porcentaje_nulos:.2f}%')\n",
                "    if porcentaje_nulos >= 60:\n",
                "        columnas_a_borrar.append(i)"
            ]
        },
        {
            "cell_type": "code",
            "execution_count": 6,
            "metadata": {},
            "outputs": [
                {
                    "data": {
                        "text/plain": [
                            "['CDSOCIAL', 'CDDISCUS', 'CRGVREL4', 'CRGVLNG1', 'CRGVHRS1', 'MARIJAN1']"
                        ]
                    },
                    "execution_count": 6,
                    "metadata": {},
                    "output_type": "execute_result"
                }
            ],
            "source": [
                "columnas_a_borrar"
            ]
        },
        {
            "cell_type": "markdown",
            "metadata": {},
            "source": [
                "### Columnas a modificar por Jesús"
            ]
        },
        {
            "cell_type": "code",
            "execution_count": 15,
            "metadata": {},
            "outputs": [
                {
                    "data": {
                        "text/plain": [
                            "_TOTINDA\n",
                            "1.0    337559\n",
                            "2.0    106480\n",
                            "9.0      1093\n",
                            "Name: count, dtype: int64"
                        ]
                    },
                    "execution_count": 15,
                    "metadata": {},
                    "output_type": "execute_result"
                }
            ],
            "source": [
                "# Question:  Adults who reported doing physical activity or exercise during the past 30 days other than their regular job\n",
                "df['_TOTINDA'].value_counts()"
            ]
        },
        {
            "cell_type": "code",
            "execution_count": 16,
            "metadata": {},
            "outputs": [
                {
                    "data": {
                        "text/plain": [
                            "_TOTINDA\n",
                            " 1.0    337559\n",
                            " 0.0    106480\n",
                            "-1.0      1093\n",
                            "Name: count, dtype: int64"
                        ]
                    },
                    "execution_count": 16,
                    "metadata": {},
                    "output_type": "execute_result"
                }
            ],
            "source": [
                "# 9 (Don’t know/Refused/Missing) >> Cambiar a -1\n",
                "df.loc[df[\"_TOTINDA\"] == 9, \"_TOTINDA\"] = -1\n",
                "df.loc[df[\"_TOTINDA\"] == 2, \"_TOTINDA\"] = 0\n",
                "\n",
                "df[\"_TOTINDA\"].value_counts()"
            ]
        },
        {
            "cell_type": "code",
            "execution_count": 17,
            "metadata": {},
            "outputs": [
                {
                    "data": {
                        "text/plain": [
                            "ADDEPEV3\n",
                            "2.0    350910\n",
                            "1.0     91410\n",
                            "7.0      2140\n",
                            "9.0       665\n",
                            "NaN         7\n",
                            "Name: count, dtype: int64"
                        ]
                    },
                    "execution_count": 17,
                    "metadata": {},
                    "output_type": "execute_result"
                }
            ],
            "source": [
                "# Question:  (Ever told) (you had) a depressive disorder (including depression, major depression, dysthymia, or minor depression)\n",
                "df['ADDEPEV3'].value_counts(dropna=False)"
            ]
        },
        {
            "cell_type": "code",
            "execution_count": 18,
            "metadata": {},
            "outputs": [
                {
                    "name": "stdout",
                    "output_type": "stream",
                    "text": [
                        "ADDEPEV3\n",
                        "0.0    350910\n",
                        "1.0     91410\n",
                        "Name: count, dtype: int64\n",
                        "(442327, 36)\n"
                    ]
                },
                {
                    "name": "stderr",
                    "output_type": "stream",
                    "text": [
                        "/tmp/ipykernel_779/1478865628.py:6: SettingWithCopyWarning: \n",
                        "A value is trying to be set on a copy of a slice from a DataFrame\n",
                        "\n",
                        "See the caveats in the documentation: https://pandas.pydata.org/pandas-docs/stable/user_guide/indexing.html#returning-a-view-versus-a-copy\n",
                        "  df.loc[df[\"ADDEPEV3\"] == 2, \"ADDEPEV3\"] = 0\n"
                    ]
                }
            ],
            "source": [
                "# Eliminamos NAN y los valores 7 y 9 (Don’t know/Refused/Missing)\n",
                "# Pasamos 2 (no) a 0\n",
                "\n",
                "df['ADDEPEV3'].dropna()\n",
                "df = df[~df[\"ADDEPEV3\"].isin([9,7])]\n",
                "df.loc[df[\"ADDEPEV3\"] == 2, \"ADDEPEV3\"] = 0\n",
                "\n",
                "\n",
                "print(df[\"ADDEPEV3\"].value_counts())\n",
                "print(df.shape)"
            ]
        },
        {
            "cell_type": "code",
            "execution_count": 22,
            "metadata": {},
            "outputs": [
                {
                    "data": {
                        "text/plain": [
                            "COVIDPOS\n",
                            "2.0    268442\n",
                            "1.0    125595\n",
                            "0.0     33529\n",
                            "3.0     13375\n",
                            "9.0       759\n",
                            "7.0       627\n",
                            "Name: count, dtype: int64"
                        ]
                    },
                    "execution_count": 22,
                    "metadata": {},
                    "output_type": "execute_result"
                }
            ],
            "source": [
                "# Question:  Has a doctor, nurse, or other health professional ever told you that you tested positive for COVID 19?\n",
                "df['COVIDPOS'].value_counts(dropna=False)"
            ]
        },
        {
            "cell_type": "code",
            "execution_count": 27,
            "metadata": {},
            "outputs": [
                {
                    "name": "stderr",
                    "output_type": "stream",
                    "text": [
                        "/tmp/ipykernel_779/3385643432.py:5: SettingWithCopyWarning: \n",
                        "A value is trying to be set on a copy of a slice from a DataFrame\n",
                        "\n",
                        "See the caveats in the documentation: https://pandas.pydata.org/pandas-docs/stable/user_guide/indexing.html#returning-a-view-versus-a-copy\n",
                        "  df.loc[df[\"COVIDPOS\"] > 6, \"COVIDPOS\"] = -1\n",
                        "/tmp/ipykernel_779/3385643432.py:6: SettingWithCopyWarning: \n",
                        "A value is trying to be set on a copy of a slice from a DataFrame\n",
                        "\n",
                        "See the caveats in the documentation: https://pandas.pydata.org/pandas-docs/stable/user_guide/indexing.html#returning-a-view-versus-a-copy\n",
                        "  df.loc[df[\"COVIDPOS\"] == 2, \"COVIDPOS\"] = 0\n",
                        "/tmp/ipykernel_779/3385643432.py:7: SettingWithCopyWarning: \n",
                        "A value is trying to be set on a copy of a slice from a DataFrame\n",
                        "\n",
                        "See the caveats in the documentation: https://pandas.pydata.org/pandas-docs/stable/user_guide/indexing.html#returning-a-view-versus-a-copy\n",
                        "  df.loc[df[\"COVIDPOS\"] == 3, \"COVIDPOS\"] = 1\n"
                    ]
                },
                {
                    "data": {
                        "text/plain": [
                            "COVIDPOS\n",
                            " 0.0    301971\n",
                            " 1.0    138970\n",
                            "-1.0      1386\n",
                            "Name: count, dtype: int64"
                        ]
                    },
                    "execution_count": 27,
                    "metadata": {},
                    "output_type": "execute_result"
                }
            ],
            "source": [
                "# Se juntó 1 y 3(Positivo con prueba casera) = 1\n",
                "#  2(No) = 0\n",
                "# 7,9(Don’t know/Refused/Missing) = -1 \n",
                "\n",
                "df.loc[df[\"COVIDPOS\"] > 6, \"COVIDPOS\"] = -1\n",
                "df.loc[df[\"COVIDPOS\"] == 2, \"COVIDPOS\"] = 0\n",
                "df.loc[df[\"COVIDPOS\"] == 3, \"COVIDPOS\"] = 1\n",
                "\n",
                "df[\"COVIDPOS\"].value_counts(dropna=False)\n"
            ]
        },
        {
            "cell_type": "code",
            "execution_count": 24,
            "metadata": {},
            "outputs": [
                {
                    "name": "stderr",
                    "output_type": "stream",
                    "text": [
                        "/tmp/ipykernel_779/3198490329.py:12: SettingWithCopyWarning: \n",
                        "A value is trying to be set on a copy of a slice from a DataFrame\n",
                        "\n",
                        "See the caveats in the documentation: https://pandas.pydata.org/pandas-docs/stable/user_guide/indexing.html#returning-a-view-versus-a-copy\n",
                        "  df.loc[df[\"COVIDPOS\"].isna(), \"COVIDPOS\"] = valores_nuevos\n"
                    ]
                },
                {
                    "data": {
                        "text/plain": [
                            "COVIDPOS\n",
                            " 0.0    301971\n",
                            " 1.0    138970\n",
                            "-1.0      1386\n",
                            "Name: count, dtype: int64"
                        ]
                    },
                    "execution_count": 24,
                    "metadata": {},
                    "output_type": "execute_result"
                }
            ],
            "source": [
                "# Rellenamos los NAN de manera proporcional.\n",
                "# Porcentajes (excluyendo -1.0)\n",
                "\n",
                "total_validos = 268442 + 123648\n",
                "p_0 = 268442 / total_validos\n",
                "p_1 = 123648 / total_validos\n",
                "\n",
                "# Crear valores aleatorios según esa proporción\n",
                "valores_nuevos = np.random.choice([0.0, 1.0], size=df[\"COVIDPOS\"].isna().sum(), p=[p_0, p_1])\n",
                "\n",
                "# Asignarlos a los NaN\n",
                "df.loc[df[\"COVIDPOS\"].isna(), \"COVIDPOS\"] = valores_nuevos\n",
                "df[\"COVIDPOS\"].value_counts()\n"
            ]
        },
        {
            "cell_type": "code",
            "execution_count": 28,
            "metadata": {},
            "outputs": [
                {
                    "data": {
                        "text/plain": [
                            "_PHYS14D\n",
                            "1.0    266620\n",
                            "2.0    107575\n",
                            "3.0     57478\n",
                            "9.0     10654\n",
                            "Name: count, dtype: int64"
                        ]
                    },
                    "execution_count": 28,
                    "metadata": {},
                    "output_type": "execute_result"
                }
            ],
            "source": [
                "# Question:  3 level not good physical health status: 0 days, 1-13 days, 14-30 days\n",
                "df['_PHYS14D'].value_counts(dropna=False)"
            ]
        },
        {
            "cell_type": "code",
            "execution_count": 29,
            "metadata": {},
            "outputs": [
                {
                    "name": "stderr",
                    "output_type": "stream",
                    "text": [
                        "/tmp/ipykernel_779/1078946329.py:7: SettingWithCopyWarning: \n",
                        "A value is trying to be set on a copy of a slice from a DataFrame\n",
                        "\n",
                        "See the caveats in the documentation: https://pandas.pydata.org/pandas-docs/stable/user_guide/indexing.html#returning-a-view-versus-a-copy\n",
                        "  df.loc[df[\"_PHYS14D\"] == 9, \"_PHYS14D\"] = -1\n",
                        "/tmp/ipykernel_779/1078946329.py:8: SettingWithCopyWarning: \n",
                        "A value is trying to be set on a copy of a slice from a DataFrame\n",
                        "\n",
                        "See the caveats in the documentation: https://pandas.pydata.org/pandas-docs/stable/user_guide/indexing.html#returning-a-view-versus-a-copy\n",
                        "  df.loc[df[\"_PHYS14D\"] == 1, \"_PHYS14D\"] = 0\n",
                        "/tmp/ipykernel_779/1078946329.py:9: SettingWithCopyWarning: \n",
                        "A value is trying to be set on a copy of a slice from a DataFrame\n",
                        "\n",
                        "See the caveats in the documentation: https://pandas.pydata.org/pandas-docs/stable/user_guide/indexing.html#returning-a-view-versus-a-copy\n",
                        "  df.loc[df[\"_PHYS14D\"] == 2, \"_PHYS14D\"] = 1\n",
                        "/tmp/ipykernel_779/1078946329.py:10: SettingWithCopyWarning: \n",
                        "A value is trying to be set on a copy of a slice from a DataFrame\n",
                        "\n",
                        "See the caveats in the documentation: https://pandas.pydata.org/pandas-docs/stable/user_guide/indexing.html#returning-a-view-versus-a-copy\n",
                        "  df.loc[df[\"_PHYS14D\"] == 3, \"_PHYS14D\"] = 2\n"
                    ]
                },
                {
                    "data": {
                        "text/plain": [
                            "_PHYS14D\n",
                            " 0.0    266620\n",
                            " 1.0    107575\n",
                            " 2.0     57478\n",
                            "-1.0     10654\n",
                            "Name: count, dtype: int64"
                        ]
                    },
                    "execution_count": 29,
                    "metadata": {},
                    "output_type": "execute_result"
                }
            ],
            "source": [
                "# Se realizaron los siguientes cambios\n",
                "# 1(0 días con mala salud) = 0\n",
                "# 2(1-13 días) = 1\n",
                "# 2(14-30 días) = 2\n",
                "# 9(Don’t know/Refused/Missing) = -1 \n",
                "\n",
                "df.loc[df[\"_PHYS14D\"] == 9, \"_PHYS14D\"] = -1\n",
                "df.loc[df[\"_PHYS14D\"] == 1, \"_PHYS14D\"] = 0\n",
                "df.loc[df[\"_PHYS14D\"] == 2, \"_PHYS14D\"] = 1\n",
                "df.loc[df[\"_PHYS14D\"] == 3, \"_PHYS14D\"] = 2\n",
                "\n",
                "\n",
                "df[\"_PHYS14D\"].value_counts(dropna=False)"
            ]
        },
        {
            "cell_type": "code",
            "execution_count": null,
            "metadata": {},
            "outputs": [
                {
                    "data": {
                        "text/plain": [
                            "_MENT14D\n",
                            "1.0    264432\n",
                            "2.0    109811\n",
                            "3.0     59462\n",
                            "9.0      8622\n",
                            "Name: count, dtype: int64"
                        ]
                    },
                    "execution_count": 31,
                    "metadata": {},
                    "output_type": "execute_result"
                }
            ],
            "source": [
                "# Question:  3 level not good mental health status: 0 days, 1-13 days, 14-30 days\n",
                "df['_MENT14D'].value_counts(dropna=False)"
            ]
        },
        {
            "cell_type": "code",
            "execution_count": 32,
            "metadata": {},
            "outputs": [
                {
                    "name": "stderr",
                    "output_type": "stream",
                    "text": [
                        "/tmp/ipykernel_779/399812987.py:7: SettingWithCopyWarning: \n",
                        "A value is trying to be set on a copy of a slice from a DataFrame\n",
                        "\n",
                        "See the caveats in the documentation: https://pandas.pydata.org/pandas-docs/stable/user_guide/indexing.html#returning-a-view-versus-a-copy\n",
                        "  df.loc[df[\"_MENT14D\"] == 9, \"_MENT14D\"] = -1\n",
                        "/tmp/ipykernel_779/399812987.py:8: SettingWithCopyWarning: \n",
                        "A value is trying to be set on a copy of a slice from a DataFrame\n",
                        "\n",
                        "See the caveats in the documentation: https://pandas.pydata.org/pandas-docs/stable/user_guide/indexing.html#returning-a-view-versus-a-copy\n",
                        "  df.loc[df[\"_MENT14D\"] == 1, \"_MENT14D\"] = 0\n",
                        "/tmp/ipykernel_779/399812987.py:9: SettingWithCopyWarning: \n",
                        "A value is trying to be set on a copy of a slice from a DataFrame\n",
                        "\n",
                        "See the caveats in the documentation: https://pandas.pydata.org/pandas-docs/stable/user_guide/indexing.html#returning-a-view-versus-a-copy\n",
                        "  df.loc[df[\"_MENT14D\"] == 2, \"_MENT14D\"] = 1\n",
                        "/tmp/ipykernel_779/399812987.py:10: SettingWithCopyWarning: \n",
                        "A value is trying to be set on a copy of a slice from a DataFrame\n",
                        "\n",
                        "See the caveats in the documentation: https://pandas.pydata.org/pandas-docs/stable/user_guide/indexing.html#returning-a-view-versus-a-copy\n",
                        "  df.loc[df[\"_MENT14D\"] == 3, \"_MENT14D\"] = 2\n"
                    ]
                },
                {
                    "data": {
                        "text/plain": [
                            "_MENT14D\n",
                            " 0.0    264432\n",
                            " 1.0    109811\n",
                            " 2.0     59462\n",
                            "-1.0      8622\n",
                            "Name: count, dtype: int64"
                        ]
                    },
                    "execution_count": 32,
                    "metadata": {},
                    "output_type": "execute_result"
                }
            ],
            "source": [
                "# Se realizaron los siguientes cambios\n",
                "# 1(0 días con mala salud) = 0\n",
                "# 2(1-13 días) = 1\n",
                "# 2(14-30 días) = 2\n",
                "# 9(Don’t know/Refused/Missing) = -1 \n",
                "\n",
                "df.loc[df[\"_MENT14D\"] == 9, \"_MENT14D\"] = -1\n",
                "df.loc[df[\"_MENT14D\"] == 1, \"_MENT14D\"] = 0\n",
                "df.loc[df[\"_MENT14D\"] == 2, \"_MENT14D\"] = 1\n",
                "df.loc[df[\"_MENT14D\"] == 3, \"_MENT14D\"] = 2\n",
                "\n",
                "\n",
                "df[\"_MENT14D\"].value_counts(dropna=False)"
            ]
        },
        {
            "cell_type": "code",
            "execution_count": 42,
            "metadata": {},
            "outputs": [
                {
                    "data": {
                        "text/plain": [
                            "_BMI5CAT\n",
                            "3.0    139995\n",
                            "4.0    132577\n",
                            "2.0    116976\n",
                            "NaN     48806\n",
                            "1.0      6778\n",
                            "Name: count, dtype: int64"
                        ]
                    },
                    "execution_count": 42,
                    "metadata": {},
                    "output_type": "execute_result"
                }
            ],
            "source": [
                "# Question:  Four-categories of Body Mass Index (BMI)\n",
                "df['_BMI5CAT'].value_counts(dropna=False)"
            ]
        },
        {
            "cell_type": "code",
            "execution_count": null,
            "metadata": {},
            "outputs": [
                {
                    "name": "stderr",
                    "output_type": "stream",
                    "text": [
                        "/tmp/ipykernel_779/1542337306.py:11: FutureWarning: A value is trying to be set on a copy of a DataFrame or Series through chained assignment using an inplace method.\n",
                        "The behavior will change in pandas 3.0. This inplace method will never work because the intermediate object on which we are setting values always behaves as a copy.\n",
                        "\n",
                        "For example, when doing 'df[col].method(value, inplace=True)', try using 'df.method({col: value}, inplace=True)' or df[col] = df[col].method(value) instead, to perform the operation inplace on the original object.\n",
                        "\n",
                        "\n",
                        "  df[\"_BMI5CAT\"].fillna(-1, inplace=True)\n"
                    ]
                },
                {
                    "data": {
                        "text/plain": [
                            "_BMI5CAT\n",
                            " 2.0    139995\n",
                            " 3.0    132577\n",
                            " 1.0    116976\n",
                            "-1.0     48806\n",
                            " 0.0      6778\n",
                            "Name: count, dtype: int64"
                        ]
                    },
                    "execution_count": 43,
                    "metadata": {},
                    "output_type": "execute_result"
                }
            ],
            "source": [
                "# Se realizaron los siguientes cambios\n",
                "# 1 = 0\n",
                "# 2 = 1\n",
                "# 3 = 2\n",
                "# 4 = 3\n",
                "# NAN (Don’t know/Refused/Missing) = -1 \n",
                "\n",
                "df.loc[df[\"_BMI5CAT\"] == 1, \"_BMI5CAT\"] = 0\n",
                "df.loc[df[\"_BMI5CAT\"] == 2, \"_BMI5CAT\"] = 1\n",
                "df.loc[df[\"_BMI5CAT\"] == 3, \"_BMI5CAT\"] = 2\n",
                "df.loc[df[\"_BMI5CAT\"] == 4, \"_BMI5CAT\"] = 3\n",
                "df[\"_BMI5CAT\"].fillna(-1, inplace=True)\n",
                "\n",
                "df[\"_BMI5CAT\"].value_counts(dropna=False)"
            ]
        },
        {
            "cell_type": "code",
            "execution_count": 51,
            "metadata": {},
            "outputs": [
                {
                    "data": {
                        "text/plain": [
                            "LSATISFY\n",
                            "NaN    190644\n",
                            "2.0    123445\n",
                            "1.0    114252\n",
                            "3.0     10758\n",
                            "4.0      3062\n",
                            "7.0      1864\n",
                            "9.0      1107\n",
                            "Name: count, dtype: int64"
                        ]
                    },
                    "execution_count": 51,
                    "metadata": {},
                    "output_type": "execute_result"
                }
            ],
            "source": [
                "# Question:  In general, how satisfied are you with your life?\n",
                "df['LSATISFY'].value_counts(dropna=False)"
            ]
        },
        {
            "cell_type": "code",
            "execution_count": 52,
            "metadata": {},
            "outputs": [
                {
                    "data": {
                        "text/plain": [
                            "LSATISFY\n",
                            " NaN    190644\n",
                            " 1.0    123445\n",
                            " 0.0    114252\n",
                            " 2.0     10758\n",
                            " 3.0      3062\n",
                            "-1.0      2971\n",
                            "Name: count, dtype: int64"
                        ]
                    },
                    "execution_count": 52,
                    "metadata": {},
                    "output_type": "execute_result"
                }
            ],
            "source": [
                "# Se realizaron los siguientes cambios\n",
                "# 1 = 0\n",
                "# 2 = 1\n",
                "# 3 = 2\n",
                "# 4 = 3\n",
                "# NAN = Se rellenaran de manera proporcional.\n",
                "\n",
                "\n",
                "df.loc[df[\"LSATISFY\"] == 1, \"LSATISFY\"] = 0\n",
                "df.loc[df[\"LSATISFY\"] == 2, \"LSATISFY\"] = 1\n",
                "df.loc[df[\"LSATISFY\"] == 3, \"LSATISFY\"] = 2\n",
                "df.loc[df[\"LSATISFY\"] == 4, \"LSATISFY\"] = 3\n",
                "df.loc[df[\"LSATISFY\"] > 6, \"LSATISFY\"] = -1\n",
                "\n",
                "df[\"LSATISFY\"].value_counts(dropna=False)"
            ]
        },
        {
            "cell_type": "code",
            "execution_count": null,
            "metadata": {},
            "outputs": [
                {
                    "data": {
                        "text/plain": [
                            "LSATISFY\n",
                            " 1.0    215887\n",
                            " 0.0    199935\n",
                            " 2.0     18788\n",
                            " 3.0      5366\n",
                            "-1.0      5156\n",
                            "Name: count, dtype: int64"
                        ]
                    },
                    "execution_count": 54,
                    "metadata": {},
                    "output_type": "execute_result"
                }
            ],
            "source": [
                "# Contar valores válidos (excluyendo NaN)\n",
                "valores_validos = df[\"LSATISFY\"].value_counts(normalize=True, dropna=True)\n",
                "\n",
                "# Crear una muestra aleatoria con esa distribución\n",
                "valores_nuevos = np.random.choice(\n",
                "    valores_validos.index,                  # [1, 0, 2, 3, -1]\n",
                "    size=df[\"LSATISFY\"].isna().sum(),       # 190644\n",
                "    p=valores_validos.values                # proporciones respectivas\n",
                ")\n",
                "\n",
                "# Rellenar los NaN\n",
                "df.loc[df[\"LSATISFY\"].isna(), \"LSATISFY\"] = valores_nuevos\n",
                "df['LSATISFY'].value_counts(dropna=False)\n"
            ]
        }
    ],
    "metadata": {
        "kernelspec": {
            "display_name": ".venv",
            "language": "python",
            "name": "python3"
        },
        "language_info": {
            "codemirror_mode": {
                "name": "ipython",
                "version": 3
            },
            "file_extension": ".py",
            "mimetype": "text/x-python",
            "name": "python",
            "nbconvert_exporter": "python",
            "pygments_lexer": "ipython3",
            "version": "3.11.4"
        },
        "orig_nbformat": 4
    },
    "nbformat": 4,
    "nbformat_minor": 2
}
