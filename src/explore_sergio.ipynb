{
 "cells": [
  {
   "cell_type": "code",
   "execution_count": 20,
   "id": "e3ffa710",
   "metadata": {},
   "outputs": [],
   "source": [
    "import pandas as pd\n",
    "import numpy as np"
   ]
  },
  {
   "cell_type": "code",
   "execution_count": 21,
   "id": "e5b7921d",
   "metadata": {},
   "outputs": [],
   "source": [
    "df = pd.read_csv(\"../data/processed/data_merged.csv\")"
   ]
  },
  {
   "cell_type": "code",
   "execution_count": 22,
   "id": "90fb62df",
   "metadata": {},
   "outputs": [
    {
     "data": {
      "text/html": [
       "<div>\n",
       "<style scoped>\n",
       "    .dataframe tbody tr th:only-of-type {\n",
       "        vertical-align: middle;\n",
       "    }\n",
       "\n",
       "    .dataframe tbody tr th {\n",
       "        vertical-align: top;\n",
       "    }\n",
       "\n",
       "    .dataframe thead th {\n",
       "        text-align: right;\n",
       "    }\n",
       "</style>\n",
       "<table border=\"1\" class=\"dataframe\">\n",
       "  <thead>\n",
       "    <tr style=\"text-align: right;\">\n",
       "      <th></th>\n",
       "      <th>MARITAL</th>\n",
       "      <th>RENTHOM1</th>\n",
       "      <th>VETERAN3</th>\n",
       "      <th>EMPLOY1</th>\n",
       "      <th>_AGEG5YR</th>\n",
       "      <th>_INCOMG1</th>\n",
       "      <th>_EDUCAG</th>\n",
       "      <th>_CHLDCNT</th>\n",
       "      <th>_EXTETH3</th>\n",
       "      <th>HHADULT</th>\n",
       "      <th>...</th>\n",
       "      <th>_PHYS14D</th>\n",
       "      <th>_MENT14D</th>\n",
       "      <th>_BMI5CAT</th>\n",
       "      <th>LSATISFY</th>\n",
       "      <th>social_vulnerability_score</th>\n",
       "      <th>tobacco_use</th>\n",
       "      <th>health_risk_score</th>\n",
       "      <th>disability_score</th>\n",
       "      <th>trauma_exposure_score</th>\n",
       "      <th>gun_risk_score</th>\n",
       "    </tr>\n",
       "  </thead>\n",
       "  <tbody>\n",
       "    <tr>\n",
       "      <th>0</th>\n",
       "      <td>1.0</td>\n",
       "      <td>1.0</td>\n",
       "      <td>2.0</td>\n",
       "      <td>7.0</td>\n",
       "      <td>13.0</td>\n",
       "      <td>9.0</td>\n",
       "      <td>4.0</td>\n",
       "      <td>1.0</td>\n",
       "      <td>9.0</td>\n",
       "      <td>NaN</td>\n",
       "      <td>...</td>\n",
       "      <td>1.0</td>\n",
       "      <td>1.0</td>\n",
       "      <td>NaN</td>\n",
       "      <td>1.0</td>\n",
       "      <td>0.0</td>\n",
       "      <td>1.0</td>\n",
       "      <td>1.0</td>\n",
       "      <td>0.0</td>\n",
       "      <td>0.0</td>\n",
       "      <td>0.0</td>\n",
       "    </tr>\n",
       "    <tr>\n",
       "      <th>1</th>\n",
       "      <td>3.0</td>\n",
       "      <td>1.0</td>\n",
       "      <td>2.0</td>\n",
       "      <td>2.0</td>\n",
       "      <td>13.0</td>\n",
       "      <td>3.0</td>\n",
       "      <td>2.0</td>\n",
       "      <td>1.0</td>\n",
       "      <td>9.0</td>\n",
       "      <td>NaN</td>\n",
       "      <td>...</td>\n",
       "      <td>1.0</td>\n",
       "      <td>1.0</td>\n",
       "      <td>3.0</td>\n",
       "      <td>1.0</td>\n",
       "      <td>0.0</td>\n",
       "      <td>0.0</td>\n",
       "      <td>0.0</td>\n",
       "      <td>0.0</td>\n",
       "      <td>0.0</td>\n",
       "      <td>0.0</td>\n",
       "    </tr>\n",
       "    <tr>\n",
       "      <th>2</th>\n",
       "      <td>1.0</td>\n",
       "      <td>1.0</td>\n",
       "      <td>2.0</td>\n",
       "      <td>7.0</td>\n",
       "      <td>8.0</td>\n",
       "      <td>6.0</td>\n",
       "      <td>4.0</td>\n",
       "      <td>1.0</td>\n",
       "      <td>9.0</td>\n",
       "      <td>NaN</td>\n",
       "      <td>...</td>\n",
       "      <td>2.0</td>\n",
       "      <td>2.0</td>\n",
       "      <td>3.0</td>\n",
       "      <td>2.0</td>\n",
       "      <td>0.0</td>\n",
       "      <td>0.0</td>\n",
       "      <td>0.0</td>\n",
       "      <td>0.0</td>\n",
       "      <td>0.0</td>\n",
       "      <td>0.0</td>\n",
       "    </tr>\n",
       "    <tr>\n",
       "      <th>3</th>\n",
       "      <td>1.0</td>\n",
       "      <td>1.0</td>\n",
       "      <td>2.0</td>\n",
       "      <td>7.0</td>\n",
       "      <td>14.0</td>\n",
       "      <td>9.0</td>\n",
       "      <td>2.0</td>\n",
       "      <td>1.0</td>\n",
       "      <td>9.0</td>\n",
       "      <td>NaN</td>\n",
       "      <td>...</td>\n",
       "      <td>1.0</td>\n",
       "      <td>1.0</td>\n",
       "      <td>2.0</td>\n",
       "      <td>1.0</td>\n",
       "      <td>0.0</td>\n",
       "      <td>1.0</td>\n",
       "      <td>2.0</td>\n",
       "      <td>0.0</td>\n",
       "      <td>0.0</td>\n",
       "      <td>0.0</td>\n",
       "    </tr>\n",
       "    <tr>\n",
       "      <th>4</th>\n",
       "      <td>1.0</td>\n",
       "      <td>1.0</td>\n",
       "      <td>2.0</td>\n",
       "      <td>5.0</td>\n",
       "      <td>5.0</td>\n",
       "      <td>3.0</td>\n",
       "      <td>3.0</td>\n",
       "      <td>1.0</td>\n",
       "      <td>9.0</td>\n",
       "      <td>NaN</td>\n",
       "      <td>...</td>\n",
       "      <td>2.0</td>\n",
       "      <td>1.0</td>\n",
       "      <td>2.0</td>\n",
       "      <td>1.0</td>\n",
       "      <td>0.0</td>\n",
       "      <td>0.0</td>\n",
       "      <td>0.0</td>\n",
       "      <td>0.0</td>\n",
       "      <td>0.0</td>\n",
       "      <td>0.0</td>\n",
       "    </tr>\n",
       "  </tbody>\n",
       "</table>\n",
       "<p>5 rows × 36 columns</p>\n",
       "</div>"
      ],
      "text/plain": [
       "   MARITAL  RENTHOM1  VETERAN3  EMPLOY1  _AGEG5YR  _INCOMG1  _EDUCAG  \\\n",
       "0      1.0       1.0       2.0      7.0      13.0       9.0      4.0   \n",
       "1      3.0       1.0       2.0      2.0      13.0       3.0      2.0   \n",
       "2      1.0       1.0       2.0      7.0       8.0       6.0      4.0   \n",
       "3      1.0       1.0       2.0      7.0      14.0       9.0      2.0   \n",
       "4      1.0       1.0       2.0      5.0       5.0       3.0      3.0   \n",
       "\n",
       "   _CHLDCNT  _EXTETH3  HHADULT  ...  _PHYS14D  _MENT14D  _BMI5CAT  LSATISFY  \\\n",
       "0       1.0       9.0      NaN  ...       1.0       1.0       NaN       1.0   \n",
       "1       1.0       9.0      NaN  ...       1.0       1.0       3.0       1.0   \n",
       "2       1.0       9.0      NaN  ...       2.0       2.0       3.0       2.0   \n",
       "3       1.0       9.0      NaN  ...       1.0       1.0       2.0       1.0   \n",
       "4       1.0       9.0      NaN  ...       2.0       1.0       2.0       1.0   \n",
       "\n",
       "   social_vulnerability_score  tobacco_use  health_risk_score  \\\n",
       "0                         0.0          1.0                1.0   \n",
       "1                         0.0          0.0                0.0   \n",
       "2                         0.0          0.0                0.0   \n",
       "3                         0.0          1.0                2.0   \n",
       "4                         0.0          0.0                0.0   \n",
       "\n",
       "   disability_score  trauma_exposure_score  gun_risk_score  \n",
       "0               0.0                    0.0             0.0  \n",
       "1               0.0                    0.0             0.0  \n",
       "2               0.0                    0.0             0.0  \n",
       "3               0.0                    0.0             0.0  \n",
       "4               0.0                    0.0             0.0  \n",
       "\n",
       "[5 rows x 36 columns]"
      ]
     },
     "execution_count": 22,
     "metadata": {},
     "output_type": "execute_result"
    }
   ],
   "source": [
    "df.head()"
   ]
  },
  {
   "cell_type": "code",
   "execution_count": 23,
   "id": "c75cab84",
   "metadata": {},
   "outputs": [
    {
     "name": "stdout",
     "output_type": "stream",
     "text": [
      "<class 'pandas.core.frame.DataFrame'>\n",
      "RangeIndex: 445132 entries, 0 to 445131\n",
      "Data columns (total 36 columns):\n",
      " #   Column                      Non-Null Count   Dtype  \n",
      "---  ------                      --------------   -----  \n",
      " 0   MARITAL                     445124 non-null  float64\n",
      " 1   RENTHOM1                    445123 non-null  float64\n",
      " 2   VETERAN3                    440959 non-null  float64\n",
      " 3   EMPLOY1                     438936 non-null  float64\n",
      " 4   _AGEG5YR                    445132 non-null  float64\n",
      " 5   _INCOMG1                    445132 non-null  float64\n",
      " 6   _EDUCAG                     445132 non-null  float64\n",
      " 7   _CHLDCNT                    445131 non-null  float64\n",
      " 8   _EXTETH3                    445132 non-null  float64\n",
      " 9   HHADULT                     349071 non-null  float64\n",
      " 10  SEXVAR                      445132 non-null  float64\n",
      " 11  MEDCOST1                    445128 non-null  float64\n",
      " 12  _HLTHPLN                    445132 non-null  float64\n",
      " 13  _AIDTST4                    398897 non-null  float64\n",
      " 14  CDSOCIAL                    7415 non-null    float64\n",
      " 15  CDDISCUS                    7400 non-null    float64\n",
      " 16  CRGVREL4                    19634 non-null   float64\n",
      " 17  CRGVLNG1                    19583 non-null   float64\n",
      " 18  CRGVHRS1                    19533 non-null   float64\n",
      " 19  SLEPTIM1                    445129 non-null  float64\n",
      " 20  HIVRISK5                    396671 non-null  float64\n",
      " 21  MARIJAN1                    94919 non-null   float64\n",
      " 22  _TOTINDA                    445132 non-null  float64\n",
      " 23  _RFBING6                    445132 non-null  float64\n",
      " 24  ADDEPEV3                    445125 non-null  float64\n",
      " 25  COVIDPOS                    395897 non-null  float64\n",
      " 26  _PHYS14D                    445132 non-null  float64\n",
      " 27  _MENT14D                    445132 non-null  float64\n",
      " 28  _BMI5CAT                    396326 non-null  float64\n",
      " 29  LSATISFY                    254488 non-null  float64\n",
      " 30  social_vulnerability_score  445132 non-null  float64\n",
      " 31  tobacco_use                 445132 non-null  float64\n",
      " 32  health_risk_score           445132 non-null  float64\n",
      " 33  disability_score            445132 non-null  float64\n",
      " 34  trauma_exposure_score       445132 non-null  float64\n",
      " 35  gun_risk_score              445132 non-null  float64\n",
      "dtypes: float64(36)\n",
      "memory usage: 122.3 MB\n"
     ]
    }
   ],
   "source": [
    "df.info()"
   ]
  },
  {
   "cell_type": "code",
   "execution_count": 24,
   "id": "69813d3c",
   "metadata": {},
   "outputs": [],
   "source": [
    "duplicates = df.duplicated().sum()\n",
    "\n",
    "df = df.drop_duplicates()"
   ]
  },
  {
   "cell_type": "code",
   "execution_count": 25,
   "id": "9ef23597",
   "metadata": {},
   "outputs": [],
   "source": [
    "# Columnas a eliminar por amplia presencia de nulos\n",
    "cols_to_drop = [\"CDSOCIAL\", \"CDDISCUS\", \"CRGVREL4\", \"CRGVLNG1\", \"CRGVHRS1\", \"MARIJAN1\"]\n",
    "df = df.drop(cols_to_drop, axis=1)"
   ]
  },
  {
   "cell_type": "code",
   "execution_count": 26,
   "id": "671f4c97",
   "metadata": {},
   "outputs": [
    {
     "name": "stdout",
     "output_type": "stream",
     "text": [
      "<class 'pandas.core.frame.DataFrame'>\n",
      "Index: 442930 entries, 0 to 445131\n",
      "Data columns (total 30 columns):\n",
      " #   Column                      Non-Null Count   Dtype  \n",
      "---  ------                      --------------   -----  \n",
      " 0   MARITAL                     442922 non-null  float64\n",
      " 1   RENTHOM1                    442921 non-null  float64\n",
      " 2   VETERAN3                    438880 non-null  float64\n",
      " 3   EMPLOY1                     436886 non-null  float64\n",
      " 4   _AGEG5YR                    442930 non-null  float64\n",
      " 5   _INCOMG1                    442930 non-null  float64\n",
      " 6   _EDUCAG                     442930 non-null  float64\n",
      " 7   _CHLDCNT                    442929 non-null  float64\n",
      " 8   _EXTETH3                    442930 non-null  float64\n",
      " 9   HHADULT                     347413 non-null  float64\n",
      " 10  SEXVAR                      442930 non-null  float64\n",
      " 11  MEDCOST1                    442926 non-null  float64\n",
      " 12  _HLTHPLN                    442930 non-null  float64\n",
      " 13  _AIDTST4                    397198 non-null  float64\n",
      " 14  SLEPTIM1                    442927 non-null  float64\n",
      " 15  HIVRISK5                    394972 non-null  float64\n",
      " 16  _TOTINDA                    442930 non-null  float64\n",
      " 17  _RFBING6                    442930 non-null  float64\n",
      " 18  ADDEPEV3                    442923 non-null  float64\n",
      " 19  COVIDPOS                    394198 non-null  float64\n",
      " 20  _PHYS14D                    442930 non-null  float64\n",
      " 21  _MENT14D                    442930 non-null  float64\n",
      " 22  _BMI5CAT                    394554 non-null  float64\n",
      " 23  LSATISFY                    253294 non-null  float64\n",
      " 24  social_vulnerability_score  442930 non-null  float64\n",
      " 25  tobacco_use                 442930 non-null  float64\n",
      " 26  health_risk_score           442930 non-null  float64\n",
      " 27  disability_score            442930 non-null  float64\n",
      " 28  trauma_exposure_score       442930 non-null  float64\n",
      " 29  gun_risk_score              442930 non-null  float64\n",
      "dtypes: float64(30)\n",
      "memory usage: 104.8 MB\n"
     ]
    }
   ],
   "source": [
    "df.info()"
   ]
  },
  {
   "cell_type": "code",
   "execution_count": 27,
   "id": "021754ff",
   "metadata": {},
   "outputs": [],
   "source": [
    "ds = df.copy()"
   ]
  },
  {
   "cell_type": "code",
   "execution_count": 28,
   "id": "45bddc18",
   "metadata": {},
   "outputs": [],
   "source": [
    "ds = ds.dropna()"
   ]
  },
  {
   "cell_type": "code",
   "execution_count": 29,
   "id": "140eb620",
   "metadata": {},
   "outputs": [
    {
     "data": {
      "text/plain": [
       "(182940, 30)"
      ]
     },
     "execution_count": 29,
     "metadata": {},
     "output_type": "execute_result"
    }
   ],
   "source": [
    "ds.shape"
   ]
  },
  {
   "cell_type": "code",
   "execution_count": 30,
   "id": "8c36b8e3",
   "metadata": {},
   "outputs": [
    {
     "name": "stdout",
     "output_type": "stream",
     "text": [
      "<class 'pandas.core.frame.DataFrame'>\n",
      "Index: 182940 entries, 1211 to 445131\n",
      "Data columns (total 30 columns):\n",
      " #   Column                      Non-Null Count   Dtype  \n",
      "---  ------                      --------------   -----  \n",
      " 0   MARITAL                     182940 non-null  float64\n",
      " 1   RENTHOM1                    182940 non-null  float64\n",
      " 2   VETERAN3                    182940 non-null  float64\n",
      " 3   EMPLOY1                     182940 non-null  float64\n",
      " 4   _AGEG5YR                    182940 non-null  float64\n",
      " 5   _INCOMG1                    182940 non-null  float64\n",
      " 6   _EDUCAG                     182940 non-null  float64\n",
      " 7   _CHLDCNT                    182940 non-null  float64\n",
      " 8   _EXTETH3                    182940 non-null  float64\n",
      " 9   HHADULT                     182940 non-null  float64\n",
      " 10  SEXVAR                      182940 non-null  float64\n",
      " 11  MEDCOST1                    182940 non-null  float64\n",
      " 12  _HLTHPLN                    182940 non-null  float64\n",
      " 13  _AIDTST4                    182940 non-null  float64\n",
      " 14  SLEPTIM1                    182940 non-null  float64\n",
      " 15  HIVRISK5                    182940 non-null  float64\n",
      " 16  _TOTINDA                    182940 non-null  float64\n",
      " 17  _RFBING6                    182940 non-null  float64\n",
      " 18  ADDEPEV3                    182940 non-null  float64\n",
      " 19  COVIDPOS                    182940 non-null  float64\n",
      " 20  _PHYS14D                    182940 non-null  float64\n",
      " 21  _MENT14D                    182940 non-null  float64\n",
      " 22  _BMI5CAT                    182940 non-null  float64\n",
      " 23  LSATISFY                    182940 non-null  float64\n",
      " 24  social_vulnerability_score  182940 non-null  float64\n",
      " 25  tobacco_use                 182940 non-null  float64\n",
      " 26  health_risk_score           182940 non-null  float64\n",
      " 27  disability_score            182940 non-null  float64\n",
      " 28  trauma_exposure_score       182940 non-null  float64\n",
      " 29  gun_risk_score              182940 non-null  float64\n",
      "dtypes: float64(30)\n",
      "memory usage: 43.3 MB\n"
     ]
    }
   ],
   "source": [
    "ds.info()"
   ]
  },
  {
   "cell_type": "code",
   "execution_count": 31,
   "id": "5a4344db",
   "metadata": {},
   "outputs": [],
   "source": [
    "# [\"_EXTETH3\", \"HHADULT\", \"SEXVAR\", \"MEDCOST1\", \"_HLTHPLN\", \"_AIDTST4\", \"SLEPTIM1\", \"HIVRISK5\"]"
   ]
  },
  {
   "cell_type": "code",
   "execution_count": 32,
   "id": "dd23a197",
   "metadata": {},
   "outputs": [],
   "source": [
    "ds = ds.drop(\"_EXTETH3\", axis=1)"
   ]
  },
  {
   "cell_type": "code",
   "execution_count": 33,
   "id": "ead9ea07",
   "metadata": {},
   "outputs": [],
   "source": [
    "ds.loc[(ds[\"HHADULT\"]==77) | (ds[\"HHADULT\"]==88) | (ds[\"HHADULT\"]==99), \"HHADULT\"] = -1\n",
    "# ds.HHADULT.value_counts()\n",
    "# ds[\"SEXVAR\"].value_counts() # 1: Male, 2: Female"
   ]
  },
  {
   "cell_type": "code",
   "execution_count": 34,
   "id": "2840b7ad",
   "metadata": {},
   "outputs": [
    {
     "data": {
      "text/plain": [
       "MEDCOST1\n",
       " 0.0    165113\n",
       " 1.0     17283\n",
       "-1.0       544\n",
       "Name: count, dtype: int64"
      ]
     },
     "execution_count": 34,
     "metadata": {},
     "output_type": "execute_result"
    }
   ],
   "source": [
    "# 1: Yes, 2: No >> Cambiar a 1: Yes, 0: No\n",
    "ds.loc[ds[\"MEDCOST1\"] > 2, \"MEDCOST1\"] = -1\n",
    "ds.loc[ds[\"MEDCOST1\"] == 2, \"MEDCOST1\"] = 0\n",
    "ds.MEDCOST1.value_counts()"
   ]
  },
  {
   "cell_type": "code",
   "execution_count": 35,
   "id": "67a9acf0",
   "metadata": {},
   "outputs": [
    {
     "data": {
      "text/plain": [
       "_HLTHPLN\n",
       " 1.0    166294\n",
       " 0.0     10753\n",
       "-1.0      5893\n",
       "Name: count, dtype: int64"
      ]
     },
     "execution_count": 35,
     "metadata": {},
     "output_type": "execute_result"
    }
   ],
   "source": [
    "# 1: Yes, 2: No >> Cambiar a 1: Yes, 0: No\n",
    "ds.loc[ds[\"_HLTHPLN\"] > 2, \"_HLTHPLN\"] = -1\n",
    "ds.loc[ds[\"_HLTHPLN\"] == 2, \"_HLTHPLN\"] = 0\n",
    "ds._HLTHPLN.value_counts()"
   ]
  },
  {
   "cell_type": "code",
   "execution_count": 36,
   "id": "82b4c8f2",
   "metadata": {},
   "outputs": [
    {
     "data": {
      "text/plain": [
       "_AIDTST4\n",
       " 0.0    108490\n",
       " 1.0     65820\n",
       "-1.0      8630\n",
       "Name: count, dtype: int64"
      ]
     },
     "execution_count": 36,
     "metadata": {},
     "output_type": "execute_result"
    }
   ],
   "source": [
    "# 1: Yes, 2: No >> Cambiar a 1: Yes, 0: No\n",
    "ds.loc[ds[\"_AIDTST4\"] > 2, \"_AIDTST4\"] = -1\n",
    "ds.loc[ds[\"_AIDTST4\"] == 2, \"_AIDTST4\"] = 0\n",
    "ds._AIDTST4.value_counts()"
   ]
  },
  {
   "cell_type": "code",
   "execution_count": 37,
   "id": "8525a1ec",
   "metadata": {},
   "outputs": [
    {
     "data": {
      "text/plain": [
       "HIVRISK5\n",
       " 0.0    172627\n",
       " 1.0      9526\n",
       "-1.0       787\n",
       "Name: count, dtype: int64"
      ]
     },
     "execution_count": 37,
     "metadata": {},
     "output_type": "execute_result"
    }
   ],
   "source": [
    "# 1: Yes, 2: No >> Cambiar a 1: Yes, 0: No\n",
    "ds.loc[ds[\"HIVRISK5\"] > 2, \"HIVRISK5\"] = -1\n",
    "ds.loc[ds[\"HIVRISK5\"] == 2, \"HIVRISK5\"] = 0\n",
    "ds.HIVRISK5.value_counts()"
   ]
  },
  {
   "cell_type": "code",
   "execution_count": 38,
   "id": "79d0b4f8",
   "metadata": {},
   "outputs": [
    {
     "data": {
      "text/plain": [
       "SLEPTIM1\n",
       "7.0     56413\n",
       "8.0     49806\n",
       "6.0     40882\n",
       "5.0     12679\n",
       "9.0      8315\n",
       "4.0      5249\n",
       "10.0     3802\n",
       "77.0     1478\n",
       "3.0      1312\n",
       "12.0     1048\n",
       "2.0       555\n",
       "1.0       418\n",
       "11.0      259\n",
       "99.0      168\n",
       "14.0      125\n",
       "15.0      114\n",
       "16.0      104\n",
       "13.0       68\n",
       "18.0       68\n",
       "20.0       38\n",
       "24.0       17\n",
       "17.0        9\n",
       "19.0        6\n",
       "23.0        5\n",
       "22.0        2\n",
       "Name: count, dtype: int64"
      ]
     },
     "execution_count": 38,
     "metadata": {},
     "output_type": "execute_result"
    }
   ],
   "source": [
    "ds[\"SLEPTIM1\"].value_counts()"
   ]
  },
  {
   "cell_type": "code",
   "execution_count": null,
   "id": "bbb56e39",
   "metadata": {},
   "outputs": [
    {
     "data": {
      "text/plain": [
       "SLEPTIM1\n",
       " 1.0    155416\n",
       " 0.0     20213\n",
       " 2.0      5665\n",
       "-1.0      1646\n",
       "Name: count, dtype: int64"
      ]
     },
     "execution_count": 39,
     "metadata": {},
     "output_type": "execute_result"
    }
   ],
   "source": [
    "ds.loc[ds[\"SLEPTIM1\"] > 24, \"SLEPTIM1\"] = -1\n",
    "ds.loc[(ds[\"SLEPTIM1\"] > 0) & (ds[\"SLEPTIM1\"] <= 5), \"SLEPTIM1\"] = 2\n",
    "ds.loc[(ds[\"SLEPTIM1\"] > 5) & (ds[\"SLEPTIM1\"] <= 9), \"SLEPTIM1\"] = 0\n",
    "ds.loc[(ds[\"SLEPTIM1\"] > 9) & (ds[\"SLEPTIM1\"] <= 24), \"SLEPTIM1\"] = 1\n",
    "ds.SLEPTIM1.value_counts()"
   ]
  }
 ],
 "metadata": {
  "kernelspec": {
   "display_name": ".venv",
   "language": "python",
   "name": "python3"
  },
  "language_info": {
   "codemirror_mode": {
    "name": "ipython",
    "version": 3
   },
   "file_extension": ".py",
   "mimetype": "text/x-python",
   "name": "python",
   "nbconvert_exporter": "python",
   "pygments_lexer": "ipython3",
   "version": "3.11.4"
  }
 },
 "nbformat": 4,
 "nbformat_minor": 5
}
