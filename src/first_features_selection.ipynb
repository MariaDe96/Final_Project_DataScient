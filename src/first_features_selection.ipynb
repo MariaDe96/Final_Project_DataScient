{
    "cells": [
        {
            "cell_type": "markdown",
            "metadata": {},
            "source": [
                "# Explore here"
            ]
        },
        {
            "cell_type": "code",
            "execution_count": 5,
            "metadata": {},
            "outputs": [],
            "source": [
                "# Your code here\n",
                "import pandas as pd\n",
                "import numpy as np"
            ]
        },
        {
            "cell_type": "code",
            "execution_count": 6,
            "metadata": {},
            "outputs": [
                {
                    "data": {
                        "text/html": [
                            "<div>\n",
                            "<style scoped>\n",
                            "    .dataframe tbody tr th:only-of-type {\n",
                            "        vertical-align: middle;\n",
                            "    }\n",
                            "\n",
                            "    .dataframe tbody tr th {\n",
                            "        vertical-align: top;\n",
                            "    }\n",
                            "\n",
                            "    .dataframe thead th {\n",
                            "        text-align: right;\n",
                            "    }\n",
                            "</style>\n",
                            "<table border=\"1\" class=\"dataframe\">\n",
                            "  <thead>\n",
                            "    <tr style=\"text-align: right;\">\n",
                            "      <th></th>\n",
                            "      <th>MARITAL</th>\n",
                            "      <th>RENTHOM1</th>\n",
                            "      <th>VETERAN3</th>\n",
                            "      <th>EMPLOY1</th>\n",
                            "      <th>_AGEG5YR</th>\n",
                            "      <th>_INCOMG1</th>\n",
                            "      <th>_EDUCAG</th>\n",
                            "      <th>_CHLDCNT</th>\n",
                            "      <th>_EXTETH3</th>\n",
                            "      <th>HHADULT</th>\n",
                            "      <th>...</th>\n",
                            "      <th>ACEPRISN</th>\n",
                            "      <th>ACEDIVRC</th>\n",
                            "      <th>ACEHURT1</th>\n",
                            "      <th>ACESWEAR</th>\n",
                            "      <th>ACETOUCH</th>\n",
                            "      <th>ACETTHEM</th>\n",
                            "      <th>ACEHVSEX</th>\n",
                            "      <th>FIREARM5</th>\n",
                            "      <th>GUNLOAD</th>\n",
                            "      <th>LOADULK2</th>\n",
                            "    </tr>\n",
                            "  </thead>\n",
                            "  <tbody>\n",
                            "    <tr>\n",
                            "      <th>0</th>\n",
                            "      <td>1.0</td>\n",
                            "      <td>1.0</td>\n",
                            "      <td>2.0</td>\n",
                            "      <td>7.0</td>\n",
                            "      <td>13.0</td>\n",
                            "      <td>9.0</td>\n",
                            "      <td>4.0</td>\n",
                            "      <td>1.0</td>\n",
                            "      <td>9.0</td>\n",
                            "      <td>NaN</td>\n",
                            "      <td>...</td>\n",
                            "      <td>NaN</td>\n",
                            "      <td>NaN</td>\n",
                            "      <td>NaN</td>\n",
                            "      <td>NaN</td>\n",
                            "      <td>NaN</td>\n",
                            "      <td>NaN</td>\n",
                            "      <td>NaN</td>\n",
                            "      <td>NaN</td>\n",
                            "      <td>NaN</td>\n",
                            "      <td>NaN</td>\n",
                            "    </tr>\n",
                            "    <tr>\n",
                            "      <th>1</th>\n",
                            "      <td>3.0</td>\n",
                            "      <td>1.0</td>\n",
                            "      <td>2.0</td>\n",
                            "      <td>2.0</td>\n",
                            "      <td>13.0</td>\n",
                            "      <td>3.0</td>\n",
                            "      <td>2.0</td>\n",
                            "      <td>1.0</td>\n",
                            "      <td>9.0</td>\n",
                            "      <td>NaN</td>\n",
                            "      <td>...</td>\n",
                            "      <td>NaN</td>\n",
                            "      <td>NaN</td>\n",
                            "      <td>NaN</td>\n",
                            "      <td>NaN</td>\n",
                            "      <td>NaN</td>\n",
                            "      <td>NaN</td>\n",
                            "      <td>NaN</td>\n",
                            "      <td>NaN</td>\n",
                            "      <td>NaN</td>\n",
                            "      <td>NaN</td>\n",
                            "    </tr>\n",
                            "    <tr>\n",
                            "      <th>2</th>\n",
                            "      <td>1.0</td>\n",
                            "      <td>1.0</td>\n",
                            "      <td>2.0</td>\n",
                            "      <td>7.0</td>\n",
                            "      <td>8.0</td>\n",
                            "      <td>6.0</td>\n",
                            "      <td>4.0</td>\n",
                            "      <td>1.0</td>\n",
                            "      <td>9.0</td>\n",
                            "      <td>NaN</td>\n",
                            "      <td>...</td>\n",
                            "      <td>NaN</td>\n",
                            "      <td>NaN</td>\n",
                            "      <td>NaN</td>\n",
                            "      <td>NaN</td>\n",
                            "      <td>NaN</td>\n",
                            "      <td>NaN</td>\n",
                            "      <td>NaN</td>\n",
                            "      <td>NaN</td>\n",
                            "      <td>NaN</td>\n",
                            "      <td>NaN</td>\n",
                            "    </tr>\n",
                            "    <tr>\n",
                            "      <th>3</th>\n",
                            "      <td>1.0</td>\n",
                            "      <td>1.0</td>\n",
                            "      <td>2.0</td>\n",
                            "      <td>7.0</td>\n",
                            "      <td>14.0</td>\n",
                            "      <td>9.0</td>\n",
                            "      <td>2.0</td>\n",
                            "      <td>1.0</td>\n",
                            "      <td>9.0</td>\n",
                            "      <td>NaN</td>\n",
                            "      <td>...</td>\n",
                            "      <td>NaN</td>\n",
                            "      <td>NaN</td>\n",
                            "      <td>NaN</td>\n",
                            "      <td>NaN</td>\n",
                            "      <td>NaN</td>\n",
                            "      <td>NaN</td>\n",
                            "      <td>NaN</td>\n",
                            "      <td>NaN</td>\n",
                            "      <td>NaN</td>\n",
                            "      <td>NaN</td>\n",
                            "    </tr>\n",
                            "    <tr>\n",
                            "      <th>4</th>\n",
                            "      <td>1.0</td>\n",
                            "      <td>1.0</td>\n",
                            "      <td>2.0</td>\n",
                            "      <td>5.0</td>\n",
                            "      <td>5.0</td>\n",
                            "      <td>3.0</td>\n",
                            "      <td>3.0</td>\n",
                            "      <td>1.0</td>\n",
                            "      <td>9.0</td>\n",
                            "      <td>NaN</td>\n",
                            "      <td>...</td>\n",
                            "      <td>NaN</td>\n",
                            "      <td>NaN</td>\n",
                            "      <td>NaN</td>\n",
                            "      <td>NaN</td>\n",
                            "      <td>NaN</td>\n",
                            "      <td>NaN</td>\n",
                            "      <td>NaN</td>\n",
                            "      <td>NaN</td>\n",
                            "      <td>NaN</td>\n",
                            "      <td>NaN</td>\n",
                            "    </tr>\n",
                            "    <tr>\n",
                            "      <th>...</th>\n",
                            "      <td>...</td>\n",
                            "      <td>...</td>\n",
                            "      <td>...</td>\n",
                            "      <td>...</td>\n",
                            "      <td>...</td>\n",
                            "      <td>...</td>\n",
                            "      <td>...</td>\n",
                            "      <td>...</td>\n",
                            "      <td>...</td>\n",
                            "      <td>...</td>\n",
                            "      <td>...</td>\n",
                            "      <td>...</td>\n",
                            "      <td>...</td>\n",
                            "      <td>...</td>\n",
                            "      <td>...</td>\n",
                            "      <td>...</td>\n",
                            "      <td>...</td>\n",
                            "      <td>...</td>\n",
                            "      <td>...</td>\n",
                            "      <td>...</td>\n",
                            "      <td>...</td>\n",
                            "    </tr>\n",
                            "    <tr>\n",
                            "      <th>445127</th>\n",
                            "      <td>5.0</td>\n",
                            "      <td>2.0</td>\n",
                            "      <td>2.0</td>\n",
                            "      <td>1.0</td>\n",
                            "      <td>1.0</td>\n",
                            "      <td>1.0</td>\n",
                            "      <td>2.0</td>\n",
                            "      <td>2.0</td>\n",
                            "      <td>1.0</td>\n",
                            "      <td>5.0</td>\n",
                            "      <td>...</td>\n",
                            "      <td>NaN</td>\n",
                            "      <td>NaN</td>\n",
                            "      <td>NaN</td>\n",
                            "      <td>NaN</td>\n",
                            "      <td>NaN</td>\n",
                            "      <td>NaN</td>\n",
                            "      <td>NaN</td>\n",
                            "      <td>NaN</td>\n",
                            "      <td>NaN</td>\n",
                            "      <td>NaN</td>\n",
                            "    </tr>\n",
                            "    <tr>\n",
                            "      <th>445128</th>\n",
                            "      <td>1.0</td>\n",
                            "      <td>1.0</td>\n",
                            "      <td>1.0</td>\n",
                            "      <td>1.0</td>\n",
                            "      <td>7.0</td>\n",
                            "      <td>5.0</td>\n",
                            "      <td>4.0</td>\n",
                            "      <td>2.0</td>\n",
                            "      <td>1.0</td>\n",
                            "      <td>2.0</td>\n",
                            "      <td>...</td>\n",
                            "      <td>NaN</td>\n",
                            "      <td>NaN</td>\n",
                            "      <td>NaN</td>\n",
                            "      <td>NaN</td>\n",
                            "      <td>NaN</td>\n",
                            "      <td>NaN</td>\n",
                            "      <td>NaN</td>\n",
                            "      <td>NaN</td>\n",
                            "      <td>NaN</td>\n",
                            "      <td>NaN</td>\n",
                            "    </tr>\n",
                            "    <tr>\n",
                            "      <th>445129</th>\n",
                            "      <td>1.0</td>\n",
                            "      <td>3.0</td>\n",
                            "      <td>2.0</td>\n",
                            "      <td>8.0</td>\n",
                            "      <td>10.0</td>\n",
                            "      <td>9.0</td>\n",
                            "      <td>2.0</td>\n",
                            "      <td>1.0</td>\n",
                            "      <td>2.0</td>\n",
                            "      <td>1.0</td>\n",
                            "      <td>...</td>\n",
                            "      <td>NaN</td>\n",
                            "      <td>NaN</td>\n",
                            "      <td>NaN</td>\n",
                            "      <td>NaN</td>\n",
                            "      <td>NaN</td>\n",
                            "      <td>NaN</td>\n",
                            "      <td>NaN</td>\n",
                            "      <td>NaN</td>\n",
                            "      <td>NaN</td>\n",
                            "      <td>NaN</td>\n",
                            "    </tr>\n",
                            "    <tr>\n",
                            "      <th>445130</th>\n",
                            "      <td>1.0</td>\n",
                            "      <td>2.0</td>\n",
                            "      <td>2.0</td>\n",
                            "      <td>7.0</td>\n",
                            "      <td>11.0</td>\n",
                            "      <td>5.0</td>\n",
                            "      <td>3.0</td>\n",
                            "      <td>1.0</td>\n",
                            "      <td>1.0</td>\n",
                            "      <td>2.0</td>\n",
                            "      <td>...</td>\n",
                            "      <td>NaN</td>\n",
                            "      <td>NaN</td>\n",
                            "      <td>NaN</td>\n",
                            "      <td>NaN</td>\n",
                            "      <td>NaN</td>\n",
                            "      <td>NaN</td>\n",
                            "      <td>NaN</td>\n",
                            "      <td>NaN</td>\n",
                            "      <td>NaN</td>\n",
                            "      <td>NaN</td>\n",
                            "    </tr>\n",
                            "    <tr>\n",
                            "      <th>445131</th>\n",
                            "      <td>3.0</td>\n",
                            "      <td>1.0</td>\n",
                            "      <td>2.0</td>\n",
                            "      <td>1.0</td>\n",
                            "      <td>5.0</td>\n",
                            "      <td>2.0</td>\n",
                            "      <td>1.0</td>\n",
                            "      <td>1.0</td>\n",
                            "      <td>1.0</td>\n",
                            "      <td>1.0</td>\n",
                            "      <td>...</td>\n",
                            "      <td>NaN</td>\n",
                            "      <td>NaN</td>\n",
                            "      <td>NaN</td>\n",
                            "      <td>NaN</td>\n",
                            "      <td>NaN</td>\n",
                            "      <td>NaN</td>\n",
                            "      <td>NaN</td>\n",
                            "      <td>NaN</td>\n",
                            "      <td>NaN</td>\n",
                            "      <td>NaN</td>\n",
                            "    </tr>\n",
                            "  </tbody>\n",
                            "</table>\n",
                            "<p>445132 rows × 82 columns</p>\n",
                            "</div>"
                        ],
                        "text/plain": [
                            "        MARITAL  RENTHOM1  VETERAN3  EMPLOY1  _AGEG5YR  _INCOMG1  _EDUCAG  \\\n",
                            "0           1.0       1.0       2.0      7.0      13.0       9.0      4.0   \n",
                            "1           3.0       1.0       2.0      2.0      13.0       3.0      2.0   \n",
                            "2           1.0       1.0       2.0      7.0       8.0       6.0      4.0   \n",
                            "3           1.0       1.0       2.0      7.0      14.0       9.0      2.0   \n",
                            "4           1.0       1.0       2.0      5.0       5.0       3.0      3.0   \n",
                            "...         ...       ...       ...      ...       ...       ...      ...   \n",
                            "445127      5.0       2.0       2.0      1.0       1.0       1.0      2.0   \n",
                            "445128      1.0       1.0       1.0      1.0       7.0       5.0      4.0   \n",
                            "445129      1.0       3.0       2.0      8.0      10.0       9.0      2.0   \n",
                            "445130      1.0       2.0       2.0      7.0      11.0       5.0      3.0   \n",
                            "445131      3.0       1.0       2.0      1.0       5.0       2.0      1.0   \n",
                            "\n",
                            "        _CHLDCNT  _EXTETH3  HHADULT  ...  ACEPRISN  ACEDIVRC  ACEHURT1  \\\n",
                            "0            1.0       9.0      NaN  ...       NaN       NaN       NaN   \n",
                            "1            1.0       9.0      NaN  ...       NaN       NaN       NaN   \n",
                            "2            1.0       9.0      NaN  ...       NaN       NaN       NaN   \n",
                            "3            1.0       9.0      NaN  ...       NaN       NaN       NaN   \n",
                            "4            1.0       9.0      NaN  ...       NaN       NaN       NaN   \n",
                            "...          ...       ...      ...  ...       ...       ...       ...   \n",
                            "445127       2.0       1.0      5.0  ...       NaN       NaN       NaN   \n",
                            "445128       2.0       1.0      2.0  ...       NaN       NaN       NaN   \n",
                            "445129       1.0       2.0      1.0  ...       NaN       NaN       NaN   \n",
                            "445130       1.0       1.0      2.0  ...       NaN       NaN       NaN   \n",
                            "445131       1.0       1.0      1.0  ...       NaN       NaN       NaN   \n",
                            "\n",
                            "        ACESWEAR  ACETOUCH  ACETTHEM  ACEHVSEX  FIREARM5  GUNLOAD  LOADULK2  \n",
                            "0            NaN       NaN       NaN       NaN       NaN      NaN       NaN  \n",
                            "1            NaN       NaN       NaN       NaN       NaN      NaN       NaN  \n",
                            "2            NaN       NaN       NaN       NaN       NaN      NaN       NaN  \n",
                            "3            NaN       NaN       NaN       NaN       NaN      NaN       NaN  \n",
                            "4            NaN       NaN       NaN       NaN       NaN      NaN       NaN  \n",
                            "...          ...       ...       ...       ...       ...      ...       ...  \n",
                            "445127       NaN       NaN       NaN       NaN       NaN      NaN       NaN  \n",
                            "445128       NaN       NaN       NaN       NaN       NaN      NaN       NaN  \n",
                            "445129       NaN       NaN       NaN       NaN       NaN      NaN       NaN  \n",
                            "445130       NaN       NaN       NaN       NaN       NaN      NaN       NaN  \n",
                            "445131       NaN       NaN       NaN       NaN       NaN      NaN       NaN  \n",
                            "\n",
                            "[445132 rows x 82 columns]"
                        ]
                    },
                    "execution_count": 6,
                    "metadata": {},
                    "output_type": "execute_result"
                }
            ],
            "source": [
                "data = pd.read_csv('/workspaces/Final_Project_DataScient/data/interim/data_limpia.zip')\n",
                "df = data.copy()\n",
                "df"
            ]
        },
        {
            "cell_type": "markdown",
            "metadata": {},
            "source": [
                "## Ingenieria de atributos para fusionar columnas con significado acumulativo\n",
                "**Paso 1:** Analizar la codificacion presente en las columnas susceptibles de fusionar  \n",
                "**Paso 2:** Imputar valores a los NaN presentes en columnas a sumar (Nan + 1 = NaN, NaN + 0 = Nan...)  \n",
                "**Paso 3:** Sumar columnas y agregar resultado a nueva columna  \n",
                "**Paso 4:** Eliminar columnas utilizadas para la crecion de una nueva"
            ]
        },
        {
            "cell_type": "markdown",
            "metadata": {},
            "source": [
                "Variables _HLTHPLN (Cobertura formal del sistema de salud) y PERSDOC3 (Atención continua o relación con un médico)\n",
                "\n",
                "Se decide mantener solo _HLTHPLN porque:\n",
                "- Es más fundamental y objetivo (tener o no cobertura).\n",
                "- Está menos expuesta a interpretación subjetiva.\n",
                "- Captura directamente un factor estructural de acceso."
            ]
        },
        {
            "cell_type": "code",
            "execution_count": 7,
            "metadata": {},
            "outputs": [],
            "source": [
                "df = df.drop(\"PERSDOC3\", axis=1)"
            ]
        },
        {
            "cell_type": "markdown",
            "metadata": {},
            "source": [
                "social_vulnerability_score: ``SDHEMPLY``, ``SDHFOOD1``, ``SDHUTILS``, ``SDHBILLS``, ``SDHTRNSP``, ``CAREGIV1``"
            ]
        },
        {
            "cell_type": "markdown",
            "metadata": {},
            "source": [
                "``SDHEMPLY``: Problemas para encontrar o mantener empleo por razones de salud  \n",
                "``SDHFOOD1``: Problemas para acceder a comida suficiente  \n",
                "``SDHUTILS``: Dificultades para pagar agua, luz, gas  \n",
                "``SDHBILLS``: Dificultad para pagar otras facturas (no básicas)  \n",
                "``SDHTRNSP``: Problemas con transporte para acceder a atención médica o actividades  \n",
                "``CAREGIV1``: Si cuida a otra persona (sí/no)  "
            ]
        },
        {
            "cell_type": "code",
            "execution_count": 8,
            "metadata": {},
            "outputs": [
                {
                    "data": {
                        "text/plain": [
                            "SDHEMPLY\n",
                            "0.0    227969\n",
                            "1.0     23170\n",
                            "Name: count, dtype: int64"
                        ]
                    },
                    "execution_count": 8,
                    "metadata": {},
                    "output_type": "execute_result"
                }
            ],
            "source": [
                "# 1: Yes, 2: No >> Cambiar a 1: Yes, 0: No\n",
                "df.loc[df[\"SDHEMPLY\"] > 2, \"SDHEMPLY\"] = np.nan\n",
                "df.loc[df[\"SDHEMPLY\"] == 2, \"SDHEMPLY\"] = 0\n",
                "df.SDHEMPLY.value_counts()"
            ]
        },
        {
            "cell_type": "code",
            "execution_count": 9,
            "metadata": {},
            "outputs": [
                {
                    "data": {
                        "text/plain": [
                            "SDHFOOD1\n",
                            "0.0    203654\n",
                            "1.0     47453\n",
                            "Name: count, dtype: int64"
                        ]
                    },
                    "execution_count": 9,
                    "metadata": {},
                    "output_type": "execute_result"
                }
            ],
            "source": [
                "# 1, 2, 3 o 4: Yes, 5: No >> Cambiar a 1: Yes, 0: No\n",
                "df.loc[df[\"SDHFOOD1\"] > 5, \"SDHFOOD1\"] = np.nan\n",
                "df.loc[df[\"SDHFOOD1\"] < 5, \"SDHFOOD1\"] = 1\n",
                "df.loc[df[\"SDHFOOD1\"] == 5, \"SDHFOOD1\"] = 0\n",
                "df.SDHFOOD1.value_counts()"
            ]
        },
        {
            "cell_type": "code",
            "execution_count": 10,
            "metadata": {},
            "outputs": [
                {
                    "data": {
                        "text/plain": [
                            "SDHUTILS\n",
                            "0.0    236141\n",
                            "1.0     14942\n",
                            "Name: count, dtype: int64"
                        ]
                    },
                    "execution_count": 10,
                    "metadata": {},
                    "output_type": "execute_result"
                }
            ],
            "source": [
                "# 1: Yes, 2: No >> Cambiar a 1: Yes, 0: No\n",
                "df.loc[df[\"SDHUTILS\"] > 2, \"SDHUTILS\"] = np.nan\n",
                "df.loc[df[\"SDHUTILS\"] == 2, \"SDHUTILS\"] = 0\n",
                "df.SDHUTILS.value_counts()"
            ]
        },
        {
            "cell_type": "code",
            "execution_count": 11,
            "metadata": {},
            "outputs": [
                {
                    "data": {
                        "text/plain": [
                            "SDHBILLS\n",
                            "0.0    228332\n",
                            "1.0     22690\n",
                            "Name: count, dtype: int64"
                        ]
                    },
                    "execution_count": 11,
                    "metadata": {},
                    "output_type": "execute_result"
                }
            ],
            "source": [
                "# 1: Yes, 2: No >> Cambiar a 1: Yes, 0: No\n",
                "df.loc[df[\"SDHBILLS\"] > 2, \"SDHBILLS\"] = np.nan\n",
                "df.loc[df[\"SDHBILLS\"] == 2, \"SDHBILLS\"] = 0\n",
                "df.SDHBILLS.value_counts()"
            ]
        },
        {
            "cell_type": "code",
            "execution_count": 12,
            "metadata": {},
            "outputs": [
                {
                    "data": {
                        "text/plain": [
                            "CAREGIV1\n",
                            "0.0    78174\n",
                            "1.0    19662\n",
                            "Name: count, dtype: int64"
                        ]
                    },
                    "execution_count": 12,
                    "metadata": {},
                    "output_type": "execute_result"
                }
            ],
            "source": [
                "# 1: Yes, 2: No >> Cambiar a 1: Yes, 0: No\n",
                "df.loc[df[\"CAREGIV1\"] > 2, \"CAREGIV1\"] = np.nan\n",
                "df.loc[df[\"CAREGIV1\"] == 2, \"CAREGIV1\"] = 0\n",
                "df.CAREGIV1.value_counts()"
            ]
        },
        {
            "cell_type": "code",
            "execution_count": 13,
            "metadata": {},
            "outputs": [],
            "source": [
                "social_columns = [\"SDHEMPLY\", \"SDHFOOD1\", \"SDHUTILS\", \"SDHBILLS\", \"SDHTRNSP\", \"CAREGIV1\"]\n",
                "# Se imputa 0 a los valores vacios que indican no respuesta a la pregunta asumiendo respuesta negativa\n",
                "df[social_columns] = df[social_columns].fillna(0)\n",
                "\n",
                "df[\"social_vulnerability_score\"] = df[social_columns].sum(axis=1)\n",
                "df = df.drop(social_columns, axis=1)"
            ]
        },
        {
            "cell_type": "markdown",
            "metadata": {},
            "source": [
                "Se unifican valores relativos a condiciones sociales en un score acumulativo, donde mayor valor indica peor condicion social"
            ]
        },
        {
            "cell_type": "code",
            "execution_count": 14,
            "metadata": {},
            "outputs": [
                {
                    "data": {
                        "text/plain": [
                            "(445132, 76)"
                        ]
                    },
                    "execution_count": 14,
                    "metadata": {},
                    "output_type": "execute_result"
                }
            ],
            "source": [
                "df.shape"
            ]
        },
        {
            "cell_type": "markdown",
            "metadata": {},
            "source": [
                "Variables EXERANY2 (Realiza alguna actividad física) y _TOTINDA (Actividad física suficiente (recodificada))\n",
                "\n",
                "Se decide mantener solo _TOTINDA porque:\n",
                "- Ya está recodificada de forma estandarizada por el BRFSS.\n",
                "- Refleja si cumple con los mínimos de actividad física recomendados, no solo si ha hecho \"algo\".\n",
                "- Más útil para análisis de riesgo real o comparación entre personas."
            ]
        },
        {
            "cell_type": "code",
            "execution_count": 15,
            "metadata": {},
            "outputs": [],
            "source": [
                "df = df.drop(\"EXERANY2\", axis=1)"
            ]
        },
        {
            "cell_type": "markdown",
            "metadata": {},
            "source": [
                "Variables SMOKE100 (¿Ha fumado ≥100 cigarrillos en su vida?),  USENOW3 (¿Fuma actualmente cigarrillos tradicionales?) y _RFSMOK3 (Fumador actual (recodificada))\n",
                "\n",
                "Se decide mantener solo _RFSMOK3 porque:\n",
                "- Ya resume todo lo relevante del consumo de tabaco convencional."
            ]
        },
        {
            "cell_type": "code",
            "execution_count": 16,
            "metadata": {},
            "outputs": [],
            "source": [
                "df = df.drop([\"SMOKE100\", \"USENOW3\"], axis=1)"
            ]
        },
        {
            "cell_type": "markdown",
            "metadata": {},
            "source": [
                "tobacco_use: ``_RFSMOK3`` y ``ECIGNOW2``"
            ]
        },
        {
            "cell_type": "markdown",
            "metadata": {},
            "source": [
                "``_RFSMOK3``: Fumador actual  \n",
                "``ECIGNOW2``: ¿Usa cigarrillos electrónicos actualmente? "
            ]
        },
        {
            "cell_type": "code",
            "execution_count": 13,
            "metadata": {},
            "outputs": [
                {
                    "data": {
                        "text/plain": [
                            "_RFSMOK3\n",
                            "0.0    359729\n",
                            "1.0     49941\n",
                            "Name: count, dtype: int64"
                        ]
                    },
                    "execution_count": 13,
                    "metadata": {},
                    "output_type": "execute_result"
                }
            ],
            "source": [
                "# 1: No, 2: Yes >> Cambiar a 1: Yes, 0: No\n",
                "df.loc[df[\"_RFSMOK3\"] > 2, \"_RFSMOK3\"] = np.nan\n",
                "\n",
                "df.loc[df[\"_RFSMOK3\"] == 1, \"_RFSMOK3\"] = 0\n",
                "df.loc[df[\"_RFSMOK3\"] == 2, \"_RFSMOK3\"] = 1\n",
                "\n",
                "df._RFSMOK3.value_counts()"
            ]
        },
        {
            "cell_type": "code",
            "execution_count": 14,
            "metadata": {},
            "outputs": [
                {
                    "data": {
                        "text/plain": [
                            "ECIGNOW2\n",
                            "0.0    311988\n",
                            "1.0     97484\n",
                            "Name: count, dtype: int64"
                        ]
                    },
                    "execution_count": 14,
                    "metadata": {},
                    "output_type": "execute_result"
                }
            ],
            "source": [
                "# 1: No, 2, 3 o 4: Yes >> Cambiar a 1: Yes, 0: No\n",
                "df.loc[df[\"ECIGNOW2\"] > 4, \"ECIGNOW2\"] = np.nan\n",
                "df.loc[df[\"ECIGNOW2\"] == 1, \"ECIGNOW2\"] = 0\n",
                "df.loc[df[\"ECIGNOW2\"] > 1, \"ECIGNOW2\"] = 1\n",
                "\n",
                "df.ECIGNOW2.value_counts()"
            ]
        },
        {
            "cell_type": "code",
            "execution_count": 15,
            "metadata": {},
            "outputs": [],
            "source": [
                "tobacco_columns = [\"_RFSMOK3\", \"ECIGNOW2\"]\n",
                "# Se imputa 0 a los valores vacios que indican no respuesta a la pregunta asumiendo respuesta negativa\n",
                "df[tobacco_columns] = df[tobacco_columns].fillna(0)\n",
                "\n",
                "df[\"tobacco_use\"] = df[tobacco_columns].sum(axis=1)\n",
                "df = df.drop(tobacco_columns, axis=1)"
            ]
        },
        {
            "cell_type": "markdown",
            "metadata": {},
            "source": [
                "Se unifican valores relativos a uso de tabaco o vapeo en un score acumulativo, donde mayor valor indica mayor consumo"
            ]
        },
        {
            "cell_type": "code",
            "execution_count": 16,
            "metadata": {},
            "outputs": [
                {
                    "data": {
                        "text/plain": [
                            "(445132, 72)"
                        ]
                    },
                    "execution_count": 16,
                    "metadata": {},
                    "output_type": "execute_result"
                }
            ],
            "source": [
                "df.shape"
            ]
        },
        {
            "cell_type": "markdown",
            "metadata": {},
            "source": [
                "Variables ALCDAY4 (Frecuencia de consumo de alcohol), AVEDRNK3 (Promedio de copas por día cuando bebe), DRNK3GE5 (¿Bebe ≥5 copas en una sola ocasión al menos una vez al mes?), MAXDRNKS (Máximo de copas en una sola ocasión), ASBIALCH (¿En su chequeo médico le preguntaron si bebe alcohol?), ASBIDRNK (¿Le preguntaron cuánta cantidad?), ASBIBING (¿Le preguntaron si hace atracones?), DRNKANY6 (¿Ha bebido alcohol en los últimos 30 días?) y _RFBING6 (Recodificación de binge drinking: ≥5 copas para hombres, ≥4 mujeres)\n",
                "\n",
                "Se decide mantener solo _RFBING6 porque:\n",
                "- Identifica personas con comportamientos de consumo de alcohol de alto riesgo"
            ]
        },
        {
            "cell_type": "code",
            "execution_count": 17,
            "metadata": {},
            "outputs": [],
            "source": [
                "df = df.drop([\"ALCDAY4\", \"AVEDRNK3\", \"DRNK3GE5\", \"MAXDRNKS\", \"ASBIALCH\", \"ASBIDRNK\", \"ASBIBING\", \"DRNKANY6\"], axis=1)"
            ]
        },
        {
            "cell_type": "code",
            "execution_count": 18,
            "metadata": {},
            "outputs": [
                {
                    "data": {
                        "text/plain": [
                            "_RFBING6\n",
                            "0.0    337114\n",
                            "1.0     56916\n",
                            "Name: count, dtype: int64"
                        ]
                    },
                    "execution_count": 18,
                    "metadata": {},
                    "output_type": "execute_result"
                }
            ],
            "source": [
                "# 1: No, 2: Yes >> Cambiar a 1: Yes, 0: No\n",
                "df.loc[df[\"_RFBING6\"] > 2, \"_RFBING6\"] = np.nan\n",
                "\n",
                "df.loc[df[\"_RFBING6\"] == 1, \"_RFBING6\"] = 0\n",
                "df.loc[df[\"_RFBING6\"] == 2, \"_RFBING6\"] = 1\n",
                "\n",
                "df._RFBING6.value_counts()"
            ]
        },
        {
            "cell_type": "markdown",
            "metadata": {},
            "source": [
                "Variables MARIJAN1 (Uso de marihuana en los últimos 30 días), MARJSMOK (Ha fumado marihuana), MARJEAT (Ha comido marihuana (comestibles)), MARJVAPE (Ha vapeado marihuana), MARJDAB (Ha usado marihuana en forma de dab/wax) y MARJOTHR (Ha usado marihuana de otras formas)\n",
                "\n",
                "Se decide mantener solo MARIJAN1 porque:\n",
                "- Es una variable resumen, y su respuesta \"Sí\" debería implicar que alguna de las otras formas de uso fue positiva."
            ]
        },
        {
            "cell_type": "code",
            "execution_count": 19,
            "metadata": {},
            "outputs": [],
            "source": [
                "df = df.drop([\"MARJSMOK\", \"MARJEAT\", \"MARJVAPE\", \"MARJDAB\", \"MARJOTHR\"], axis=1)"
            ]
        },
        {
            "cell_type": "code",
            "execution_count": 20,
            "metadata": {},
            "outputs": [
                {
                    "data": {
                        "text/plain": [
                            "MARIJAN1\n",
                            "0.0    83394\n",
                            "1.0    11525\n",
                            "Name: count, dtype: int64"
                        ]
                    },
                    "execution_count": 20,
                    "metadata": {},
                    "output_type": "execute_result"
                }
            ],
            "source": [
                "# 1-30: Yes, >30: No >> Cambiar a 1: Yes, 0: No\n",
                "df.loc[df[\"MARIJAN1\"] <= 30, \"MARIJAN1\"] = 1\n",
                "df.loc[df[\"MARIJAN1\"] > 30, \"MARIJAN1\"] = 0\n",
                "\n",
                "df.MARIJAN1.value_counts()"
            ]
        },
        {
            "cell_type": "code",
            "execution_count": 21,
            "metadata": {},
            "outputs": [
                {
                    "data": {
                        "text/plain": [
                            "(445132, 59)"
                        ]
                    },
                    "execution_count": 21,
                    "metadata": {},
                    "output_type": "execute_result"
                }
            ],
            "source": [
                "df.shape"
            ]
        },
        {
            "cell_type": "markdown",
            "metadata": {},
            "source": [
                "Variables CVDINFR4 (Infarto de miocardio alguna vez) y _MICHD (Infarto o enfermedad coronaria (variable combinada por CDC))\n",
                "\n",
                "Se decide mantener solo _MICHD porque:\n",
                "- Es una variable resumen, incluye enfermedad coronaria e infarto al miocardio"
            ]
        },
        {
            "cell_type": "code",
            "execution_count": 22,
            "metadata": {},
            "outputs": [],
            "source": [
                "df = df.drop(\"CVDINFR4\", axis=1)"
            ]
        },
        {
            "cell_type": "markdown",
            "metadata": {},
            "source": [
                "health_risk_score: ``CVDSTRK3``, ``DIABETE4``, ``COLNCNCR``, ``_MICHD``, ``_ASTHMS1``, ``_DRDXAR2``"
            ]
        },
        {
            "cell_type": "markdown",
            "metadata": {},
            "source": [
                "``CVDSTRK3``: Derrame cerebral (stroke) alguna vez   \n",
                "``DIABETE4``: Tiene diabetes (o prediabetes, según codificación)  \n",
                "``COLNCNCR``: Diagnóstico de cáncer de colon  \n",
                "``_MICHD``  : Infarto o enfermedad coronaria (variable combinada por CDC)  \n",
                "``_ASTHMS1``: Tiene asma actualmente  \n",
                "``_DRDXAR2``: Diagnóstico de artritis"
            ]
        },
        {
            "cell_type": "code",
            "execution_count": 23,
            "metadata": {},
            "outputs": [
                {
                    "data": {
                        "text/plain": [
                            "CVDSTRK3\n",
                            "0.0    424336\n",
                            "1.0     19239\n",
                            "Name: count, dtype: int64"
                        ]
                    },
                    "execution_count": 23,
                    "metadata": {},
                    "output_type": "execute_result"
                }
            ],
            "source": [
                "# 1: Yes, 2: No >> Cambiar a 1: Yes, 0: No\n",
                "df.loc[df[\"CVDSTRK3\"] > 2, \"CVDSTRK3\"] = np.nan\n",
                "\n",
                "df.loc[df[\"CVDSTRK3\"] == 2, \"CVDSTRK3\"] = 0\n",
                "\n",
                "df.CVDSTRK3.value_counts()"
            ]
        },
        {
            "cell_type": "code",
            "execution_count": 24,
            "metadata": {},
            "outputs": [
                {
                    "data": {
                        "text/plain": [
                            "DIABETE4\n",
                            "0.0    379051\n",
                            "1.0     64994\n",
                            "Name: count, dtype: int64"
                        ]
                    },
                    "execution_count": 24,
                    "metadata": {},
                    "output_type": "execute_result"
                }
            ],
            "source": [
                "# 1 y 2: Yes, 3 y 4: No >> Cambiar a 1: Yes, 0: No\n",
                "df.loc[df[\"DIABETE4\"] > 4, \"DIABETE4\"] = np.nan\n",
                "\n",
                "df.loc[df[\"DIABETE4\"] < 3, \"DIABETE4\"] = 1\n",
                "df.loc[df[\"DIABETE4\"] >= 3, \"DIABETE4\"] = 0\n",
                "\n",
                "df.DIABETE4.value_counts()"
            ]
        },
        {
            "cell_type": "code",
            "execution_count": 25,
            "metadata": {},
            "outputs": [
                {
                    "data": {
                        "text/plain": [
                            "COLNCNCR\n",
                            "0.0    219810\n",
                            "1.0     61981\n",
                            "Name: count, dtype: int64"
                        ]
                    },
                    "execution_count": 25,
                    "metadata": {},
                    "output_type": "execute_result"
                }
            ],
            "source": [
                "# 1: Yes, 2: No >> Cambiar a 1: Yes, 0: No\n",
                "df.loc[df[\"COLNCNCR\"] > 2, \"COLNCNCR\"] = np.nan\n",
                "\n",
                "df.loc[df[\"COLNCNCR\"] == 2, \"COLNCNCR\"] = 0\n",
                "\n",
                "df.COLNCNCR.value_counts()"
            ]
        },
        {
            "cell_type": "code",
            "execution_count": 26,
            "metadata": {},
            "outputs": [
                {
                    "data": {
                        "text/plain": [
                            "_MICHD\n",
                            "0.0    400360\n",
                            "1.0     39751\n",
                            "Name: count, dtype: int64"
                        ]
                    },
                    "execution_count": 26,
                    "metadata": {},
                    "output_type": "execute_result"
                }
            ],
            "source": [
                "# 1: Yes, 2: No >> Cambiar a 1: Yes, 0: No\n",
                "df.loc[df[\"_MICHD\"] > 2, \"_MICHD\"] = np.nan\n",
                "\n",
                "df.loc[df[\"_MICHD\"] == 2, \"_MICHD\"] = 0\n",
                "\n",
                "df._MICHD.value_counts()"
            ]
        },
        {
            "cell_type": "code",
            "execution_count": 27,
            "metadata": {},
            "outputs": [
                {
                    "data": {
                        "text/plain": [
                            "_ASTHMS1\n",
                            "0.0    376665\n",
                            "1.0     64607\n",
                            "Name: count, dtype: int64"
                        ]
                    },
                    "execution_count": 27,
                    "metadata": {},
                    "output_type": "execute_result"
                }
            ],
            "source": [
                "# 1 y 2: Yes, 3: No >> Cambiar a 1: Yes, 0: No\n",
                "df.loc[df[\"_ASTHMS1\"] > 3, \"_ASTHMS1\"] = np.nan\n",
                "\n",
                "df.loc[df[\"_ASTHMS1\"] <= 2, \"_ASTHMS1\"] = 1\n",
                "df.loc[df[\"_ASTHMS1\"] == 3, \"_ASTHMS1\"] = 0\n",
                "\n",
                "df._ASTHMS1.value_counts()"
            ]
        },
        {
            "cell_type": "code",
            "execution_count": 28,
            "metadata": {},
            "outputs": [
                {
                    "data": {
                        "text/plain": [
                            "_DRDXAR2\n",
                            "0.0    291351\n",
                            "1.0    151148\n",
                            "Name: count, dtype: int64"
                        ]
                    },
                    "execution_count": 28,
                    "metadata": {},
                    "output_type": "execute_result"
                }
            ],
            "source": [
                "# 1: Yes, 2: No >> Cambiar a 1: Yes, 0: No\n",
                "df.loc[df[\"_DRDXAR2\"] > 2, \"_DRDXAR2\"] = np.nan\n",
                "\n",
                "df.loc[df[\"_DRDXAR2\"] == 2, \"_DRDXAR2\"] = 0\n",
                "\n",
                "df._DRDXAR2.value_counts()"
            ]
        },
        {
            "cell_type": "code",
            "execution_count": 29,
            "metadata": {},
            "outputs": [],
            "source": [
                "health_risk_cols = [\"CVDSTRK3\", \"DIABETE4\", \"COLNCNCR\", \"_MICHD\", \"_ASTHMS1\", \"_DRDXAR2\"]\n",
                "# Se imputa 0 a los valores vacios que indican no respuesta a la pregunta asumiendo respuesta negativa\n",
                "df[health_risk_cols] = df[health_risk_cols].fillna(0)\n",
                "\n",
                "df[\"health_risk_score\"] = df[health_risk_cols].sum(axis=1)\n",
                "df = df.drop(health_risk_cols, axis=1)"
            ]
        },
        {
            "cell_type": "code",
            "execution_count": 30,
            "metadata": {},
            "outputs": [
                {
                    "data": {
                        "text/plain": [
                            "(445132, 53)"
                        ]
                    },
                    "execution_count": 30,
                    "metadata": {},
                    "output_type": "execute_result"
                }
            ],
            "source": [
                "df.shape"
            ]
        },
        {
            "cell_type": "code",
            "execution_count": 31,
            "metadata": {},
            "outputs": [],
            "source": [
                "# Columnas a eliminar de este grupo de factores de riesgo en salud\n",
                "del_cols = [\n",
                "\"HADHYST2\",     # Solo aplica a mujeres; no suma valor general\n",
                "\"FLUSHOT7\",     # Indica vacunación, no condición médica\n",
                "\"_RFHLTH\",      # Resumen global de mala salud (física o mental), demasiado generalista\n",
                "]\n",
                "\n",
                "df = df.drop(del_cols, axis=1)"
            ]
        },
        {
            "cell_type": "code",
            "execution_count": 32,
            "metadata": {},
            "outputs": [
                {
                    "data": {
                        "text/plain": [
                            "(445132, 50)"
                        ]
                    },
                    "execution_count": 32,
                    "metadata": {},
                    "output_type": "execute_result"
                }
            ],
            "source": [
                "df.shape"
            ]
        },
        {
            "cell_type": "markdown",
            "metadata": {},
            "source": [
                "Se unifican valores relativos a condiciones de salud fisica en un score acumulativo, donde mayor valor indica peor estado"
            ]
        },
        {
            "cell_type": "markdown",
            "metadata": {},
            "source": [
                "disability_score: ``DECIDE``, ``DIFFALON``"
            ]
        },
        {
            "cell_type": "markdown",
            "metadata": {},
            "source": [
                "``DECIDE``: Dificultad para concentrarse, recordar o tomar decisiones debido a un problema de salud física, mental o emocional  \n",
                "``DIFFALON``: Dificultad para hacer recados solo, como visitar al médico o hacer compras, debido a una condición de salud física, mental o emocional"
            ]
        },
        {
            "cell_type": "code",
            "execution_count": 33,
            "metadata": {},
            "outputs": [
                {
                    "data": {
                        "text/plain": [
                            "DECIDE\n",
                            "0.0    370792\n",
                            "1.0     50100\n",
                            "Name: count, dtype: int64"
                        ]
                    },
                    "execution_count": 33,
                    "metadata": {},
                    "output_type": "execute_result"
                }
            ],
            "source": [
                "# 1: Yes, 2: No >> Cambiar a 1: Yes, 0: No\n",
                "df.loc[df[\"DECIDE\"] > 2, \"DECIDE\"] = np.nan\n",
                "\n",
                "df.loc[df[\"DECIDE\"] == 2, \"DECIDE\"] = 0\n",
                "\n",
                "df.DECIDE.value_counts()"
            ]
        },
        {
            "cell_type": "code",
            "execution_count": 34,
            "metadata": {},
            "outputs": [
                {
                    "data": {
                        "text/plain": [
                            "DIFFALON\n",
                            "0.0    387029\n",
                            "1.0     32447\n",
                            "Name: count, dtype: int64"
                        ]
                    },
                    "execution_count": 34,
                    "metadata": {},
                    "output_type": "execute_result"
                }
            ],
            "source": [
                "# 1: Yes, 2: No >> Cambiar a 1: Yes, 0: No\n",
                "df.loc[df[\"DIFFALON\"] > 2, \"DIFFALON\"] = np.nan\n",
                "\n",
                "df.loc[df[\"DIFFALON\"] == 2, \"DIFFALON\"] = 0\n",
                "\n",
                "df.DIFFALON.value_counts()"
            ]
        },
        {
            "cell_type": "code",
            "execution_count": 35,
            "metadata": {},
            "outputs": [],
            "source": [
                "disability_cols = [\"DECIDE\", \"DIFFALON\"]\n",
                "# Se imputa 0 a los valores vacios que indican no respuesta a la pregunta asumiendo respuesta negativa\n",
                "df[disability_cols] = df[disability_cols].fillna(0)\n",
                "\n",
                "df[\"disability_score\"] = df[disability_cols].sum(axis=1)\n",
                "df = df.drop(disability_cols, axis=1)"
            ]
        },
        {
            "cell_type": "markdown",
            "metadata": {},
            "source": [
                "Se unifican valores relativos a condiciones de discapacidad en un score acumulativo, donde mayor valor indica peor estado"
            ]
        },
        {
            "cell_type": "code",
            "execution_count": 36,
            "metadata": {},
            "outputs": [
                {
                    "data": {
                        "text/plain": [
                            "(445132, 49)"
                        ]
                    },
                    "execution_count": 36,
                    "metadata": {},
                    "output_type": "execute_result"
                }
            ],
            "source": [
                "df.shape"
            ]
        },
        {
            "cell_type": "markdown",
            "metadata": {},
            "source": [
                "trauma_exposure_score: ``ACEDEPRS``, ``LSATISFY``, ``EMTSUPRT``, ``SDHISOLT``, ``ACEDRINK``, ``ACEDRUGS``, ``ACEPRISN``, \n",
                "                       ``ACEDIVRC``, ``ACEHURT1``, ``ACESWEAR``, ``ACETOUCH``, ``ACETTHEM``, ``ACEHVSEX``"
            ]
        },
        {
            "cell_type": "markdown",
            "metadata": {},
            "source": [
                "``ACEDEPRS``: Adulto con depresión diagnosticada (cuando la persona era menor)    \n",
                "``LSATISFY``: Satisfacción general con la vida  \n",
                "``EMTSUPRT``: Cuenta con apoyo emocional si lo necesita  \n",
                "``SDHISOLT``: Se siente aislado socialmente  \n",
                "``ACEDRINK``: Vivió con alguien que bebía mucho o abusaba de alcohol  \n",
                "``ACEDRUGS``: Vivió con alguien que usaba drogas  \n",
                "``ACEPRISN``: Vivió con alguien que fue a prisión  \n",
                "``ACEDIVRC``: Sus padres se separaron o divorciaron  \n",
                "``ACEHURT1``: Fue golpeado por un adulto  \n",
                "``ACESWEAR``: Le gritaron, insultaron o lo humillaron  \n",
                "``ACETOUCH``: Tocamiento sexual no deseado en la infancia  \n",
                "``ACETTHEM``: Alguien intentó tocarlo sexualmente  \n",
                "``ACEHVSEX``: Tuvo relaciones sexuales forzadas antes de los 18"
            ]
        },
        {
            "cell_type": "code",
            "execution_count": 37,
            "metadata": {},
            "outputs": [
                {
                    "data": {
                        "text/plain": [
                            "ACEDEPRS\n",
                            "0.0    38156\n",
                            "1.0     8800\n",
                            "Name: count, dtype: int64"
                        ]
                    },
                    "execution_count": 37,
                    "metadata": {},
                    "output_type": "execute_result"
                }
            ],
            "source": [
                "# 1: Yes, 2: No >> Cambiar a 1: Yes, 0: No\n",
                "df.loc[df[\"ACEDEPRS\"] > 2, \"ACEDEPRS\"] = np.nan\n",
                "\n",
                "df.loc[df[\"ACEDEPRS\"] == 2, \"ACEDEPRS\"] = 0\n",
                "\n",
                "df.ACEDEPRS.value_counts()"
            ]
        },
        {
            "cell_type": "code",
            "execution_count": 38,
            "metadata": {},
            "outputs": [
                {
                    "data": {
                        "text/plain": [
                            "LSATISFY\n",
                            "0.0    237697\n",
                            "1.0     13820\n",
                            "Name: count, dtype: int64"
                        ]
                    },
                    "execution_count": 38,
                    "metadata": {},
                    "output_type": "execute_result"
                }
            ],
            "source": [
                "# 1 y 2: Satisfecho, 3 y 4: Insatisfecho >> Cambiar a 1: Insatisfecho, 0: Satisfecho\n",
                "df.loc[df[\"LSATISFY\"] > 4, \"LSATISFY\"] = np.nan\n",
                "\n",
                "df.loc[df[\"LSATISFY\"] < 3, \"LSATISFY\"] = 0\n",
                "df.loc[df[\"LSATISFY\"] >= 3, \"LSATISFY\"] = 1\n",
                "\n",
                "df.LSATISFY.value_counts()"
            ]
        },
        {
            "cell_type": "code",
            "execution_count": 39,
            "metadata": {},
            "outputs": [
                {
                    "data": {
                        "text/plain": [
                            "EMTSUPRT\n",
                            "0.0    195919\n",
                            "1.0     54027\n",
                            "Name: count, dtype: int64"
                        ]
                    },
                    "execution_count": 39,
                    "metadata": {},
                    "output_type": "execute_result"
                }
            ],
            "source": [
                "# 1 y 2: Apoyo, 3, 4 y 5: No apoyo >> Cambiar a 1: No apoyo, 0: Apoyo\n",
                "df.loc[df[\"EMTSUPRT\"] > 5, \"EMTSUPRT\"] = np.nan\n",
                "\n",
                "df.loc[df[\"EMTSUPRT\"] < 3, \"EMTSUPRT\"] = 0\n",
                "df.loc[df[\"EMTSUPRT\"] >= 3, \"EMTSUPRT\"] = 1\n",
                "\n",
                "df.EMTSUPRT.value_counts()"
            ]
        },
        {
            "cell_type": "code",
            "execution_count": 40,
            "metadata": {},
            "outputs": [
                {
                    "data": {
                        "text/plain": [
                            "SDHISOLT\n",
                            "0.0    229849\n",
                            "1.0     21276\n",
                            "Name: count, dtype: int64"
                        ]
                    },
                    "execution_count": 40,
                    "metadata": {},
                    "output_type": "execute_result"
                }
            ],
            "source": [
                "# 1, 2 y 3: Aislado, 4 y 5: No aislado >> Cambiar a 1: Aislado, 0: No aislado\n",
                "df.loc[df[\"SDHISOLT\"] > 5, \"SDHISOLT\"] = np.nan\n",
                "\n",
                "df.loc[df[\"SDHISOLT\"] < 3, \"SDHISOLT\"] = 1\n",
                "df.loc[df[\"SDHISOLT\"] >= 3, \"SDHISOLT\"] = 0\n",
                "\n",
                "df.SDHISOLT.value_counts()"
            ]
        },
        {
            "cell_type": "code",
            "execution_count": 41,
            "metadata": {},
            "outputs": [
                {
                    "data": {
                        "text/plain": [
                            "ACEDRINK\n",
                            "0.0    35692\n",
                            "1.0    11527\n",
                            "Name: count, dtype: int64"
                        ]
                    },
                    "execution_count": 41,
                    "metadata": {},
                    "output_type": "execute_result"
                }
            ],
            "source": [
                "# 1: Yes, 2: No >> Cambiar a 1: Yes, 0: No\n",
                "df.loc[df[\"ACEDRINK\"] > 2, \"ACEDRINK\"] = np.nan\n",
                "\n",
                "df.loc[df[\"ACEDRINK\"] == 2, \"ACEDRINK\"] = 0\n",
                "\n",
                "df.ACEDRINK.value_counts()"
            ]
        },
        {
            "cell_type": "code",
            "execution_count": 42,
            "metadata": {},
            "outputs": [
                {
                    "data": {
                        "text/plain": [
                            "ACEDRUGS\n",
                            "0.0    42448\n",
                            "1.0     4691\n",
                            "Name: count, dtype: int64"
                        ]
                    },
                    "execution_count": 42,
                    "metadata": {},
                    "output_type": "execute_result"
                }
            ],
            "source": [
                "# 1: Yes, 2: No >> Cambiar a 1: Yes, 0: No\n",
                "df.loc[df[\"ACEDRUGS\"] > 2, \"ACEDRUGS\"] = np.nan\n",
                "\n",
                "df.loc[df[\"ACEDRUGS\"] == 2, \"ACEDRUGS\"] = 0\n",
                "\n",
                "df.ACEDRUGS.value_counts()"
            ]
        },
        {
            "cell_type": "code",
            "execution_count": 43,
            "metadata": {},
            "outputs": [
                {
                    "data": {
                        "text/plain": [
                            "ACEPRISN\n",
                            "0.0    43701\n",
                            "1.0     3549\n",
                            "Name: count, dtype: int64"
                        ]
                    },
                    "execution_count": 43,
                    "metadata": {},
                    "output_type": "execute_result"
                }
            ],
            "source": [
                "# 1: Yes, 2: No >> Cambiar a 1: Yes, 0: No\n",
                "df.loc[df[\"ACEPRISN\"] > 2, \"ACEPRISN\"] = np.nan\n",
                "\n",
                "df.loc[df[\"ACEPRISN\"] == 2, \"ACEPRISN\"] = 0\n",
                "\n",
                "df.ACEPRISN.value_counts()"
            ]
        },
        {
            "cell_type": "code",
            "execution_count": 44,
            "metadata": {},
            "outputs": [
                {
                    "data": {
                        "text/plain": [
                            "ACEDIVRC\n",
                            "0.0    34367\n",
                            "1.0    12107\n",
                            "Name: count, dtype: int64"
                        ]
                    },
                    "execution_count": 44,
                    "metadata": {},
                    "output_type": "execute_result"
                }
            ],
            "source": [
                "# 1: Yes, 2: No >> Cambiar a 1: Yes, 0: No\n",
                "df.loc[df[\"ACEDIVRC\"] > 2, \"ACEDIVRC\"] = np.nan\n",
                "\n",
                "df.loc[df[\"ACEDIVRC\"] == 2, \"ACEDIVRC\"] = 0\n",
                "\n",
                "df.ACEDIVRC.value_counts()"
            ]
        },
        {
            "cell_type": "code",
            "execution_count": 45,
            "metadata": {},
            "outputs": [
                {
                    "data": {
                        "text/plain": [
                            "ACEHURT1\n",
                            "0.0    35092\n",
                            "1.0    11567\n",
                            "Name: count, dtype: int64"
                        ]
                    },
                    "execution_count": 45,
                    "metadata": {},
                    "output_type": "execute_result"
                }
            ],
            "source": [
                "# 1: Nunca, 2 y 3: Si >> Cambiar a 1: Si, 0: Nunca\n",
                "df.loc[df[\"ACEHURT1\"] > 3, \"ACEHURT1\"] = np.nan\n",
                "\n",
                "df.loc[df[\"ACEHURT1\"] == 1, \"ACEHURT1\"] = 0\n",
                "df.loc[df[\"ACEHURT1\"] >= 2, \"ACEHURT1\"] = 1\n",
                "\n",
                "df.ACEHURT1.value_counts()"
            ]
        },
        {
            "cell_type": "code",
            "execution_count": 46,
            "metadata": {},
            "outputs": [
                {
                    "data": {
                        "text/plain": [
                            "ACESWEAR\n",
                            "0.0    30266\n",
                            "1.0    16115\n",
                            "Name: count, dtype: int64"
                        ]
                    },
                    "execution_count": 46,
                    "metadata": {},
                    "output_type": "execute_result"
                }
            ],
            "source": [
                "# 1: Nunca, 2 y 3: Si >> Cambiar a 1: Si, 0: Nunca\n",
                "df.loc[df[\"ACESWEAR\"] > 3, \"ACESWEAR\"] = np.nan\n",
                "\n",
                "df.loc[df[\"ACESWEAR\"] == 1, \"ACESWEAR\"] = 0\n",
                "df.loc[df[\"ACESWEAR\"] >= 2, \"ACESWEAR\"] = 1\n",
                "\n",
                "df.ACESWEAR.value_counts()"
            ]
        },
        {
            "cell_type": "code",
            "execution_count": 47,
            "metadata": {},
            "outputs": [
                {
                    "data": {
                        "text/plain": [
                            "ACETOUCH\n",
                            "0.0    40941\n",
                            "1.0     5617\n",
                            "Name: count, dtype: int64"
                        ]
                    },
                    "execution_count": 47,
                    "metadata": {},
                    "output_type": "execute_result"
                }
            ],
            "source": [
                "# 1: Nunca, 2 y 3: Si >> Cambiar a 1: Si, 0: Nunca\n",
                "df.loc[df[\"ACETOUCH\"] > 3, \"ACETOUCH\"] = np.nan\n",
                "\n",
                "df.loc[df[\"ACETOUCH\"] == 1, \"ACETOUCH\"] = 0\n",
                "df.loc[df[\"ACETOUCH\"] >= 2, \"ACETOUCH\"] = 1\n",
                "\n",
                "df.ACETOUCH.value_counts()"
            ]
        },
        {
            "cell_type": "code",
            "execution_count": 48,
            "metadata": {},
            "outputs": [
                {
                    "data": {
                        "text/plain": [
                            "ACETTHEM\n",
                            "0.0    42421\n",
                            "1.0     4123\n",
                            "Name: count, dtype: int64"
                        ]
                    },
                    "execution_count": 48,
                    "metadata": {},
                    "output_type": "execute_result"
                }
            ],
            "source": [
                "# 1: Nunca, 2 y 3: Si >> Cambiar a 1: Si, 0: Nunca\n",
                "df.loc[df[\"ACETTHEM\"] > 3, \"ACETTHEM\"] = np.nan\n",
                "\n",
                "df.loc[df[\"ACETTHEM\"] == 1, \"ACETTHEM\"] = 0\n",
                "df.loc[df[\"ACETTHEM\"] >= 2, \"ACETTHEM\"] = 1\n",
                "\n",
                "df.ACETTHEM.value_counts()"
            ]
        },
        {
            "cell_type": "code",
            "execution_count": 49,
            "metadata": {},
            "outputs": [
                {
                    "data": {
                        "text/plain": [
                            "ACEHVSEX\n",
                            "0.0    44050\n",
                            "1.0     2430\n",
                            "Name: count, dtype: int64"
                        ]
                    },
                    "execution_count": 49,
                    "metadata": {},
                    "output_type": "execute_result"
                }
            ],
            "source": [
                "# 1: Nunca, 2 y 3: Si >> Cambiar a 1: Si, 0: Nunca\n",
                "df.loc[df[\"ACEHVSEX\"] > 3, \"ACEHVSEX\"] = np.nan\n",
                "\n",
                "df.loc[df[\"ACEHVSEX\"] == 1, \"ACEHVSEX\"] = 0\n",
                "df.loc[df[\"ACEHVSEX\"] >= 2, \"ACEHVSEX\"] = 1\n",
                "\n",
                "df.ACEHVSEX.value_counts()"
            ]
        },
        {
            "cell_type": "code",
            "execution_count": 50,
            "metadata": {},
            "outputs": [],
            "source": [
                "trauma_exposure_cols = [\"ACEDEPRS\", \"LSATISFY\", \"EMTSUPRT\", \"SDHISOLT\", \"ACEDRINK\", \"ACEDRUGS\", \"ACEPRISN\", \n",
                "                        \"ACEDIVRC\", \"ACEHURT1\", \"ACESWEAR\", \"ACETOUCH\", \"ACETTHEM\", \"ACEHVSEX\"]\n",
                "# Se imputa 0 a los valores vacios que indican no respuesta a la pregunta asumiendo respuesta negativa\n",
                "df[trauma_exposure_cols] = df[trauma_exposure_cols].fillna(0)\n",
                "\n",
                "df[\"trauma_exposure_score\"] = df[trauma_exposure_cols].sum(axis=1)\n",
                "df = df.drop(trauma_exposure_cols, axis=1)"
            ]
        },
        {
            "cell_type": "code",
            "execution_count": 51,
            "metadata": {},
            "outputs": [
                {
                    "data": {
                        "text/plain": [
                            "(445132, 37)"
                        ]
                    },
                    "execution_count": 51,
                    "metadata": {},
                    "output_type": "execute_result"
                }
            ],
            "source": [
                "df.shape"
            ]
        },
        {
            "cell_type": "markdown",
            "metadata": {},
            "source": [
                "Se unifican valores relativos a exposicion a traumas infantiles en un score acumulativo, donde mayor valor indica peor estado"
            ]
        },
        {
            "cell_type": "markdown",
            "metadata": {},
            "source": [
                "gun_risk_score: ``FIREARM5``, ``GUNLOAD``, ``LOADULK2``"
            ]
        },
        {
            "cell_type": "markdown",
            "metadata": {},
            "source": [
                "``FIREARM5``: Hay al menos un arma de fuego en el hogar  \n",
                "``GUNLOAD`` : El arma está cargada  \n",
                "``LOADULK2``: El arma cargada está guardada sin seguro en el gatillo (desprotegida)"
            ]
        },
        {
            "cell_type": "code",
            "execution_count": 52,
            "metadata": {},
            "outputs": [
                {
                    "data": {
                        "text/plain": [
                            "FIREARM5\n",
                            "0.0    23428\n",
                            "1.0    13839\n",
                            "Name: count, dtype: int64"
                        ]
                    },
                    "execution_count": 52,
                    "metadata": {},
                    "output_type": "execute_result"
                }
            ],
            "source": [
                "# 1: Yes, 2: No >> Cambiar a 1: Yes, 0: No\n",
                "df.loc[df[\"FIREARM5\"] > 2, \"FIREARM5\"] = np.nan\n",
                "\n",
                "df.loc[df[\"FIREARM5\"] == 2, \"FIREARM5\"] = 0\n",
                "\n",
                "df.FIREARM5.value_counts()"
            ]
        },
        {
            "cell_type": "code",
            "execution_count": 53,
            "metadata": {},
            "outputs": [
                {
                    "data": {
                        "text/plain": [
                            "GUNLOAD\n",
                            "0.0    9381\n",
                            "1.0    4056\n",
                            "Name: count, dtype: int64"
                        ]
                    },
                    "execution_count": 53,
                    "metadata": {},
                    "output_type": "execute_result"
                }
            ],
            "source": [
                "# 1: Yes, 2: No >> Cambiar a 1: Yes, 0: No\n",
                "df.loc[df[\"GUNLOAD\"] > 2, \"GUNLOAD\"] = np.nan\n",
                "\n",
                "df.loc[df[\"GUNLOAD\"] == 2, \"GUNLOAD\"] = 0\n",
                "\n",
                "df.GUNLOAD.value_counts()"
            ]
        },
        {
            "cell_type": "code",
            "execution_count": 54,
            "metadata": {},
            "outputs": [
                {
                    "data": {
                        "text/plain": [
                            "LOADULK2\n",
                            "1.0    2167\n",
                            "0.0    1852\n",
                            "Name: count, dtype: int64"
                        ]
                    },
                    "execution_count": 54,
                    "metadata": {},
                    "output_type": "execute_result"
                }
            ],
            "source": [
                "# 1: Yes, 2: No >> Cambiar a 1: Yes, 0: No\n",
                "df.loc[df[\"LOADULK2\"] > 2, \"LOADULK2\"] = np.nan\n",
                "\n",
                "df.loc[df[\"LOADULK2\"] == 2, \"LOADULK2\"] = 0\n",
                "\n",
                "df.LOADULK2.value_counts()"
            ]
        },
        {
            "cell_type": "code",
            "execution_count": 55,
            "metadata": {},
            "outputs": [],
            "source": [
                "gun_risk_cols = [\"FIREARM5\", \"GUNLOAD\", \"LOADULK2\"]\n",
                "# Se imputa 0 a los valores vacios que indican no respuesta a la pregunta asumiendo respuesta negativa\n",
                "df[gun_risk_cols] = df[gun_risk_cols].fillna(0)\n",
                "\n",
                "df[\"gun_risk_score\"] = df[gun_risk_cols].sum(axis=1)\n",
                "df = df.drop(gun_risk_cols, axis=1)"
            ]
        },
        {
            "cell_type": "markdown",
            "metadata": {},
            "source": [
                "Se unifican valores relativos a tenencia y riesgo de armas de fuego en un score acumulativo, donde mayor valor indica peor estado"
            ]
        },
        {
            "cell_type": "code",
            "execution_count": 56,
            "metadata": {},
            "outputs": [
                {
                    "data": {
                        "text/plain": [
                            "(445132, 35)"
                        ]
                    },
                    "execution_count": 56,
                    "metadata": {},
                    "output_type": "execute_result"
                }
            ],
            "source": [
                "df.shape"
            ]
        },
        {
            "cell_type": "code",
            "execution_count": 57,
            "metadata": {},
            "outputs": [
                {
                    "data": {
                        "text/plain": [
                            "Index(['MARITAL', 'RENTHOM1', 'VETERAN3', 'EMPLOY1', '_AGEG5YR', '_INCOMG1',\n",
                            "       '_EDUCAG', '_CHLDCNT', '_EXTETH3', 'HHADULT', 'SEXVAR', 'MEDCOST1',\n",
                            "       '_HLTHPLN', '_AIDTST4', 'CDSOCIAL', 'CDDISCUS', 'CRGVREL4', 'CRGVLNG1',\n",
                            "       'CRGVHRS1', 'SLEPTIM1', 'HIVRISK5', 'MARIJAN1', '_TOTINDA', '_RFBING6',\n",
                            "       'ADDEPEV3', 'COVIDPOS', '_PHYS14D', '_MENT14D', '_BMI5CAT',\n",
                            "       'social_vulnerability_score', 'tobacco_use', 'health_risk_score',\n",
                            "       'disability_score', 'trauma_exposure_score', 'gun_risk_score'],\n",
                            "      dtype='object')"
                        ]
                    },
                    "execution_count": 57,
                    "metadata": {},
                    "output_type": "execute_result"
                }
            ],
            "source": [
                "df.columns"
            ]
        },
        {
            "cell_type": "code",
            "execution_count": 58,
            "metadata": {},
            "outputs": [
                {
                    "name": "stdout",
                    "output_type": "stream",
                    "text": [
                        "<class 'pandas.core.series.Series'>\n",
                        "RangeIndex: 445132 entries, 0 to 445131\n",
                        "Series name: tobacco_use\n",
                        "Non-Null Count   Dtype  \n",
                        "--------------   -----  \n",
                        "445132 non-null  float64\n",
                        "dtypes: float64(1)\n",
                        "memory usage: 3.4 MB\n"
                    ]
                }
            ],
            "source": [
                "df.tobacco_use.info()"
            ]
        },
        {
            "cell_type": "code",
            "execution_count": 59,
            "metadata": {},
            "outputs": [],
            "source": [
                "df.to_csv(\"../data/processed/data_merged.csv\", index=False)"
            ]
        }
    ],
    "metadata": {
        "kernelspec": {
            "display_name": ".venv",
            "language": "python",
            "name": "python3"
        },
        "language_info": {
            "codemirror_mode": {
                "name": "ipython",
                "version": 3
            },
            "file_extension": ".py",
            "mimetype": "text/x-python",
            "name": "python",
            "nbconvert_exporter": "python",
            "pygments_lexer": "ipython3",
            "version": "3.11.4"
        },
        "orig_nbformat": 4
    },
    "nbformat": 4,
    "nbformat_minor": 2
}
