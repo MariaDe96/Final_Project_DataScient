{
 "cells": [
  {
   "cell_type": "markdown",
   "id": "f7074a7e",
   "metadata": {},
   "source": [
    "# 🗂️ Codificación de Variables para el Modelo\n",
    "_(orden utilizado para el modelo)_"
   ]
  },
  {
   "cell_type": "markdown",
   "id": "09cca8ca",
   "metadata": {},
   "source": [
    "| Variable   | Descripción                          | Categorías y Codificación                                                                                                                                                       |\n",
    "| ---------- | ------------------------------------ | ------------------------------------------------------------------------------------------------------------------------------------------------------------------------------- |\n",
    "| `_MENT14D` | Días con mala salud mental           | 0 = Cero días, 1 = 1–13 días, 2 = 14 o más días                                                                                                                                 |\n",
    "| `DECIDE`   | Necesita ayuda para tomar decisiones | 0 = No, 1 = Sí                                                                                                                                                                  |\n",
    "| `SEXVAR`   | Sexo                                 | 0 = Hombre, 1 = Mujer                                                                                                                                                           |\n",
    "| `SDHISOLT` | Se siente aislado socialmente        | 1 = Siempre/Habitualmente/A veces, 0 = Rara vez/Nunca                                                                                                                           |\n",
    "| `_AGEG5YR` | Rango de edad                        | 5 = 45–49, 6 = 50–54, 7 = 55–59, 8 = 60–64, 9 = 65–69, 10 = 70–74, 11 = 75–79, 12 = 80 o más                                                                                    |\n",
    "| `_DRDXAR2` | Diagnosticado con artritis           | 0 = No, 1 = Sí                                                                                                                                                                  |\n",
    "| `LSATISFY` | Satisfacción con la vida             | 0 = Muy satisfecho/a, 1 = Satisfecho/a, 2 = Insatisfecho/a, 3 = Muy insatisfecho/a                                                                                              |\n",
    "| `_EDUCAG`  | Nivel de Educación                   | 0 = No completó secundaria, 1 = Se graduó secundaria, 2 = Asistió a colegio técnico o universidad, 3 = Se graduó de colegio técnico o universidad                               |\n",
    "| `SLEPTIM1` | Horas de sueño                       | Variable numérica (1–24)                                                                                                                                                        |\n",
    "| `EMPLOY1`  | Empleo actual                        | 0 = Empleado/a, 1 = Autónomo/a, 2 = Sin trabajar por 1 año o más, 3 = Sin trabajar por menos de 1 año, 4 = Ama de casa, 5 = Estudiante, 6 = Jubilado/a, 7 = Incapaz de trabajar |\n",
    "| `_PHYS14D` | Días con mala salud física           | 0 = Cero días, 1 = 1–13 días, 2 = 14 o más días                                                                                                                                 |\n",
    "| `_BMI5CAT` | Categoría de IMC                     | 0 = Bajo peso, 1 = Peso normal, 2 = Sobrepeso, 3 = Obeso                                                                                                                        |\n",
    "| `MARITAL`  | Estado civil                         | 0 = Casado/a, 1 = Divorciado/a, 2 = Viudo/a, 3 = Separado/a, 4 = Soltero/a, 5 = En pareja no casada                                                                             |\n",
    "| `_AIDTST4` | Prueba de VIH                        | 0 = No, 1 = Sí                                                                                                                                                                  |\n",
    "| `_ASTHMS1` | Asma                                 | 1 = Actual, 2 = Pasada, 3 = Nunca                                                                                                                                               |\n",
    "| `_INCOMG1` | Ingresos anuales                     | 0 = < \\$15,000, 1 = \\$15,000–\\$25,000, 2 = \\$25,000–\\$35,000, 3 = \\$35,000–\\$50,000, 4 = \\$50,000–\\$100,000, 5 = \\$100,000–\\$200,000, 6 = > \\$200,000                           |\n"
   ]
  }
 ],
 "metadata": {
  "language_info": {
   "name": "python"
  }
 },
 "nbformat": 4,
 "nbformat_minor": 5
}
